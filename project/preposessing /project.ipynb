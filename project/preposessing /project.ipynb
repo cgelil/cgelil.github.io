{
 "cells": [
  {
   "cell_type": "code",
   "execution_count": 2,
   "metadata": {},
   "outputs": [],
   "source": [
    "import numpy as np\n",
    "import requests\n",
    "from bs4 import BeautifulSoup\n",
    "import pandas as pd\n",
    "import altair as alt"
   ]
  },
  {
   "cell_type": "code",
   "execution_count": 3,
   "metadata": {},
   "outputs": [],
   "source": [
    "\n",
    "df = pd.read_excel('all-countries-2017-2023.xlsx', skiprows=11, usecols='A:W')"
   ]
  },
  {
   "cell_type": "code",
   "execution_count": 4,
   "metadata": {},
   "outputs": [
    {
     "data": {
      "text/plain": [
       "Index(['Country', 'Level 1 Name', 'Area', 'Area ID', 'Analysis Name',\n",
       "       'Date of Analysis', 'Country Population', '#', '% of total county Pop',\n",
       "       'Area Phase', 'Analysis Period', '#.1', '%', '#.2', '%.1', '#.3', '%.2',\n",
       "       '#.4', '%.3', '#.5', '%.4', '#.6', '%.5'],\n",
       "      dtype='object')"
      ]
     },
     "execution_count": 4,
     "metadata": {},
     "output_type": "execute_result"
    }
   ],
   "source": [
    "df.columns"
   ]
  },
  {
   "cell_type": "code",
   "execution_count": 5,
   "metadata": {},
   "outputs": [],
   "source": [
    "#rename column '#.1', '%', '#.2', '%.1',\n",
    "df.rename(columns={ 'Country Population': 'population',\n",
    "                   '#': 'population_analyzed', '% of total county Pop': 'pop_per',\n",
    "                   '#.1':'phase1_abs', '%':'phase1_per', \n",
    "                   '#.2':'#phase2_abs', '%.1':'phase2_abs',\n",
    "                    '#.3':'phase3_abs', '%.2':'phase3_per',\n",
    "                    '#.4':'phase4_abs', '%.3':'phase4_per',\n",
    "                    '#.5':'phase5_abs', '%.4':'phase5_per',\n",
    "                    '#.6':'phase3plus_abs', '%.5':'phase3plus_per',\n",
    "                    'Date of Analysis':'date'}, inplace=True)\n"
   ]
  },
  {
   "cell_type": "code",
   "execution_count": 6,
   "metadata": {},
   "outputs": [
    {
     "data": {
      "text/plain": [
       "(11100, 23)"
      ]
     },
     "execution_count": 6,
     "metadata": {},
     "output_type": "execute_result"
    }
   ],
   "source": [
    "df.shape"
   ]
  },
  {
   "cell_type": "code",
   "execution_count": 15,
   "metadata": {},
   "outputs": [
    {
     "name": "stderr",
     "output_type": "stream",
     "text": [
      "/var/folders/w9/4s00gf1j7sl8k190_53qgb7c0000gn/T/ipykernel_18056/2683068199.py:8: UserWarning: Could not infer format, so each element will be parsed individually, falling back to `dateutil`. To ensure parsing is consistent and as-expected, please specify a format.\n",
      "  df_countries['date'] = pd.to_datetime(df_countries['date'])\n",
      "/var/folders/w9/4s00gf1j7sl8k190_53qgb7c0000gn/T/ipykernel_18056/2683068199.py:8: SettingWithCopyWarning: \n",
      "A value is trying to be set on a copy of a slice from a DataFrame.\n",
      "Try using .loc[row_indexer,col_indexer] = value instead\n",
      "\n",
      "See the caveats in the documentation: https://pandas.pydata.org/pandas-docs/stable/user_guide/indexing.html#returning-a-view-versus-a-copy\n",
      "  df_countries['date'] = pd.to_datetime(df_countries['date'])\n"
     ]
    }
   ],
   "source": [
    "#remove rows with NaN values in the 'Country' column\n",
    "df = df.dropna(subset=['Country'])\n",
    "\n",
    "#make a seperate df full country data\n",
    "df_countries = df[df['Area'].isna()]\n",
    "\n",
    "#convert date to datetime (mm-yyyy)\n",
    "df_countries['date'] = df_countries['date'].str.replace(' ', '')\n",
    "\n",
    "df_countries['date'] = pd.to_datetime(df_countries['date'])"
   ]
  },
  {
   "cell_type": "code",
   "execution_count": 16,
   "metadata": {},
   "outputs": [],
   "source": [
    "#keep only rows where country contains the term \"acute food insecurity\"\n",
    "df_countries = df_countries[df_countries['Country'].str.contains('Acute Food Insecurity')]\n",
    "df_countries['Country'] = df_countries['Country'].str.split(':').str[0]\n"
   ]
  },
  {
   "cell_type": "code",
   "execution_count": 17,
   "metadata": {},
   "outputs": [
    {
     "data": {
      "text/html": [
       "<div>\n",
       "<style scoped>\n",
       "    .dataframe tbody tr th:only-of-type {\n",
       "        vertical-align: middle;\n",
       "    }\n",
       "\n",
       "    .dataframe tbody tr th {\n",
       "        vertical-align: top;\n",
       "    }\n",
       "\n",
       "    .dataframe thead th {\n",
       "        text-align: right;\n",
       "    }\n",
       "</style>\n",
       "<table border=\"1\" class=\"dataframe\">\n",
       "  <thead>\n",
       "    <tr style=\"text-align: right;\">\n",
       "      <th></th>\n",
       "      <th>Country</th>\n",
       "      <th>population</th>\n",
       "      <th>phase3plus_abs</th>\n",
       "      <th>phase3plus_per</th>\n",
       "      <th>date</th>\n",
       "    </tr>\n",
       "  </thead>\n",
       "  <tbody>\n",
       "    <tr>\n",
       "      <th>0</th>\n",
       "      <td>Afghanistan</td>\n",
       "      <td>43100596.0</td>\n",
       "      <td>16973664.0</td>\n",
       "      <td>0.41</td>\n",
       "      <td>2022-09-01</td>\n",
       "    </tr>\n",
       "    <tr>\n",
       "      <th>47</th>\n",
       "      <td>Afghanistan</td>\n",
       "      <td>41727303.0</td>\n",
       "      <td>19650163.0</td>\n",
       "      <td>0.47</td>\n",
       "      <td>2022-03-01</td>\n",
       "    </tr>\n",
       "    <tr>\n",
       "      <th>94</th>\n",
       "      <td>Afghanistan</td>\n",
       "      <td>41727304.0</td>\n",
       "      <td>18844453.0</td>\n",
       "      <td>0.47</td>\n",
       "      <td>2021-10-01</td>\n",
       "    </tr>\n",
       "    <tr>\n",
       "      <th>141</th>\n",
       "      <td>Afghanistan</td>\n",
       "      <td>32890171.0</td>\n",
       "      <td>10938928.0</td>\n",
       "      <td>0.35</td>\n",
       "      <td>2021-03-01</td>\n",
       "    </tr>\n",
       "    <tr>\n",
       "      <th>188</th>\n",
       "      <td>Afghanistan</td>\n",
       "      <td>32890171.0</td>\n",
       "      <td>11149264.0</td>\n",
       "      <td>0.36</td>\n",
       "      <td>2020-09-01</td>\n",
       "    </tr>\n",
       "    <tr>\n",
       "      <th>...</th>\n",
       "      <td>...</td>\n",
       "      <td>...</td>\n",
       "      <td>...</td>\n",
       "      <td>...</td>\n",
       "      <td>...</td>\n",
       "    </tr>\n",
       "    <tr>\n",
       "      <th>10748</th>\n",
       "      <td>Zambia</td>\n",
       "      <td>17609178.0</td>\n",
       "      <td>913166.0</td>\n",
       "      <td>0.13</td>\n",
       "      <td>2018-06-01</td>\n",
       "    </tr>\n",
       "    <tr>\n",
       "      <th>10815</th>\n",
       "      <td>Zimbabwe</td>\n",
       "      <td>15557469.0</td>\n",
       "      <td>2605477.0</td>\n",
       "      <td>0.27</td>\n",
       "      <td>2020-10-01</td>\n",
       "    </tr>\n",
       "    <tr>\n",
       "      <th>10885</th>\n",
       "      <td>Zimbabwe</td>\n",
       "      <td>14645000.0</td>\n",
       "      <td>4341420.0</td>\n",
       "      <td>0.45</td>\n",
       "      <td>2020-02-01</td>\n",
       "    </tr>\n",
       "    <tr>\n",
       "      <th>10955</th>\n",
       "      <td>Zimbabwe</td>\n",
       "      <td>14645000.0</td>\n",
       "      <td>2294605.0</td>\n",
       "      <td>0.25</td>\n",
       "      <td>2019-06-01</td>\n",
       "    </tr>\n",
       "    <tr>\n",
       "      <th>11025</th>\n",
       "      <td>Zimbabwe</td>\n",
       "      <td>14645000.0</td>\n",
       "      <td>2879000.0</td>\n",
       "      <td>0.30</td>\n",
       "      <td>2019-02-01</td>\n",
       "    </tr>\n",
       "  </tbody>\n",
       "</table>\n",
       "<p>213 rows × 5 columns</p>\n",
       "</div>"
      ],
      "text/plain": [
       "           Country  population  phase3plus_abs  phase3plus_per       date\n",
       "0      Afghanistan  43100596.0      16973664.0            0.41 2022-09-01\n",
       "47     Afghanistan  41727303.0      19650163.0            0.47 2022-03-01\n",
       "94     Afghanistan  41727304.0      18844453.0            0.47 2021-10-01\n",
       "141    Afghanistan  32890171.0      10938928.0            0.35 2021-03-01\n",
       "188    Afghanistan  32890171.0      11149264.0            0.36 2020-09-01\n",
       "...            ...         ...             ...             ...        ...\n",
       "10748       Zambia  17609178.0        913166.0            0.13 2018-06-01\n",
       "10815     Zimbabwe  15557469.0       2605477.0            0.27 2020-10-01\n",
       "10885     Zimbabwe  14645000.0       4341420.0            0.45 2020-02-01\n",
       "10955     Zimbabwe  14645000.0       2294605.0            0.25 2019-06-01\n",
       "11025     Zimbabwe  14645000.0       2879000.0            0.30 2019-02-01\n",
       "\n",
       "[213 rows x 5 columns]"
      ]
     },
     "execution_count": 17,
     "metadata": {},
     "output_type": "execute_result"
    }
   ],
   "source": [
    "#keep only Country, population, phase3plus_abs, phase3plus_per, date\n",
    "df_countries = df_countries[['Country', 'population', 'phase3plus_abs', 'phase3plus_per', 'date']]\n",
    "df_countries"
   ]
  },
  {
   "cell_type": "code",
   "execution_count": 18,
   "metadata": {},
   "outputs": [
    {
     "data": {
      "text/html": [
       "<div>\n",
       "<style scoped>\n",
       "    .dataframe tbody tr th:only-of-type {\n",
       "        vertical-align: middle;\n",
       "    }\n",
       "\n",
       "    .dataframe tbody tr th {\n",
       "        vertical-align: top;\n",
       "    }\n",
       "\n",
       "    .dataframe thead th {\n",
       "        text-align: right;\n",
       "    }\n",
       "</style>\n",
       "<table border=\"1\" class=\"dataframe\">\n",
       "  <thead>\n",
       "    <tr style=\"text-align: right;\">\n",
       "      <th></th>\n",
       "      <th>name</th>\n",
       "      <th>alpha-3</th>\n",
       "    </tr>\n",
       "  </thead>\n",
       "  <tbody>\n",
       "    <tr>\n",
       "      <th>0</th>\n",
       "      <td>Afghanistan</td>\n",
       "      <td>AFG</td>\n",
       "    </tr>\n",
       "    <tr>\n",
       "      <th>1</th>\n",
       "      <td>Åland Islands</td>\n",
       "      <td>ALA</td>\n",
       "    </tr>\n",
       "    <tr>\n",
       "      <th>2</th>\n",
       "      <td>Albania</td>\n",
       "      <td>ALB</td>\n",
       "    </tr>\n",
       "    <tr>\n",
       "      <th>3</th>\n",
       "      <td>Algeria</td>\n",
       "      <td>DZA</td>\n",
       "    </tr>\n",
       "    <tr>\n",
       "      <th>4</th>\n",
       "      <td>American Samoa</td>\n",
       "      <td>ASM</td>\n",
       "    </tr>\n",
       "    <tr>\n",
       "      <th>...</th>\n",
       "      <td>...</td>\n",
       "      <td>...</td>\n",
       "    </tr>\n",
       "    <tr>\n",
       "      <th>244</th>\n",
       "      <td>Wallis and Futuna</td>\n",
       "      <td>WLF</td>\n",
       "    </tr>\n",
       "    <tr>\n",
       "      <th>245</th>\n",
       "      <td>Western Sahara</td>\n",
       "      <td>ESH</td>\n",
       "    </tr>\n",
       "    <tr>\n",
       "      <th>246</th>\n",
       "      <td>Yemen</td>\n",
       "      <td>YEM</td>\n",
       "    </tr>\n",
       "    <tr>\n",
       "      <th>247</th>\n",
       "      <td>Zambia</td>\n",
       "      <td>ZMB</td>\n",
       "    </tr>\n",
       "    <tr>\n",
       "      <th>248</th>\n",
       "      <td>Zimbabwe</td>\n",
       "      <td>ZWE</td>\n",
       "    </tr>\n",
       "  </tbody>\n",
       "</table>\n",
       "<p>249 rows × 2 columns</p>\n",
       "</div>"
      ],
      "text/plain": [
       "                  name alpha-3\n",
       "0          Afghanistan     AFG\n",
       "1        Åland Islands     ALA\n",
       "2              Albania     ALB\n",
       "3              Algeria     DZA\n",
       "4       American Samoa     ASM\n",
       "..                 ...     ...\n",
       "244  Wallis and Futuna     WLF\n",
       "245     Western Sahara     ESH\n",
       "246              Yemen     YEM\n",
       "247             Zambia     ZMB\n",
       "248           Zimbabwe     ZWE\n",
       "\n",
       "[249 rows x 2 columns]"
      ]
     },
     "execution_count": 18,
     "metadata": {},
     "output_type": "execute_result"
    }
   ],
   "source": [
    "# load https://raw.githubusercontent.com/lukes/ISO-3166-Countries-with-Regional-Codes/refs/heads/master/all/all.csv\n",
    "# to get the country codes\n",
    "url = 'https://raw.githubusercontent.com/lukes/ISO-3166-Countries-with-Regional-Codes/refs/heads/master/all/all.csv'\n",
    "df_country_codes = pd.read_csv(url)\n",
    "df_country_codes = df_country_codes[['name', 'alpha-3']]\n",
    "df_country_codes"
   ]
  },
  {
   "cell_type": "code",
   "execution_count": 19,
   "metadata": {},
   "outputs": [
    {
     "data": {
      "text/plain": [
       "Country            0\n",
       "population         0\n",
       "phase3plus_abs    18\n",
       "phase3plus_per    18\n",
       "date               0\n",
       "country_code       0\n",
       "dtype: int64"
      ]
     },
     "execution_count": 19,
     "metadata": {},
     "output_type": "execute_result"
    }
   ],
   "source": [
    "#merge df_countries with df_country_codes\n",
    "df_countries = df_countries.merge(df_country_codes, left_on='Country', right_on='name')\n",
    "df_countries = df_countries.drop(columns=['name'])\n",
    "\n",
    "#rename alpha-3 to country_code\n",
    "df_countries.rename(columns={'alpha-3':'country_code'}, inplace=True)\n",
    "\n"
   ]
  },
  {
   "cell_type": "code",
   "execution_count": 20,
   "metadata": {},
   "outputs": [],
   "source": [
    "#save as csv\n",
    "df_countries.to_csv('acutefoodinsecurity.csv', index=False)"
   ]
  },
  {
   "cell_type": "code",
   "execution_count": 21,
   "metadata": {},
   "outputs": [],
   "source": [
    "# Read csv\n",
    "#fs='https://hapi.humdata.org/api/v1/food/food-security?ipc_phase=3%2B&ipc_type=current&location_code=YEM&output_format=json&app_identifier=Y2dlbGlsX2xzZTpjLmFiZGVsZ2VsaWxAbHNlLmFjLnVr&limit=10000&offset=0'\n",
    "#fs_df = pd.json_normalize(requests.get(fs).json()['data'])"
   ]
  }
 ],
 "metadata": {
  "kernelspec": {
   "display_name": "Python 3",
   "language": "python",
   "name": "python3"
  },
  "language_info": {
   "codemirror_mode": {
    "name": "ipython",
    "version": 3
   },
   "file_extension": ".py",
   "mimetype": "text/x-python",
   "name": "python",
   "nbconvert_exporter": "python",
   "pygments_lexer": "ipython3",
   "version": "3.11.4"
  }
 },
 "nbformat": 4,
 "nbformat_minor": 2
}

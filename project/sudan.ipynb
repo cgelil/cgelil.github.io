{
 "cells": [
  {
   "cell_type": "code",
   "execution_count": 1,
   "metadata": {},
   "outputs": [
    {
     "name": "stderr",
     "output_type": "stream",
     "text": [
      "/Library/Frameworks/Python.framework/Versions/3.11/lib/python3.11/site-packages/fuzzywuzzy/fuzz.py:11: UserWarning: Using slow pure-python SequenceMatcher. Install python-Levenshtein to remove this warning\n",
      "  warnings.warn('Using slow pure-python SequenceMatcher. Install python-Levenshtein to remove this warning')\n"
     ]
    }
   ],
   "source": [
    "import numpy as np\n",
    "import requests\n",
    "from bs4 import BeautifulSoup\n",
    "import pandas as pd\n",
    "import altair as alt\n",
    "import geopandas as gpd\n",
    "import matplotlib.pyplot as plt\n",
    "import json\n",
    "import altair as alt\n",
    "import dtmapi\n",
    "import statsmodels.api as sm\n",
    "from statsmodels.formula.api import ols\n",
    "from fuzzywuzzy import fuzz, process\n",
    "from hdx.utilities.easy_logging import setup_logging\n",
    "from hdx.api.configuration import Configuration\n",
    "from hdx.data.dataset import Dataset\n",
    "import os"
   ]
  },
  {
   "cell_type": "markdown",
   "metadata": {},
   "source": [
    "### IOM DTM"
   ]
  },
  {
   "cell_type": "code",
   "execution_count": 3,
   "metadata": {},
   "outputs": [
    {
     "data": {
      "text/plain": [
       "'https://data.humdata.org'"
      ]
     },
     "execution_count": 3,
     "metadata": {},
     "output_type": "execute_result"
    }
   ],
   "source": [
    "Configuration.create(hdx_site=\"prod\", user_agent=\"PP434\", hdx_read_only=True)"
   ]
  },
  {
   "cell_type": "code",
   "execution_count": 4,
   "metadata": {},
   "outputs": [
    {
     "name": "stdout",
     "output_type": "stream",
     "text": [
      "Resource URL https://data.humdata.org/dataset/44594ae2-dde9-417f-acae-523bc012c162/resource/d641cae6-ba35-416d-9a4f-731d886315d6/download/dtm_sdn_smu-bi-weekly-13-_-17122024_v02_public_hdx.xlsx downloaded to data_processing/dtm/Sudan - Countrywide Mobility Update 13 (Bi-Weekly)1.xlsx\n",
      "Resource URL https://data.humdata.org/dataset/44594ae2-dde9-417f-acae-523bc012c162/resource/4ea6ae19-4080-405b-bf8a-3003e8ed5341/download/dtm_sdn_smu-bi-weekly-12-_-03122024_v02_public_hdx.xlsx downloaded to data_processing/dtm/Sudan - Countrywide Mobility Update 12 (Bi-Weekly)1.xlsx\n",
      "Resource URL https://data.humdata.org/dataset/44594ae2-dde9-417f-acae-523bc012c162/resource/2a0a6ab7-722a-4aea-bd31-dd0d949ea7dd/download/dtm_sdn_smu-bi-weekly-11-_-20112024_v02_public_hdx.xlsx downloaded to data_processing/dtm/Sudan - Countrywide Mobility Update 11 (Bi-Weekly)1.xlsx\n",
      "Resource URL https://data.humdata.org/dataset/44594ae2-dde9-417f-acae-523bc012c162/resource/7a7d1e2f-6411-4e0a-b51c-f1a05a1ed5ca/download/dtm_sdn_smo-bi-monthly-003-_06112024_v02_public_hdx.xlsx downloaded to data_processing/dtm/Sudan - Countrywide Mobility Overview 3 (Bi-Monthly)1.xlsx\n",
      "Resource URL https://data.humdata.org/dataset/44594ae2-dde9-417f-acae-523bc012c162/resource/95a52eff-66f5-4ed5-99b4-117d37dd0b7b/download/dtm_sdn_smu-bi-weekly-10-_-23102024_v02_public_hdx.xlsx downloaded to data_processing/dtm/Sudan - Countrywide Mobility Update 10 (Bi-Weekly)1.xlsx\n",
      "Resource URL https://data.humdata.org/dataset/44594ae2-dde9-417f-acae-523bc012c162/resource/7f9549c2-8fe0-4e42-b5f8-7632e4dbd1a8/download/dtm_sdn_sudan-mobility-update-bi-weekly-9-_-08102024_v02_public_hdx.xlsx downloaded to data_processing/dtm/Sudan - Countrywide Mobility Update 9 (Bi-Weekly)1.xlsx\n",
      "Resource URL https://data.humdata.org/dataset/44594ae2-dde9-417f-acae-523bc012c162/resource/2068d7f6-bcf0-451d-8d0d-3cadf57949d9/download/dtm_sd3.xls downloaded to data_processing/dtm/Sudan - Countrywide Mobility Update 8 (Bi-Weekly)1.xls\n",
      "Resource URL https://data.humdata.org/dataset/44594ae2-dde9-417f-acae-523bc012c162/resource/098afdb4-3c1b-4d39-a932-e7c1ed6080df/download/dtm_sdn_sudan-mobility-update-bi-weekly-7-_-11092024_v02_public_hdx.xlsx downloaded to data_processing/dtm/Sudan - Countrywide Mobility Update 7 (Bi-Weekly)1.xlsx\n",
      "Resource URL https://data.humdata.org/dataset/44594ae2-dde9-417f-acae-523bc012c162/resource/fd5d12ca-612d-4485-99ec-dbfe325e4d9c/download/dtm_sdn_smo-bi-monthly-002-_29082024_v02_public_hdx.xlsx downloaded to data_processing/dtm/Sudan - Countrywide Mobility Overview 2 (Bi-Monthly)1.xlsx\n",
      "Resource URL https://data.humdata.org/dataset/44594ae2-dde9-417f-acae-523bc012c162/resource/a847d28a-5d93-4fd9-90a0-ae988c9ca95a/download/dtm_sdn_sudan-mobility-update-bi-weekly-6-_-18082024_v02_public.xlsx downloaded to data_processing/dtm/Sudan - Countrywide Mobility Update 6 (Bi-Weekly)1.xlsx\n",
      "Resource URL https://data.humdata.org/dataset/44594ae2-dde9-417f-acae-523bc012c162/resource/3d399605-3801-4451-bc36-23b00b25b5b8/download/dtm_sdn_sudan-mobility-bi-weekly-update-5_31072024_v02_public.xlsx downloaded to data_processing/dtm/Sudan - Countrywide Mobility Update 5 (Bi-Weekly)1.xlsx\n",
      "Resource URL https://data.humdata.org/dataset/44594ae2-dde9-417f-acae-523bc012c162/resource/d1250ea8-3b37-4bca-aeae-4fd85236f57a/download/dtm_sdn_sudan-mobility-bi-weekly-update-4_17072024_v02_public.xlsx downloaded to data_processing/dtm/Sudan - Countrywide Mobility Update 4 (Bi-Weekly)1.xlsx\n",
      "Resource URL https://data.humdata.org/dataset/44594ae2-dde9-417f-acae-523bc012c162/resource/bb32b0bc-3229-4986-b02e-d1d29daea711/download/dtm_sdn_smu-bi-monthly-001-_03072024_v02_public.xlsx downloaded to data_processing/dtm/Sudan - Countrywide Mobility Overview 1 (Bi-Monthly)1.xlsx\n",
      "Resource URL https://data.humdata.org/dataset/44594ae2-dde9-417f-acae-523bc012c162/resource/f1d30862-04ca-45dd-a60d-fd929d6b872c/download/dtm_sudan_mobility_update_003.xlsx downloaded to data_processing/dtm/Sudan - Countrywide Mobility Update 3 (Bi-Weekly)1.xlsx\n",
      "Resource URL https://data.humdata.org/dataset/44594ae2-dde9-417f-acae-523bc012c162/resource/1000746b-05c5-4156-98b4-4a6b31b1bf6e/download/dtm_sdn_sudan-mobility-update-2_2552024_v02_public.xlsx downloaded to data_processing/dtm/Sudan - Countrywide Mobility Update 2 (Bi-Weekly)1.xlsx\n",
      "Resource URL https://data.humdata.org/dataset/44594ae2-dde9-417f-acae-523bc012c162/resource/f5fbf970-d07b-4c68-99f3-c3061905435b/download/dtm_sdn_bi-weekly01_20240502_v02_public.xlsx downloaded to data_processing/dtm/Sudan - Countrywide Mobility Update 1 (Bi-Weekly)1.xlsx\n"
     ]
    }
   ],
   "source": [
    "datasets_ipc = Dataset.read_from_hdx(\"sudan-displacement-situation-countrywide-idps-iom-dtm\")\n",
    "resources = datasets_ipc.get_resources()\n",
    "\n",
    "for res in resources:\n",
    "    url, path = res.download('data_processing/dtm/')\n",
    "    print(f\"Resource URL {url} downloaded to {path}\")"
   ]
  },
  {
   "cell_type": "code",
   "execution_count": 5,
   "metadata": {},
   "outputs": [],
   "source": [
    "idp_admin_data = dtmapi.get_idp_admin2_data(CountryName='Sudan',  FromReportingDate='2021-01-01', ToReportingDate='2025-01-01', to_pandas=True)"
   ]
  },
  {
   "cell_type": "code",
   "execution_count": 6,
   "metadata": {},
   "outputs": [],
   "source": [
    "# read data \n",
    "idp_adm1_2024 = pd.read_excel('data_processing/dtm/Sudan - Countrywide Mobility Update 13 (Bi-Weekly).xlsx', sheet_name='MASTER LIST (ADMIN1)', skiprows=2)\n",
    "idp_adm2_2024 = pd.read_excel('data_processing/dtm/Sudan - Countrywide Mobility Update 13 (Bi-Weekly).xlsx', sheet_name='MASTER LIST (ADMIN2)', skiprows=2)\n",
    "\n",
    "rename_dict = {\n",
    "    'STATE OF DISPLACEMET': 'adm1_name',\n",
    "    'STATE CODE': 'adm1_pcode',\n",
    "    'LOCALITY OF DISPLACEMENT': 'adm2_name',\n",
    "    'LOCALITY_CODE': 'adm2_pcode',\n",
    "    'LOCALITY_ CODE': 'adm2_pcode',\n",
    "    'HHs': 'affected_idps_hh',\n",
    "    'IDPs': 'affected_idps_ind'\n",
    "}\n",
    "\n",
    "\n",
    "idp_adm1_2024.rename(columns=rename_dict, inplace=True)\n",
    "#idp_adm1_2023.rename(columns=rename_dict, inplace=True)\n",
    "#idp_adm2_2023.rename(columns=rename_dict, inplace=True)\n",
    "#idp_adm2_2024.rename(columns=rename_dict, inplace=True)"
   ]
  },
  {
   "cell_type": "code",
   "execution_count": null,
   "metadata": {},
   "outputs": [],
   "source": []
  },
  {
   "cell_type": "code",
   "execution_count": 7,
   "metadata": {},
   "outputs": [],
   "source": [
    "idp_origin_adm1_2024 = idp_adm1_2024.iloc[1:]\n",
    "#idp_origin_adm1_2023 = idp_adm1_2023.iloc[1:]\n",
    "#idp_origin_adm2_2023 = idp_adm2_2023.iloc[1:]\n",
    "#idp_origin_adm2_2024 = idp_adm2_2024.iloc[1:]"
   ]
  },
  {
   "cell_type": "code",
   "execution_count": 8,
   "metadata": {},
   "outputs": [],
   "source": [
    "idp_origin_adm1_2024.loc[19] = idp_origin_adm1_2024.iloc[:, 2:].sum()\n",
    "idp_origin_adm1_2024\n",
    "idp_origin_adm1_2024.loc[19, 'adm1_name'] = 'Total'"
   ]
  },
  {
   "cell_type": "code",
   "execution_count": 9,
   "metadata": {},
   "outputs": [],
   "source": [
    "state_columns = idp_adm1_2024.columns[4:-2].tolist()\n",
    "idp_adm1_2024_state = idp_origin_adm1_2024.melt(\n",
    "        id_vars=['adm1_name', 'adm1_pcode',  'affected_idps_ind', 'affected_idps_hh'],\n",
    "        value_vars=state_columns,\n",
    "        var_name='state_origin',\n",
    "        value_name='affected_idps_state'\n",
    "    )"
   ]
  },
  {
   "cell_type": "code",
   "execution_count": 10,
   "metadata": {},
   "outputs": [],
   "source": [
    "idp_origin_2024 = idp_adm1_2024_state[idp_adm1_2024_state['adm1_name'] == 'Total']"
   ]
  },
  {
   "cell_type": "markdown",
   "metadata": {},
   "source": [
    "### IPC "
   ]
  },
  {
   "cell_type": "markdown",
   "metadata": {},
   "source": [
    "GeoJson data"
   ]
  },
  {
   "cell_type": "code",
   "execution_count": 11,
   "metadata": {},
   "outputs": [
    {
     "name": "stdout",
     "output_type": "stream",
     "text": [
      "Saved data_processing/ipc/ipc_geojson_C_14192889.json\n",
      "Saved data_processing/ipc/ipc_geojson_C_18151797.json\n",
      "Current data not available for item 19191589, fetching projections (P)\n",
      "Saved data_processing/ipc/ipc_geojson_P_19191589.json\n",
      "Saved data_processing/ipc/ipc_geojson_C_24004104.json\n",
      "Saved data_processing/ipc/ipc_geojson_C_25857808.json\n",
      "Saved data_processing/ipc/ipc_geojson_C_58836462.json\n",
      "Current data not available for item 64768802, fetching projections (P)\n",
      "Failed to fetch data for item 64768802: HTTP 404\n",
      "Saved data_processing/ipc/ipc_geojson_C_68887616.json\n",
      "Current data not available for item 74795267, fetching projections (P)\n",
      "Saved data_processing/ipc/ipc_geojson_P_74795267.json\n"
     ]
    }
   ],
   "source": [
    "api_key = '3bdbeef9-fc4c-4315-a665-cc56deb11be6'\n",
    "base_url = 'https://api.ipcinfo.org/'\n",
    "\n",
    "# Create directory if it doesn't exist\n",
    "os.makedirs('data_processing/ipc', exist_ok=True)\n",
    "\n",
    "# Fetch IPC analyses\n",
    "ipc = requests.get(f'{base_url}analyses?country=SD&type=A&periods=C&key={api_key}').json()\n",
    "\n",
    "for item in ipc:\n",
    "    # Try fetching current data ('C') first\n",
    "    response = requests.get(f\"{base_url}areas/{item['id']}/C?format=geojson&key={api_key}\")\n",
    "    \n",
    "    if response.status_code == 200:\n",
    "        save_name = f\"data_processing/ipc/ipc_geojson_C_{item['id']}.json\"\n",
    "    else:\n",
    "        print(f\"Current data not available for item {item['id']}, fetching projections (P)\")\n",
    "        response = requests.get(f\"{base_url}areas/{item['id']}/P?format=geojson&key={api_key}\")\n",
    "        save_name = f\"data_processing/ipc/ipc_geojson_P_{item['id']}.json\"\n",
    "    \n",
    "    if response.status_code == 200:\n",
    "        try:\n",
    "            ipc_geojson = response.json()\n",
    "            with open(save_name, 'w') as f:\n",
    "                json.dump(ipc_geojson, f)\n",
    "            print(f\"Saved {save_name}\")\n",
    "        except json.JSONDecodeError as e:\n",
    "            print(f\"Error decoding JSON for item {item['id']}: {e}\")\n",
    "        except Exception as e:\n",
    "            print(f\"Error saving file for item {item['id']}: {e}\")\n",
    "    else:\n",
    "        print(f\"Failed to fetch data for item {item['id']}: HTTP {response.status_code}\")\n"
   ]
  },
  {
   "cell_type": "code",
   "execution_count": 12,
   "metadata": {},
   "outputs": [],
   "source": [
    "#ipc_2024 = requests.get(f\"https://api.ipcinfo.org/areas/68887616/C?format=json&key=\").json()\n",
    "#ipc_2024_proj = requests.get(f\"https://api.ipcinfo.org/areas/68887616/C?format=json&key=\").json()"
   ]
  },
  {
   "cell_type": "markdown",
   "metadata": {},
   "source": [
    "HDX API"
   ]
  },
  {
   "cell_type": "code",
   "execution_count": 14,
   "metadata": {},
   "outputs": [],
   "source": [
    "datasets_ipc = Dataset.read_from_hdx(\"sudan-acute-food-insecurity-country-data\")\n",
    "resources = datasets_ipc.get_resources()\n",
    "\n",
    "ipc_sdn_adm1 = [res for res in resources if res.get('description') == 'All IPC level 1 data in long form with HXL tags']\n",
    "ipc_sdn_adm2 = [res for res in resources if res.get('description') == 'All IPC area data in long form with HXL tags']\n",
    "\n",
    "\n",
    "url1 = ipc_sdn_adm1[0]['alt_url']\n",
    "url2 = ipc_sdn_adm2[0]['alt_url']\n",
    "\n",
    "# Download the file\n",
    "response = requests.get(url1)\n",
    "with open('data_processing/ipc_sdn_adm1.csv', 'wb') as f:\n",
    "\tf.write(response.content)\n",
    "\t\n",
    "response = requests.get(url2)\n",
    "with open('data_processing/ipc_sdn_adm2.csv', 'wb') as f:\n",
    "\tf.write(response.content)\n",
    "\n"
   ]
  },
  {
   "cell_type": "code",
   "execution_count": 15,
   "metadata": {},
   "outputs": [],
   "source": [
    "ipc_sdn_adm2 = pd.read_csv('data_processing/ipc_sdn_adm2.csv')\n",
    "ipc_sdn_adm2 = ipc_sdn_adm2.iloc[1:]\n",
    "ipc_sdn_adm1 = pd.read_csv('data_processing/ipc_sdn_adm1.csv')\n",
    "ipc_sdn_adm1 = ipc_sdn_adm1.iloc[1:]"
   ]
  },
  {
   "cell_type": "code",
   "execution_count": 16,
   "metadata": {},
   "outputs": [],
   "source": [
    "ipc_sdn_adm2 = ipc_sdn_adm2[~ipc_sdn_adm2['Area'].str.contains('IDPs')]\n",
    "ipc_sdn_adm2 = ipc_sdn_adm2[~ipc_sdn_adm2['Area'].str.contains('IDP')]\n",
    "ipc_sdn_adm2 = ipc_sdn_adm2[~ipc_sdn_adm2['Area'].str.contains('Refugees')]\n",
    "ipc_sdn_adm2 = ipc_sdn_adm2[~ipc_sdn_adm2['Area'].str.contains('refugees')]\n",
    "\n",
    "ipc_sdn_adm1 = ipc_sdn_adm1[~ipc_sdn_adm1['Level 1'].str.contains('IDPs')]\n",
    "ipc_sdn_adm1 = ipc_sdn_adm1[~ipc_sdn_adm1['Level 1'].str.contains('IDP')]\n",
    "ipc_sdn_adm1 = ipc_sdn_adm1[~ipc_sdn_adm1['Level 1'].str.contains('Refugees')]\n",
    "ipc_sdn_adm1 = ipc_sdn_adm1[~ipc_sdn_adm1['Level 1'].str.contains('refugees')]"
   ]
  },
  {
   "cell_type": "markdown",
   "metadata": {},
   "source": [
    "### ACLED"
   ]
  },
  {
   "cell_type": "code",
   "execution_count": 17,
   "metadata": {},
   "outputs": [],
   "source": [
    "acled = pd.read_csv('data_processing/ACLED_2020-01-01-2024-12-31-Sudan.csv')"
   ]
  },
  {
   "cell_type": "code",
   "execution_count": 18,
   "metadata": {},
   "outputs": [],
   "source": [
    "acled = acled[acled['year'] != 2020]\n",
    "acled['event_date'] = pd.to_datetime(acled['event_date'])\n",
    "acled['month_year'] = acled['event_date'].dt.to_period('M')\n",
    "acled['week'] = acled['event_date'].dt.to_period('W').apply(lambda r: r.start_time)"
   ]
  },
  {
   "cell_type": "code",
   "execution_count": 19,
   "metadata": {},
   "outputs": [],
   "source": [
    "#Monthly Data\n",
    "acled_monthly= acled.groupby(['month_year','event_type']).agg({'fatalities':'sum', 'event_date':'count'}).reset_index()\n",
    "\n",
    "#remove riots\n",
    "acled_monthly = acled_monthly[acled_monthly['event_type'] != 'Riots']\n",
    "acled_monthly = acled_monthly[acled_monthly['event_type'] != 'Strategic developments']\n",
    "acled_monthly['event_type'] = acled_monthly['event_type'].replace('Explosions/Remote violence', 'Explosions')\n",
    "\n",
    "acled_monthly.to_csv('data_processing/acled_monthly.csv', index=False)\n",
    "acled_monthly['month_year'] = acled_monthly['month_year'].astype(str)\n",
    "\n",
    "#Weekly Data\n",
    "#acled_weekly = acled.groupby(['week', 'event_type']).agg({'fatalities':'sum', 'event_date':'count'}).reset_index()\n",
    "#acled_weekly['week'] = acled_weekly['week'].astype(str)"
   ]
  },
  {
   "cell_type": "markdown",
   "metadata": {},
   "source": [
    "### COMBINED Analysis"
   ]
  },
  {
   "cell_type": "code",
   "execution_count": 20,
   "metadata": {},
   "outputs": [],
   "source": [
    "acled_admin2 = acled[(acled['month_year'] >= '2023-04')& (acled['month_year'] <= '2024-05')]\n",
    "acled_admin2= acled_admin2.groupby('admin2').agg({'fatalities': 'sum', 'event_id_cnty': 'count'}).reset_index()\n",
    "acled_admin2.reset_index(drop=True, inplace=True)\n",
    "\n",
    "acled_admin1 = acled[(acled['month_year'] >= '2023-04') & (acled['month_year'] <= '2024-05')]\n",
    "acled_admin1 = acled_admin1.groupby('admin1').agg({'fatalities': 'sum', 'event_id_cnty': 'count'}).reset_index()\n",
    "acled_admin1.reset_index(drop=True, inplace=True)"
   ]
  },
  {
   "cell_type": "code",
   "execution_count": 21,
   "metadata": {},
   "outputs": [],
   "source": [
    "ipc_sdn_adm2_2024 = ipc_sdn_adm2[(ipc_sdn_adm2['Validity period'] == 'current') & (ipc_sdn_adm2['Date of analysis'].str.contains('Apr 2024'))]\n",
    "ipc_sdn_adm2_2024 = ipc_sdn_adm2_2024[ipc_sdn_adm2_2024['Phase']== '3+']\n",
    "\n",
    "#splitting areas\n",
    "ipc_sdn_adm2_2024 = ipc_sdn_adm2_2024.assign(Area=ipc_sdn_adm2_2024['Area'].str.split(r'[,&]')).explode('Area').reset_index(drop=True)\n",
    "ipc_sdn_adm2_2024['Area'] = ipc_sdn_adm2_2024['Area'].str.strip()\n",
    "\n",
    "\n",
    "ipc_sdn_adm1_2024 = ipc_sdn_adm1[(ipc_sdn_adm1['Validity period'] == 'current') & (ipc_sdn_adm1['Date of analysis'].str.contains('Apr 2024'))]\n",
    "ipc_sdn_adm1_2024 = ipc_sdn_adm1_2024[ipc_sdn_adm1_2024['Phase']== '3+']"
   ]
  },
  {
   "cell_type": "code",
   "execution_count": 22,
   "metadata": {},
   "outputs": [],
   "source": [
    "idp_admin2_2024_may = idp_admin_data[(idp_admin_data['yearReportingDate'] == 2024) & (idp_admin_data['monthReportingDate'] == 5) & (idp_admin_data['operation'] == 'Armed Clashes in Sudan (Overview)') ]\n",
    "idp_admin2_2024_may = idp_admin2_2024_may.dropna(subset=['admin2Name'])\n",
    "\n",
    "idp_admin1_2024_may = idp_admin_data[(idp_admin_data['yearReportingDate'] == 2024) & (idp_admin_data['monthReportingDate'] == 5) & (idp_admin_data['operation'] == 'Armed Clashes in Sudan (Overview)') ]\n",
    "idp_admin1_2024_may = idp_admin1_2024_may.groupby('admin1Name').agg({'numPresentIdpInd':'sum'}).reset_index()"
   ]
  },
  {
   "cell_type": "markdown",
   "metadata": {},
   "source": [
    "Matching Admin 2 columns names"
   ]
  },
  {
   "cell_type": "code",
   "execution_count": 23,
   "metadata": {},
   "outputs": [],
   "source": [
    "def clean_location(location):\n",
    "    \"\"\"Clean location names by removing common prefixes/suffixes and standardizing format.\"\"\"\n",
    "    location = str(location).lower().strip()\n",
    "    prefixes_to_remove = ['al ', 'el ', 'ar ', 'at ', 'um ', 'ad ', 'as ', 'aj ']\n",
    "    for prefix in prefixes_to_remove:\n",
    "        if location.startswith(prefix):\n",
    "            location = location[len(prefix):]\n",
    "    return location.strip()\n",
    "\n",
    "def create_lookup_dict(locations):\n",
    "    \"\"\"Create a dictionary mapping cleaned names to original names.\"\"\"\n",
    "    return {clean_location(loc): loc for loc in locations if pd.notna(loc)}\n",
    "\n",
    "def find_best_match(source_loc, target_dict, threshold=80):\n",
    "    \"\"\"Find the best matching location from target_dict for source_loc.\"\"\"\n",
    "    source_cleaned = clean_location(source_loc)\n",
    "    best_match = None\n",
    "    best_score = 0\n",
    "    best_original = None\n",
    "    \n",
    "    for target_cleaned, target_original in target_dict.items():\n",
    "        # Try different fuzzy matching algorithms\n",
    "        ratio = fuzz.ratio(source_cleaned, target_cleaned)\n",
    "        partial_ratio = fuzz.partial_ratio(source_cleaned, target_cleaned)\n",
    "        token_sort_ratio = fuzz.token_sort_ratio(source_cleaned, target_cleaned)\n",
    "        \n",
    "        # Use the highest score among different matching methods\n",
    "        score = max(ratio, partial_ratio, token_sort_ratio)\n",
    "        \n",
    "        if score > best_score and score >= threshold:\n",
    "            best_score = score\n",
    "            best_match = target_cleaned\n",
    "            best_original = target_original\n",
    "    \n",
    "    return best_original, best_score\n",
    "\n",
    "def match_locations(iom_locations, acled_locations, ipc_locations):\n",
    "    \"\"\"Match locations from IOM and ACLED to IPC locations.\"\"\"\n",
    "    results = []\n",
    "    ipc_lookup = create_lookup_dict(ipc_locations)\n",
    "    \n",
    "    # Process IOM locations\n",
    "    for iom_loc in iom_locations:\n",
    "        if pd.isna(iom_loc):\n",
    "            continue\n",
    "        ipc_match, iom_score = find_best_match(iom_loc, ipc_lookup)\n",
    "        if ipc_match:  # Only add if we found a match\n",
    "            results.append({\n",
    "                'Source': 'IOM',\n",
    "                'Original_Location': iom_loc,\n",
    "                'IPC_Original_Name': ipc_match,\n",
    "                'Match_Score': iom_score\n",
    "            })\n",
    "    \n",
    "    # Process ACLED locations\n",
    "    for acled_loc in acled_locations:\n",
    "        if pd.isna(acled_loc):\n",
    "            continue\n",
    "        ipc_match, acled_score = find_best_match(acled_loc, ipc_lookup)\n",
    "        if ipc_match:  # Only add if we found a match\n",
    "            results.append({\n",
    "                'Source': 'ACLED',\n",
    "                'Original_Location': acled_loc,\n",
    "                'IPC_Original_Name': ipc_match,\n",
    "                'Match_Score': acled_score\n",
    "            })\n",
    "    \n",
    "    # Convert results to DataFrame\n",
    "    df_results = pd.DataFrame(results)\n",
    "    \n",
    "    # Sort by match score descending\n",
    "    df_results = df_results.sort_values('Match_Score', ascending=False)\n",
    "    \n",
    "    return df_results\n",
    "\n",
    "# Extract unique locations from each dataset\n",
    "iom_locations = idp_admin2_2024_may['admin2Name'].dropna().unique()\n",
    "acled_locations = acled_admin2['admin2'].dropna().unique()\n",
    "ipc_locations = ipc_sdn_adm2_2024['Area'].dropna().unique()\n",
    "\n",
    "# Perform matching\n",
    "matches_df = match_locations(iom_locations, acled_locations, ipc_locations)\n",
    "\n",
    "# Create mapping dictionaries for each source\n",
    "iom_mapping = matches_df[matches_df['Source'] == 'IOM'].set_index('Original_Location')['IPC_Original_Name'].to_dict()\n",
    "acled_mapping = matches_df[matches_df['Source'] == 'ACLED'].set_index('Original_Location')['IPC_Original_Name'].to_dict()\n",
    "\n",
    "# Apply mappings to original dataframes\n",
    "idp_admin2_2024_may['admin2Name_IPC'] = idp_admin2_2024_may['admin2Name'].map(iom_mapping)\n",
    "acled_admin2['admin2_IPC'] = acled_admin2['admin2'].map(acled_mapping)"
   ]
  },
  {
   "cell_type": "code",
   "execution_count": 24,
   "metadata": {},
   "outputs": [],
   "source": [
    "# List of admin2Name_IPC values to be set to NaN\n",
    "admin2_to_nan = [\n",
    "    'Al Ganab', 'Kas', 'Reifi Shamal Ad Delta', 'Ar Rahad', 'As Salam - WK', \n",
    "    'Reifi Nahr Atbara', 'Gharb Bara', 'Foro Baranga', 'Reifi Khashm Elgirba', \n",
    "    'Wasat Jabal Marrah', 'Gharb Jabal Marrah', 'Al Kamlin', 'Reifi Gharb Kassala', \n",
    "    'Al Lait', 'Atbara', 'Sharg Sennar'\n",
    "]\n",
    "\n",
    "# Update the dataframe\n",
    "idp_admin2_2024_may.loc[idp_admin2_2024_may['admin2Name'].isin(admin2_to_nan), 'admin2Name_IPC'] = np.nan\n",
    "\n",
    "# if admin2Name = Bara, then admin2Name_IPC = Bara\n",
    "idp_admin2_2024_may.loc[idp_admin2_2024_may['admin2Name'] == 'Bara', 'admin2Name_IPC'] = 'Bara'"
   ]
  },
  {
   "cell_type": "code",
   "execution_count": 25,
   "metadata": {},
   "outputs": [],
   "source": [
    "# List of admin2Name_IPC values to be set to NaN\n",
    "admin2_to_nan = ['Al Buram', 'Kas', 'Gharb Jabal Marrah',\n",
    "'Wasat Jabal Marrah' , 'Reifi Gharb Kassala', 'Reifi Shamal Ad Delta', 'Sharg Sennar']\n",
    "\n",
    "# Update the dataframe\n",
    "acled_admin2.loc[acled_admin2['admin2'].isin(admin2_to_nan), 'admin2Name_IPC'] = np.nan\n"
   ]
  },
  {
   "cell_type": "code",
   "execution_count": 26,
   "metadata": {},
   "outputs": [],
   "source": [
    "# Save mapping results\n",
    "matches_df.to_csv('data_processing/location_matches_with_originals.csv', index=False)\n",
    "idp_admin2_2024_may.to_csv('data_processing/idp_admin2_2024_may_mapped.csv', index=False)\n",
    "acled_admin2.to_csv('data_processing/acled_admin2_mapped.csv', index=False)\n"
   ]
  },
  {
   "cell_type": "markdown",
   "metadata": {},
   "source": [
    "### IPC + ACLED"
   ]
  },
  {
   "cell_type": "code",
   "execution_count": 27,
   "metadata": {},
   "outputs": [],
   "source": [
    "#Adm 1\n",
    "acled_admin1['admin1'] = acled_admin1['admin1'].replace('Al Jazirah', 'Aj Jazirah')\n",
    "acled_ipc_adm1 = pd.merge(acled_admin1, ipc_sdn_adm1_2024, left_on=['admin1'], right_on=['Level 1'], how='inner')"
   ]
  },
  {
   "cell_type": "code",
   "execution_count": 28,
   "metadata": {},
   "outputs": [],
   "source": [
    "#Adm 2\n",
    "acled_ipc_adm2 = pd.merge(acled_admin2, ipc_sdn_adm2_2024, left_on=['admin2_IPC'], right_on=['Area'], how='inner')"
   ]
  },
  {
   "cell_type": "code",
   "execution_count": 29,
   "metadata": {},
   "outputs": [],
   "source": [
    "#save acled_ipc_adm2 to csv\n",
    "acled_ipc_adm2.to_csv('data_processing/acled_ipc_adm2.csv', index=False)"
   ]
  },
  {
   "cell_type": "markdown",
   "metadata": {},
   "source": [
    "### IPC + IDP"
   ]
  },
  {
   "cell_type": "code",
   "execution_count": 30,
   "metadata": {},
   "outputs": [],
   "source": [
    "#Adm 2\n",
    "idp_ipc_adm2 = pd.merge(idp_admin2_2024_may, ipc_sdn_adm2_2024, left_on=['admin2Name_IPC'], right_on=['Area'], how='inner')\n",
    "idp_ipc_adm1 = pd.merge(idp_admin1_2024_may, ipc_sdn_adm1_2024, left_on=['admin1Name'], right_on=['Level 1'], how='inner')"
   ]
  },
  {
   "cell_type": "code",
   "execution_count": 31,
   "metadata": {},
   "outputs": [],
   "source": [
    "acled_idp_ipc_adm2 = pd.merge(acled_ipc_adm2, idp_ipc_adm2, left_on=['Area'], right_on=['Area'], how='inner')\n",
    "\n",
    "acled_idp_ipc_adm2 = acled_idp_ipc_adm2[['Area', 'Level 1_x','fatalities', 'event_id_cnty', 'numPresentIdpInd', 'Number_x']]\n",
    "acled_idp_ipc_adm2.rename(columns={'Number_x':'phase3plus'}, inplace=True)\n",
    "acled_idp_ipc_adm2.rename(columns={'Level 1_x':'Level 1'}, inplace=True)"
   ]
  },
  {
   "cell_type": "code",
   "execution_count": 32,
   "metadata": {},
   "outputs": [],
   "source": [
    "#reset the Area combinations\n",
    "acled_idp_ipc_adm2 = acled_idp_ipc_adm2.groupby('phase3plus').agg({\n",
    "    'Area': lambda x: ', '.join(x),\n",
    "    'fatalities': 'sum',\n",
    "    'event_id_cnty': 'sum',\n",
    "    'numPresentIdpInd': 'sum',\n",
    "    'Level 1': 'first'\n",
    "}).reset_index()\n",
    "\n",
    "\n",
    "acled_idp_ipc_adm2.to_csv('data_processing/acled_idp_ipc_adm2.csv', index=False)\n",
    "acled_idp_ipc_adm2.to_csv('data/acled_idp_ipc_adm2.csv', index=False)"
   ]
  },
  {
   "cell_type": "code",
   "execution_count": 33,
   "metadata": {},
   "outputs": [],
   "source": [
    "acled_idp_ipc_adm1 = pd.merge(acled_ipc_adm1, idp_ipc_adm1, left_on=['Level 1'], right_on=['Level 1'], how='outer')\n",
    "acled_idp_ipc_adm1 = pd.merge(acled_idp_ipc_adm1, idp_origin_2024, left_on=['Level 1'], right_on=['state_origin'], how='outer')\n",
    "\n",
    "acled_idp_ipc_adm1 = acled_idp_ipc_adm1[['Level 1', 'fatalities', 'event_id_cnty', 'numPresentIdpInd', 'Number_x', 'affected_idps_state']]\n",
    "acled_idp_ipc_adm1.rename(columns={'Number_x':'phase3plus'}, inplace=True)\n",
    "acled_idp_ipc_adm1.to_csv('data_processing/acled_idp_ipc_adm1.csv', index=False)\n",
    "acled_idp_ipc_adm1.to_csv('data/acled_idp_ipc_adm1.csv', index=False)"
   ]
  },
  {
   "cell_type": "code",
   "execution_count": 40,
   "metadata": {},
   "outputs": [
    {
     "name": "stdout",
     "output_type": "stream",
     "text": [
      "0.6452683691222222\n",
      "0.17711988087371816\n",
      "0.48353427830695067\n"
     ]
    }
   ],
   "source": [
    "#Admin 1 correlations\n",
    "print(acled_idp_ipc_adm1['phase3plus'].corr(acled_idp_ipc_adm1['event_id_cnty']))\n",
    "print(acled_idp_ipc_adm1['phase3plus'].corr(acled_idp_ipc_adm1['numPresentIdpInd']))\n",
    "print(acled_idp_ipc_adm1['phase3plus'].corr(acled_idp_ipc_adm1['fatalities']))"
   ]
  },
  {
   "cell_type": "code",
   "execution_count": 41,
   "metadata": {},
   "outputs": [
    {
     "name": "stdout",
     "output_type": "stream",
     "text": [
      "0.6090965614633176\n",
      "0.2465361220056956\n",
      "0.44934711278346723\n"
     ]
    }
   ],
   "source": [
    "#Admin 1 correlations\n",
    "print(acled_idp_ipc_adm2['phase3plus'].corr(acled_idp_ipc_adm2['event_id_cnty']))\n",
    "print(acled_idp_ipc_adm2['phase3plus'].corr(acled_idp_ipc_adm2['numPresentIdpInd']))\n",
    "print(acled_idp_ipc_adm2['phase3plus'].corr(acled_idp_ipc_adm2['fatalities']))"
   ]
  }
 ],
 "metadata": {
  "kernelspec": {
   "display_name": "Python 3",
   "language": "python",
   "name": "python3"
  },
  "language_info": {
   "codemirror_mode": {
    "name": "ipython",
    "version": 3
   },
   "file_extension": ".py",
   "mimetype": "text/x-python",
   "name": "python",
   "nbconvert_exporter": "python",
   "pygments_lexer": "ipython3",
   "version": "3.11.4"
  }
 },
 "nbformat": 4,
 "nbformat_minor": 2
}

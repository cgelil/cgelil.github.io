{
 "cells": [
  {
   "cell_type": "code",
   "execution_count": 759,
   "metadata": {},
   "outputs": [],
   "source": [
    "import numpy as np\n",
    "import requests\n",
    "from bs4 import BeautifulSoup\n",
    "import pandas as pd\n",
    "import altair as alt\n",
    "import geopandas as gpd\n",
    "import matplotlib.pyplot as plt\n",
    "import json\n",
    "import altair as alt\n",
    "import dtmapi\n",
    "import statsmodels.api as sm\n",
    "from statsmodels.formula.api import ols\n",
    "from fuzzywuzzy import fuzz, process\n",
    "from hdx.utilities.easy_logging import setup_logging\n",
    "from hdx.api.configuration import Configuration\n",
    "from hdx.data.dataset import Dataset\n",
    "import os"
   ]
  },
  {
   "cell_type": "markdown",
   "metadata": {},
   "source": [
    "### IOM DTM"
   ]
  },
  {
   "cell_type": "code",
   "execution_count": 760,
   "metadata": {},
   "outputs": [
    {
     "name": "stdout",
     "output_type": "stream",
     "text": [
      "Resource URL https://data.humdata.org/dataset/44594ae2-dde9-417f-acae-523bc012c162/resource/d641cae6-ba35-416d-9a4f-731d886315d6/download/dtm_sdn_smu-bi-weekly-13-_-17122024_v02_public_hdx.xlsx downloaded to sudan/Sudan - Countrywide Mobility Update 13 (Bi-Weekly)2.xlsx\n",
      "Resource URL https://data.humdata.org/dataset/44594ae2-dde9-417f-acae-523bc012c162/resource/4ea6ae19-4080-405b-bf8a-3003e8ed5341/download/dtm_sdn_smu-bi-weekly-12-_-03122024_v02_public_hdx.xlsx downloaded to sudan/Sudan - Countrywide Mobility Update 12 (Bi-Weekly)2.xlsx\n",
      "Resource URL https://data.humdata.org/dataset/44594ae2-dde9-417f-acae-523bc012c162/resource/2a0a6ab7-722a-4aea-bd31-dd0d949ea7dd/download/dtm_sdn_smu-bi-weekly-11-_-20112024_v02_public_hdx.xlsx downloaded to sudan/Sudan - Countrywide Mobility Update 11 (Bi-Weekly)2.xlsx\n",
      "Resource URL https://data.humdata.org/dataset/44594ae2-dde9-417f-acae-523bc012c162/resource/7a7d1e2f-6411-4e0a-b51c-f1a05a1ed5ca/download/dtm_sdn_smo-bi-monthly-003-_06112024_v02_public_hdx.xlsx downloaded to sudan/Sudan - Countrywide Mobility Overview 3 (Bi-Monthly)2.xlsx\n",
      "Resource URL https://data.humdata.org/dataset/44594ae2-dde9-417f-acae-523bc012c162/resource/95a52eff-66f5-4ed5-99b4-117d37dd0b7b/download/dtm_sdn_smu-bi-weekly-10-_-23102024_v02_public_hdx.xlsx downloaded to sudan/Sudan - Countrywide Mobility Update 10 (Bi-Weekly)2.xlsx\n",
      "Resource URL https://data.humdata.org/dataset/44594ae2-dde9-417f-acae-523bc012c162/resource/7f9549c2-8fe0-4e42-b5f8-7632e4dbd1a8/download/dtm_sdn_sudan-mobility-update-bi-weekly-9-_-08102024_v02_public_hdx.xlsx downloaded to sudan/Sudan - Countrywide Mobility Update 9 (Bi-Weekly)2.xlsx\n",
      "Resource URL https://data.humdata.org/dataset/44594ae2-dde9-417f-acae-523bc012c162/resource/2068d7f6-bcf0-451d-8d0d-3cadf57949d9/download/dtm_sd3.xls downloaded to sudan/Sudan - Countrywide Mobility Update 8 (Bi-Weekly)2.xls\n",
      "Resource URL https://data.humdata.org/dataset/44594ae2-dde9-417f-acae-523bc012c162/resource/098afdb4-3c1b-4d39-a932-e7c1ed6080df/download/dtm_sdn_sudan-mobility-update-bi-weekly-7-_-11092024_v02_public_hdx.xlsx downloaded to sudan/Sudan - Countrywide Mobility Update 7 (Bi-Weekly)1.xlsx\n",
      "Resource URL https://data.humdata.org/dataset/44594ae2-dde9-417f-acae-523bc012c162/resource/fd5d12ca-612d-4485-99ec-dbfe325e4d9c/download/dtm_sdn_smo-bi-monthly-002-_29082024_v02_public_hdx.xlsx downloaded to sudan/Sudan - Countrywide Mobility Overview 2 (Bi-Monthly)1.xlsx\n",
      "Resource URL https://data.humdata.org/dataset/44594ae2-dde9-417f-acae-523bc012c162/resource/a847d28a-5d93-4fd9-90a0-ae988c9ca95a/download/dtm_sdn_sudan-mobility-update-bi-weekly-6-_-18082024_v02_public.xlsx downloaded to sudan/Sudan - Countrywide Mobility Update 6 (Bi-Weekly)1.xlsx\n",
      "Resource URL https://data.humdata.org/dataset/44594ae2-dde9-417f-acae-523bc012c162/resource/3d399605-3801-4451-bc36-23b00b25b5b8/download/dtm_sdn_sudan-mobility-bi-weekly-update-5_31072024_v02_public.xlsx downloaded to sudan/Sudan - Countrywide Mobility Update 5 (Bi-Weekly)1.xlsx\n",
      "Resource URL https://data.humdata.org/dataset/44594ae2-dde9-417f-acae-523bc012c162/resource/d1250ea8-3b37-4bca-aeae-4fd85236f57a/download/dtm_sdn_sudan-mobility-bi-weekly-update-4_17072024_v02_public.xlsx downloaded to sudan/Sudan - Countrywide Mobility Update 4 (Bi-Weekly)1.xlsx\n",
      "Resource URL https://data.humdata.org/dataset/44594ae2-dde9-417f-acae-523bc012c162/resource/bb32b0bc-3229-4986-b02e-d1d29daea711/download/dtm_sdn_smu-bi-monthly-001-_03072024_v02_public.xlsx downloaded to sudan/Sudan - Countrywide Mobility Overview 1 (Bi-Monthly)1.xlsx\n",
      "Resource URL https://data.humdata.org/dataset/44594ae2-dde9-417f-acae-523bc012c162/resource/f1d30862-04ca-45dd-a60d-fd929d6b872c/download/dtm_sudan_mobility_update_003.xlsx downloaded to sudan/Sudan - Countrywide Mobility Update 3 (Bi-Weekly)1.xlsx\n",
      "Resource URL https://data.humdata.org/dataset/44594ae2-dde9-417f-acae-523bc012c162/resource/1000746b-05c5-4156-98b4-4a6b31b1bf6e/download/dtm_sdn_sudan-mobility-update-2_2552024_v02_public.xlsx downloaded to sudan/Sudan - Countrywide Mobility Update 2 (Bi-Weekly)1.xlsx\n",
      "Resource URL https://data.humdata.org/dataset/44594ae2-dde9-417f-acae-523bc012c162/resource/f5fbf970-d07b-4c68-99f3-c3061905435b/download/dtm_sdn_bi-weekly01_20240502_v02_public.xlsx downloaded to sudan/Sudan - Countrywide Mobility Update 1 (Bi-Weekly)1.xlsx\n"
     ]
    }
   ],
   "source": [
    "datasets_ipc = Dataset.read_from_hdx(\"sudan-displacement-situation-countrywide-idps-iom-dtm\")\n",
    "resources = datasets_ipc.get_resources()\n",
    "\n",
    "for res in resources:\n",
    "    url, path = res.download('sudan/')\n",
    "    print(f\"Resource URL {url} downloaded to {path}\")"
   ]
  },
  {
   "cell_type": "code",
   "execution_count": 761,
   "metadata": {},
   "outputs": [],
   "source": [
    "idp_admin_data = dtmapi.get_idp_admin2_data(CountryName='Sudan',  FromReportingDate='2021-01-01', ToReportingDate='2025-01-01', to_pandas=True)"
   ]
  },
  {
   "cell_type": "code",
   "execution_count": 762,
   "metadata": {},
   "outputs": [],
   "source": [
    "# read data \n",
    "idp_adm1_2024 = pd.read_excel('sudan/dtm/Sudan - Countrywide Mobility Update 13 (Bi-Weekly).xlsx', sheet_name='MASTER LIST (ADMIN1)', skiprows=2)\n",
    "idp_adm2_2024 = pd.read_excel('sudan/dtm/Sudan - Countrywide Mobility Update 13 (Bi-Weekly).xlsx', sheet_name='MASTER LIST (ADMIN2)', skiprows=2)\n",
    "\n",
    "rename_dict = {\n",
    "    'STATE OF DISPLACEMET': 'adm1_name',\n",
    "    'STATE CODE': 'adm1_pcode',\n",
    "    'LOCALITY OF DISPLACEMENT': 'adm2_name',\n",
    "    'LOCALITY_CODE': 'adm2_pcode',\n",
    "    'LOCALITY_ CODE': 'adm2_pcode',\n",
    "    'HHs': 'affected_idps_hh',\n",
    "    'IDPs': 'affected_idps_ind'\n",
    "}\n",
    "\n",
    "\n",
    "idp_adm1_2024.rename(columns=rename_dict, inplace=True)\n",
    "#idp_adm1_2023.rename(columns=rename_dict, inplace=True)\n",
    "#idp_adm2_2023.rename(columns=rename_dict, inplace=True)\n",
    "#idp_adm2_2024.rename(columns=rename_dict, inplace=True)"
   ]
  },
  {
   "cell_type": "code",
   "execution_count": 763,
   "metadata": {},
   "outputs": [],
   "source": [
    "idp_origin_adm1_2024 = idp_adm1_2024.iloc[1:]\n",
    "#idp_origin_adm1_2023 = idp_adm1_2023.iloc[1:]\n",
    "#idp_origin_adm2_2023 = idp_adm2_2023.iloc[1:]\n",
    "#idp_origin_adm2_2024 = idp_adm2_2024.iloc[1:]"
   ]
  },
  {
   "cell_type": "code",
   "execution_count": 764,
   "metadata": {},
   "outputs": [],
   "source": [
    "idp_origin_adm1_2024.loc[19] = idp_origin_adm1_2024.iloc[:, 2:].sum()\n",
    "idp_origin_adm1_2024\n",
    "idp_origin_adm1_2024.loc[19, 'adm1_name'] = 'Total'"
   ]
  },
  {
   "cell_type": "code",
   "execution_count": 765,
   "metadata": {},
   "outputs": [],
   "source": [
    "state_columns = idp_adm1_2024.columns[4:-2].tolist()\n",
    "idp_adm1_2024_state = idp_origin_adm1_2024.melt(\n",
    "        id_vars=['adm1_name', 'adm1_pcode',  'affected_idps_ind', 'affected_idps_hh'],\n",
    "        value_vars=state_columns,\n",
    "        var_name='state_origin',\n",
    "        value_name='affected_idps_state'\n",
    "    )"
   ]
  },
  {
   "cell_type": "code",
   "execution_count": 766,
   "metadata": {},
   "outputs": [],
   "source": [
    "idp_origin_2024 = idp_adm1_2024_state[idp_adm1_2024_state['adm1_name'] == 'Total']"
   ]
  },
  {
   "cell_type": "markdown",
   "metadata": {},
   "source": [
    "### IPC "
   ]
  },
  {
   "cell_type": "markdown",
   "metadata": {},
   "source": [
    "GeoJson data"
   ]
  },
  {
   "cell_type": "code",
   "execution_count": 767,
   "metadata": {},
   "outputs": [
    {
     "name": "stdout",
     "output_type": "stream",
     "text": [
      "Saved sudan/ipc/ipc_geojson_C_14192889.json\n",
      "Saved sudan/ipc/ipc_geojson_C_18151797.json\n",
      "Current data not available for item 19191589, fetching projections (P)\n",
      "Saved sudan/ipc/ipc_geojson_P_19191589.json\n",
      "Saved sudan/ipc/ipc_geojson_C_24004104.json\n",
      "Saved sudan/ipc/ipc_geojson_C_25857808.json\n",
      "Saved sudan/ipc/ipc_geojson_C_58836462.json\n",
      "Current data not available for item 64768802, fetching projections (P)\n",
      "Failed to fetch data for item 64768802: HTTP 404\n",
      "Saved sudan/ipc/ipc_geojson_C_68887616.json\n",
      "Current data not available for item 74795267, fetching projections (P)\n",
      "Saved sudan/ipc/ipc_geojson_P_74795267.json\n"
     ]
    }
   ],
   "source": [
    "\n",
    "\n",
    "api_key = '3bdbeef9-fc4c-4315-a665-cc56deb11be6'\n",
    "base_url = 'https://api.ipcinfo.org/'\n",
    "\n",
    "# Create directory if it doesn't exist\n",
    "os.makedirs('sudan/ipc', exist_ok=True)\n",
    "\n",
    "# Fetch IPC analyses\n",
    "ipc = requests.get(f'{base_url}analyses?country=SD&type=A&periods=C&key={api_key}').json()\n",
    "\n",
    "for item in ipc:\n",
    "    # Try fetching current data ('C') first\n",
    "    response = requests.get(f\"{base_url}areas/{item['id']}/C?format=geojson&key={api_key}\")\n",
    "    \n",
    "    if response.status_code == 200:\n",
    "        save_name = f\"sudan/ipc/ipc_geojson_C_{item['id']}.json\"\n",
    "    else:\n",
    "        print(f\"Current data not available for item {item['id']}, fetching projections (P)\")\n",
    "        response = requests.get(f\"{base_url}areas/{item['id']}/P?format=geojson&key={api_key}\")\n",
    "        save_name = f\"sudan/ipc/ipc_geojson_P_{item['id']}.json\"\n",
    "    \n",
    "    if response.status_code == 200:\n",
    "        try:\n",
    "            ipc_geojson = response.json()\n",
    "            with open(save_name, 'w') as f:\n",
    "                json.dump(ipc_geojson, f)\n",
    "            print(f\"Saved {save_name}\")\n",
    "        except json.JSONDecodeError as e:\n",
    "            print(f\"Error decoding JSON for item {item['id']}: {e}\")\n",
    "        except Exception as e:\n",
    "            print(f\"Error saving file for item {item['id']}: {e}\")\n",
    "    else:\n",
    "        print(f\"Failed to fetch data for item {item['id']}: HTTP {response.status_code}\")\n"
   ]
  },
  {
   "cell_type": "code",
   "execution_count": 768,
   "metadata": {},
   "outputs": [],
   "source": [
    "#ipc_2024 = requests.get(f\"https://api.ipcinfo.org/areas/68887616/C?format=json&key=\").json()\n",
    "#ipc_2024_proj = requests.get(f\"https://api.ipcinfo.org/areas/68887616/C?format=json&key=\").json()"
   ]
  },
  {
   "cell_type": "markdown",
   "metadata": {},
   "source": [
    "HDX API"
   ]
  },
  {
   "cell_type": "code",
   "execution_count": 769,
   "metadata": {},
   "outputs": [],
   "source": [
    "datasets_ipc = Dataset.read_from_hdx(\"sudan-acute-food-insecurity-country-data\")\n",
    "resources = datasets_ipc.get_resources()\n",
    "\n",
    "ipc_sdn_adm1 = [res for res in resources if res.get('description') == 'All IPC level 1 data in long form with HXL tags']\n",
    "ipc_sdn_adm2 = [res for res in resources if res.get('description') == 'All IPC area data in long form with HXL tags']\n",
    "\n",
    "\n",
    "url1 = ipc_sdn_adm1[0]['alt_url']\n",
    "url2 = ipc_sdn_adm2[0]['alt_url']\n",
    "\n",
    "# Download the file\n",
    "response = requests.get(url1)\n",
    "with open('sudan/ipc_sdn_adm1.csv', 'wb') as f:\n",
    "\tf.write(response.content)\n",
    "\t\n",
    "response = requests.get(url2)\n",
    "with open('sudan/ipc_sdn_adm2.csv', 'wb') as f:\n",
    "\tf.write(response.content)\n",
    "\n"
   ]
  },
  {
   "cell_type": "code",
   "execution_count": 770,
   "metadata": {},
   "outputs": [],
   "source": [
    "ipc_sdn_adm2 = pd.read_csv('sudan/ipc_sdn_adm2.csv')\n",
    "ipc_sdn_adm2 = ipc_sdn_adm2.iloc[1:]\n",
    "ipc_sdn_adm1 = pd.read_csv('sudan/ipc_sdn_adm1.csv')\n",
    "ipc_sdn_adm1 = ipc_sdn_adm1.iloc[1:]"
   ]
  },
  {
   "cell_type": "code",
   "execution_count": 771,
   "metadata": {},
   "outputs": [],
   "source": [
    "ipc_sdn_adm2 = ipc_sdn_adm2[~ipc_sdn_adm2['Area'].str.contains('IDPs')]\n",
    "ipc_sdn_adm2 = ipc_sdn_adm2[~ipc_sdn_adm2['Area'].str.contains('IDP')]\n",
    "ipc_sdn_adm2 = ipc_sdn_adm2[~ipc_sdn_adm2['Area'].str.contains('Refugees')]\n",
    "ipc_sdn_adm2 = ipc_sdn_adm2[~ipc_sdn_adm2['Area'].str.contains('refugees')]\n",
    "\n",
    "ipc_sdn_adm1 = ipc_sdn_adm1[~ipc_sdn_adm1['Level 1'].str.contains('IDPs')]\n",
    "ipc_sdn_adm1 = ipc_sdn_adm1[~ipc_sdn_adm1['Level 1'].str.contains('IDP')]\n",
    "ipc_sdn_adm1 = ipc_sdn_adm1[~ipc_sdn_adm1['Level 1'].str.contains('Refugees')]\n",
    "ipc_sdn_adm1 = ipc_sdn_adm1[~ipc_sdn_adm1['Level 1'].str.contains('refugees')]"
   ]
  },
  {
   "cell_type": "markdown",
   "metadata": {},
   "source": [
    "### ACLED"
   ]
  },
  {
   "cell_type": "code",
   "execution_count": 772,
   "metadata": {},
   "outputs": [],
   "source": [
    "acled = pd.read_csv('sudan/ACLED_2020-01-01-2024-12-31-Sudan.csv')"
   ]
  },
  {
   "cell_type": "code",
   "execution_count": 773,
   "metadata": {},
   "outputs": [],
   "source": [
    "acled = acled[acled['year'] != 2020]\n",
    "acled['event_date'] = pd.to_datetime(acled['event_date'])\n",
    "acled['month_year'] = acled['event_date'].dt.to_period('M')\n",
    "acled['week'] = acled['event_date'].dt.to_period('W').apply(lambda r: r.start_time)"
   ]
  },
  {
   "cell_type": "code",
   "execution_count": 774,
   "metadata": {},
   "outputs": [],
   "source": [
    "#Monthly Data\n",
    "acled_monthly= acled.groupby(['month_year','event_type']).agg({'fatalities':'sum', 'event_date':'count'}).reset_index()\n",
    "\n",
    "#remove riots\n",
    "acled_monthly = acled_monthly[acled_monthly['event_type'] != 'Riots']\n",
    "acled_monthly = acled_monthly[acled_monthly['event_type'] != 'Strategic developments']\n",
    "acled_monthly['event_type'] = acled_monthly['event_type'].replace('Explosions/Remote violence', 'Explosions')\n",
    "\n",
    "acled_monthly.to_csv('sudan/acled_monthly.csv', index=False)\n",
    "acled_monthly['month_year'] = acled_monthly['month_year'].astype(str)\n",
    "\n",
    "#Weekly Data\n",
    "#acled_weekly = acled.groupby(['week', 'event_type']).agg({'fatalities':'sum', 'event_date':'count'}).reset_index()\n",
    "#acled_weekly['week'] = acled_weekly['week'].astype(str)"
   ]
  },
  {
   "cell_type": "code",
   "execution_count": 775,
   "metadata": {},
   "outputs": [
    {
     "data": {
      "text/html": [
       "\n",
       "<style>\n",
       "  #altair-viz-301bca143d8a46ca84374d8643ce24b1.vega-embed {\n",
       "    width: 100%;\n",
       "    display: flex;\n",
       "  }\n",
       "\n",
       "  #altair-viz-301bca143d8a46ca84374d8643ce24b1.vega-embed details,\n",
       "  #altair-viz-301bca143d8a46ca84374d8643ce24b1.vega-embed details summary {\n",
       "    position: relative;\n",
       "  }\n",
       "</style>\n",
       "<div id=\"altair-viz-301bca143d8a46ca84374d8643ce24b1\"></div>\n",
       "<script type=\"text/javascript\">\n",
       "  var VEGA_DEBUG = (typeof VEGA_DEBUG == \"undefined\") ? {} : VEGA_DEBUG;\n",
       "  (function(spec, embedOpt){\n",
       "    let outputDiv = document.currentScript.previousElementSibling;\n",
       "    if (outputDiv.id !== \"altair-viz-301bca143d8a46ca84374d8643ce24b1\") {\n",
       "      outputDiv = document.getElementById(\"altair-viz-301bca143d8a46ca84374d8643ce24b1\");\n",
       "    }\n",
       "    const paths = {\n",
       "      \"vega\": \"https://cdn.jsdelivr.net/npm/vega@5?noext\",\n",
       "      \"vega-lib\": \"https://cdn.jsdelivr.net/npm/vega-lib?noext\",\n",
       "      \"vega-lite\": \"https://cdn.jsdelivr.net/npm/vega-lite@5.20.1?noext\",\n",
       "      \"vega-embed\": \"https://cdn.jsdelivr.net/npm/vega-embed@6?noext\",\n",
       "    };\n",
       "\n",
       "    function maybeLoadScript(lib, version) {\n",
       "      var key = `${lib.replace(\"-\", \"\")}_version`;\n",
       "      return (VEGA_DEBUG[key] == version) ?\n",
       "        Promise.resolve(paths[lib]) :\n",
       "        new Promise(function(resolve, reject) {\n",
       "          var s = document.createElement('script');\n",
       "          document.getElementsByTagName(\"head\")[0].appendChild(s);\n",
       "          s.async = true;\n",
       "          s.onload = () => {\n",
       "            VEGA_DEBUG[key] = version;\n",
       "            return resolve(paths[lib]);\n",
       "          };\n",
       "          s.onerror = () => reject(`Error loading script: ${paths[lib]}`);\n",
       "          s.src = paths[lib];\n",
       "        });\n",
       "    }\n",
       "\n",
       "    function showError(err) {\n",
       "      outputDiv.innerHTML = `<div class=\"error\" style=\"color:red;\">${err}</div>`;\n",
       "      throw err;\n",
       "    }\n",
       "\n",
       "    function displayChart(vegaEmbed) {\n",
       "      vegaEmbed(outputDiv, spec, embedOpt)\n",
       "        .catch(err => showError(`Javascript Error: ${err.message}<br>This usually means there's a typo in your chart specification. See the javascript console for the full traceback.`));\n",
       "    }\n",
       "\n",
       "    if(typeof define === \"function\" && define.amd) {\n",
       "      requirejs.config({paths});\n",
       "      require([\"vega-embed\"], displayChart, err => showError(`Error loading script: ${err.message}`));\n",
       "    } else {\n",
       "      maybeLoadScript(\"vega\", \"5\")\n",
       "        .then(() => maybeLoadScript(\"vega-lite\", \"5.20.1\"))\n",
       "        .then(() => maybeLoadScript(\"vega-embed\", \"6\"))\n",
       "        .catch(showError)\n",
       "        .then(() => displayChart(vegaEmbed));\n",
       "    }\n",
       "  })({\"config\": {\"view\": {\"continuousWidth\": 300, \"continuousHeight\": 300}}, \"layer\": [{\"mark\": {\"type\": \"bar\", \"color\": \"blue\"}, \"encoding\": {\"color\": {\"field\": \"event_type\", \"type\": \"ordinal\"}, \"tooltip\": [{\"field\": \"month_year\", \"type\": \"nominal\"}, {\"field\": \"fatalities\", \"type\": \"quantitative\"}, {\"field\": \"event_type\", \"type\": \"nominal\"}], \"x\": {\"field\": \"month_year\", \"type\": \"ordinal\"}, \"y\": {\"field\": \"event_date\", \"type\": \"quantitative\"}}, \"name\": \"view_19\"}, {\"mark\": {\"type\": \"line\", \"color\": \"red\"}, \"encoding\": {\"color\": {\"field\": \"event_type\", \"type\": \"ordinal\"}, \"tooltip\": [{\"field\": \"month_year\", \"type\": \"nominal\"}, {\"field\": \"fatalities\", \"type\": \"quantitative\"}, {\"field\": \"event_type\", \"type\": \"nominal\"}], \"x\": {\"field\": \"month_year\", \"type\": \"ordinal\"}, \"y\": {\"field\": \"fatalities\", \"type\": \"quantitative\"}}, \"name\": \"view_20\", \"title\": \"Total Fatalities and Incidents by Month\"}], \"data\": {\"name\": \"data-42c8769ea803a6b1de48b1e28a5475c7\"}, \"params\": [{\"name\": \"param_78\", \"select\": {\"type\": \"interval\", \"encodings\": [\"x\", \"y\"]}, \"bind\": \"scales\", \"views\": [\"view_19\"]}, {\"name\": \"param_77\", \"select\": {\"type\": \"interval\", \"encodings\": [\"x\", \"y\"]}, \"bind\": \"scales\", \"views\": [\"view_20\"]}], \"$schema\": \"https://vega.github.io/schema/vega-lite/v5.20.1.json\", \"datasets\": {\"data-42c8769ea803a6b1de48b1e28a5475c7\": [{\"month_year\": \"2021-01\", \"event_type\": \"Battles\", \"fatalities\": 176, \"event_date\": 15}, {\"month_year\": \"2021-01\", \"event_type\": \"Explosions\", \"fatalities\": 0, \"event_date\": 1}, {\"month_year\": \"2021-01\", \"event_type\": \"Protests\", \"fatalities\": 0, \"event_date\": 47}, {\"month_year\": \"2021-01\", \"event_type\": \"Violence against civilians\", \"fatalities\": 117, \"event_date\": 49}, {\"month_year\": \"2021-02\", \"event_type\": \"Battles\", \"fatalities\": 77, \"event_date\": 18}, {\"month_year\": \"2021-02\", \"event_type\": \"Explosions\", \"fatalities\": 4, \"event_date\": 2}, {\"month_year\": \"2021-02\", \"event_type\": \"Protests\", \"fatalities\": 0, \"event_date\": 32}, {\"month_year\": \"2021-02\", \"event_type\": \"Violence against civilians\", \"fatalities\": 25, \"event_date\": 28}, {\"month_year\": \"2021-03\", \"event_type\": \"Battles\", \"fatalities\": 34, \"event_date\": 11}, {\"month_year\": \"2021-03\", \"event_type\": \"Protests\", \"fatalities\": 0, \"event_date\": 48}, {\"month_year\": \"2021-03\", \"event_type\": \"Violence against civilians\", \"fatalities\": 30, \"event_date\": 33}, {\"month_year\": \"2021-04\", \"event_type\": \"Battles\", \"fatalities\": 179, \"event_date\": 22}, {\"month_year\": \"2021-04\", \"event_type\": \"Explosions\", \"fatalities\": 1, \"event_date\": 1}, {\"month_year\": \"2021-04\", \"event_type\": \"Protests\", \"fatalities\": 2, \"event_date\": 44}, {\"month_year\": \"2021-04\", \"event_type\": \"Violence against civilians\", \"fatalities\": 23, \"event_date\": 17}, {\"month_year\": \"2021-05\", \"event_type\": \"Battles\", \"fatalities\": 58, \"event_date\": 20}, {\"month_year\": \"2021-05\", \"event_type\": \"Explosions\", \"fatalities\": 3, \"event_date\": 2}, {\"month_year\": \"2021-05\", \"event_type\": \"Protests\", \"fatalities\": 0, \"event_date\": 23}, {\"month_year\": \"2021-05\", \"event_type\": \"Violence against civilians\", \"fatalities\": 38, \"event_date\": 25}, {\"month_year\": \"2021-06\", \"event_type\": \"Battles\", \"fatalities\": 106, \"event_date\": 21}, {\"month_year\": \"2021-06\", \"event_type\": \"Protests\", \"fatalities\": 1, \"event_date\": 62}, {\"month_year\": \"2021-06\", \"event_type\": \"Violence against civilians\", \"fatalities\": 27, \"event_date\": 34}, {\"month_year\": \"2021-07\", \"event_type\": \"Battles\", \"fatalities\": 121, \"event_date\": 42}, {\"month_year\": \"2021-07\", \"event_type\": \"Protests\", \"fatalities\": 0, \"event_date\": 34}, {\"month_year\": \"2021-07\", \"event_type\": \"Violence against civilians\", \"fatalities\": 53, \"event_date\": 42}, {\"month_year\": \"2021-08\", \"event_type\": \"Battles\", \"fatalities\": 24, \"event_date\": 12}, {\"month_year\": \"2021-08\", \"event_type\": \"Explosions\", \"fatalities\": 4, \"event_date\": 3}, {\"month_year\": \"2021-08\", \"event_type\": \"Protests\", \"fatalities\": 2, \"event_date\": 47}, {\"month_year\": \"2021-08\", \"event_type\": \"Violence against civilians\", \"fatalities\": 36, \"event_date\": 35}, {\"month_year\": \"2021-09\", \"event_type\": \"Battles\", \"fatalities\": 23, \"event_date\": 11}, {\"month_year\": \"2021-09\", \"event_type\": \"Protests\", \"fatalities\": 0, \"event_date\": 60}, {\"month_year\": \"2021-09\", \"event_type\": \"Violence against civilians\", \"fatalities\": 20, \"event_date\": 32}, {\"month_year\": \"2021-10\", \"event_type\": \"Battles\", \"fatalities\": 19, \"event_date\": 7}, {\"month_year\": \"2021-10\", \"event_type\": \"Protests\", \"fatalities\": 16, \"event_date\": 132}, {\"month_year\": \"2021-10\", \"event_type\": \"Violence against civilians\", \"fatalities\": 42, \"event_date\": 28}, {\"month_year\": \"2021-11\", \"event_type\": \"Battles\", \"fatalities\": 118, \"event_date\": 16}, {\"month_year\": \"2021-11\", \"event_type\": \"Protests\", \"fatalities\": 30, \"event_date\": 136}, {\"month_year\": \"2021-11\", \"event_type\": \"Violence against civilians\", \"fatalities\": 36, \"event_date\": 34}, {\"month_year\": \"2021-12\", \"event_type\": \"Battles\", \"fatalities\": 100, \"event_date\": 11}, {\"month_year\": \"2021-12\", \"event_type\": \"Explosions\", \"fatalities\": 1, \"event_date\": 2}, {\"month_year\": \"2021-12\", \"event_type\": \"Protests\", \"fatalities\": 5, \"event_date\": 149}, {\"month_year\": \"2021-12\", \"event_type\": \"Violence against civilians\", \"fatalities\": 78, \"event_date\": 48}, {\"month_year\": \"2022-01\", \"event_type\": \"Battles\", \"fatalities\": 15, \"event_date\": 6}, {\"month_year\": \"2022-01\", \"event_type\": \"Explosions\", \"fatalities\": 0, \"event_date\": 1}, {\"month_year\": \"2022-01\", \"event_type\": \"Protests\", \"fatalities\": 22, \"event_date\": 225}, {\"month_year\": \"2022-01\", \"event_type\": \"Violence against civilians\", \"fatalities\": 28, \"event_date\": 39}, {\"month_year\": \"2022-02\", \"event_type\": \"Battles\", \"fatalities\": 32, \"event_date\": 13}, {\"month_year\": \"2022-02\", \"event_type\": \"Protests\", \"fatalities\": 7, \"event_date\": 149}, {\"month_year\": \"2022-02\", \"event_type\": \"Violence against civilians\", \"fatalities\": 26, \"event_date\": 29}, {\"month_year\": \"2022-03\", \"event_type\": \"Battles\", \"fatalities\": 97, \"event_date\": 21}, {\"month_year\": \"2022-03\", \"event_type\": \"Explosions\", \"fatalities\": 5, \"event_date\": 1}, {\"month_year\": \"2022-03\", \"event_type\": \"Protests\", \"fatalities\": 7, \"event_date\": 195}, {\"month_year\": \"2022-03\", \"event_type\": \"Violence against civilians\", \"fatalities\": 61, \"event_date\": 31}, {\"month_year\": \"2022-04\", \"event_type\": \"Battles\", \"fatalities\": 229, \"event_date\": 15}, {\"month_year\": \"2022-04\", \"event_type\": \"Explosions\", \"fatalities\": 0, \"event_date\": 1}, {\"month_year\": \"2022-04\", \"event_type\": \"Protests\", \"fatalities\": 1, \"event_date\": 156}, {\"month_year\": \"2022-04\", \"event_type\": \"Violence against civilians\", \"fatalities\": 91, \"event_date\": 31}, {\"month_year\": \"2022-05\", \"event_type\": \"Battles\", \"fatalities\": 37, \"event_date\": 20}, {\"month_year\": \"2022-05\", \"event_type\": \"Explosions\", \"fatalities\": 5, \"event_date\": 4}, {\"month_year\": \"2022-05\", \"event_type\": \"Protests\", \"fatalities\": 7, \"event_date\": 141}, {\"month_year\": \"2022-05\", \"event_type\": \"Violence against civilians\", \"fatalities\": 39, \"event_date\": 40}, {\"month_year\": \"2022-06\", \"event_type\": \"Battles\", \"fatalities\": 200, \"event_date\": 36}, {\"month_year\": \"2022-06\", \"event_type\": \"Protests\", \"fatalities\": 16, \"event_date\": 191}, {\"month_year\": \"2022-06\", \"event_type\": \"Violence against civilians\", \"fatalities\": 57, \"event_date\": 38}, {\"month_year\": \"2022-07\", \"event_type\": \"Battles\", \"fatalities\": 193, \"event_date\": 17}, {\"month_year\": \"2022-07\", \"event_type\": \"Explosions\", \"fatalities\": 0, \"event_date\": 1}, {\"month_year\": \"2022-07\", \"event_type\": \"Protests\", \"fatalities\": 2, \"event_date\": 99}, {\"month_year\": \"2022-07\", \"event_type\": \"Violence against civilians\", \"fatalities\": 22, \"event_date\": 50}, {\"month_year\": \"2022-08\", \"event_type\": \"Battles\", \"fatalities\": 51, \"event_date\": 13}, {\"month_year\": \"2022-08\", \"event_type\": \"Explosions\", \"fatalities\": 5, \"event_date\": 2}, {\"month_year\": \"2022-08\", \"event_type\": \"Protests\", \"fatalities\": 3, \"event_date\": 82}, {\"month_year\": \"2022-08\", \"event_type\": \"Violence against civilians\", \"fatalities\": 33, \"event_date\": 28}, {\"month_year\": \"2022-09\", \"event_type\": \"Battles\", \"fatalities\": 45, \"event_date\": 15}, {\"month_year\": \"2022-09\", \"event_type\": \"Explosions\", \"fatalities\": 3, \"event_date\": 1}, {\"month_year\": \"2022-09\", \"event_type\": \"Protests\", \"fatalities\": 0, \"event_date\": 84}, {\"month_year\": \"2022-09\", \"event_type\": \"Violence against civilians\", \"fatalities\": 23, \"event_date\": 35}, {\"month_year\": \"2022-10\", \"event_type\": \"Battles\", \"fatalities\": 375, \"event_date\": 27}, {\"month_year\": \"2022-10\", \"event_type\": \"Explosions\", \"fatalities\": 14, \"event_date\": 1}, {\"month_year\": \"2022-10\", \"event_type\": \"Protests\", \"fatalities\": 7, \"event_date\": 181}, {\"month_year\": \"2022-10\", \"event_type\": \"Violence against civilians\", \"fatalities\": 38, \"event_date\": 36}, {\"month_year\": \"2022-11\", \"event_type\": \"Battles\", \"fatalities\": 112, \"event_date\": 15}, {\"month_year\": \"2022-11\", \"event_type\": \"Explosions\", \"fatalities\": 0, \"event_date\": 1}, {\"month_year\": \"2022-11\", \"event_type\": \"Protests\", \"fatalities\": 2, \"event_date\": 116}, {\"month_year\": \"2022-11\", \"event_type\": \"Violence against civilians\", \"fatalities\": 38, \"event_date\": 53}, {\"month_year\": \"2022-12\", \"event_type\": \"Battles\", \"fatalities\": 76, \"event_date\": 19}, {\"month_year\": \"2022-12\", \"event_type\": \"Explosions\", \"fatalities\": 0, \"event_date\": 3}, {\"month_year\": \"2022-12\", \"event_type\": \"Protests\", \"fatalities\": 0, \"event_date\": 153}, {\"month_year\": \"2022-12\", \"event_type\": \"Violence against civilians\", \"fatalities\": 33, \"event_date\": 42}, {\"month_year\": \"2023-01\", \"event_type\": \"Battles\", \"fatalities\": 14, \"event_date\": 11}, {\"month_year\": \"2023-01\", \"event_type\": \"Protests\", \"fatalities\": 2, \"event_date\": 130}, {\"month_year\": \"2023-01\", \"event_type\": \"Violence against civilians\", \"fatalities\": 48, \"event_date\": 55}, {\"month_year\": \"2023-02\", \"event_type\": \"Battles\", \"fatalities\": 13, \"event_date\": 9}, {\"month_year\": \"2023-02\", \"event_type\": \"Protests\", \"fatalities\": 3, \"event_date\": 94}, {\"month_year\": \"2023-02\", \"event_type\": \"Violence against civilians\", \"fatalities\": 30, \"event_date\": 48}, {\"month_year\": \"2023-03\", \"event_type\": \"Battles\", \"fatalities\": 20, \"event_date\": 12}, {\"month_year\": \"2023-03\", \"event_type\": \"Explosions\", \"fatalities\": 3, \"event_date\": 2}, {\"month_year\": \"2023-03\", \"event_type\": \"Protests\", \"fatalities\": 0, \"event_date\": 95}, {\"month_year\": \"2023-03\", \"event_type\": \"Violence against civilians\", \"fatalities\": 39, \"event_date\": 32}, {\"month_year\": \"2023-04\", \"event_type\": \"Battles\", \"fatalities\": 992, \"event_date\": 246}, {\"month_year\": \"2023-04\", \"event_type\": \"Explosions\", \"fatalities\": 63, \"event_date\": 21}, {\"month_year\": \"2023-04\", \"event_type\": \"Protests\", \"fatalities\": 1, \"event_date\": 93}, {\"month_year\": \"2023-04\", \"event_type\": \"Violence against civilians\", \"fatalities\": 77, \"event_date\": 64}, {\"month_year\": \"2023-05\", \"event_type\": \"Battles\", \"fatalities\": 1365, \"event_date\": 253}, {\"month_year\": \"2023-05\", \"event_type\": \"Explosions\", \"fatalities\": 132, \"event_date\": 24}, {\"month_year\": \"2023-05\", \"event_type\": \"Protests\", \"fatalities\": 0, \"event_date\": 23}, {\"month_year\": \"2023-05\", \"event_type\": \"Violence against civilians\", \"fatalities\": 232, \"event_date\": 115}, {\"month_year\": \"2023-06\", \"event_type\": \"Battles\", \"fatalities\": 1797, \"event_date\": 250}, {\"month_year\": \"2023-06\", \"event_type\": \"Explosions\", \"fatalities\": 100, \"event_date\": 42}, {\"month_year\": \"2023-06\", \"event_type\": \"Protests\", \"fatalities\": 3, \"event_date\": 18}, {\"month_year\": \"2023-06\", \"event_type\": \"Violence against civilians\", \"fatalities\": 489, \"event_date\": 105}, {\"month_year\": \"2023-07\", \"event_type\": \"Battles\", \"fatalities\": 1323, \"event_date\": 363}, {\"month_year\": \"2023-07\", \"event_type\": \"Explosions\", \"fatalities\": 147, \"event_date\": 35}, {\"month_year\": \"2023-07\", \"event_type\": \"Protests\", \"fatalities\": 1, \"event_date\": 21}, {\"month_year\": \"2023-07\", \"event_type\": \"Violence against civilians\", \"fatalities\": 144, \"event_date\": 126}, {\"month_year\": \"2023-08\", \"event_type\": \"Battles\", \"fatalities\": 2267, \"event_date\": 458}, {\"month_year\": \"2023-08\", \"event_type\": \"Explosions\", \"fatalities\": 98, \"event_date\": 97}, {\"month_year\": \"2023-08\", \"event_type\": \"Protests\", \"fatalities\": 0, \"event_date\": 8}, {\"month_year\": \"2023-08\", \"event_type\": \"Violence against civilians\", \"fatalities\": 144, \"event_date\": 101}, {\"month_year\": \"2023-09\", \"event_type\": \"Battles\", \"fatalities\": 1262, \"event_date\": 244}, {\"month_year\": \"2023-09\", \"event_type\": \"Explosions\", \"fatalities\": 378, \"event_date\": 201}, {\"month_year\": \"2023-09\", \"event_type\": \"Protests\", \"fatalities\": 0, \"event_date\": 10}, {\"month_year\": \"2023-09\", \"event_type\": \"Violence against civilians\", \"fatalities\": 88, \"event_date\": 103}, {\"month_year\": \"2023-10\", \"event_type\": \"Battles\", \"fatalities\": 845, \"event_date\": 209}, {\"month_year\": \"2023-10\", \"event_type\": \"Explosions\", \"fatalities\": 485, \"event_date\": 205}, {\"month_year\": \"2023-10\", \"event_type\": \"Protests\", \"fatalities\": 0, \"event_date\": 8}, {\"month_year\": \"2023-10\", \"event_type\": \"Violence against civilians\", \"fatalities\": 56, \"event_date\": 59}, {\"month_year\": \"2023-11\", \"event_type\": \"Battles\", \"fatalities\": 1745, \"event_date\": 183}, {\"month_year\": \"2023-11\", \"event_type\": \"Explosions\", \"fatalities\": 172, \"event_date\": 168}, {\"month_year\": \"2023-11\", \"event_type\": \"Protests\", \"fatalities\": 0, \"event_date\": 12}, {\"month_year\": \"2023-11\", \"event_type\": \"Violence against civilians\", \"fatalities\": 538, \"event_date\": 75}, {\"month_year\": \"2023-12\", \"event_type\": \"Battles\", \"fatalities\": 271, \"event_date\": 189}, {\"month_year\": \"2023-12\", \"event_type\": \"Explosions\", \"fatalities\": 240, \"event_date\": 227}, {\"month_year\": \"2023-12\", \"event_type\": \"Protests\", \"fatalities\": 0, \"event_date\": 22}, {\"month_year\": \"2023-12\", \"event_type\": \"Violence against civilians\", \"fatalities\": 230, \"event_date\": 103}, {\"month_year\": \"2024-01\", \"event_type\": \"Battles\", \"fatalities\": 559, \"event_date\": 217}, {\"month_year\": \"2024-01\", \"event_type\": \"Explosions\", \"fatalities\": 250, \"event_date\": 312}, {\"month_year\": \"2024-01\", \"event_type\": \"Protests\", \"fatalities\": 0, \"event_date\": 10}, {\"month_year\": \"2024-01\", \"event_type\": \"Violence against civilians\", \"fatalities\": 83, \"event_date\": 66}, {\"month_year\": \"2024-02\", \"event_type\": \"Battles\", \"fatalities\": 477, \"event_date\": 188}, {\"month_year\": \"2024-02\", \"event_type\": \"Explosions\", \"fatalities\": 59, \"event_date\": 108}, {\"month_year\": \"2024-02\", \"event_type\": \"Protests\", \"fatalities\": 0, \"event_date\": 5}, {\"month_year\": \"2024-02\", \"event_type\": \"Violence against civilians\", \"fatalities\": 380, \"event_date\": 162}, {\"month_year\": \"2024-03\", \"event_type\": \"Battles\", \"fatalities\": 502, \"event_date\": 145}, {\"month_year\": \"2024-03\", \"event_type\": \"Explosions\", \"fatalities\": 66, \"event_date\": 111}, {\"month_year\": \"2024-03\", \"event_type\": \"Protests\", \"fatalities\": 0, \"event_date\": 6}, {\"month_year\": \"2024-03\", \"event_type\": \"Violence against civilians\", \"fatalities\": 200, \"event_date\": 110}, {\"month_year\": \"2024-04\", \"event_type\": \"Battles\", \"fatalities\": 474, \"event_date\": 153}, {\"month_year\": \"2024-04\", \"event_type\": \"Explosions\", \"fatalities\": 144, \"event_date\": 104}, {\"month_year\": \"2024-04\", \"event_type\": \"Protests\", \"fatalities\": 0, \"event_date\": 6}, {\"month_year\": \"2024-04\", \"event_type\": \"Violence against civilians\", \"fatalities\": 229, \"event_date\": 162}, {\"month_year\": \"2024-05\", \"event_type\": \"Battles\", \"fatalities\": 585, \"event_date\": 123}, {\"month_year\": \"2024-05\", \"event_type\": \"Explosions\", \"fatalities\": 152, \"event_date\": 125}, {\"month_year\": \"2024-05\", \"event_type\": \"Protests\", \"fatalities\": 0, \"event_date\": 8}, {\"month_year\": \"2024-05\", \"event_type\": \"Violence against civilians\", \"fatalities\": 216, \"event_date\": 138}, {\"month_year\": \"2024-06\", \"event_type\": \"Battles\", \"fatalities\": 684, \"event_date\": 139}, {\"month_year\": \"2024-06\", \"event_type\": \"Explosions\", \"fatalities\": 337, \"event_date\": 144}, {\"month_year\": \"2024-06\", \"event_type\": \"Protests\", \"fatalities\": 0, \"event_date\": 4}, {\"month_year\": \"2024-06\", \"event_type\": \"Violence against civilians\", \"fatalities\": 195, \"event_date\": 85}, {\"month_year\": \"2024-07\", \"event_type\": \"Battles\", \"fatalities\": 615, \"event_date\": 156}, {\"month_year\": \"2024-07\", \"event_type\": \"Explosions\", \"fatalities\": 112, \"event_date\": 66}, {\"month_year\": \"2024-07\", \"event_type\": \"Protests\", \"fatalities\": 0, \"event_date\": 1}, {\"month_year\": \"2024-07\", \"event_type\": \"Violence against civilians\", \"fatalities\": 176, \"event_date\": 94}, {\"month_year\": \"2024-08\", \"event_type\": \"Battles\", \"fatalities\": 464, \"event_date\": 92}, {\"month_year\": \"2024-08\", \"event_type\": \"Explosions\", \"fatalities\": 256, \"event_date\": 217}, {\"month_year\": \"2024-08\", \"event_type\": \"Protests\", \"fatalities\": 0, \"event_date\": 11}, {\"month_year\": \"2024-08\", \"event_type\": \"Violence against civilians\", \"fatalities\": 76, \"event_date\": 101}, {\"month_year\": \"2024-09\", \"event_type\": \"Battles\", \"fatalities\": 837, \"event_date\": 179}, {\"month_year\": \"2024-09\", \"event_type\": \"Explosions\", \"fatalities\": 326, \"event_date\": 234}, {\"month_year\": \"2024-09\", \"event_type\": \"Protests\", \"fatalities\": 0, \"event_date\": 5}, {\"month_year\": \"2024-09\", \"event_type\": \"Violence against civilians\", \"fatalities\": 124, \"event_date\": 91}, {\"month_year\": \"2024-10\", \"event_type\": \"Battles\", \"fatalities\": 2129, \"event_date\": 194}, {\"month_year\": \"2024-10\", \"event_type\": \"Explosions\", \"fatalities\": 385, \"event_date\": 191}, {\"month_year\": \"2024-10\", \"event_type\": \"Protests\", \"fatalities\": 0, \"event_date\": 4}, {\"month_year\": \"2024-10\", \"event_type\": \"Violence against civilians\", \"fatalities\": 496, \"event_date\": 236}, {\"month_year\": \"2024-11\", \"event_type\": \"Battles\", \"fatalities\": 702, \"event_date\": 98}, {\"month_year\": \"2024-11\", \"event_type\": \"Explosions\", \"fatalities\": 349, \"event_date\": 154}, {\"month_year\": \"2024-11\", \"event_type\": \"Protests\", \"fatalities\": 0, \"event_date\": 2}, {\"month_year\": \"2024-11\", \"event_type\": \"Violence against civilians\", \"fatalities\": 460, \"event_date\": 147}, {\"month_year\": \"2024-12\", \"event_type\": \"Battles\", \"fatalities\": 574, \"event_date\": 61}, {\"month_year\": \"2024-12\", \"event_type\": \"Explosions\", \"fatalities\": 326, \"event_date\": 86}, {\"month_year\": \"2024-12\", \"event_type\": \"Protests\", \"fatalities\": 1, \"event_date\": 2}, {\"month_year\": \"2024-12\", \"event_type\": \"Violence against civilians\", \"fatalities\": 81, \"event_date\": 41}]}}, {\"mode\": \"vega-lite\"});\n",
       "</script>"
      ],
      "text/plain": [
       "alt.LayerChart(...)"
      ]
     },
     "execution_count": 775,
     "metadata": {},
     "output_type": "execute_result"
    }
   ],
   "source": [
    "# Line plot of total fatalities by month\n",
    "line = alt.Chart(acled_monthly).mark_line(color='red').encode(\n",
    "    x='month_year:O',\n",
    "    y='fatalities:Q',\n",
    "    color='event_type:O',\n",
    "    tooltip=['month_year', 'fatalities', 'event_type']\n",
    ").properties(\n",
    "    title='Total Fatalities and Incidents by Month'\n",
    ").interactive()\n",
    "\n",
    "# Bar chart of total incidents by month\n",
    "bar = alt.Chart(acled_monthly).mark_bar(color='blue').encode(\n",
    "    x='month_year:O',\n",
    "    y='event_date:Q',\n",
    "    color='event_type:O',\n",
    "    tooltip=['month_year', 'fatalities', 'event_type']\n",
    ").interactive()\n",
    "\n",
    "# Combine both charts into one with a single y-axis\n",
    "combined_chart = alt.layer(bar, line)\n",
    "\n",
    "combined_chart\n"
   ]
  },
  {
   "cell_type": "markdown",
   "metadata": {},
   "source": [
    "### COMBINED STUFF"
   ]
  },
  {
   "cell_type": "markdown",
   "metadata": {},
   "source": [
    "### IPC + ACLED"
   ]
  },
  {
   "cell_type": "code",
   "execution_count": 776,
   "metadata": {},
   "outputs": [],
   "source": [
    "acled_admin1 = acled[(acled['month_year'] >= '2023-04') & (acled['month_year'] <= '2024-05')]\n",
    "acled_admin1 = acled_admin1.groupby('admin1').agg({'fatalities': 'sum', 'event_id_cnty': 'count'}).reset_index()\n",
    "acled_admin1.reset_index(drop=True, inplace=True)\n",
    "\n",
    "acled_admin2 = acled[(acled['month_year'] >= '2023-04')& (acled['month_year'] <= '2024-05')]\n",
    "acled_admin2= acled_admin2.groupby('admin2').agg({'fatalities': 'sum', 'event_id_cnty': 'count'}).reset_index()\n",
    "acled_admin2.reset_index(drop=True, inplace=True)"
   ]
  },
  {
   "cell_type": "code",
   "execution_count": 777,
   "metadata": {},
   "outputs": [],
   "source": [
    "# Old Filtering\n",
    "#ipc_sdn_adm2 = ipc_sdn_adm2[(ipc_sdn_adm2['Validity period'] == 'current') & (ipc_sdn_adm2['Date of analysis'].str.contains('2024')) | \n",
    " #                           (ipc_sdn_adm2['Validity period'] == 'current') & (ipc_sdn_adm2['Date of analysis'].str.contains('2023'))]\n",
    "#ipc_sdn_adm2 = ipc_sdn_adm2[ipc_sdn_adm2['Phase'] == '3+']\n",
    "\n",
    "\n",
    "#ipc_sdn_adm1 = ipc_sdn_adm1[(ipc_sdn_adm1['Validity period'] == 'current') & (ipc_sdn_adm1['Date of analysis'].str.contains('2024')) | \n",
    " #                           (ipc_sdn_adm1['Validity period'] == 'current') & (ipc_sdn_adm1['Date of analysis'].str.contains('2023'))]\n",
    "#ipc_sdn_adm1 = ipc_sdn_adm1[ipc_sdn_adm1['Phase'] == '3+']"
   ]
  },
  {
   "cell_type": "code",
   "execution_count": 778,
   "metadata": {},
   "outputs": [],
   "source": [
    "ipc_sdn_adm2_2024 = ipc_sdn_adm2[(ipc_sdn_adm2['Validity period'] == 'current') & (ipc_sdn_adm2['Date of analysis'].str.contains('Apr 2024'))]\n",
    "ipc_sdn_adm2_2024 = ipc_sdn_adm2_2024[ipc_sdn_adm2_2024['Phase']== '3+']\n",
    "\n",
    "#splitting areas\n",
    "ipc_sdn_adm2_2024 = ipc_sdn_adm2_2024.assign(Area=ipc_sdn_adm2_2024['Area'].str.split(r'[,&]')).explode('Area').reset_index(drop=True)\n",
    "ipc_sdn_adm2_2024['Area'] = ipc_sdn_adm2_2024['Area'].str.strip()\n",
    "\n",
    "\n",
    "ipc_sdn_adm1_2024 = ipc_sdn_adm1[(ipc_sdn_adm1['Validity period'] == 'current') & (ipc_sdn_adm1['Date of analysis'].str.contains('Apr 2024'))]\n",
    "ipc_sdn_adm1_2024 = ipc_sdn_adm1_2024[ipc_sdn_adm1_2024['Phase']== '3+']"
   ]
  },
  {
   "cell_type": "code",
   "execution_count": 779,
   "metadata": {},
   "outputs": [
    {
     "name": "stdout",
     "output_type": "stream",
     "text": [
      "Common admin2 values: {'Nitega', 'Khartoum', 'Abu Zabad', 'Wad Bandah', 'Basundah', 'Beliel', 'Um Rawaba', 'Dilling', 'Soudari', 'Wadi Salih', 'Haya', 'Al Qurashi', 'An Nuhud', 'Bendasi', 'Azum', 'Um Dam Haj Ahmed', 'Halfa', 'Al Khiwai', 'Um Bada', 'Bahri', 'Sheikan', 'Karrari', 'Al Idia', 'Kas', 'Delgo', 'Shiaria', 'Kelemando', 'Al Wihda', 'Yassin', 'Bara', 'Rabak', 'Abu Jubayhah', 'Barbar', 'Beida', 'At Tina', 'Nyala Janoub', 'Kereneik', 'Kadugli', 'Tawila', 'Geisan', 'Kebkabiya', 'Nyala Shimal', 'Melit', 'Atbara', 'Talawdi', 'Gereida', 'Babanusa', 'Ghadeer', 'Keilak', 'Abassiya', 'Shendi', 'Mukjar', 'Sawakin', 'Al Dibab', 'Um Dukhun', 'Heiban', 'Tendalti', 'Kubum', 'Um Rimta', 'Sirba', 'Zalingi', 'Kateila', 'Kutum', 'Saraf Omra', 'Dongola', 'Um Dafoug', 'Sinja', 'Al Meiram', 'Delami', 'Adila', 'Mershing', 'Sennar', 'Ghubaish', 'Kulbus', 'Buram', 'Kosti'}\n",
      "Unique to ACLED admin2 values: ['Abu Hamad', 'Sharg Aj Jabal', 'El Roseires', 'Al Fao', 'Dinder', 'Al Lait', 'Um Kadadah', 'Al Kurmuk', 'Al Malha', 'Al Fashaga', 'Al Gitaina', 'Halfa Aj Jadeedah', 'As Suki', 'Madeinat Kassala', 'As Salam/Ar Rawat', 'El Geneina', 'Al Radoum', 'Al Manaqil', 'Omdurman', 'Rashad', 'Al Golid', 'Reifi Shamal Ad Delta', 'Merowe', 'Al Butanah', 'Dar As Salam', 'Ed Al Fursan', 'Ar Rahad', 'Janub Al Jazirah', 'Madeinat Al Gedaref', 'Sharg An Neel', 'Ed Damazine', 'Al Mafaza', 'Abyei', 'Habila', 'Galaa Al Nahal', 'Port Sudan', 'Rehaid Albirdi', 'Reifi Khashm Elgirba', 'El Taweisha', 'Abu Kershola', 'Gebrat Al Sheikh', 'Al Kamlin', 'Reifi Gharb Kassala', 'Ad Diwaim', 'Sharg Al Jazirah', 'El Salam', 'As Sunut', 'Al Fasher', 'Jebel Awlia', 'Wasat Al Gedaref', 'Ad Damar', 'Reifi Kassla', 'Al Hasahisa', 'Al Buram', 'Jebel Moon', 'Al Buhaira', 'Um Durein', 'Al Matama', 'Abu Hujar', 'Ad Duayn', 'Wasat Jabal Marrah', 'Um Algura', 'Al Lagowa', 'Ad Dabbah', 'Gharb Jabal Marrah', 'Al Tadamon', 'Ar Reif Ash Shargi', 'Sunta', 'Al Galabat Al Gharbyah-Kassab', 'Abu Karinka', 'Sharg Sennar', 'Shamal Jabal Marrah', 'Reifi Aroma', 'Al Burgaig', 'Medani Al Kubra', 'Foro Baranga', 'Al Quoz', 'Aj Jabalain']\n",
      "Unique to IPC admin2 values: ['Ad damar', 'Bahr al arab', 'Damso', 'Ad diwaim', 'Dar as salam', \"Jubayt elma'aadin\", 'Tawkar', 'Ar reif ash shargi', 'Al galabat al gharbyah - kassab', 'Kernoi', \"Gala'a al nahal\", 'Al fao', 'Rural River Atbara', 'Galabat ash-shargiah', 'Al butanah', 'Ar Rashad', 'El daein', 'Wasat al gedaref', 'Al Leri', 'Merwoe', 'Al firdous', 'Baw', 'Talkook', 'Madeinat al gedaref', 'At tawisha', 'As sunut', 'Al Leit', 'As salam / ar rawat', 'Rehaid al Birdi', 'Um baru', 'New Halfa', 'As Serief', 'Gharb Bara', 'Al Fula', 'Al quoz', 'Abu hamad', 'Jebel awlia', 'Abu kershola', 'Aj jabalain', 'Hamashkoreib', 'Abu jabrah', 'Ar rusayris', 'Al buhaira', 'Sharg sennar', 'Greater Jabal marrah', 'Al burgaig', 'Gebrat al sheikh', 'Sharg aj Jabal', 'Port sudan', 'Shattaya', 'Ad dabbah', 'Foro baranga', 'Ad dinder', 'Kamlin Janub Al Jazirah', 'Al qureisha', 'UmDurman', 'Ad dali', 'Al Gunub and Awleb', 'At tadamon - sk', 'Habila - wd', \"Hala'ib\", 'As suki', 'Abu hujar', 'Um kadadah', 'Al gitaina', 'Kassala', 'Al malha', 'Al matama', 'Sinkat', 'Al fashaga', 'Rural Aroma', 'Ed al fursan', 'Algura', 'At tadamon - bn', 'Guli', 'E.Jazirah', 'Al radoum', 'Al fasher', 'Al golid', 'Al koma', 'Ar rahad', 'Ed damazine', 'As salam - sd', 'Rural Wad Elhilaiw', 'Tulus', 'Rural  Al-Girba', 'Rural  kassala', 'Al hasahisa', 'Al buram', 'Dordieb', 'As sunta', 'Al mafaza', 'Al kurmuk', 'Al manaqil', 'Wad al mahi', 'Um durein', 'Assalaya', 'Abu karinka', 'North Delta', 'Al Mujlad', 'Rural West Kassala', 'Sharg an neel', 'Jebel moon', 'Ag geneina', 'Al lagowa', 'Habila - sk', 'Agig', 'Medani al kubra']\n"
     ]
    }
   ],
   "source": [
    "# Compare admin2 values in acled_admin2 and admin2Name values in idp_admin2_data\n",
    "acled_admin_values = set(acled_admin2['admin2'])\n",
    "ipc_admin_values = set(ipc_sdn_adm2_2024['Area'])\n",
    "\n",
    "# Find common and unique values\n",
    "common_admin = acled_admin_values.intersection(ipc_admin_values)\n",
    "unique_to_acled = list(acled_admin_values.difference(ipc_admin_values))\n",
    "unique_to_ipc = list(ipc_admin_values.difference(acled_admin_values))\n",
    "\n",
    "print(\"Common admin2 values:\", common_admin)\n",
    "print(\"Unique to ACLED admin2 values:\", unique_to_acled)\n",
    "print(\"Unique to IPC admin2 values:\", unique_to_ipc)"
   ]
  },
  {
   "cell_type": "code",
   "execution_count": 780,
   "metadata": {},
   "outputs": [],
   "source": [
    "# Mapping based on similarity\n",
    "def map_admin2(list1, list2, threshold=80):\n",
    "    mapping = {}\n",
    "    for item in list1:\n",
    "        match, score = process.extractOne(item, list2, scorer=fuzz.ratio)\n",
    "        if score >= threshold:\n",
    "            mapping[item] = match\n",
    "        else:\n",
    "            mapping[item] = None\n",
    "    return mapping\n",
    "\n",
    "mapping_result = map_admin2(unique_to_ipc, unique_to_acled )\n",
    "\n",
    "# Display mapping results\n",
    "#for idp, acled in mapping_result.items():\n",
    "    #print(f\"{idp} -> {acled if acled else 'No match found'}\")\n",
    "\n",
    "#apply mapping to acled_admin2\n",
    "acled_admin2['admin2'] = acled_admin2['admin2'].replace(mapping_result)"
   ]
  },
  {
   "cell_type": "code",
   "execution_count": 781,
   "metadata": {},
   "outputs": [],
   "source": [
    "#Adm 1\n",
    "acled_admin1['admin1'] = acled_admin1['admin1'].replace('Al Jazirah', 'Aj Jazirah')\n",
    "acled_ipc_adm1 = pd.merge(acled_admin1, ipc_sdn_adm1_2024, left_on=['admin1'], right_on=['Level 1'], how='inner')"
   ]
  },
  {
   "cell_type": "code",
   "execution_count": 782,
   "metadata": {},
   "outputs": [],
   "source": [
    "#Adm 2\n",
    "acled_ipc_adm2 = pd.merge(acled_admin2, ipc_sdn_adm2_2024, left_on=['admin2'], right_on=['Area'], how='inner')"
   ]
  },
  {
   "cell_type": "code",
   "execution_count": 783,
   "metadata": {},
   "outputs": [
    {
     "name": "stdout",
     "output_type": "stream",
     "text": [
      "0.6452683691222223\n",
      "0.48353427830695067\n",
      "0.6106016302268746\n",
      "0.6721237302616113\n"
     ]
    }
   ],
   "source": [
    "#correlation between fatalities and Percentage\n",
    "print(acled_ipc_adm1['event_id_cnty'].corr(acled_ipc_adm1['Number']))\n",
    "print(acled_ipc_adm1['fatalities'].corr(acled_ipc_adm1['Number']))\n",
    "print(acled_ipc_adm2['event_id_cnty'].corr(acled_ipc_adm2['Number']))\n",
    "print(acled_ipc_adm2['fatalities'].corr(acled_ipc_adm2['Number']))"
   ]
  },
  {
   "cell_type": "code",
   "execution_count": 784,
   "metadata": {},
   "outputs": [
    {
     "data": {
      "text/html": [
       "\n",
       "<style>\n",
       "  #altair-viz-c890cce835a54034af55f58da79c48f4.vega-embed {\n",
       "    width: 100%;\n",
       "    display: flex;\n",
       "  }\n",
       "\n",
       "  #altair-viz-c890cce835a54034af55f58da79c48f4.vega-embed details,\n",
       "  #altair-viz-c890cce835a54034af55f58da79c48f4.vega-embed details summary {\n",
       "    position: relative;\n",
       "  }\n",
       "</style>\n",
       "<div id=\"altair-viz-c890cce835a54034af55f58da79c48f4\"></div>\n",
       "<script type=\"text/javascript\">\n",
       "  var VEGA_DEBUG = (typeof VEGA_DEBUG == \"undefined\") ? {} : VEGA_DEBUG;\n",
       "  (function(spec, embedOpt){\n",
       "    let outputDiv = document.currentScript.previousElementSibling;\n",
       "    if (outputDiv.id !== \"altair-viz-c890cce835a54034af55f58da79c48f4\") {\n",
       "      outputDiv = document.getElementById(\"altair-viz-c890cce835a54034af55f58da79c48f4\");\n",
       "    }\n",
       "    const paths = {\n",
       "      \"vega\": \"https://cdn.jsdelivr.net/npm/vega@5?noext\",\n",
       "      \"vega-lib\": \"https://cdn.jsdelivr.net/npm/vega-lib?noext\",\n",
       "      \"vega-lite\": \"https://cdn.jsdelivr.net/npm/vega-lite@5.20.1?noext\",\n",
       "      \"vega-embed\": \"https://cdn.jsdelivr.net/npm/vega-embed@6?noext\",\n",
       "    };\n",
       "\n",
       "    function maybeLoadScript(lib, version) {\n",
       "      var key = `${lib.replace(\"-\", \"\")}_version`;\n",
       "      return (VEGA_DEBUG[key] == version) ?\n",
       "        Promise.resolve(paths[lib]) :\n",
       "        new Promise(function(resolve, reject) {\n",
       "          var s = document.createElement('script');\n",
       "          document.getElementsByTagName(\"head\")[0].appendChild(s);\n",
       "          s.async = true;\n",
       "          s.onload = () => {\n",
       "            VEGA_DEBUG[key] = version;\n",
       "            return resolve(paths[lib]);\n",
       "          };\n",
       "          s.onerror = () => reject(`Error loading script: ${paths[lib]}`);\n",
       "          s.src = paths[lib];\n",
       "        });\n",
       "    }\n",
       "\n",
       "    function showError(err) {\n",
       "      outputDiv.innerHTML = `<div class=\"error\" style=\"color:red;\">${err}</div>`;\n",
       "      throw err;\n",
       "    }\n",
       "\n",
       "    function displayChart(vegaEmbed) {\n",
       "      vegaEmbed(outputDiv, spec, embedOpt)\n",
       "        .catch(err => showError(`Javascript Error: ${err.message}<br>This usually means there's a typo in your chart specification. See the javascript console for the full traceback.`));\n",
       "    }\n",
       "\n",
       "    if(typeof define === \"function\" && define.amd) {\n",
       "      requirejs.config({paths});\n",
       "      require([\"vega-embed\"], displayChart, err => showError(`Error loading script: ${err.message}`));\n",
       "    } else {\n",
       "      maybeLoadScript(\"vega\", \"5\")\n",
       "        .then(() => maybeLoadScript(\"vega-lite\", \"5.20.1\"))\n",
       "        .then(() => maybeLoadScript(\"vega-embed\", \"6\"))\n",
       "        .catch(showError)\n",
       "        .then(() => displayChart(vegaEmbed));\n",
       "    }\n",
       "  })({\"config\": {\"view\": {\"continuousWidth\": 300, \"continuousHeight\": 300}}, \"data\": {\"name\": \"data-dc49ec2ebef9afa87c3ad4cbbfb19c3f\"}, \"mark\": {\"type\": \"circle\"}, \"encoding\": {\"color\": {\"field\": \"admin1\", \"type\": \"nominal\"}, \"size\": {\"field\": \"fatalities\", \"scale\": {\"range\": [10, 100]}, \"type\": \"quantitative\"}, \"tooltip\": [{\"field\": \"admin1\", \"type\": \"nominal\"}, {\"field\": \"fatalities\", \"type\": \"quantitative\"}, {\"field\": \"Number\", \"type\": \"nominal\"}], \"x\": {\"field\": \"fatalities\", \"scale\": {\"type\": \"log\"}, \"type\": \"quantitative\"}, \"y\": {\"field\": \"Number\", \"scale\": {\"type\": \"log\"}, \"type\": \"quantitative\"}}, \"params\": [{\"name\": \"param_79\", \"select\": {\"type\": \"interval\", \"encodings\": [\"x\", \"y\"]}, \"bind\": \"scales\"}], \"title\": \"Fatalities vs IPC by Admin1 in Sudan\", \"$schema\": \"https://vega.github.io/schema/vega-lite/v5.20.1.json\", \"datasets\": {\"data-dc49ec2ebef9afa87c3ad4cbbfb19c3f\": [{\"admin1\": \"Aj Jazirah\", \"fatalities\": 1089, \"event_id_cnty\": 891, \"Date of analysis\": \"Apr 2024\", \"Country\": \"SDN\", \"Total country population\": \"47208125\", \"Level 1\": \"Aj Jazirah\", \"Validity period\": \"current\", \"From\": \"2024-04-01\", \"To\": \"2024-05-31\", \"Phase\": \"3+\", \"Number\": \"2853931\", \"Percentage\": \"0.53\"}, {\"admin1\": \"Blue Nile\", \"fatalities\": 54, \"event_id_cnty\": 46, \"Date of analysis\": \"Apr 2024\", \"Country\": \"SDN\", \"Total country population\": \"47208125\", \"Level 1\": \"Blue Nile\", \"Validity period\": \"current\", \"From\": \"2024-04-01\", \"To\": \"2024-05-31\", \"Phase\": \"3+\", \"Number\": \"734784\", \"Percentage\": \"0.5\"}, {\"admin1\": \"Central Darfur\", \"fatalities\": 458, \"event_id_cnty\": 224, \"Date of analysis\": \"Apr 2024\", \"Country\": \"SDN\", \"Total country population\": \"47208125\", \"Level 1\": \"Central Darfur\", \"Validity period\": \"current\", \"From\": \"2024-04-01\", \"To\": \"2024-05-31\", \"Phase\": \"3+\", \"Number\": \"1167817\", \"Percentage\": \"0.58\"}, {\"admin1\": \"East Darfur\", \"fatalities\": 73, \"event_id_cnty\": 67, \"Date of analysis\": \"Apr 2024\", \"Country\": \"SDN\", \"Total country population\": \"47208125\", \"Level 1\": \"East Darfur\", \"Validity period\": \"current\", \"From\": \"2024-04-01\", \"To\": \"2024-05-31\", \"Phase\": \"3+\", \"Number\": \"686566\", \"Percentage\": \"0.39\"}, {\"admin1\": \"Gedaref\", \"fatalities\": 37, \"event_id_cnty\": 101, \"Date of analysis\": \"Apr 2024\", \"Country\": \"SDN\", \"Total country population\": \"47208125\", \"Level 1\": \"Gedaref\", \"Validity period\": \"current\", \"From\": \"2024-04-01\", \"To\": \"2024-05-31\", \"Phase\": \"3+\", \"Number\": \"966142\", \"Percentage\": \"0.31\"}, {\"admin1\": \"Kassala\", \"fatalities\": 2, \"event_id_cnty\": 57, \"Date of analysis\": \"Apr 2024\", \"Country\": \"SDN\", \"Total country population\": \"47208125\", \"Level 1\": \"Kassala\", \"Validity period\": \"current\", \"From\": \"2024-04-01\", \"To\": \"2024-05-31\", \"Phase\": \"3+\", \"Number\": \"1130199\", \"Percentage\": \"0.38\"}, {\"admin1\": \"Khartoum\", \"fatalities\": 7329, \"event_id_cnty\": 4425, \"Date of analysis\": \"Apr 2024\", \"Country\": \"SDN\", \"Total country population\": \"47208125\", \"Level 1\": \"Khartoum\", \"Validity period\": \"current\", \"From\": \"2024-04-01\", \"To\": \"2024-05-31\", \"Phase\": \"3+\", \"Number\": \"2541541\", \"Percentage\": \"0.49\"}, {\"admin1\": \"North Darfur\", \"fatalities\": 1242, \"event_id_cnty\": 578, \"Date of analysis\": \"Apr 2024\", \"Country\": \"SDN\", \"Total country population\": \"47208125\", \"Level 1\": \"North Darfur\", \"Validity period\": \"current\", \"From\": \"2024-04-01\", \"To\": \"2024-05-31\", \"Phase\": \"3+\", \"Number\": \"1438277\", \"Percentage\": \"0.59\"}, {\"admin1\": \"North Kordofan\", \"fatalities\": 1183, \"event_id_cnty\": 357, \"Date of analysis\": \"Apr 2024\", \"Country\": \"SDN\", \"Total country population\": \"47208125\", \"Level 1\": \"North Kordofan\", \"Validity period\": \"current\", \"From\": \"2024-04-01\", \"To\": \"2024-05-31\", \"Phase\": \"3+\", \"Number\": \"981111\", \"Percentage\": \"0.43\"}, {\"admin1\": \"Northern\", \"fatalities\": 45, \"event_id_cnty\": 66, \"Date of analysis\": \"Apr 2024\", \"Country\": \"SDN\", \"Total country population\": \"47208125\", \"Level 1\": \"Northern\", \"Validity period\": \"current\", \"From\": \"2024-04-01\", \"To\": \"2024-05-31\", \"Phase\": \"3+\", \"Number\": \"416243\", \"Percentage\": \"0.29\"}, {\"admin1\": \"Red Sea\", \"fatalities\": 1, \"event_id_cnty\": 79, \"Date of analysis\": \"Apr 2024\", \"Country\": \"SDN\", \"Total country population\": \"47208125\", \"Level 1\": \"Red Sea\", \"Validity period\": \"current\", \"From\": \"2024-04-01\", \"To\": \"2024-05-31\", \"Phase\": \"3+\", \"Number\": \"538962\", \"Percentage\": \"0.3\"}, {\"admin1\": \"River Nile\", \"fatalities\": 56, \"event_id_cnty\": 75, \"Date of analysis\": \"Apr 2024\", \"Country\": \"SDN\", \"Total country population\": \"47208125\", \"Level 1\": \"River Nile\", \"Validity period\": \"current\", \"From\": \"2024-04-01\", \"To\": \"2024-05-31\", \"Phase\": \"3+\", \"Number\": \"621542\", \"Percentage\": \"0.26\"}, {\"admin1\": \"Sennar\", \"fatalities\": 142, \"event_id_cnty\": 80, \"Date of analysis\": \"Apr 2024\", \"Country\": \"SDN\", \"Total country population\": \"47208125\", \"Level 1\": \"Sennar\", \"Validity period\": \"current\", \"From\": \"2024-04-01\", \"To\": \"2024-05-31\", \"Phase\": \"3+\", \"Number\": \"1311693\", \"Percentage\": \"0.49\"}, {\"admin1\": \"South Darfur\", \"fatalities\": 1660, \"event_id_cnty\": 401, \"Date of analysis\": \"Apr 2024\", \"Country\": \"SDN\", \"Total country population\": \"47208125\", \"Level 1\": \"South Darfur\", \"Validity period\": \"current\", \"From\": \"2024-04-01\", \"To\": \"2024-05-31\", \"Phase\": \"3+\", \"Number\": \"2041268\", \"Percentage\": \"0.56\"}, {\"admin1\": \"South Kordofan\", \"fatalities\": 891, \"event_id_cnty\": 278, \"Date of analysis\": \"Apr 2024\", \"Country\": \"SDN\", \"Total country population\": \"47208125\", \"Level 1\": \"South Kordofan\", \"Validity period\": \"current\", \"From\": \"2024-04-01\", \"To\": \"2024-05-31\", \"Phase\": \"3+\", \"Number\": \"1018272\", \"Percentage\": \"0.48\"}, {\"admin1\": \"West Darfur\", \"fatalities\": 4929, \"event_id_cnty\": 318, \"Date of analysis\": \"Apr 2024\", \"Country\": \"SDN\", \"Total country population\": \"47208125\", \"Level 1\": \"West Darfur\", \"Validity period\": \"current\", \"From\": \"2024-04-01\", \"To\": \"2024-05-31\", \"Phase\": \"3+\", \"Number\": \"765187\", \"Percentage\": \"0.59\"}, {\"admin1\": \"West Kordofan\", \"fatalities\": 575, \"event_id_cnty\": 213, \"Date of analysis\": \"Apr 2024\", \"Country\": \"SDN\", \"Total country population\": \"47208125\", \"Level 1\": \"West Kordofan\", \"Validity period\": \"current\", \"From\": \"2024-04-01\", \"To\": \"2024-05-31\", \"Phase\": \"3+\", \"Number\": \"826909\", \"Percentage\": \"0.45\"}, {\"admin1\": \"White Nile\", \"fatalities\": 74, \"event_id_cnty\": 112, \"Date of analysis\": \"Apr 2024\", \"Country\": \"SDN\", \"Total country population\": \"47208125\", \"Level 1\": \"White Nile\", \"Validity period\": \"current\", \"From\": \"2024-04-01\", \"To\": \"2024-05-31\", \"Phase\": \"3+\", \"Number\": \"1271505\", \"Percentage\": \"0.39\"}]}}, {\"mode\": \"vega-lite\"});\n",
       "</script>"
      ],
      "text/plain": [
       "alt.Chart(...)"
      ]
     },
     "execution_count": 784,
     "metadata": {},
     "output_type": "execute_result"
    }
   ],
   "source": [
    "# Create the chart with the selection and regression line\n",
    "chart = alt.Chart(acled_ipc_adm1).mark_circle().encode(\n",
    "    x=alt.X('fatalities:Q', scale=alt.Scale(type='log')),\n",
    "    y=alt.Y('Number:Q', scale=alt.Scale(type='log')),\n",
    "    color='admin1:N',\n",
    "    size=alt.Size('fatalities:Q', scale=alt.Scale(range=[10, 100])),\n",
    "    tooltip=['admin1', 'fatalities', 'Number']\n",
    ").properties(\n",
    "    title='Fatalities vs IPC by Admin1 in Sudan'\n",
    ").interactive()\n",
    "\n",
    "chart"
   ]
  },
  {
   "cell_type": "code",
   "execution_count": 785,
   "metadata": {},
   "outputs": [],
   "source": [
    "#save acled_ipc_adm2 to csv\n",
    "acled_ipc_adm2.to_csv('sudan/acled_ipc_adm2.csv', index=False)"
   ]
  },
  {
   "cell_type": "markdown",
   "metadata": {},
   "source": [
    "### IPC + IDP"
   ]
  },
  {
   "cell_type": "code",
   "execution_count": 787,
   "metadata": {},
   "outputs": [],
   "source": [
    "idp_admin2_2024_may = idp_admin_data[(idp_admin_data['yearReportingDate'] == 2024) & (idp_admin_data['monthReportingDate'] == 5) & (idp_admin_data['operation'] == 'Armed Clashes in Sudan (Overview)') ]\n",
    "idp_admin2_2024_may = idp_admin2_2024_may.dropna(subset=['admin2Name'])\n",
    "\n",
    "idp_admin1_2024_may = idp_admin_data[(idp_admin_data['yearReportingDate'] == 2024) & (idp_admin_data['monthReportingDate'] == 5) & (idp_admin_data['operation'] == 'Armed Clashes in Sudan (Overview)') ]\n",
    "idp_admin1_2024_may = idp_admin1_2024_may.groupby('admin1Name').agg({'numPresentIdpInd':'sum'}).reset_index()"
   ]
  },
  {
   "cell_type": "code",
   "execution_count": 788,
   "metadata": {},
   "outputs": [],
   "source": [
    "ipc_sdn_adm2_2024 = ipc_sdn_adm2[(ipc_sdn_adm2['Validity period'] == 'current') & (ipc_sdn_adm2['Date of analysis'].str.contains('Apr 2024'))]\n",
    "ipc_sdn_adm2_2024 = ipc_sdn_adm2_2024[ipc_sdn_adm2_2024['Phase']== '3+']\n",
    "ipc_sdn_adm2_2024 = ipc_sdn_adm2_2024.assign(Area=ipc_sdn_adm2_2024['Area'].str.split(r'[,&]')).explode('Area').reset_index(drop=True)\n",
    "ipc_sdn_adm2_2024['Area'] = ipc_sdn_adm2_2024['Area'].str.strip()\n",
    "\n",
    "ipc_sdn_adm1_2024 = ipc_sdn_adm1[(ipc_sdn_adm1['Validity period'] == 'current') & (ipc_sdn_adm1['Date of analysis'].str.contains('Apr 2024'))]\n",
    "ipc_sdn_adm1_2024 = ipc_sdn_adm1_2024[ipc_sdn_adm1_2024['Phase']== '3+']"
   ]
  },
  {
   "cell_type": "code",
   "execution_count": 789,
   "metadata": {},
   "outputs": [
    {
     "name": "stdout",
     "output_type": "stream",
     "text": [
      "Common admin2 values: {'Damso', 'Halfa', 'Tawkar', 'Kelemando', 'Al Wihda', 'Yassin', 'Kernoi', 'Barbar', 'Beida', 'At Tina', 'Nyala Janoub', 'Abassiya', 'Ar Rashad', 'Al Leri', 'Merwoe', 'Zalingi', 'Saraf Omra', 'Baw', 'Sennar', 'Kulbus', 'Nitega', 'Khartoum', 'Um Rawaba', 'Beliel', 'Dilling', 'As Serief', 'Azum', 'Gharb Bara', 'Um Dam Haj Ahmed', 'Al Khiwai', 'Bahri', 'Kas', 'Bara', 'Tendalti', 'Kubum', 'Um Rimta', 'Sirba', 'Delami', 'Buram', 'Abu Zabad', 'Soudari', 'Wadi Salih', 'Um Bada', 'Karrari', \"Hala'ib\", 'Kereneik', 'Tawila', 'Kadugli', 'Geisan', 'Melit', 'Ghadeer', 'Babanusa', 'Sawakin', 'Sinkat', 'Dongola', 'Sinja', 'Guli', 'Adila', 'Ghubaish', 'Wad Bandah', 'Kosti', 'Basundah', 'Haya', 'Al Qurashi', 'An Nuhud', 'Bendasi', 'Tulus', 'Sheikan', 'Al Idia', 'Delgo', 'Rabak', 'Abu Jubayhah', 'Dordieb', 'Kebkabiya', 'Nyala Shimal', 'Talawdi', 'Atbara', 'Gereida', 'Keilak', 'Shendi', 'Mukjar', 'Al Dibab', 'Um Dukhun', 'Assalaya', 'Kateila', 'Kutum', 'Um Dafoug', 'Al Meiram', 'Mershing', 'Agig'}\n",
      "Unique to IDP admin2 values: ['At Tadamon - SK', 'Abu Hamad', 'Sharg Aj Jabal', 'Ad Dali', 'Al Fao', 'Al Lait', 'Um Kadadah', 'Al Koma', 'Galabat Ash-Shargiah', 'Al Kurmuk', 'Al Malha', 'Al Fashaga', 'Al Gitaina', 'Halfa Aj Jadeedah', 'Al Ganab', 'As Suki', 'Ag Geneina', 'Madeinat Kassala', 'Al Radoum', 'Al Manaqil', \"Jubayt Elma'aadin\", 'Bahr Al Arab', 'As Sunta', 'Al Golid', 'Al Firdous', 'Ad Dinder', 'Reifi Shamal Ad Delta', 'As Salam / Ar Rawat', 'Al Butanah', 'Dar As Salam', 'Ed Al Fursan', 'Ar Rahad', 'Um Baru', 'Janub Al Jazirah', 'Sharg An Neel', 'Madeinat Al Gedaref', 'Ed Damazine', 'Reifi Hamashkureib', 'Al Qureisha', 'Al Mafaza', 'Port Sudan', 'Abyei', 'Um Durman', 'Rehaid Albirdi', 'Reifi Khashm Elgirba', 'At Tawisha', \"Gala'a Al Nahal\", 'Habila - SK', 'Abu Kershola', 'Gebrat Al Sheikh', 'Al Kamlin', \"Shia'ria\", 'Reifi Gharb Kassala', 'Ad Diwaim', 'Sharg Al Jazirah', 'As Sunut', 'Al Fasher', 'Jebel Awlia', 'As Salam - SD', 'Wasat Al Gedaref', 'Al Galabat Al Gharbyah - Kassab', 'Ad Damar', 'Reifi Kassla', 'Jebel Moon', 'Al Hasahisa', 'As Salam - WK', 'Al Buhaira', \"Ad Du'ayn\", 'Al Matama', 'Abu Hujar', 'Wasat Jabal Marrah', 'Wad Al Mahi', 'Um Algura', 'At Tadamon - BN', 'Al Lagowa', 'Ad Dabbah', 'Habila - WD', 'Ar Rusayris', 'Gharb Jabal Marrah', 'Ar Reif Ash Shargi', 'Abu Jabrah', 'Abu Karinka', 'Sharg Sennar', 'Shamal Jabal Marrah', 'Reifi Telkok', 'Reifi Nahr Atbara', 'Reifi Aroma', 'Al Burgaig', 'Medani Al Kubra', 'Foro Baranga', 'Al Quoz', 'Aj Jabalain']\n",
      "Unique to IPC admin2 values: ['Ad damar', 'Bahr al arab', 'Ad diwaim', 'Dar as salam', \"Jubayt elma'aadin\", 'Ar reif ash shargi', 'Al galabat al gharbyah - kassab', \"Gala'a al nahal\", 'Al fao', 'Rural River Atbara', 'Galabat ash-shargiah', 'Al butanah', 'El daein', 'Wasat al gedaref', 'Al firdous', 'Talkook', 'Madeinat al gedaref', 'At tawisha', 'As sunut', 'Al Leit', 'As salam / ar rawat', 'Rehaid al Birdi', 'Um baru', 'New Halfa', 'Al Fula', 'Al quoz', 'Abu hamad', 'Jebel awlia', 'Abu kershola', 'Aj jabalain', 'Hamashkoreib', 'Abu jabrah', 'Ar rusayris', 'Al buhaira', 'Sharg sennar', 'Greater Jabal marrah', 'Al burgaig', 'Gebrat al sheikh', 'Sharg aj Jabal', 'Port sudan', 'Shattaya', 'Ad dabbah', 'Foro baranga', 'Ad dinder', 'Kamlin Janub Al Jazirah', 'Al qureisha', 'UmDurman', 'Ad dali', 'Al Gunub and Awleb', 'At tadamon - sk', 'Habila - wd', 'As suki', 'Abu hujar', 'Um kadadah', 'Al gitaina', 'Kassala', 'Al malha', 'Al matama', 'Heiban', 'Al fashaga', 'Rural Aroma', 'Ed al fursan', 'Algura', 'At tadamon - bn', 'E.Jazirah', 'Al radoum', 'Al fasher', 'Al golid', 'Al koma', 'Ar rahad', 'Ed damazine', 'As salam - sd', 'Rural Wad Elhilaiw', 'Rural  Al-Girba', 'Rural  kassala', 'Shiaria', 'Al hasahisa', 'Al buram', 'As sunta', 'Al mafaza', 'Al kurmuk', 'Al manaqil', 'Wad al mahi', 'Um durein', 'Abu karinka', 'North Delta', 'Al Mujlad', 'Rural West Kassala', 'Sharg an neel', 'Jebel moon', 'Ag geneina', 'Al lagowa', 'Habila - sk', 'Medani al kubra']\n"
     ]
    }
   ],
   "source": [
    "# Compare admin2 values in idp and admin2Name values in idp_admin2_data\n",
    "idp_admin_values = set(idp_admin2_2024_may['admin2Name'])\n",
    "ipc_admin_values = set(ipc_sdn_adm2_2024['Area'])\n",
    "\n",
    "# Find common and unique values\n",
    "common_admin = idp_admin_values.intersection(ipc_admin_values)\n",
    "unique_to_idp = list(idp_admin_values.difference(ipc_admin_values))\n",
    "unique_to_ipc = list(ipc_admin_values.difference(idp_admin_values))\n",
    "\n",
    "print(\"Common admin2 values:\", common_admin)\n",
    "print(\"Unique to IDP admin2 values:\", unique_to_idp)\n",
    "print(\"Unique to IPC admin2 values:\", unique_to_ipc)"
   ]
  },
  {
   "cell_type": "code",
   "execution_count": 790,
   "metadata": {},
   "outputs": [],
   "source": [
    "# Mapping based on similarity\n",
    "def map_admin2(list1, list2, threshold=80):\n",
    "    mapping = {}\n",
    "    for item in list1:\n",
    "        match, score = process.extractOne(item, list2, scorer=fuzz.ratio)\n",
    "        if score >= threshold:\n",
    "            mapping[item] = match\n",
    "        else:\n",
    "            mapping[item] = None\n",
    "    return mapping\n",
    "\n",
    "mapping_result = map_admin2(unique_to_ipc, unique_to_idp)\n",
    "\n",
    "#apply mapping \n",
    "#idp_admin2_2024_may['admin2Name'] = idp_admin2_2024_may['admin2Name'].replace(mapping_result)"
   ]
  },
  {
   "cell_type": "code",
   "execution_count": 791,
   "metadata": {},
   "outputs": [],
   "source": [
    "#Adm 2\n",
    "idp_ipc_adm2 = pd.merge(idp_admin2_2024_may, ipc_sdn_adm2_2024, left_on=['admin2Name'], right_on=['Area'], how='inner')\n",
    "idp_ipc_adm1 = pd.merge(idp_admin1_2024_may, ipc_sdn_adm1_2024, left_on=['admin1Name'], right_on=['Level 1'], how='inner')"
   ]
  },
  {
   "cell_type": "code",
   "execution_count": 792,
   "metadata": {},
   "outputs": [
    {
     "name": "stdout",
     "output_type": "stream",
     "text": [
      "0.17711988087371816\n"
     ]
    }
   ],
   "source": [
    "#correlation between IDP and IPC 3+\n",
    "print(idp_ipc_adm1['numPresentIdpInd'].corr(idp_ipc_adm1['Number']))"
   ]
  },
  {
   "cell_type": "code",
   "execution_count": 793,
   "metadata": {},
   "outputs": [
    {
     "data": {
      "text/html": [
       "\n",
       "<style>\n",
       "  #altair-viz-ec6c51d476bc4263b6749d3d10cc817e.vega-embed {\n",
       "    width: 100%;\n",
       "    display: flex;\n",
       "  }\n",
       "\n",
       "  #altair-viz-ec6c51d476bc4263b6749d3d10cc817e.vega-embed details,\n",
       "  #altair-viz-ec6c51d476bc4263b6749d3d10cc817e.vega-embed details summary {\n",
       "    position: relative;\n",
       "  }\n",
       "</style>\n",
       "<div id=\"altair-viz-ec6c51d476bc4263b6749d3d10cc817e\"></div>\n",
       "<script type=\"text/javascript\">\n",
       "  var VEGA_DEBUG = (typeof VEGA_DEBUG == \"undefined\") ? {} : VEGA_DEBUG;\n",
       "  (function(spec, embedOpt){\n",
       "    let outputDiv = document.currentScript.previousElementSibling;\n",
       "    if (outputDiv.id !== \"altair-viz-ec6c51d476bc4263b6749d3d10cc817e\") {\n",
       "      outputDiv = document.getElementById(\"altair-viz-ec6c51d476bc4263b6749d3d10cc817e\");\n",
       "    }\n",
       "    const paths = {\n",
       "      \"vega\": \"https://cdn.jsdelivr.net/npm/vega@5?noext\",\n",
       "      \"vega-lib\": \"https://cdn.jsdelivr.net/npm/vega-lib?noext\",\n",
       "      \"vega-lite\": \"https://cdn.jsdelivr.net/npm/vega-lite@5.20.1?noext\",\n",
       "      \"vega-embed\": \"https://cdn.jsdelivr.net/npm/vega-embed@6?noext\",\n",
       "    };\n",
       "\n",
       "    function maybeLoadScript(lib, version) {\n",
       "      var key = `${lib.replace(\"-\", \"\")}_version`;\n",
       "      return (VEGA_DEBUG[key] == version) ?\n",
       "        Promise.resolve(paths[lib]) :\n",
       "        new Promise(function(resolve, reject) {\n",
       "          var s = document.createElement('script');\n",
       "          document.getElementsByTagName(\"head\")[0].appendChild(s);\n",
       "          s.async = true;\n",
       "          s.onload = () => {\n",
       "            VEGA_DEBUG[key] = version;\n",
       "            return resolve(paths[lib]);\n",
       "          };\n",
       "          s.onerror = () => reject(`Error loading script: ${paths[lib]}`);\n",
       "          s.src = paths[lib];\n",
       "        });\n",
       "    }\n",
       "\n",
       "    function showError(err) {\n",
       "      outputDiv.innerHTML = `<div class=\"error\" style=\"color:red;\">${err}</div>`;\n",
       "      throw err;\n",
       "    }\n",
       "\n",
       "    function displayChart(vegaEmbed) {\n",
       "      vegaEmbed(outputDiv, spec, embedOpt)\n",
       "        .catch(err => showError(`Javascript Error: ${err.message}<br>This usually means there's a typo in your chart specification. See the javascript console for the full traceback.`));\n",
       "    }\n",
       "\n",
       "    if(typeof define === \"function\" && define.amd) {\n",
       "      requirejs.config({paths});\n",
       "      require([\"vega-embed\"], displayChart, err => showError(`Error loading script: ${err.message}`));\n",
       "    } else {\n",
       "      maybeLoadScript(\"vega\", \"5\")\n",
       "        .then(() => maybeLoadScript(\"vega-lite\", \"5.20.1\"))\n",
       "        .then(() => maybeLoadScript(\"vega-embed\", \"6\"))\n",
       "        .catch(showError)\n",
       "        .then(() => displayChart(vegaEmbed));\n",
       "    }\n",
       "  })({\"config\": {\"view\": {\"continuousWidth\": 300, \"continuousHeight\": 300}}, \"data\": {\"name\": \"data-b84e28ad291e1adf3b3211e219fc73e0\"}, \"mark\": {\"type\": \"circle\"}, \"encoding\": {\"color\": {\"field\": \"admin1Name\", \"type\": \"nominal\"}, \"size\": {\"field\": \"numPresentIdpInd\", \"scale\": {\"range\": [10, 100]}, \"type\": \"quantitative\"}, \"tooltip\": [{\"field\": \"admin1Name\", \"type\": \"nominal\"}, {\"field\": \"numPresentIdpInd\", \"type\": \"quantitative\"}, {\"field\": \"Number\", \"type\": \"nominal\"}], \"x\": {\"field\": \"numPresentIdpInd\", \"scale\": {\"type\": \"log\"}, \"type\": \"quantitative\"}, \"y\": {\"field\": \"Number\", \"scale\": {\"type\": \"log\"}, \"type\": \"quantitative\"}}, \"params\": [{\"name\": \"param_81\", \"select\": {\"type\": \"interval\", \"encodings\": [\"x\", \"y\"]}, \"bind\": \"scales\"}], \"title\": \"IDP vs IPC by Admin1 in Sudan\", \"$schema\": \"https://vega.github.io/schema/vega-lite/v5.20.1.json\", \"datasets\": {\"data-b84e28ad291e1adf3b3211e219fc73e0\": [{\"admin1Name\": \"Aj Jazirah\", \"numPresentIdpInd\": 370894, \"Date of analysis\": \"Apr 2024\", \"Country\": \"SDN\", \"Total country population\": \"47208125\", \"Level 1\": \"Aj Jazirah\", \"Validity period\": \"current\", \"From\": \"2024-04-01\", \"To\": \"2024-05-31\", \"Phase\": \"3+\", \"Number\": \"2853931\", \"Percentage\": \"0.53\"}, {\"admin1Name\": \"Blue Nile\", \"numPresentIdpInd\": 293862, \"Date of analysis\": \"Apr 2024\", \"Country\": \"SDN\", \"Total country population\": \"47208125\", \"Level 1\": \"Blue Nile\", \"Validity period\": \"current\", \"From\": \"2024-04-01\", \"To\": \"2024-05-31\", \"Phase\": \"3+\", \"Number\": \"734784\", \"Percentage\": \"0.5\"}, {\"admin1Name\": \"Central Darfur\", \"numPresentIdpInd\": 852223, \"Date of analysis\": \"Apr 2024\", \"Country\": \"SDN\", \"Total country population\": \"47208125\", \"Level 1\": \"Central Darfur\", \"Validity period\": \"current\", \"From\": \"2024-04-01\", \"To\": \"2024-05-31\", \"Phase\": \"3+\", \"Number\": \"1167817\", \"Percentage\": \"0.58\"}, {\"admin1Name\": \"East Darfur\", \"numPresentIdpInd\": 757123, \"Date of analysis\": \"Apr 2024\", \"Country\": \"SDN\", \"Total country population\": \"47208125\", \"Level 1\": \"East Darfur\", \"Validity period\": \"current\", \"From\": \"2024-04-01\", \"To\": \"2024-05-31\", \"Phase\": \"3+\", \"Number\": \"686566\", \"Percentage\": \"0.39\"}, {\"admin1Name\": \"Gedaref\", \"numPresentIdpInd\": 539064, \"Date of analysis\": \"Apr 2024\", \"Country\": \"SDN\", \"Total country population\": \"47208125\", \"Level 1\": \"Gedaref\", \"Validity period\": \"current\", \"From\": \"2024-04-01\", \"To\": \"2024-05-31\", \"Phase\": \"3+\", \"Number\": \"966142\", \"Percentage\": \"0.31\"}, {\"admin1Name\": \"Kassala\", \"numPresentIdpInd\": 210393, \"Date of analysis\": \"Apr 2024\", \"Country\": \"SDN\", \"Total country population\": \"47208125\", \"Level 1\": \"Kassala\", \"Validity period\": \"current\", \"From\": \"2024-04-01\", \"To\": \"2024-05-31\", \"Phase\": \"3+\", \"Number\": \"1130199\", \"Percentage\": \"0.38\"}, {\"admin1Name\": \"Khartoum\", \"numPresentIdpInd\": 82592, \"Date of analysis\": \"Apr 2024\", \"Country\": \"SDN\", \"Total country population\": \"47208125\", \"Level 1\": \"Khartoum\", \"Validity period\": \"current\", \"From\": \"2024-04-01\", \"To\": \"2024-05-31\", \"Phase\": \"3+\", \"Number\": \"2541541\", \"Percentage\": \"0.49\"}, {\"admin1Name\": \"North Darfur\", \"numPresentIdpInd\": 1279699, \"Date of analysis\": \"Apr 2024\", \"Country\": \"SDN\", \"Total country population\": \"47208125\", \"Level 1\": \"North Darfur\", \"Validity period\": \"current\", \"From\": \"2024-04-01\", \"To\": \"2024-05-31\", \"Phase\": \"3+\", \"Number\": \"1438277\", \"Percentage\": \"0.59\"}, {\"admin1Name\": \"North Kordofan\", \"numPresentIdpInd\": 194624, \"Date of analysis\": \"Apr 2024\", \"Country\": \"SDN\", \"Total country population\": \"47208125\", \"Level 1\": \"North Kordofan\", \"Validity period\": \"current\", \"From\": \"2024-04-01\", \"To\": \"2024-05-31\", \"Phase\": \"3+\", \"Number\": \"981111\", \"Percentage\": \"0.43\"}, {\"admin1Name\": \"Northern\", \"numPresentIdpInd\": 392399, \"Date of analysis\": \"Apr 2024\", \"Country\": \"SDN\", \"Total country population\": \"47208125\", \"Level 1\": \"Northern\", \"Validity period\": \"current\", \"From\": \"2024-04-01\", \"To\": \"2024-05-31\", \"Phase\": \"3+\", \"Number\": \"416243\", \"Percentage\": \"0.29\"}, {\"admin1Name\": \"Red Sea\", \"numPresentIdpInd\": 261290, \"Date of analysis\": \"Apr 2024\", \"Country\": \"SDN\", \"Total country population\": \"47208125\", \"Level 1\": \"Red Sea\", \"Validity period\": \"current\", \"From\": \"2024-04-01\", \"To\": \"2024-05-31\", \"Phase\": \"3+\", \"Number\": \"538962\", \"Percentage\": \"0.3\"}, {\"admin1Name\": \"River Nile\", \"numPresentIdpInd\": 726216, \"Date of analysis\": \"Apr 2024\", \"Country\": \"SDN\", \"Total country population\": \"47208125\", \"Level 1\": \"River Nile\", \"Validity period\": \"current\", \"From\": \"2024-04-01\", \"To\": \"2024-05-31\", \"Phase\": \"3+\", \"Number\": \"621542\", \"Percentage\": \"0.26\"}, {\"admin1Name\": \"Sennar\", \"numPresentIdpInd\": 579198, \"Date of analysis\": \"Apr 2024\", \"Country\": \"SDN\", \"Total country population\": \"47208125\", \"Level 1\": \"Sennar\", \"Validity period\": \"current\", \"From\": \"2024-04-01\", \"To\": \"2024-05-31\", \"Phase\": \"3+\", \"Number\": \"1311693\", \"Percentage\": \"0.49\"}, {\"admin1Name\": \"South Darfur\", \"numPresentIdpInd\": 1812264, \"Date of analysis\": \"Apr 2024\", \"Country\": \"SDN\", \"Total country population\": \"47208125\", \"Level 1\": \"South Darfur\", \"Validity period\": \"current\", \"From\": \"2024-04-01\", \"To\": \"2024-05-31\", \"Phase\": \"3+\", \"Number\": \"2041268\", \"Percentage\": \"0.56\"}, {\"admin1Name\": \"South Kordofan\", \"numPresentIdpInd\": 429152, \"Date of analysis\": \"Apr 2024\", \"Country\": \"SDN\", \"Total country population\": \"47208125\", \"Level 1\": \"South Kordofan\", \"Validity period\": \"current\", \"From\": \"2024-04-01\", \"To\": \"2024-05-31\", \"Phase\": \"3+\", \"Number\": \"1018272\", \"Percentage\": \"0.48\"}, {\"admin1Name\": \"West Darfur\", \"numPresentIdpInd\": 299387, \"Date of analysis\": \"Apr 2024\", \"Country\": \"SDN\", \"Total country population\": \"47208125\", \"Level 1\": \"West Darfur\", \"Validity period\": \"current\", \"From\": \"2024-04-01\", \"To\": \"2024-05-31\", \"Phase\": \"3+\", \"Number\": \"765187\", \"Percentage\": \"0.59\"}, {\"admin1Name\": \"West Kordofan\", \"numPresentIdpInd\": 300470, \"Date of analysis\": \"Apr 2024\", \"Country\": \"SDN\", \"Total country population\": \"47208125\", \"Level 1\": \"West Kordofan\", \"Validity period\": \"current\", \"From\": \"2024-04-01\", \"To\": \"2024-05-31\", \"Phase\": \"3+\", \"Number\": \"826909\", \"Percentage\": \"0.45\"}, {\"admin1Name\": \"White Nile\", \"numPresentIdpInd\": 576805, \"Date of analysis\": \"Apr 2024\", \"Country\": \"SDN\", \"Total country population\": \"47208125\", \"Level 1\": \"White Nile\", \"Validity period\": \"current\", \"From\": \"2024-04-01\", \"To\": \"2024-05-31\", \"Phase\": \"3+\", \"Number\": \"1271505\", \"Percentage\": \"0.39\"}]}}, {\"mode\": \"vega-lite\"});\n",
       "</script>"
      ],
      "text/plain": [
       "alt.Chart(...)"
      ]
     },
     "execution_count": 793,
     "metadata": {},
     "output_type": "execute_result"
    }
   ],
   "source": [
    "chart = alt.Chart(idp_ipc_adm1).mark_circle().encode(\n",
    "    x=alt.X('numPresentIdpInd:Q', scale=alt.Scale(type='log')),\n",
    "    y=alt.Y('Number:Q', scale=alt.Scale(type='log')),\n",
    "    color='admin1Name:N',\n",
    "    size=alt.Size('numPresentIdpInd:Q', scale=alt.Scale(range=[10, 100])),\n",
    "    tooltip=['admin1Name', 'numPresentIdpInd', 'Number']\n",
    ").properties(\n",
    "    title='IDP vs IPC by Admin1 in Sudan'\n",
    ").interactive()\n",
    "\n",
    "chart"
   ]
  },
  {
   "cell_type": "code",
   "execution_count": 808,
   "metadata": {},
   "outputs": [],
   "source": [
    "acled_idp_ipc_adm2 = pd.merge(acled_ipc_adm2, idp_ipc_adm2, left_on=['Area'], right_on=['Area'], how='outer')\n",
    "\n",
    "acled_idp_ipc_adm2 = acled_idp_ipc_adm2[['Area', 'Level 1_x','fatalities', 'event_id_cnty', 'numPresentIdpInd', 'Number_x']]\n",
    "acled_idp_ipc_adm2.rename(columns={'Number_x':'phase3plus'}, inplace=True)\n",
    "acled_idp_ipc_adm2.rename(columns={'Level 1_x':'Level 1'}, inplace=True)\n",
    "\n",
    "#save as csv\n",
    "acled_idp_ipc_adm2.to_csv('sudan/acled_idp_ipc_adm2.csv', index=False)"
   ]
  },
  {
   "cell_type": "code",
   "execution_count": 795,
   "metadata": {},
   "outputs": [],
   "source": [
    "acled_idp_ipc_adm1 = pd.merge(acled_ipc_adm1, idp_ipc_adm1, left_on=['Level 1'], right_on=['Level 1'], how='outer')\n",
    "acled_idp_ipc_adm1 = pd.merge(acled_idp_ipc_adm1, idp_origin_2024, left_on=['Level 1'], right_on=['state_origin'], how='outer')\n",
    "\n",
    "acled_idp_ipc_adm1 = acled_idp_ipc_adm1[['Level 1', 'fatalities', 'event_id_cnty', 'numPresentIdpInd', 'Number_x', 'affected_idps_state']]\n",
    "acled_idp_ipc_adm1.rename(columns={'Number_x':'phase3plus'}, inplace=True)\n",
    "\n",
    "acled_idp_ipc_adm1.to_csv('sudan/acled_idp_ipc_adm1.csv', index=False)"
   ]
  },
  {
   "cell_type": "code",
   "execution_count": 796,
   "metadata": {},
   "outputs": [
    {
     "data": {
      "text/html": [
       "\n",
       "<style>\n",
       "  #altair-viz-39e8ba03ee43462f86bf2e3239b0b1a6.vega-embed {\n",
       "    width: 100%;\n",
       "    display: flex;\n",
       "  }\n",
       "\n",
       "  #altair-viz-39e8ba03ee43462f86bf2e3239b0b1a6.vega-embed details,\n",
       "  #altair-viz-39e8ba03ee43462f86bf2e3239b0b1a6.vega-embed details summary {\n",
       "    position: relative;\n",
       "  }\n",
       "</style>\n",
       "<div id=\"altair-viz-39e8ba03ee43462f86bf2e3239b0b1a6\"></div>\n",
       "<script type=\"text/javascript\">\n",
       "  var VEGA_DEBUG = (typeof VEGA_DEBUG == \"undefined\") ? {} : VEGA_DEBUG;\n",
       "  (function(spec, embedOpt){\n",
       "    let outputDiv = document.currentScript.previousElementSibling;\n",
       "    if (outputDiv.id !== \"altair-viz-39e8ba03ee43462f86bf2e3239b0b1a6\") {\n",
       "      outputDiv = document.getElementById(\"altair-viz-39e8ba03ee43462f86bf2e3239b0b1a6\");\n",
       "    }\n",
       "    const paths = {\n",
       "      \"vega\": \"https://cdn.jsdelivr.net/npm/vega@5?noext\",\n",
       "      \"vega-lib\": \"https://cdn.jsdelivr.net/npm/vega-lib?noext\",\n",
       "      \"vega-lite\": \"https://cdn.jsdelivr.net/npm/vega-lite@5.20.1?noext\",\n",
       "      \"vega-embed\": \"https://cdn.jsdelivr.net/npm/vega-embed@6?noext\",\n",
       "    };\n",
       "\n",
       "    function maybeLoadScript(lib, version) {\n",
       "      var key = `${lib.replace(\"-\", \"\")}_version`;\n",
       "      return (VEGA_DEBUG[key] == version) ?\n",
       "        Promise.resolve(paths[lib]) :\n",
       "        new Promise(function(resolve, reject) {\n",
       "          var s = document.createElement('script');\n",
       "          document.getElementsByTagName(\"head\")[0].appendChild(s);\n",
       "          s.async = true;\n",
       "          s.onload = () => {\n",
       "            VEGA_DEBUG[key] = version;\n",
       "            return resolve(paths[lib]);\n",
       "          };\n",
       "          s.onerror = () => reject(`Error loading script: ${paths[lib]}`);\n",
       "          s.src = paths[lib];\n",
       "        });\n",
       "    }\n",
       "\n",
       "    function showError(err) {\n",
       "      outputDiv.innerHTML = `<div class=\"error\" style=\"color:red;\">${err}</div>`;\n",
       "      throw err;\n",
       "    }\n",
       "\n",
       "    function displayChart(vegaEmbed) {\n",
       "      vegaEmbed(outputDiv, spec, embedOpt)\n",
       "        .catch(err => showError(`Javascript Error: ${err.message}<br>This usually means there's a typo in your chart specification. See the javascript console for the full traceback.`));\n",
       "    }\n",
       "\n",
       "    if(typeof define === \"function\" && define.amd) {\n",
       "      requirejs.config({paths});\n",
       "      require([\"vega-embed\"], displayChart, err => showError(`Error loading script: ${err.message}`));\n",
       "    } else {\n",
       "      maybeLoadScript(\"vega\", \"5\")\n",
       "        .then(() => maybeLoadScript(\"vega-lite\", \"5.20.1\"))\n",
       "        .then(() => maybeLoadScript(\"vega-embed\", \"6\"))\n",
       "        .catch(showError)\n",
       "        .then(() => displayChart(vegaEmbed));\n",
       "    }\n",
       "  })({\"config\": {\"view\": {\"continuousWidth\": 300, \"continuousHeight\": 300}}, \"data\": {\"name\": \"data-d8da9acf89e4c87c3cf6d41c6febbcf2\"}, \"mark\": {\"type\": \"circle\"}, \"encoding\": {\"size\": {\"field\": \"fatalities\", \"type\": \"quantitative\"}, \"tooltip\": [{\"field\": \"Level 1\", \"type\": \"nominal\"}, {\"field\": \"affected_idps_state\", \"type\": \"quantitative\"}, {\"field\": \"phase3plus\", \"type\": \"nominal\"}], \"x\": {\"field\": \"affected_idps_state\", \"scale\": {\"type\": \"log\"}, \"type\": \"quantitative\"}, \"y\": {\"field\": \"phase3plus\", \"scale\": {\"type\": \"log\"}, \"type\": \"quantitative\"}}, \"params\": [{\"name\": \"param_82\", \"select\": {\"type\": \"interval\", \"encodings\": [\"x\", \"y\"]}, \"bind\": \"scales\"}], \"title\": \"IDP vs IPC by Admin1 in Sudan\", \"$schema\": \"https://vega.github.io/schema/vega-lite/v5.20.1.json\", \"datasets\": {\"data-d8da9acf89e4c87c3cf6d41c6febbcf2\": [{\"Level 1\": \"Aj Jazirah\", \"fatalities\": 1089, \"event_id_cnty\": 891, \"numPresentIdpInd\": 370894, \"phase3plus\": \"2853931\", \"affected_idps_state\": 1133745.0}, {\"Level 1\": \"Blue Nile\", \"fatalities\": 54, \"event_id_cnty\": 46, \"numPresentIdpInd\": 293862, \"phase3plus\": \"734784\", \"affected_idps_state\": 273665.0}, {\"Level 1\": \"Central Darfur\", \"fatalities\": 458, \"event_id_cnty\": 224, \"numPresentIdpInd\": 852223, \"phase3plus\": \"1167817\", \"affected_idps_state\": 746573.0}, {\"Level 1\": \"East Darfur\", \"fatalities\": 73, \"event_id_cnty\": 67, \"numPresentIdpInd\": 757123, \"phase3plus\": \"686566\", \"affected_idps_state\": 247616.0}, {\"Level 1\": \"Gedaref\", \"fatalities\": 37, \"event_id_cnty\": 101, \"numPresentIdpInd\": 539064, \"phase3plus\": \"966142\", \"affected_idps_state\": 14284.0}, {\"Level 1\": \"Kassala\", \"fatalities\": 2, \"event_id_cnty\": 57, \"numPresentIdpInd\": 210393, \"phase3plus\": \"1130199\", \"affected_idps_state\": 6126.0}, {\"Level 1\": \"Khartoum\", \"fatalities\": 7329, \"event_id_cnty\": 4425, \"numPresentIdpInd\": 82592, \"phase3plus\": \"2541541\", \"affected_idps_state\": 3671823.0}, {\"Level 1\": \"North Darfur\", \"fatalities\": 1242, \"event_id_cnty\": 578, \"numPresentIdpInd\": 1279699, \"phase3plus\": \"1438277\", \"affected_idps_state\": 1654189.0}, {\"Level 1\": \"North Kordofan\", \"fatalities\": 1183, \"event_id_cnty\": 357, \"numPresentIdpInd\": 194624, \"phase3plus\": \"981111\", \"affected_idps_state\": 87246.0}, {\"Level 1\": \"Northern\", \"fatalities\": 45, \"event_id_cnty\": 66, \"numPresentIdpInd\": 392399, \"phase3plus\": \"416243\", \"affected_idps_state\": 11962.0}, {\"Level 1\": \"Red Sea\", \"fatalities\": 1, \"event_id_cnty\": 79, \"numPresentIdpInd\": 261290, \"phase3plus\": \"538962\", \"affected_idps_state\": 33043.0}, {\"Level 1\": \"River Nile\", \"fatalities\": 56, \"event_id_cnty\": 75, \"numPresentIdpInd\": 726216, \"phase3plus\": \"621542\", \"affected_idps_state\": 69922.0}, {\"Level 1\": \"Sennar\", \"fatalities\": 142, \"event_id_cnty\": 80, \"numPresentIdpInd\": 579198, \"phase3plus\": \"1311693\", \"affected_idps_state\": 320382.0}, {\"Level 1\": \"South Darfur\", \"fatalities\": 1660, \"event_id_cnty\": 401, \"numPresentIdpInd\": 1812264, \"phase3plus\": \"2041268\", \"affected_idps_state\": 2080427.0}, {\"Level 1\": \"South Kordofan\", \"fatalities\": 891, \"event_id_cnty\": 278, \"numPresentIdpInd\": 429152, \"phase3plus\": \"1018272\", \"affected_idps_state\": 417011.0}, {\"Level 1\": \"West Darfur\", \"fatalities\": 4929, \"event_id_cnty\": 318, \"numPresentIdpInd\": 299387, \"phase3plus\": \"765187\", \"affected_idps_state\": 388757.0}, {\"Level 1\": \"West Kordofan\", \"fatalities\": 575, \"event_id_cnty\": 213, \"numPresentIdpInd\": 300470, \"phase3plus\": \"826909\", \"affected_idps_state\": 312745.0}, {\"Level 1\": \"White Nile\", \"fatalities\": 74, \"event_id_cnty\": 112, \"numPresentIdpInd\": 576805, \"phase3plus\": \"1271505\", \"affected_idps_state\": 63258.0}]}}, {\"mode\": \"vega-lite\"});\n",
       "</script>"
      ],
      "text/plain": [
       "alt.Chart(...)"
      ]
     },
     "execution_count": 796,
     "metadata": {},
     "output_type": "execute_result"
    }
   ],
   "source": [
    "chart = alt.Chart(acled_idp_ipc_adm1).mark_circle().encode(\n",
    "    x=alt.X('affected_idps_state:Q', scale=alt.Scale(type='log')),\n",
    "    y=alt.Y('phase3plus:Q', scale=alt.Scale(type='log')),\n",
    "    size=alt.Size('fatalities:Q'),\n",
    "    tooltip=[ 'Level 1','affected_idps_state', 'phase3plus']\n",
    ").properties(\n",
    "    title='IDP vs IPC by Admin1 in Sudan'\n",
    ").interactive()\n",
    "\n",
    "chart"
   ]
  },
  {
   "cell_type": "code",
   "execution_count": 812,
   "metadata": {},
   "outputs": [
    {
     "data": {
      "text/html": [
       "<div>\n",
       "<style scoped>\n",
       "    .dataframe tbody tr th:only-of-type {\n",
       "        vertical-align: middle;\n",
       "    }\n",
       "\n",
       "    .dataframe tbody tr th {\n",
       "        vertical-align: top;\n",
       "    }\n",
       "\n",
       "    .dataframe thead th {\n",
       "        text-align: right;\n",
       "    }\n",
       "</style>\n",
       "<table border=\"1\" class=\"dataframe\">\n",
       "  <thead>\n",
       "    <tr style=\"text-align: right;\">\n",
       "      <th></th>\n",
       "      <th>Area</th>\n",
       "      <th>Level 1</th>\n",
       "      <th>fatalities</th>\n",
       "      <th>event_id_cnty</th>\n",
       "      <th>numPresentIdpInd</th>\n",
       "      <th>phase3plus</th>\n",
       "    </tr>\n",
       "  </thead>\n",
       "  <tbody>\n",
       "    <tr>\n",
       "      <th>0</th>\n",
       "      <td>Abassiya</td>\n",
       "      <td>South Kordofan</td>\n",
       "      <td>108.0</td>\n",
       "      <td>13.0</td>\n",
       "      <td>56528.0</td>\n",
       "      <td>54287</td>\n",
       "    </tr>\n",
       "    <tr>\n",
       "      <th>1</th>\n",
       "      <td>Abu Jubayhah</td>\n",
       "      <td>South Kordofan</td>\n",
       "      <td>0.0</td>\n",
       "      <td>2.0</td>\n",
       "      <td>56258.0</td>\n",
       "      <td>91277</td>\n",
       "    </tr>\n",
       "    <tr>\n",
       "      <th>2</th>\n",
       "      <td>Abu Zabad</td>\n",
       "      <td>West Kordofan</td>\n",
       "      <td>12.0</td>\n",
       "      <td>10.0</td>\n",
       "      <td>17517.0</td>\n",
       "      <td>151440</td>\n",
       "    </tr>\n",
       "    <tr>\n",
       "      <th>3</th>\n",
       "      <td>Adila</td>\n",
       "      <td>East Darfur</td>\n",
       "      <td>0.0</td>\n",
       "      <td>9.0</td>\n",
       "      <td>53737.0</td>\n",
       "      <td>85845</td>\n",
       "    </tr>\n",
       "    <tr>\n",
       "      <th>4</th>\n",
       "      <td>Al Dibab</td>\n",
       "      <td>West Kordofan</td>\n",
       "      <td>0.0</td>\n",
       "      <td>2.0</td>\n",
       "      <td>21146.0</td>\n",
       "      <td>146748</td>\n",
       "    </tr>\n",
       "    <tr>\n",
       "      <th>...</th>\n",
       "      <td>...</td>\n",
       "      <td>...</td>\n",
       "      <td>...</td>\n",
       "      <td>...</td>\n",
       "      <td>...</td>\n",
       "      <td>...</td>\n",
       "    </tr>\n",
       "    <tr>\n",
       "      <th>87</th>\n",
       "      <td>Al Leri</td>\n",
       "      <td>NaN</td>\n",
       "      <td>NaN</td>\n",
       "      <td>NaN</td>\n",
       "      <td>6641.0</td>\n",
       "      <td>NaN</td>\n",
       "    </tr>\n",
       "    <tr>\n",
       "      <th>88</th>\n",
       "      <td>Ar Rashad</td>\n",
       "      <td>NaN</td>\n",
       "      <td>NaN</td>\n",
       "      <td>NaN</td>\n",
       "      <td>20931.0</td>\n",
       "      <td>NaN</td>\n",
       "    </tr>\n",
       "    <tr>\n",
       "      <th>89</th>\n",
       "      <td>Guli</td>\n",
       "      <td>NaN</td>\n",
       "      <td>NaN</td>\n",
       "      <td>NaN</td>\n",
       "      <td>26634.0</td>\n",
       "      <td>NaN</td>\n",
       "    </tr>\n",
       "    <tr>\n",
       "      <th>90</th>\n",
       "      <td>Baw</td>\n",
       "      <td>NaN</td>\n",
       "      <td>NaN</td>\n",
       "      <td>NaN</td>\n",
       "      <td>50471.0</td>\n",
       "      <td>NaN</td>\n",
       "    </tr>\n",
       "    <tr>\n",
       "      <th>91</th>\n",
       "      <td>Assalaya</td>\n",
       "      <td>NaN</td>\n",
       "      <td>NaN</td>\n",
       "      <td>NaN</td>\n",
       "      <td>25240.0</td>\n",
       "      <td>NaN</td>\n",
       "    </tr>\n",
       "  </tbody>\n",
       "</table>\n",
       "<p>92 rows × 6 columns</p>\n",
       "</div>"
      ],
      "text/plain": [
       "            Area         Level 1  fatalities  event_id_cnty  numPresentIdpInd  \\\n",
       "0       Abassiya  South Kordofan       108.0           13.0           56528.0   \n",
       "1   Abu Jubayhah  South Kordofan         0.0            2.0           56258.0   \n",
       "2      Abu Zabad   West Kordofan        12.0           10.0           17517.0   \n",
       "3          Adila     East Darfur         0.0            9.0           53737.0   \n",
       "4       Al Dibab   West Kordofan         0.0            2.0           21146.0   \n",
       "..           ...             ...         ...            ...               ...   \n",
       "87       Al Leri             NaN         NaN            NaN            6641.0   \n",
       "88     Ar Rashad             NaN         NaN            NaN           20931.0   \n",
       "89          Guli             NaN         NaN            NaN           26634.0   \n",
       "90           Baw             NaN         NaN            NaN           50471.0   \n",
       "91      Assalaya             NaN         NaN            NaN           25240.0   \n",
       "\n",
       "   phase3plus  \n",
       "0       54287  \n",
       "1       91277  \n",
       "2      151440  \n",
       "3       85845  \n",
       "4      146748  \n",
       "..        ...  \n",
       "87        NaN  \n",
       "88        NaN  \n",
       "89        NaN  \n",
       "90        NaN  \n",
       "91        NaN  \n",
       "\n",
       "[92 rows x 6 columns]"
      ]
     },
     "execution_count": 812,
     "metadata": {},
     "output_type": "execute_result"
    }
   ],
   "source": [
    "acled_idp_ipc_adm2"
   ]
  },
  {
   "cell_type": "code",
   "execution_count": 817,
   "metadata": {},
   "outputs": [
    {
     "data": {
      "text/html": [
       "\n",
       "<style>\n",
       "  #altair-viz-b5efe52a6287446b8b4c4d9db7c0545b.vega-embed {\n",
       "    width: 100%;\n",
       "    display: flex;\n",
       "  }\n",
       "\n",
       "  #altair-viz-b5efe52a6287446b8b4c4d9db7c0545b.vega-embed details,\n",
       "  #altair-viz-b5efe52a6287446b8b4c4d9db7c0545b.vega-embed details summary {\n",
       "    position: relative;\n",
       "  }\n",
       "</style>\n",
       "<div id=\"altair-viz-b5efe52a6287446b8b4c4d9db7c0545b\"></div>\n",
       "<script type=\"text/javascript\">\n",
       "  var VEGA_DEBUG = (typeof VEGA_DEBUG == \"undefined\") ? {} : VEGA_DEBUG;\n",
       "  (function(spec, embedOpt){\n",
       "    let outputDiv = document.currentScript.previousElementSibling;\n",
       "    if (outputDiv.id !== \"altair-viz-b5efe52a6287446b8b4c4d9db7c0545b\") {\n",
       "      outputDiv = document.getElementById(\"altair-viz-b5efe52a6287446b8b4c4d9db7c0545b\");\n",
       "    }\n",
       "    const paths = {\n",
       "      \"vega\": \"https://cdn.jsdelivr.net/npm/vega@5?noext\",\n",
       "      \"vega-lib\": \"https://cdn.jsdelivr.net/npm/vega-lib?noext\",\n",
       "      \"vega-lite\": \"https://cdn.jsdelivr.net/npm/vega-lite@5.20.1?noext\",\n",
       "      \"vega-embed\": \"https://cdn.jsdelivr.net/npm/vega-embed@6?noext\",\n",
       "    };\n",
       "\n",
       "    function maybeLoadScript(lib, version) {\n",
       "      var key = `${lib.replace(\"-\", \"\")}_version`;\n",
       "      return (VEGA_DEBUG[key] == version) ?\n",
       "        Promise.resolve(paths[lib]) :\n",
       "        new Promise(function(resolve, reject) {\n",
       "          var s = document.createElement('script');\n",
       "          document.getElementsByTagName(\"head\")[0].appendChild(s);\n",
       "          s.async = true;\n",
       "          s.onload = () => {\n",
       "            VEGA_DEBUG[key] = version;\n",
       "            return resolve(paths[lib]);\n",
       "          };\n",
       "          s.onerror = () => reject(`Error loading script: ${paths[lib]}`);\n",
       "          s.src = paths[lib];\n",
       "        });\n",
       "    }\n",
       "\n",
       "    function showError(err) {\n",
       "      outputDiv.innerHTML = `<div class=\"error\" style=\"color:red;\">${err}</div>`;\n",
       "      throw err;\n",
       "    }\n",
       "\n",
       "    function displayChart(vegaEmbed) {\n",
       "      vegaEmbed(outputDiv, spec, embedOpt)\n",
       "        .catch(err => showError(`Javascript Error: ${err.message}<br>This usually means there's a typo in your chart specification. See the javascript console for the full traceback.`));\n",
       "    }\n",
       "\n",
       "    if(typeof define === \"function\" && define.amd) {\n",
       "      requirejs.config({paths});\n",
       "      require([\"vega-embed\"], displayChart, err => showError(`Error loading script: ${err.message}`));\n",
       "    } else {\n",
       "      maybeLoadScript(\"vega\", \"5\")\n",
       "        .then(() => maybeLoadScript(\"vega-lite\", \"5.20.1\"))\n",
       "        .then(() => maybeLoadScript(\"vega-embed\", \"6\"))\n",
       "        .catch(showError)\n",
       "        .then(() => displayChart(vegaEmbed));\n",
       "    }\n",
       "  })({\"config\": {\"view\": {\"continuousWidth\": 300, \"continuousHeight\": 300}}, \"data\": {\"name\": \"data-d47f62613e840d8b3058fea7d65a4ef7\"}, \"mark\": {\"type\": \"circle\"}, \"encoding\": {\"color\": {\"field\": \"Level 1\", \"legend\": {\"title\": \"Admin 1 Area\"}, \"type\": \"nominal\"}, \"size\": {\"field\": \"fatalities\", \"type\": \"quantitative\"}, \"tooltip\": [{\"field\": \"Area\", \"type\": \"nominal\"}, {\"field\": \"fatalities\", \"type\": \"quantitative\"}, {\"field\": \"phase3plus\", \"type\": \"nominal\"}], \"x\": {\"field\": \"phase3plus\", \"scale\": {\"type\": \"log\"}, \"title\": \"People in IPC Phase 3+ (Log)\", \"type\": \"quantitative\"}, \"y\": {\"field\": \"numPresentIdpInd\", \"scale\": {\"type\": \"log\"}, \"title\": null, \"type\": \"quantitative\"}}, \"params\": [{\"name\": \"param_92\", \"select\": {\"type\": \"interval\", \"encodings\": [\"x\", \"y\"]}, \"bind\": \"scales\"}], \"title\": \"Food Insecurity, IDPs and Conflict in Sudan, Adm 2\", \"$schema\": \"https://vega.github.io/schema/vega-lite/v5.20.1.json\", \"datasets\": {\"data-d47f62613e840d8b3058fea7d65a4ef7\": [{\"Area\": \"Abassiya\", \"Level 1\": \"South Kordofan\", \"fatalities\": 108.0, \"event_id_cnty\": 13.0, \"numPresentIdpInd\": 56528.0, \"phase3plus\": \"54287\"}, {\"Area\": \"Abu Jubayhah\", \"Level 1\": \"South Kordofan\", \"fatalities\": 0.0, \"event_id_cnty\": 2.0, \"numPresentIdpInd\": 56258.0, \"phase3plus\": \"91277\"}, {\"Area\": \"Abu Zabad\", \"Level 1\": \"West Kordofan\", \"fatalities\": 12.0, \"event_id_cnty\": 10.0, \"numPresentIdpInd\": 17517.0, \"phase3plus\": \"151440\"}, {\"Area\": \"Adila\", \"Level 1\": \"East Darfur\", \"fatalities\": 0.0, \"event_id_cnty\": 9.0, \"numPresentIdpInd\": 53737.0, \"phase3plus\": \"85845\"}, {\"Area\": \"Al Dibab\", \"Level 1\": \"West Kordofan\", \"fatalities\": 0.0, \"event_id_cnty\": 2.0, \"numPresentIdpInd\": 21146.0, \"phase3plus\": \"146748\"}, {\"Area\": \"Al Idia\", \"Level 1\": \"West Kordofan\", \"fatalities\": 15.0, \"event_id_cnty\": 14.0, \"numPresentIdpInd\": 57247.0, \"phase3plus\": \"151440\"}, {\"Area\": \"Al Khiwai\", \"Level 1\": \"West Kordofan\", \"fatalities\": 58.0, \"event_id_cnty\": 6.0, \"numPresentIdpInd\": 8069.0, \"phase3plus\": \"174900\"}, {\"Area\": \"Al Meiram\", \"Level 1\": \"West Kordofan\", \"fatalities\": 0.0, \"event_id_cnty\": 2.0, \"numPresentIdpInd\": 8018.0, \"phase3plus\": \"146748\"}, {\"Area\": \"Al Qurashi\", \"Level 1\": \"Aj Jazirah\", \"fatalities\": 17.0, \"event_id_cnty\": 9.0, \"numPresentIdpInd\": 81460.0, \"phase3plus\": \"681606\"}, {\"Area\": \"Al Wihda\", \"Level 1\": \"South Darfur\", \"fatalities\": 1.0, \"event_id_cnty\": 2.0, \"numPresentIdpInd\": 11020.0, \"phase3plus\": \"242549\"}, {\"Area\": \"An Nuhud\", \"Level 1\": \"West Kordofan\", \"fatalities\": 6.0, \"event_id_cnty\": 24.0, \"numPresentIdpInd\": 45809.0, \"phase3plus\": \"134355\"}, {\"Area\": \"At Tina\", \"Level 1\": \"North Darfur\", \"fatalities\": 0.0, \"event_id_cnty\": 3.0, \"numPresentIdpInd\": 5385.0, \"phase3plus\": \"121328\"}, {\"Area\": \"Atbara\", \"Level 1\": \"River Nile\", \"fatalities\": 5.0, \"event_id_cnty\": 19.0, \"numPresentIdpInd\": 169642.0, \"phase3plus\": \"108542\"}, {\"Area\": \"Azum\", \"Level 1\": \"Central Darfur\", \"fatalities\": 9.0, \"event_id_cnty\": 10.0, \"numPresentIdpInd\": 67400.0, \"phase3plus\": \"369837\"}, {\"Area\": \"Babanusa\", \"Level 1\": \"West Kordofan\", \"fatalities\": 307.0, \"event_id_cnty\": 77.0, \"numPresentIdpInd\": 34417.0, \"phase3plus\": \"10020\"}, {\"Area\": \"Bahri\", \"Level 1\": \"Khartoum\", \"fatalities\": 1181.0, \"event_id_cnty\": 744.0, \"numPresentIdpInd\": 18585.0, \"phase3plus\": \"521150\"}, {\"Area\": \"Bara\", \"Level 1\": \"North Kordofan\", \"fatalities\": 60.0, \"event_id_cnty\": 29.0, \"numPresentIdpInd\": 32225.0, \"phase3plus\": \"261498\"}, {\"Area\": \"Barbar\", \"Level 1\": \"River Nile\", \"fatalities\": 0.0, \"event_id_cnty\": 4.0, \"numPresentIdpInd\": 21486.0, \"phase3plus\": \"37186\"}, {\"Area\": \"Basundah\", \"Level 1\": \"Gedaref\", \"fatalities\": 0.0, \"event_id_cnty\": 7.0, \"numPresentIdpInd\": 45765.0, \"phase3plus\": \"42800\"}, {\"Area\": \"Beida\", \"Level 1\": \"West Darfur\", \"fatalities\": 50.0, \"event_id_cnty\": 10.0, \"numPresentIdpInd\": 3105.0, \"phase3plus\": \"16885\"}, {\"Area\": \"Beliel\", \"Level 1\": \"South Darfur\", \"fatalities\": 34.0, \"event_id_cnty\": 15.0, \"numPresentIdpInd\": 483998.0, \"phase3plus\": \"453642\"}, {\"Area\": \"Bendasi\", \"Level 1\": \"Central Darfur\", \"fatalities\": 12.0, \"event_id_cnty\": 5.0, \"numPresentIdpInd\": 28525.0, \"phase3plus\": \"369837\"}, {\"Area\": \"Buram\", \"Level 1\": \"South Darfur\", \"fatalities\": 213.0, \"event_id_cnty\": 29.0, \"numPresentIdpInd\": 195735.0, \"phase3plus\": \"526939\"}, {\"Area\": \"Delami\", \"Level 1\": \"South Kordofan\", \"fatalities\": 72.0, \"event_id_cnty\": 22.0, \"numPresentIdpInd\": 4781.0, \"phase3plus\": \"22663\"}, {\"Area\": \"Delgo\", \"Level 1\": \"Northern\", \"fatalities\": 0.0, \"event_id_cnty\": 3.0, \"numPresentIdpInd\": 40375.0, \"phase3plus\": \"25786\"}, {\"Area\": \"Dilling\", \"Level 1\": \"South Kordofan\", \"fatalities\": 143.0, \"event_id_cnty\": 53.0, \"numPresentIdpInd\": 44297.0, \"phase3plus\": \"108770\"}, {\"Area\": \"Dongola\", \"Level 1\": \"Northern\", \"fatalities\": 1.0, \"event_id_cnty\": 22.0, \"numPresentIdpInd\": 55209.0, \"phase3plus\": \"70031\"}, {\"Area\": \"Geisan\", \"Level 1\": \"Blue Nile\", \"fatalities\": 14.0, \"event_id_cnty\": 2.0, \"numPresentIdpInd\": 32131.0, \"phase3plus\": \"58455\"}, {\"Area\": \"Gereida\", \"Level 1\": \"South Darfur\", \"fatalities\": 16.0, \"event_id_cnty\": 4.0, \"numPresentIdpInd\": 138202.0, \"phase3plus\": \"526939\"}, {\"Area\": \"Ghadeer\", \"Level 1\": \"South Kordofan\", \"fatalities\": 116.0, \"event_id_cnty\": 12.0, \"numPresentIdpInd\": 13458.0, \"phase3plus\": \"38972\"}, {\"Area\": \"Ghubaish\", \"Level 1\": \"West Kordofan\", \"fatalities\": 20.0, \"event_id_cnty\": 9.0, \"numPresentIdpInd\": 14033.0, \"phase3plus\": \"174900\"}, {\"Area\": \"Halfa\", \"Level 1\": \"Northern\", \"fatalities\": 0.0, \"event_id_cnty\": 5.0, \"numPresentIdpInd\": 36341.0, \"phase3plus\": \"28620\"}, {\"Area\": \"Haya\", \"Level 1\": \"Red Sea\", \"fatalities\": 0.0, \"event_id_cnty\": 3.0, \"numPresentIdpInd\": 1955.0, \"phase3plus\": \"99110\"}, {\"Area\": \"Heiban\", \"Level 1\": \"South Kordofan\", \"fatalities\": 3.0, \"event_id_cnty\": 6.0, \"numPresentIdpInd\": null, \"phase3plus\": \"124651\"}, {\"Area\": \"Kadugli\", \"Level 1\": \"South Kordofan\", \"fatalities\": 137.0, \"event_id_cnty\": 64.0, \"numPresentIdpInd\": 85565.0, \"phase3plus\": \"47301\"}, {\"Area\": \"Karrari\", \"Level 1\": \"Khartoum\", \"fatalities\": 1028.0, \"event_id_cnty\": 332.0, \"numPresentIdpInd\": 15431.0, \"phase3plus\": \"936591\"}, {\"Area\": \"Kas\", \"Level 1\": \"South Darfur\", \"fatalities\": 55.0, \"event_id_cnty\": 9.0, \"numPresentIdpInd\": 150048.0, \"phase3plus\": \"198328\"}, {\"Area\": \"Kateila\", \"Level 1\": \"South Darfur\", \"fatalities\": 2.0, \"event_id_cnty\": 1.0, \"numPresentIdpInd\": 40403.0, \"phase3plus\": \"310838\"}, {\"Area\": \"Kebkabiya\", \"Level 1\": \"North Darfur\", \"fatalities\": 37.0, \"event_id_cnty\": 30.0, \"numPresentIdpInd\": 80805.0, \"phase3plus\": \"256748\"}, {\"Area\": \"Keilak\", \"Level 1\": \"West Kordofan\", \"fatalities\": 0.0, \"event_id_cnty\": 2.0, \"numPresentIdpInd\": 13568.0, \"phase3plus\": \"36365\"}, {\"Area\": \"Kelemando\", \"Level 1\": \"North Darfur\", \"fatalities\": 5.0, \"event_id_cnty\": 1.0, \"numPresentIdpInd\": 10887.0, \"phase3plus\": \"128909\"}, {\"Area\": \"Kereneik\", \"Level 1\": \"West Darfur\", \"fatalities\": 94.0, \"event_id_cnty\": 21.0, \"numPresentIdpInd\": 41600.0, \"phase3plus\": \"203436\"}, {\"Area\": \"Khartoum\", \"Level 1\": \"Khartoum\", \"fatalities\": 1775.0, \"event_id_cnty\": 1602.0, \"numPresentIdpInd\": 4085.0, \"phase3plus\": \"1083799\"}, {\"Area\": \"Kosti\", \"Level 1\": \"White Nile\", \"fatalities\": 29.0, \"event_id_cnty\": 28.0, \"numPresentIdpInd\": 135872.0, \"phase3plus\": \"68633\"}, {\"Area\": \"Kubum\", \"Level 1\": \"South Darfur\", \"fatalities\": 240.0, \"event_id_cnty\": 22.0, \"numPresentIdpInd\": 9090.0, \"phase3plus\": \"310838\"}, {\"Area\": \"Kulbus\", \"Level 1\": \"West Darfur\", \"fatalities\": 0.0, \"event_id_cnty\": 2.0, \"numPresentIdpInd\": 44482.0, \"phase3plus\": \"37011\"}, {\"Area\": \"Kutum\", \"Level 1\": \"North Darfur\", \"fatalities\": 190.0, \"event_id_cnty\": 47.0, \"numPresentIdpInd\": 152296.0, \"phase3plus\": \"154935\"}, {\"Area\": \"Melit\", \"Level 1\": \"North Darfur\", \"fatalities\": 33.0, \"event_id_cnty\": 41.0, \"numPresentIdpInd\": 46779.0, \"phase3plus\": \"261912\"}, {\"Area\": \"Mershing\", \"Level 1\": \"South Darfur\", \"fatalities\": 38.0, \"event_id_cnty\": 21.0, \"numPresentIdpInd\": 80145.0, \"phase3plus\": \"242549\"}, {\"Area\": \"Mukjar\", \"Level 1\": \"Central Darfur\", \"fatalities\": 28.0, \"event_id_cnty\": 14.0, \"numPresentIdpInd\": 28355.0, \"phase3plus\": \"169248\"}, {\"Area\": \"Nitega\", \"Level 1\": \"South Darfur\", \"fatalities\": 0.0, \"event_id_cnty\": 1.0, \"numPresentIdpInd\": 28505.0, \"phase3plus\": \"242549\"}, {\"Area\": \"Nyala Janoub\", \"Level 1\": \"South Darfur\", \"fatalities\": 914.0, \"event_id_cnty\": 263.0, \"numPresentIdpInd\": 77827.0, \"phase3plus\": \"453642\"}, {\"Area\": \"Nyala Shimal\", \"Level 1\": \"South Darfur\", \"fatalities\": 6.0, \"event_id_cnty\": 7.0, \"numPresentIdpInd\": 327705.0, \"phase3plus\": \"453642\"}, {\"Area\": \"Rabak\", \"Level 1\": \"White Nile\", \"fatalities\": 1.0, \"event_id_cnty\": 13.0, \"numPresentIdpInd\": 100552.0, \"phase3plus\": \"188600\"}, {\"Area\": \"Saraf Omra\", \"Level 1\": \"North Darfur\", \"fatalities\": 4.0, \"event_id_cnty\": 5.0, \"numPresentIdpInd\": 64697.0, \"phase3plus\": \"256748\"}, {\"Area\": \"Sawakin\", \"Level 1\": \"Red Sea\", \"fatalities\": 0.0, \"event_id_cnty\": 7.0, \"numPresentIdpInd\": 6812.0, \"phase3plus\": \"15004\"}, {\"Area\": \"Sennar\", \"Level 1\": \"Sennar\", \"fatalities\": 123.0, \"event_id_cnty\": 57.0, \"numPresentIdpInd\": 149234.0, \"phase3plus\": \"367729\"}, {\"Area\": \"Sheikan\", \"Level 1\": \"North Kordofan\", \"fatalities\": 747.0, \"event_id_cnty\": 185.0, \"numPresentIdpInd\": 43277.0, \"phase3plus\": \"282220\"}, {\"Area\": \"Shendi\", \"Level 1\": \"River Nile\", \"fatalities\": 40.0, \"event_id_cnty\": 22.0, \"numPresentIdpInd\": 198415.0, \"phase3plus\": \"175313\"}, {\"Area\": \"Shiaria\", \"Level 1\": \"East Darfur\", \"fatalities\": 5.0, \"event_id_cnty\": 1.0, \"numPresentIdpInd\": null, \"phase3plus\": \"78097\"}, {\"Area\": \"Sinja\", \"Level 1\": \"Sennar\", \"fatalities\": 2.0, \"event_id_cnty\": 7.0, \"numPresentIdpInd\": 74037.0, \"phase3plus\": \"147167\"}, {\"Area\": \"Sirba\", \"Level 1\": \"West Darfur\", \"fatalities\": 272.0, \"event_id_cnty\": 28.0, \"numPresentIdpInd\": 26225.0, \"phase3plus\": \"91961\"}, {\"Area\": \"Soudari\", \"Level 1\": \"North Kordofan\", \"fatalities\": 21.0, \"event_id_cnty\": 16.0, \"numPresentIdpInd\": 3968.0, \"phase3plus\": \"192976\"}, {\"Area\": \"Talawdi\", \"Level 1\": \"South Kordofan\", \"fatalities\": 4.0, \"event_id_cnty\": 2.0, \"numPresentIdpInd\": 10407.0, \"phase3plus\": \"38972\"}, {\"Area\": \"Tawila\", \"Level 1\": \"North Darfur\", \"fatalities\": 51.0, \"event_id_cnty\": 22.0, \"numPresentIdpInd\": 170859.0, \"phase3plus\": \"154935\"}, {\"Area\": \"Tendalti\", \"Level 1\": \"White Nile\", \"fatalities\": 0.0, \"event_id_cnty\": 4.0, \"numPresentIdpInd\": 18210.0, \"phase3plus\": \"87112\"}, {\"Area\": \"Um Bada\", \"Level 1\": \"Khartoum\", \"fatalities\": 617.0, \"event_id_cnty\": 220.0, \"numPresentIdpInd\": 8681.0, \"phase3plus\": \"1083799\"}, {\"Area\": \"Um Dafoug\", \"Level 1\": \"South Darfur\", \"fatalities\": 0.0, \"event_id_cnty\": 3.0, \"numPresentIdpInd\": 3835.0, \"phase3plus\": \"308970\"}, {\"Area\": \"Um Dam Haj Ahmed\", \"Level 1\": \"North Kordofan\", \"fatalities\": 39.0, \"event_id_cnty\": 9.0, \"numPresentIdpInd\": 15156.0, \"phase3plus\": \"261498\"}, {\"Area\": \"Um Dukhun\", \"Level 1\": \"Central Darfur\", \"fatalities\": 1.0, \"event_id_cnty\": 5.0, \"numPresentIdpInd\": 62030.0, \"phase3plus\": \"169248\"}, {\"Area\": \"Um Rawaba\", \"Level 1\": \"North Kordofan\", \"fatalities\": 173.0, \"event_id_cnty\": 65.0, \"numPresentIdpInd\": 41916.0, \"phase3plus\": \"236766\"}, {\"Area\": \"Um Rimta\", \"Level 1\": \"White Nile\", \"fatalities\": 9.0, \"event_id_cnty\": 6.0, \"numPresentIdpInd\": 13810.0, \"phase3plus\": \"231568\"}, {\"Area\": \"Wad Bandah\", \"Level 1\": \"West Kordofan\", \"fatalities\": 16.0, \"event_id_cnty\": 2.0, \"numPresentIdpInd\": 6300.0, \"phase3plus\": \"174900\"}, {\"Area\": \"Wadi Salih\", \"Level 1\": \"Central Darfur\", \"fatalities\": 4.0, \"event_id_cnty\": 8.0, \"numPresentIdpInd\": 85963.0, \"phase3plus\": \"369837\"}, {\"Area\": \"Yassin\", \"Level 1\": \"East Darfur\", \"fatalities\": 18.0, \"event_id_cnty\": 5.0, \"numPresentIdpInd\": 78710.0, \"phase3plus\": \"53018\"}, {\"Area\": \"Zalingi\", \"Level 1\": \"Central Darfur\", \"fatalities\": 379.0, \"event_id_cnty\": 153.0, \"numPresentIdpInd\": 208848.0, \"phase3plus\": \"369837\"}, {\"Area\": \"As Serief\", \"Level 1\": null, \"fatalities\": null, \"event_id_cnty\": null, \"numPresentIdpInd\": 11731.0, \"phase3plus\": null}, {\"Area\": \"Kernoi\", \"Level 1\": null, \"fatalities\": null, \"event_id_cnty\": null, \"numPresentIdpInd\": 1580.0, \"phase3plus\": null}, {\"Area\": \"Gharb Bara\", \"Level 1\": null, \"fatalities\": null, \"event_id_cnty\": null, \"numPresentIdpInd\": 8036.0, \"phase3plus\": null}, {\"Area\": \"Dordieb\", \"Level 1\": null, \"fatalities\": null, \"event_id_cnty\": null, \"numPresentIdpInd\": 1455.0, \"phase3plus\": null}, {\"Area\": \"Hala'ib\", \"Level 1\": null, \"fatalities\": null, \"event_id_cnty\": null, \"numPresentIdpInd\": 600.0, \"phase3plus\": null}, {\"Area\": \"Merwoe\", \"Level 1\": null, \"fatalities\": null, \"event_id_cnty\": null, \"numPresentIdpInd\": 77802.0, \"phase3plus\": null}, {\"Area\": \"Agig\", \"Level 1\": null, \"fatalities\": null, \"event_id_cnty\": null, \"numPresentIdpInd\": 210.0, \"phase3plus\": null}, {\"Area\": \"Sinkat\", \"Level 1\": null, \"fatalities\": null, \"event_id_cnty\": null, \"numPresentIdpInd\": 8046.0, \"phase3plus\": null}, {\"Area\": \"Tawkar\", \"Level 1\": null, \"fatalities\": null, \"event_id_cnty\": null, \"numPresentIdpInd\": 2370.0, \"phase3plus\": null}, {\"Area\": \"Damso\", \"Level 1\": null, \"fatalities\": null, \"event_id_cnty\": null, \"numPresentIdpInd\": 7370.0, \"phase3plus\": null}, {\"Area\": \"Tulus\", \"Level 1\": null, \"fatalities\": null, \"event_id_cnty\": null, \"numPresentIdpInd\": 20775.0, \"phase3plus\": null}, {\"Area\": \"Al Leri\", \"Level 1\": null, \"fatalities\": null, \"event_id_cnty\": null, \"numPresentIdpInd\": 6641.0, \"phase3plus\": null}, {\"Area\": \"Ar Rashad\", \"Level 1\": null, \"fatalities\": null, \"event_id_cnty\": null, \"numPresentIdpInd\": 20931.0, \"phase3plus\": null}, {\"Area\": \"Guli\", \"Level 1\": null, \"fatalities\": null, \"event_id_cnty\": null, \"numPresentIdpInd\": 26634.0, \"phase3plus\": null}, {\"Area\": \"Baw\", \"Level 1\": null, \"fatalities\": null, \"event_id_cnty\": null, \"numPresentIdpInd\": 50471.0, \"phase3plus\": null}, {\"Area\": \"Assalaya\", \"Level 1\": null, \"fatalities\": null, \"event_id_cnty\": null, \"numPresentIdpInd\": 25240.0, \"phase3plus\": null}]}}, {\"mode\": \"vega-lite\"});\n",
       "</script>"
      ],
      "text/plain": [
       "alt.Chart(...)"
      ]
     },
     "execution_count": 817,
     "metadata": {},
     "output_type": "execute_result"
    }
   ],
   "source": [
    "# Create the chart with the selection and regression line\n",
    "chart = alt.Chart(acled_idp_ipc_adm2).mark_circle().encode(\n",
    "    x=alt.X('phase3plus:Q', scale=alt.Scale(type='log'), title='People in IPC Phase 3+ (Log)'),\n",
    "    y=alt.Y('numPresentIdpInd:Q', scale=alt.Scale(type='log'), title=None),\n",
    "    color=alt.Color('Level 1:N', legend=alt.Legend(title=\"Admin 1 Area\")),\n",
    "    size=alt.Size('fatalities:Q'),\n",
    "    tooltip=['Area', 'fatalities', 'phase3plus']\n",
    ").properties(\n",
    "    title='Food Insecurity, IDPs and Conflict in Sudan, Adm 2'\n",
    ").interactive()#.to_json()\n",
    "\n",
    "\n",
    "chart"
   ]
  },
  {
   "cell_type": "code",
   "execution_count": 813,
   "metadata": {},
   "outputs": [
    {
     "data": {
      "text/html": [
       "\n",
       "<style>\n",
       "  #altair-viz-f1fb8dd2a64e4d0aae3080c4a89afbdb.vega-embed {\n",
       "    width: 100%;\n",
       "    display: flex;\n",
       "  }\n",
       "\n",
       "  #altair-viz-f1fb8dd2a64e4d0aae3080c4a89afbdb.vega-embed details,\n",
       "  #altair-viz-f1fb8dd2a64e4d0aae3080c4a89afbdb.vega-embed details summary {\n",
       "    position: relative;\n",
       "  }\n",
       "</style>\n",
       "<div id=\"altair-viz-f1fb8dd2a64e4d0aae3080c4a89afbdb\"></div>\n",
       "<script type=\"text/javascript\">\n",
       "  var VEGA_DEBUG = (typeof VEGA_DEBUG == \"undefined\") ? {} : VEGA_DEBUG;\n",
       "  (function(spec, embedOpt){\n",
       "    let outputDiv = document.currentScript.previousElementSibling;\n",
       "    if (outputDiv.id !== \"altair-viz-f1fb8dd2a64e4d0aae3080c4a89afbdb\") {\n",
       "      outputDiv = document.getElementById(\"altair-viz-f1fb8dd2a64e4d0aae3080c4a89afbdb\");\n",
       "    }\n",
       "    const paths = {\n",
       "      \"vega\": \"https://cdn.jsdelivr.net/npm/vega@5?noext\",\n",
       "      \"vega-lib\": \"https://cdn.jsdelivr.net/npm/vega-lib?noext\",\n",
       "      \"vega-lite\": \"https://cdn.jsdelivr.net/npm/vega-lite@5.20.1?noext\",\n",
       "      \"vega-embed\": \"https://cdn.jsdelivr.net/npm/vega-embed@6?noext\",\n",
       "    };\n",
       "\n",
       "    function maybeLoadScript(lib, version) {\n",
       "      var key = `${lib.replace(\"-\", \"\")}_version`;\n",
       "      return (VEGA_DEBUG[key] == version) ?\n",
       "        Promise.resolve(paths[lib]) :\n",
       "        new Promise(function(resolve, reject) {\n",
       "          var s = document.createElement('script');\n",
       "          document.getElementsByTagName(\"head\")[0].appendChild(s);\n",
       "          s.async = true;\n",
       "          s.onload = () => {\n",
       "            VEGA_DEBUG[key] = version;\n",
       "            return resolve(paths[lib]);\n",
       "          };\n",
       "          s.onerror = () => reject(`Error loading script: ${paths[lib]}`);\n",
       "          s.src = paths[lib];\n",
       "        });\n",
       "    }\n",
       "\n",
       "    function showError(err) {\n",
       "      outputDiv.innerHTML = `<div class=\"error\" style=\"color:red;\">${err}</div>`;\n",
       "      throw err;\n",
       "    }\n",
       "\n",
       "    function displayChart(vegaEmbed) {\n",
       "      vegaEmbed(outputDiv, spec, embedOpt)\n",
       "        .catch(err => showError(`Javascript Error: ${err.message}<br>This usually means there's a typo in your chart specification. See the javascript console for the full traceback.`));\n",
       "    }\n",
       "\n",
       "    if(typeof define === \"function\" && define.amd) {\n",
       "      requirejs.config({paths});\n",
       "      require([\"vega-embed\"], displayChart, err => showError(`Error loading script: ${err.message}`));\n",
       "    } else {\n",
       "      maybeLoadScript(\"vega\", \"5\")\n",
       "        .then(() => maybeLoadScript(\"vega-lite\", \"5.20.1\"))\n",
       "        .then(() => maybeLoadScript(\"vega-embed\", \"6\"))\n",
       "        .catch(showError)\n",
       "        .then(() => displayChart(vegaEmbed));\n",
       "    }\n",
       "  })({\"config\": {\"view\": {\"continuousWidth\": 300, \"continuousHeight\": 300}}, \"data\": {\"name\": \"data-d47f62613e840d8b3058fea7d65a4ef7\"}, \"mark\": {\"type\": \"circle\"}, \"encoding\": {\"color\": {\"field\": \"Level 1\", \"legend\": {\"title\": \"Admin 1 Area\"}, \"type\": \"nominal\"}, \"size\": {\"field\": \"fatalities\", \"type\": \"quantitative\"}, \"tooltip\": [{\"field\": \"Area\", \"type\": \"nominal\"}, {\"field\": \"fatalities\", \"type\": \"quantitative\"}, {\"field\": \"phase3plus\", \"type\": \"nominal\"}], \"x\": {\"field\": \"event_id_cnty\", \"scale\": {\"type\": \"log\"}, \"title\": \"Incidents (Log)\", \"type\": \"quantitative\"}, \"y\": {\"field\": \"phase3plus\", \"scale\": {\"type\": \"log\"}, \"title\": \"People in IPC Phase 3+ (Log)\", \"type\": \"quantitative\"}}, \"params\": [{\"name\": \"param_88\", \"select\": {\"type\": \"interval\", \"encodings\": [\"x\", \"y\"]}, \"bind\": \"scales\"}], \"title\": \"Armed Violence and acute food insecurity\", \"$schema\": \"https://vega.github.io/schema/vega-lite/v5.20.1.json\", \"datasets\": {\"data-d47f62613e840d8b3058fea7d65a4ef7\": [{\"Area\": \"Abassiya\", \"Level 1\": \"South Kordofan\", \"fatalities\": 108.0, \"event_id_cnty\": 13.0, \"numPresentIdpInd\": 56528.0, \"phase3plus\": \"54287\"}, {\"Area\": \"Abu Jubayhah\", \"Level 1\": \"South Kordofan\", \"fatalities\": 0.0, \"event_id_cnty\": 2.0, \"numPresentIdpInd\": 56258.0, \"phase3plus\": \"91277\"}, {\"Area\": \"Abu Zabad\", \"Level 1\": \"West Kordofan\", \"fatalities\": 12.0, \"event_id_cnty\": 10.0, \"numPresentIdpInd\": 17517.0, \"phase3plus\": \"151440\"}, {\"Area\": \"Adila\", \"Level 1\": \"East Darfur\", \"fatalities\": 0.0, \"event_id_cnty\": 9.0, \"numPresentIdpInd\": 53737.0, \"phase3plus\": \"85845\"}, {\"Area\": \"Al Dibab\", \"Level 1\": \"West Kordofan\", \"fatalities\": 0.0, \"event_id_cnty\": 2.0, \"numPresentIdpInd\": 21146.0, \"phase3plus\": \"146748\"}, {\"Area\": \"Al Idia\", \"Level 1\": \"West Kordofan\", \"fatalities\": 15.0, \"event_id_cnty\": 14.0, \"numPresentIdpInd\": 57247.0, \"phase3plus\": \"151440\"}, {\"Area\": \"Al Khiwai\", \"Level 1\": \"West Kordofan\", \"fatalities\": 58.0, \"event_id_cnty\": 6.0, \"numPresentIdpInd\": 8069.0, \"phase3plus\": \"174900\"}, {\"Area\": \"Al Meiram\", \"Level 1\": \"West Kordofan\", \"fatalities\": 0.0, \"event_id_cnty\": 2.0, \"numPresentIdpInd\": 8018.0, \"phase3plus\": \"146748\"}, {\"Area\": \"Al Qurashi\", \"Level 1\": \"Aj Jazirah\", \"fatalities\": 17.0, \"event_id_cnty\": 9.0, \"numPresentIdpInd\": 81460.0, \"phase3plus\": \"681606\"}, {\"Area\": \"Al Wihda\", \"Level 1\": \"South Darfur\", \"fatalities\": 1.0, \"event_id_cnty\": 2.0, \"numPresentIdpInd\": 11020.0, \"phase3plus\": \"242549\"}, {\"Area\": \"An Nuhud\", \"Level 1\": \"West Kordofan\", \"fatalities\": 6.0, \"event_id_cnty\": 24.0, \"numPresentIdpInd\": 45809.0, \"phase3plus\": \"134355\"}, {\"Area\": \"At Tina\", \"Level 1\": \"North Darfur\", \"fatalities\": 0.0, \"event_id_cnty\": 3.0, \"numPresentIdpInd\": 5385.0, \"phase3plus\": \"121328\"}, {\"Area\": \"Atbara\", \"Level 1\": \"River Nile\", \"fatalities\": 5.0, \"event_id_cnty\": 19.0, \"numPresentIdpInd\": 169642.0, \"phase3plus\": \"108542\"}, {\"Area\": \"Azum\", \"Level 1\": \"Central Darfur\", \"fatalities\": 9.0, \"event_id_cnty\": 10.0, \"numPresentIdpInd\": 67400.0, \"phase3plus\": \"369837\"}, {\"Area\": \"Babanusa\", \"Level 1\": \"West Kordofan\", \"fatalities\": 307.0, \"event_id_cnty\": 77.0, \"numPresentIdpInd\": 34417.0, \"phase3plus\": \"10020\"}, {\"Area\": \"Bahri\", \"Level 1\": \"Khartoum\", \"fatalities\": 1181.0, \"event_id_cnty\": 744.0, \"numPresentIdpInd\": 18585.0, \"phase3plus\": \"521150\"}, {\"Area\": \"Bara\", \"Level 1\": \"North Kordofan\", \"fatalities\": 60.0, \"event_id_cnty\": 29.0, \"numPresentIdpInd\": 32225.0, \"phase3plus\": \"261498\"}, {\"Area\": \"Barbar\", \"Level 1\": \"River Nile\", \"fatalities\": 0.0, \"event_id_cnty\": 4.0, \"numPresentIdpInd\": 21486.0, \"phase3plus\": \"37186\"}, {\"Area\": \"Basundah\", \"Level 1\": \"Gedaref\", \"fatalities\": 0.0, \"event_id_cnty\": 7.0, \"numPresentIdpInd\": 45765.0, \"phase3plus\": \"42800\"}, {\"Area\": \"Beida\", \"Level 1\": \"West Darfur\", \"fatalities\": 50.0, \"event_id_cnty\": 10.0, \"numPresentIdpInd\": 3105.0, \"phase3plus\": \"16885\"}, {\"Area\": \"Beliel\", \"Level 1\": \"South Darfur\", \"fatalities\": 34.0, \"event_id_cnty\": 15.0, \"numPresentIdpInd\": 483998.0, \"phase3plus\": \"453642\"}, {\"Area\": \"Bendasi\", \"Level 1\": \"Central Darfur\", \"fatalities\": 12.0, \"event_id_cnty\": 5.0, \"numPresentIdpInd\": 28525.0, \"phase3plus\": \"369837\"}, {\"Area\": \"Buram\", \"Level 1\": \"South Darfur\", \"fatalities\": 213.0, \"event_id_cnty\": 29.0, \"numPresentIdpInd\": 195735.0, \"phase3plus\": \"526939\"}, {\"Area\": \"Delami\", \"Level 1\": \"South Kordofan\", \"fatalities\": 72.0, \"event_id_cnty\": 22.0, \"numPresentIdpInd\": 4781.0, \"phase3plus\": \"22663\"}, {\"Area\": \"Delgo\", \"Level 1\": \"Northern\", \"fatalities\": 0.0, \"event_id_cnty\": 3.0, \"numPresentIdpInd\": 40375.0, \"phase3plus\": \"25786\"}, {\"Area\": \"Dilling\", \"Level 1\": \"South Kordofan\", \"fatalities\": 143.0, \"event_id_cnty\": 53.0, \"numPresentIdpInd\": 44297.0, \"phase3plus\": \"108770\"}, {\"Area\": \"Dongola\", \"Level 1\": \"Northern\", \"fatalities\": 1.0, \"event_id_cnty\": 22.0, \"numPresentIdpInd\": 55209.0, \"phase3plus\": \"70031\"}, {\"Area\": \"Geisan\", \"Level 1\": \"Blue Nile\", \"fatalities\": 14.0, \"event_id_cnty\": 2.0, \"numPresentIdpInd\": 32131.0, \"phase3plus\": \"58455\"}, {\"Area\": \"Gereida\", \"Level 1\": \"South Darfur\", \"fatalities\": 16.0, \"event_id_cnty\": 4.0, \"numPresentIdpInd\": 138202.0, \"phase3plus\": \"526939\"}, {\"Area\": \"Ghadeer\", \"Level 1\": \"South Kordofan\", \"fatalities\": 116.0, \"event_id_cnty\": 12.0, \"numPresentIdpInd\": 13458.0, \"phase3plus\": \"38972\"}, {\"Area\": \"Ghubaish\", \"Level 1\": \"West Kordofan\", \"fatalities\": 20.0, \"event_id_cnty\": 9.0, \"numPresentIdpInd\": 14033.0, \"phase3plus\": \"174900\"}, {\"Area\": \"Halfa\", \"Level 1\": \"Northern\", \"fatalities\": 0.0, \"event_id_cnty\": 5.0, \"numPresentIdpInd\": 36341.0, \"phase3plus\": \"28620\"}, {\"Area\": \"Haya\", \"Level 1\": \"Red Sea\", \"fatalities\": 0.0, \"event_id_cnty\": 3.0, \"numPresentIdpInd\": 1955.0, \"phase3plus\": \"99110\"}, {\"Area\": \"Heiban\", \"Level 1\": \"South Kordofan\", \"fatalities\": 3.0, \"event_id_cnty\": 6.0, \"numPresentIdpInd\": null, \"phase3plus\": \"124651\"}, {\"Area\": \"Kadugli\", \"Level 1\": \"South Kordofan\", \"fatalities\": 137.0, \"event_id_cnty\": 64.0, \"numPresentIdpInd\": 85565.0, \"phase3plus\": \"47301\"}, {\"Area\": \"Karrari\", \"Level 1\": \"Khartoum\", \"fatalities\": 1028.0, \"event_id_cnty\": 332.0, \"numPresentIdpInd\": 15431.0, \"phase3plus\": \"936591\"}, {\"Area\": \"Kas\", \"Level 1\": \"South Darfur\", \"fatalities\": 55.0, \"event_id_cnty\": 9.0, \"numPresentIdpInd\": 150048.0, \"phase3plus\": \"198328\"}, {\"Area\": \"Kateila\", \"Level 1\": \"South Darfur\", \"fatalities\": 2.0, \"event_id_cnty\": 1.0, \"numPresentIdpInd\": 40403.0, \"phase3plus\": \"310838\"}, {\"Area\": \"Kebkabiya\", \"Level 1\": \"North Darfur\", \"fatalities\": 37.0, \"event_id_cnty\": 30.0, \"numPresentIdpInd\": 80805.0, \"phase3plus\": \"256748\"}, {\"Area\": \"Keilak\", \"Level 1\": \"West Kordofan\", \"fatalities\": 0.0, \"event_id_cnty\": 2.0, \"numPresentIdpInd\": 13568.0, \"phase3plus\": \"36365\"}, {\"Area\": \"Kelemando\", \"Level 1\": \"North Darfur\", \"fatalities\": 5.0, \"event_id_cnty\": 1.0, \"numPresentIdpInd\": 10887.0, \"phase3plus\": \"128909\"}, {\"Area\": \"Kereneik\", \"Level 1\": \"West Darfur\", \"fatalities\": 94.0, \"event_id_cnty\": 21.0, \"numPresentIdpInd\": 41600.0, \"phase3plus\": \"203436\"}, {\"Area\": \"Khartoum\", \"Level 1\": \"Khartoum\", \"fatalities\": 1775.0, \"event_id_cnty\": 1602.0, \"numPresentIdpInd\": 4085.0, \"phase3plus\": \"1083799\"}, {\"Area\": \"Kosti\", \"Level 1\": \"White Nile\", \"fatalities\": 29.0, \"event_id_cnty\": 28.0, \"numPresentIdpInd\": 135872.0, \"phase3plus\": \"68633\"}, {\"Area\": \"Kubum\", \"Level 1\": \"South Darfur\", \"fatalities\": 240.0, \"event_id_cnty\": 22.0, \"numPresentIdpInd\": 9090.0, \"phase3plus\": \"310838\"}, {\"Area\": \"Kulbus\", \"Level 1\": \"West Darfur\", \"fatalities\": 0.0, \"event_id_cnty\": 2.0, \"numPresentIdpInd\": 44482.0, \"phase3plus\": \"37011\"}, {\"Area\": \"Kutum\", \"Level 1\": \"North Darfur\", \"fatalities\": 190.0, \"event_id_cnty\": 47.0, \"numPresentIdpInd\": 152296.0, \"phase3plus\": \"154935\"}, {\"Area\": \"Melit\", \"Level 1\": \"North Darfur\", \"fatalities\": 33.0, \"event_id_cnty\": 41.0, \"numPresentIdpInd\": 46779.0, \"phase3plus\": \"261912\"}, {\"Area\": \"Mershing\", \"Level 1\": \"South Darfur\", \"fatalities\": 38.0, \"event_id_cnty\": 21.0, \"numPresentIdpInd\": 80145.0, \"phase3plus\": \"242549\"}, {\"Area\": \"Mukjar\", \"Level 1\": \"Central Darfur\", \"fatalities\": 28.0, \"event_id_cnty\": 14.0, \"numPresentIdpInd\": 28355.0, \"phase3plus\": \"169248\"}, {\"Area\": \"Nitega\", \"Level 1\": \"South Darfur\", \"fatalities\": 0.0, \"event_id_cnty\": 1.0, \"numPresentIdpInd\": 28505.0, \"phase3plus\": \"242549\"}, {\"Area\": \"Nyala Janoub\", \"Level 1\": \"South Darfur\", \"fatalities\": 914.0, \"event_id_cnty\": 263.0, \"numPresentIdpInd\": 77827.0, \"phase3plus\": \"453642\"}, {\"Area\": \"Nyala Shimal\", \"Level 1\": \"South Darfur\", \"fatalities\": 6.0, \"event_id_cnty\": 7.0, \"numPresentIdpInd\": 327705.0, \"phase3plus\": \"453642\"}, {\"Area\": \"Rabak\", \"Level 1\": \"White Nile\", \"fatalities\": 1.0, \"event_id_cnty\": 13.0, \"numPresentIdpInd\": 100552.0, \"phase3plus\": \"188600\"}, {\"Area\": \"Saraf Omra\", \"Level 1\": \"North Darfur\", \"fatalities\": 4.0, \"event_id_cnty\": 5.0, \"numPresentIdpInd\": 64697.0, \"phase3plus\": \"256748\"}, {\"Area\": \"Sawakin\", \"Level 1\": \"Red Sea\", \"fatalities\": 0.0, \"event_id_cnty\": 7.0, \"numPresentIdpInd\": 6812.0, \"phase3plus\": \"15004\"}, {\"Area\": \"Sennar\", \"Level 1\": \"Sennar\", \"fatalities\": 123.0, \"event_id_cnty\": 57.0, \"numPresentIdpInd\": 149234.0, \"phase3plus\": \"367729\"}, {\"Area\": \"Sheikan\", \"Level 1\": \"North Kordofan\", \"fatalities\": 747.0, \"event_id_cnty\": 185.0, \"numPresentIdpInd\": 43277.0, \"phase3plus\": \"282220\"}, {\"Area\": \"Shendi\", \"Level 1\": \"River Nile\", \"fatalities\": 40.0, \"event_id_cnty\": 22.0, \"numPresentIdpInd\": 198415.0, \"phase3plus\": \"175313\"}, {\"Area\": \"Shiaria\", \"Level 1\": \"East Darfur\", \"fatalities\": 5.0, \"event_id_cnty\": 1.0, \"numPresentIdpInd\": null, \"phase3plus\": \"78097\"}, {\"Area\": \"Sinja\", \"Level 1\": \"Sennar\", \"fatalities\": 2.0, \"event_id_cnty\": 7.0, \"numPresentIdpInd\": 74037.0, \"phase3plus\": \"147167\"}, {\"Area\": \"Sirba\", \"Level 1\": \"West Darfur\", \"fatalities\": 272.0, \"event_id_cnty\": 28.0, \"numPresentIdpInd\": 26225.0, \"phase3plus\": \"91961\"}, {\"Area\": \"Soudari\", \"Level 1\": \"North Kordofan\", \"fatalities\": 21.0, \"event_id_cnty\": 16.0, \"numPresentIdpInd\": 3968.0, \"phase3plus\": \"192976\"}, {\"Area\": \"Talawdi\", \"Level 1\": \"South Kordofan\", \"fatalities\": 4.0, \"event_id_cnty\": 2.0, \"numPresentIdpInd\": 10407.0, \"phase3plus\": \"38972\"}, {\"Area\": \"Tawila\", \"Level 1\": \"North Darfur\", \"fatalities\": 51.0, \"event_id_cnty\": 22.0, \"numPresentIdpInd\": 170859.0, \"phase3plus\": \"154935\"}, {\"Area\": \"Tendalti\", \"Level 1\": \"White Nile\", \"fatalities\": 0.0, \"event_id_cnty\": 4.0, \"numPresentIdpInd\": 18210.0, \"phase3plus\": \"87112\"}, {\"Area\": \"Um Bada\", \"Level 1\": \"Khartoum\", \"fatalities\": 617.0, \"event_id_cnty\": 220.0, \"numPresentIdpInd\": 8681.0, \"phase3plus\": \"1083799\"}, {\"Area\": \"Um Dafoug\", \"Level 1\": \"South Darfur\", \"fatalities\": 0.0, \"event_id_cnty\": 3.0, \"numPresentIdpInd\": 3835.0, \"phase3plus\": \"308970\"}, {\"Area\": \"Um Dam Haj Ahmed\", \"Level 1\": \"North Kordofan\", \"fatalities\": 39.0, \"event_id_cnty\": 9.0, \"numPresentIdpInd\": 15156.0, \"phase3plus\": \"261498\"}, {\"Area\": \"Um Dukhun\", \"Level 1\": \"Central Darfur\", \"fatalities\": 1.0, \"event_id_cnty\": 5.0, \"numPresentIdpInd\": 62030.0, \"phase3plus\": \"169248\"}, {\"Area\": \"Um Rawaba\", \"Level 1\": \"North Kordofan\", \"fatalities\": 173.0, \"event_id_cnty\": 65.0, \"numPresentIdpInd\": 41916.0, \"phase3plus\": \"236766\"}, {\"Area\": \"Um Rimta\", \"Level 1\": \"White Nile\", \"fatalities\": 9.0, \"event_id_cnty\": 6.0, \"numPresentIdpInd\": 13810.0, \"phase3plus\": \"231568\"}, {\"Area\": \"Wad Bandah\", \"Level 1\": \"West Kordofan\", \"fatalities\": 16.0, \"event_id_cnty\": 2.0, \"numPresentIdpInd\": 6300.0, \"phase3plus\": \"174900\"}, {\"Area\": \"Wadi Salih\", \"Level 1\": \"Central Darfur\", \"fatalities\": 4.0, \"event_id_cnty\": 8.0, \"numPresentIdpInd\": 85963.0, \"phase3plus\": \"369837\"}, {\"Area\": \"Yassin\", \"Level 1\": \"East Darfur\", \"fatalities\": 18.0, \"event_id_cnty\": 5.0, \"numPresentIdpInd\": 78710.0, \"phase3plus\": \"53018\"}, {\"Area\": \"Zalingi\", \"Level 1\": \"Central Darfur\", \"fatalities\": 379.0, \"event_id_cnty\": 153.0, \"numPresentIdpInd\": 208848.0, \"phase3plus\": \"369837\"}, {\"Area\": \"As Serief\", \"Level 1\": null, \"fatalities\": null, \"event_id_cnty\": null, \"numPresentIdpInd\": 11731.0, \"phase3plus\": null}, {\"Area\": \"Kernoi\", \"Level 1\": null, \"fatalities\": null, \"event_id_cnty\": null, \"numPresentIdpInd\": 1580.0, \"phase3plus\": null}, {\"Area\": \"Gharb Bara\", \"Level 1\": null, \"fatalities\": null, \"event_id_cnty\": null, \"numPresentIdpInd\": 8036.0, \"phase3plus\": null}, {\"Area\": \"Dordieb\", \"Level 1\": null, \"fatalities\": null, \"event_id_cnty\": null, \"numPresentIdpInd\": 1455.0, \"phase3plus\": null}, {\"Area\": \"Hala'ib\", \"Level 1\": null, \"fatalities\": null, \"event_id_cnty\": null, \"numPresentIdpInd\": 600.0, \"phase3plus\": null}, {\"Area\": \"Merwoe\", \"Level 1\": null, \"fatalities\": null, \"event_id_cnty\": null, \"numPresentIdpInd\": 77802.0, \"phase3plus\": null}, {\"Area\": \"Agig\", \"Level 1\": null, \"fatalities\": null, \"event_id_cnty\": null, \"numPresentIdpInd\": 210.0, \"phase3plus\": null}, {\"Area\": \"Sinkat\", \"Level 1\": null, \"fatalities\": null, \"event_id_cnty\": null, \"numPresentIdpInd\": 8046.0, \"phase3plus\": null}, {\"Area\": \"Tawkar\", \"Level 1\": null, \"fatalities\": null, \"event_id_cnty\": null, \"numPresentIdpInd\": 2370.0, \"phase3plus\": null}, {\"Area\": \"Damso\", \"Level 1\": null, \"fatalities\": null, \"event_id_cnty\": null, \"numPresentIdpInd\": 7370.0, \"phase3plus\": null}, {\"Area\": \"Tulus\", \"Level 1\": null, \"fatalities\": null, \"event_id_cnty\": null, \"numPresentIdpInd\": 20775.0, \"phase3plus\": null}, {\"Area\": \"Al Leri\", \"Level 1\": null, \"fatalities\": null, \"event_id_cnty\": null, \"numPresentIdpInd\": 6641.0, \"phase3plus\": null}, {\"Area\": \"Ar Rashad\", \"Level 1\": null, \"fatalities\": null, \"event_id_cnty\": null, \"numPresentIdpInd\": 20931.0, \"phase3plus\": null}, {\"Area\": \"Guli\", \"Level 1\": null, \"fatalities\": null, \"event_id_cnty\": null, \"numPresentIdpInd\": 26634.0, \"phase3plus\": null}, {\"Area\": \"Baw\", \"Level 1\": null, \"fatalities\": null, \"event_id_cnty\": null, \"numPresentIdpInd\": 50471.0, \"phase3plus\": null}, {\"Area\": \"Assalaya\", \"Level 1\": null, \"fatalities\": null, \"event_id_cnty\": null, \"numPresentIdpInd\": 25240.0, \"phase3plus\": null}]}}, {\"mode\": \"vega-lite\"});\n",
       "</script>"
      ],
      "text/plain": [
       "alt.Chart(...)"
      ]
     },
     "execution_count": 813,
     "metadata": {},
     "output_type": "execute_result"
    }
   ],
   "source": [
    "# Create the chart with the selection and regression line\n",
    "chart = alt.Chart(acled_idp_ipc_adm2).mark_circle().encode(\n",
    "    x=alt.X('phase3plus:Q', scale=alt.Scale(type='log'), title='Incidents (Log)'),\n",
    "    y=alt.Y(':Q', scale=alt.Scale(type='log'), title='People in IPC Phase 3+ (Log)'),\n",
    "    color=alt.Color('Level 1:N', legend=alt.Legend(title=\"Admin 1 Area\")),\n",
    "    size=alt.Size('fatalities:Q'),\n",
    "    tooltip=['Area', 'fatalities', 'phase3plus']\n",
    ").properties(\n",
    "    title='Armed Violence and acute food insecurity'\n",
    ").interactive()#.to_json()\n",
    "\n",
    "#with open('CC9_fig1.json', 'w') as f:\n",
    "   # f.write(chart)\n",
    "\n",
    "chart"
   ]
  }
 ],
 "metadata": {
  "kernelspec": {
   "display_name": "Python 3",
   "language": "python",
   "name": "python3"
  },
  "language_info": {
   "codemirror_mode": {
    "name": "ipython",
    "version": 3
   },
   "file_extension": ".py",
   "mimetype": "text/x-python",
   "name": "python",
   "nbconvert_exporter": "python",
   "pygments_lexer": "ipython3",
   "version": "3.11.4"
  }
 },
 "nbformat": 4,
 "nbformat_minor": 2
}

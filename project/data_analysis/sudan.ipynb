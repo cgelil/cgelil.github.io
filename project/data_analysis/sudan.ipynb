{
 "cells": [
  {
   "cell_type": "code",
   "execution_count": 834,
   "metadata": {},
   "outputs": [],
   "source": [
    "import numpy as np\n",
    "import requests\n",
    "from bs4 import BeautifulSoup\n",
    "import pandas as pd\n",
    "import altair as alt\n",
    "import geopandas as gpd\n",
    "import matplotlib.pyplot as plt\n",
    "import json\n",
    "import altair as alt\n",
    "import dtmapi\n",
    "import statsmodels.api as sm\n",
    "from statsmodels.formula.api import ols\n",
    "from fuzzywuzzy import fuzz, process\n",
    "from hdx.utilities.easy_logging import setup_logging\n",
    "from hdx.api.configuration import Configuration\n",
    "from hdx.data.dataset import Dataset\n",
    "import os"
   ]
  },
  {
   "cell_type": "markdown",
   "metadata": {},
   "source": [
    "### IOM DTM"
   ]
  },
  {
   "cell_type": "code",
   "execution_count": 835,
   "metadata": {},
   "outputs": [
    {
     "name": "stdout",
     "output_type": "stream",
     "text": [
      "Resource URL https://data.humdata.org/dataset/44594ae2-dde9-417f-acae-523bc012c162/resource/d641cae6-ba35-416d-9a4f-731d886315d6/download/dtm_sdn_smu-bi-weekly-13-_-17122024_v02_public_hdx.xlsx downloaded to sudan/Sudan - Countrywide Mobility Update 13 (Bi-Weekly).xlsx\n",
      "Resource URL https://data.humdata.org/dataset/44594ae2-dde9-417f-acae-523bc012c162/resource/4ea6ae19-4080-405b-bf8a-3003e8ed5341/download/dtm_sdn_smu-bi-weekly-12-_-03122024_v02_public_hdx.xlsx downloaded to sudan/Sudan - Countrywide Mobility Update 12 (Bi-Weekly).xlsx\n",
      "Resource URL https://data.humdata.org/dataset/44594ae2-dde9-417f-acae-523bc012c162/resource/2a0a6ab7-722a-4aea-bd31-dd0d949ea7dd/download/dtm_sdn_smu-bi-weekly-11-_-20112024_v02_public_hdx.xlsx downloaded to sudan/Sudan - Countrywide Mobility Update 11 (Bi-Weekly).xlsx\n",
      "Resource URL https://data.humdata.org/dataset/44594ae2-dde9-417f-acae-523bc012c162/resource/7a7d1e2f-6411-4e0a-b51c-f1a05a1ed5ca/download/dtm_sdn_smo-bi-monthly-003-_06112024_v02_public_hdx.xlsx downloaded to sudan/Sudan - Countrywide Mobility Overview 3 (Bi-Monthly).xlsx\n",
      "Resource URL https://data.humdata.org/dataset/44594ae2-dde9-417f-acae-523bc012c162/resource/95a52eff-66f5-4ed5-99b4-117d37dd0b7b/download/dtm_sdn_smu-bi-weekly-10-_-23102024_v02_public_hdx.xlsx downloaded to sudan/Sudan - Countrywide Mobility Update 10 (Bi-Weekly).xlsx\n",
      "Resource URL https://data.humdata.org/dataset/44594ae2-dde9-417f-acae-523bc012c162/resource/7f9549c2-8fe0-4e42-b5f8-7632e4dbd1a8/download/dtm_sdn_sudan-mobility-update-bi-weekly-9-_-08102024_v02_public_hdx.xlsx downloaded to sudan/Sudan - Countrywide Mobility Update 9 (Bi-Weekly).xlsx\n",
      "Resource URL https://data.humdata.org/dataset/44594ae2-dde9-417f-acae-523bc012c162/resource/2068d7f6-bcf0-451d-8d0d-3cadf57949d9/download/dtm_sd3.xls downloaded to sudan/Sudan - Countrywide Mobility Update 8 (Bi-Weekly).xls\n",
      "Resource URL https://data.humdata.org/dataset/44594ae2-dde9-417f-acae-523bc012c162/resource/098afdb4-3c1b-4d39-a932-e7c1ed6080df/download/dtm_sdn_sudan-mobility-update-bi-weekly-7-_-11092024_v02_public_hdx.xlsx downloaded to sudan/Sudan - Countrywide Mobility Update 7 (Bi-Weekly).xlsx\n",
      "Resource URL https://data.humdata.org/dataset/44594ae2-dde9-417f-acae-523bc012c162/resource/fd5d12ca-612d-4485-99ec-dbfe325e4d9c/download/dtm_sdn_smo-bi-monthly-002-_29082024_v02_public_hdx.xlsx downloaded to sudan/Sudan - Countrywide Mobility Overview 2 (Bi-Monthly).xlsx\n",
      "Resource URL https://data.humdata.org/dataset/44594ae2-dde9-417f-acae-523bc012c162/resource/a847d28a-5d93-4fd9-90a0-ae988c9ca95a/download/dtm_sdn_sudan-mobility-update-bi-weekly-6-_-18082024_v02_public.xlsx downloaded to sudan/Sudan - Countrywide Mobility Update 6 (Bi-Weekly).xlsx\n",
      "Resource URL https://data.humdata.org/dataset/44594ae2-dde9-417f-acae-523bc012c162/resource/3d399605-3801-4451-bc36-23b00b25b5b8/download/dtm_sdn_sudan-mobility-bi-weekly-update-5_31072024_v02_public.xlsx downloaded to sudan/Sudan - Countrywide Mobility Update 5 (Bi-Weekly).xlsx\n",
      "Resource URL https://data.humdata.org/dataset/44594ae2-dde9-417f-acae-523bc012c162/resource/d1250ea8-3b37-4bca-aeae-4fd85236f57a/download/dtm_sdn_sudan-mobility-bi-weekly-update-4_17072024_v02_public.xlsx downloaded to sudan/Sudan - Countrywide Mobility Update 4 (Bi-Weekly).xlsx\n",
      "Resource URL https://data.humdata.org/dataset/44594ae2-dde9-417f-acae-523bc012c162/resource/bb32b0bc-3229-4986-b02e-d1d29daea711/download/dtm_sdn_smu-bi-monthly-001-_03072024_v02_public.xlsx downloaded to sudan/Sudan - Countrywide Mobility Overview 1 (Bi-Monthly).xlsx\n",
      "Resource URL https://data.humdata.org/dataset/44594ae2-dde9-417f-acae-523bc012c162/resource/f1d30862-04ca-45dd-a60d-fd929d6b872c/download/dtm_sudan_mobility_update_003.xlsx downloaded to sudan/Sudan - Countrywide Mobility Update 3 (Bi-Weekly).xlsx\n",
      "Resource URL https://data.humdata.org/dataset/44594ae2-dde9-417f-acae-523bc012c162/resource/1000746b-05c5-4156-98b4-4a6b31b1bf6e/download/dtm_sdn_sudan-mobility-update-2_2552024_v02_public.xlsx downloaded to sudan/Sudan - Countrywide Mobility Update 2 (Bi-Weekly).xlsx\n",
      "Resource URL https://data.humdata.org/dataset/44594ae2-dde9-417f-acae-523bc012c162/resource/f5fbf970-d07b-4c68-99f3-c3061905435b/download/dtm_sdn_bi-weekly01_20240502_v02_public.xlsx downloaded to sudan/Sudan - Countrywide Mobility Update 1 (Bi-Weekly).xlsx\n"
     ]
    }
   ],
   "source": [
    "datasets_ipc = Dataset.read_from_hdx(\"sudan-displacement-situation-countrywide-idps-iom-dtm\")\n",
    "resources = datasets_ipc.get_resources()\n",
    "\n",
    "for res in resources:\n",
    "    url, path = res.download('sudan/')\n",
    "    print(f\"Resource URL {url} downloaded to {path}\")"
   ]
  },
  {
   "cell_type": "code",
   "execution_count": 836,
   "metadata": {},
   "outputs": [],
   "source": [
    "idp_admin_data = dtmapi.get_idp_admin2_data(CountryName='Sudan',  FromReportingDate='2021-01-01', ToReportingDate='2025-01-01', to_pandas=True)"
   ]
  },
  {
   "cell_type": "code",
   "execution_count": 837,
   "metadata": {},
   "outputs": [],
   "source": [
    "# read data \n",
    "idp_adm1_2024 = pd.read_excel('sudan/dtm/Sudan - Countrywide Mobility Update 13 (Bi-Weekly).xlsx', sheet_name='MASTER LIST (ADMIN1)', skiprows=2)\n",
    "idp_adm2_2024 = pd.read_excel('sudan/dtm/Sudan - Countrywide Mobility Update 13 (Bi-Weekly).xlsx', sheet_name='MASTER LIST (ADMIN2)', skiprows=2)\n",
    "\n",
    "rename_dict = {\n",
    "    'STATE OF DISPLACEMET': 'adm1_name',\n",
    "    'STATE CODE': 'adm1_pcode',\n",
    "    'LOCALITY OF DISPLACEMENT': 'adm2_name',\n",
    "    'LOCALITY_CODE': 'adm2_pcode',\n",
    "    'LOCALITY_ CODE': 'adm2_pcode',\n",
    "    'HHs': 'affected_idps_hh',\n",
    "    'IDPs': 'affected_idps_ind'\n",
    "}\n",
    "\n",
    "\n",
    "idp_adm1_2024.rename(columns=rename_dict, inplace=True)\n",
    "#idp_adm1_2023.rename(columns=rename_dict, inplace=True)\n",
    "#idp_adm2_2023.rename(columns=rename_dict, inplace=True)\n",
    "#idp_adm2_2024.rename(columns=rename_dict, inplace=True)"
   ]
  },
  {
   "cell_type": "code",
   "execution_count": 838,
   "metadata": {},
   "outputs": [],
   "source": [
    "idp_origin_adm1_2024 = idp_adm1_2024.iloc[1:]\n",
    "#idp_origin_adm1_2023 = idp_adm1_2023.iloc[1:]\n",
    "#idp_origin_adm2_2023 = idp_adm2_2023.iloc[1:]\n",
    "#idp_origin_adm2_2024 = idp_adm2_2024.iloc[1:]"
   ]
  },
  {
   "cell_type": "code",
   "execution_count": 839,
   "metadata": {},
   "outputs": [],
   "source": [
    "idp_origin_adm1_2024.loc[19] = idp_origin_adm1_2024.iloc[:, 2:].sum()\n",
    "idp_origin_adm1_2024\n",
    "idp_origin_adm1_2024.loc[19, 'adm1_name'] = 'Total'"
   ]
  },
  {
   "cell_type": "code",
   "execution_count": 840,
   "metadata": {},
   "outputs": [],
   "source": [
    "state_columns = idp_adm1_2024.columns[4:-2].tolist()\n",
    "idp_adm1_2024_state = idp_origin_adm1_2024.melt(\n",
    "        id_vars=['adm1_name', 'adm1_pcode',  'affected_idps_ind', 'affected_idps_hh'],\n",
    "        value_vars=state_columns,\n",
    "        var_name='state_origin',\n",
    "        value_name='affected_idps_state'\n",
    "    )"
   ]
  },
  {
   "cell_type": "code",
   "execution_count": 841,
   "metadata": {},
   "outputs": [],
   "source": [
    "idp_origin_2024 = idp_adm1_2024_state[idp_adm1_2024_state['adm1_name'] == 'Total']"
   ]
  },
  {
   "cell_type": "markdown",
   "metadata": {},
   "source": [
    "### IPC "
   ]
  },
  {
   "cell_type": "markdown",
   "metadata": {},
   "source": [
    "GeoJson data"
   ]
  },
  {
   "cell_type": "code",
   "execution_count": 842,
   "metadata": {},
   "outputs": [
    {
     "name": "stdout",
     "output_type": "stream",
     "text": [
      "Saved sudan/ipc/ipc_geojson_C_14192889.json\n",
      "Saved sudan/ipc/ipc_geojson_C_18151797.json\n",
      "Current data not available for item 19191589, fetching projections (P)\n",
      "Saved sudan/ipc/ipc_geojson_P_19191589.json\n",
      "Saved sudan/ipc/ipc_geojson_C_24004104.json\n",
      "Saved sudan/ipc/ipc_geojson_C_25857808.json\n",
      "Saved sudan/ipc/ipc_geojson_C_58836462.json\n",
      "Current data not available for item 64768802, fetching projections (P)\n",
      "Failed to fetch data for item 64768802: HTTP 404\n",
      "Saved sudan/ipc/ipc_geojson_C_68887616.json\n",
      "Current data not available for item 74795267, fetching projections (P)\n",
      "Saved sudan/ipc/ipc_geojson_P_74795267.json\n"
     ]
    }
   ],
   "source": [
    "\n",
    "\n",
    "api_key = '3bdbeef9-fc4c-4315-a665-cc56deb11be6'\n",
    "base_url = 'https://api.ipcinfo.org/'\n",
    "\n",
    "# Create directory if it doesn't exist\n",
    "os.makedirs('sudan/ipc', exist_ok=True)\n",
    "\n",
    "# Fetch IPC analyses\n",
    "ipc = requests.get(f'{base_url}analyses?country=SD&type=A&periods=C&key={api_key}').json()\n",
    "\n",
    "for item in ipc:\n",
    "    # Try fetching current data ('C') first\n",
    "    response = requests.get(f\"{base_url}areas/{item['id']}/C?format=geojson&key={api_key}\")\n",
    "    \n",
    "    if response.status_code == 200:\n",
    "        save_name = f\"sudan/ipc/ipc_geojson_C_{item['id']}.json\"\n",
    "    else:\n",
    "        print(f\"Current data not available for item {item['id']}, fetching projections (P)\")\n",
    "        response = requests.get(f\"{base_url}areas/{item['id']}/P?format=geojson&key={api_key}\")\n",
    "        save_name = f\"sudan/ipc/ipc_geojson_P_{item['id']}.json\"\n",
    "    \n",
    "    if response.status_code == 200:\n",
    "        try:\n",
    "            ipc_geojson = response.json()\n",
    "            with open(save_name, 'w') as f:\n",
    "                json.dump(ipc_geojson, f)\n",
    "            print(f\"Saved {save_name}\")\n",
    "        except json.JSONDecodeError as e:\n",
    "            print(f\"Error decoding JSON for item {item['id']}: {e}\")\n",
    "        except Exception as e:\n",
    "            print(f\"Error saving file for item {item['id']}: {e}\")\n",
    "    else:\n",
    "        print(f\"Failed to fetch data for item {item['id']}: HTTP {response.status_code}\")\n"
   ]
  },
  {
   "cell_type": "code",
   "execution_count": 843,
   "metadata": {},
   "outputs": [],
   "source": [
    "#ipc_2024 = requests.get(f\"https://api.ipcinfo.org/areas/68887616/C?format=json&key=\").json()\n",
    "#ipc_2024_proj = requests.get(f\"https://api.ipcinfo.org/areas/68887616/C?format=json&key=\").json()"
   ]
  },
  {
   "cell_type": "markdown",
   "metadata": {},
   "source": [
    "HDX API"
   ]
  },
  {
   "cell_type": "code",
   "execution_count": 844,
   "metadata": {},
   "outputs": [],
   "source": [
    "datasets_ipc = Dataset.read_from_hdx(\"sudan-acute-food-insecurity-country-data\")\n",
    "resources = datasets_ipc.get_resources()\n",
    "\n",
    "ipc_sdn_adm1 = [res for res in resources if res.get('description') == 'All IPC level 1 data in long form with HXL tags']\n",
    "ipc_sdn_adm2 = [res for res in resources if res.get('description') == 'All IPC area data in long form with HXL tags']\n",
    "\n",
    "\n",
    "url1 = ipc_sdn_adm1[0]['alt_url']\n",
    "url2 = ipc_sdn_adm2[0]['alt_url']\n",
    "\n",
    "# Download the file\n",
    "response = requests.get(url1)\n",
    "with open('sudan/ipc_sdn_adm1.csv', 'wb') as f:\n",
    "\tf.write(response.content)\n",
    "\t\n",
    "response = requests.get(url2)\n",
    "with open('sudan/ipc_sdn_adm2.csv', 'wb') as f:\n",
    "\tf.write(response.content)\n",
    "\n"
   ]
  },
  {
   "cell_type": "code",
   "execution_count": 845,
   "metadata": {},
   "outputs": [],
   "source": [
    "ipc_sdn_adm2 = pd.read_csv('sudan/ipc_sdn_adm2.csv')\n",
    "ipc_sdn_adm2 = ipc_sdn_adm2.iloc[1:]\n",
    "ipc_sdn_adm1 = pd.read_csv('sudan/ipc_sdn_adm1.csv')\n",
    "ipc_sdn_adm1 = ipc_sdn_adm1.iloc[1:]"
   ]
  },
  {
   "cell_type": "code",
   "execution_count": 846,
   "metadata": {},
   "outputs": [],
   "source": [
    "ipc_sdn_adm2 = ipc_sdn_adm2[~ipc_sdn_adm2['Area'].str.contains('IDPs')]\n",
    "ipc_sdn_adm2 = ipc_sdn_adm2[~ipc_sdn_adm2['Area'].str.contains('IDP')]\n",
    "ipc_sdn_adm2 = ipc_sdn_adm2[~ipc_sdn_adm2['Area'].str.contains('Refugees')]\n",
    "ipc_sdn_adm2 = ipc_sdn_adm2[~ipc_sdn_adm2['Area'].str.contains('refugees')]\n",
    "\n",
    "ipc_sdn_adm1 = ipc_sdn_adm1[~ipc_sdn_adm1['Level 1'].str.contains('IDPs')]\n",
    "ipc_sdn_adm1 = ipc_sdn_adm1[~ipc_sdn_adm1['Level 1'].str.contains('IDP')]\n",
    "ipc_sdn_adm1 = ipc_sdn_adm1[~ipc_sdn_adm1['Level 1'].str.contains('Refugees')]\n",
    "ipc_sdn_adm1 = ipc_sdn_adm1[~ipc_sdn_adm1['Level 1'].str.contains('refugees')]"
   ]
  },
  {
   "cell_type": "markdown",
   "metadata": {},
   "source": [
    "### ACLED"
   ]
  },
  {
   "cell_type": "code",
   "execution_count": 847,
   "metadata": {},
   "outputs": [],
   "source": [
    "acled = pd.read_csv('sudan/ACLED_2020-01-01-2024-12-31-Sudan.csv')"
   ]
  },
  {
   "cell_type": "code",
   "execution_count": 848,
   "metadata": {},
   "outputs": [],
   "source": [
    "acled = acled[acled['year'] != 2020]\n",
    "acled['event_date'] = pd.to_datetime(acled['event_date'])\n",
    "acled['month_year'] = acled['event_date'].dt.to_period('M')\n",
    "acled['week'] = acled['event_date'].dt.to_period('W').apply(lambda r: r.start_time)"
   ]
  },
  {
   "cell_type": "code",
   "execution_count": 849,
   "metadata": {},
   "outputs": [],
   "source": [
    "#Monthly Data\n",
    "acled_monthly= acled.groupby(['month_year','event_type']).agg({'fatalities':'sum', 'event_date':'count'}).reset_index()\n",
    "\n",
    "#remove riots\n",
    "acled_monthly = acled_monthly[acled_monthly['event_type'] != 'Riots']\n",
    "acled_monthly = acled_monthly[acled_monthly['event_type'] != 'Strategic developments']\n",
    "acled_monthly['event_type'] = acled_monthly['event_type'].replace('Explosions/Remote violence', 'Explosions')\n",
    "\n",
    "acled_monthly.to_csv('sudan/acled_monthly.csv', index=False)\n",
    "acled_monthly['month_year'] = acled_monthly['month_year'].astype(str)\n",
    "\n",
    "#Weekly Data\n",
    "#acled_weekly = acled.groupby(['week', 'event_type']).agg({'fatalities':'sum', 'event_date':'count'}).reset_index()\n",
    "#acled_weekly['week'] = acled_weekly['week'].astype(str)"
   ]
  },
  {
   "cell_type": "code",
   "execution_count": 850,
   "metadata": {},
   "outputs": [
    {
     "data": {
      "text/html": [
       "\n",
       "<style>\n",
       "  #altair-viz-7babb678076943aeb41e6f606a041745.vega-embed {\n",
       "    width: 100%;\n",
       "    display: flex;\n",
       "  }\n",
       "\n",
       "  #altair-viz-7babb678076943aeb41e6f606a041745.vega-embed details,\n",
       "  #altair-viz-7babb678076943aeb41e6f606a041745.vega-embed details summary {\n",
       "    position: relative;\n",
       "  }\n",
       "</style>\n",
       "<div id=\"altair-viz-7babb678076943aeb41e6f606a041745\"></div>\n",
       "<script type=\"text/javascript\">\n",
       "  var VEGA_DEBUG = (typeof VEGA_DEBUG == \"undefined\") ? {} : VEGA_DEBUG;\n",
       "  (function(spec, embedOpt){\n",
       "    let outputDiv = document.currentScript.previousElementSibling;\n",
       "    if (outputDiv.id !== \"altair-viz-7babb678076943aeb41e6f606a041745\") {\n",
       "      outputDiv = document.getElementById(\"altair-viz-7babb678076943aeb41e6f606a041745\");\n",
       "    }\n",
       "    const paths = {\n",
       "      \"vega\": \"https://cdn.jsdelivr.net/npm/vega@5?noext\",\n",
       "      \"vega-lib\": \"https://cdn.jsdelivr.net/npm/vega-lib?noext\",\n",
       "      \"vega-lite\": \"https://cdn.jsdelivr.net/npm/vega-lite@5.20.1?noext\",\n",
       "      \"vega-embed\": \"https://cdn.jsdelivr.net/npm/vega-embed@6?noext\",\n",
       "    };\n",
       "\n",
       "    function maybeLoadScript(lib, version) {\n",
       "      var key = `${lib.replace(\"-\", \"\")}_version`;\n",
       "      return (VEGA_DEBUG[key] == version) ?\n",
       "        Promise.resolve(paths[lib]) :\n",
       "        new Promise(function(resolve, reject) {\n",
       "          var s = document.createElement('script');\n",
       "          document.getElementsByTagName(\"head\")[0].appendChild(s);\n",
       "          s.async = true;\n",
       "          s.onload = () => {\n",
       "            VEGA_DEBUG[key] = version;\n",
       "            return resolve(paths[lib]);\n",
       "          };\n",
       "          s.onerror = () => reject(`Error loading script: ${paths[lib]}`);\n",
       "          s.src = paths[lib];\n",
       "        });\n",
       "    }\n",
       "\n",
       "    function showError(err) {\n",
       "      outputDiv.innerHTML = `<div class=\"error\" style=\"color:red;\">${err}</div>`;\n",
       "      throw err;\n",
       "    }\n",
       "\n",
       "    function displayChart(vegaEmbed) {\n",
       "      vegaEmbed(outputDiv, spec, embedOpt)\n",
       "        .catch(err => showError(`Javascript Error: ${err.message}<br>This usually means there's a typo in your chart specification. See the javascript console for the full traceback.`));\n",
       "    }\n",
       "\n",
       "    if(typeof define === \"function\" && define.amd) {\n",
       "      requirejs.config({paths});\n",
       "      require([\"vega-embed\"], displayChart, err => showError(`Error loading script: ${err.message}`));\n",
       "    } else {\n",
       "      maybeLoadScript(\"vega\", \"5\")\n",
       "        .then(() => maybeLoadScript(\"vega-lite\", \"5.20.1\"))\n",
       "        .then(() => maybeLoadScript(\"vega-embed\", \"6\"))\n",
       "        .catch(showError)\n",
       "        .then(() => displayChart(vegaEmbed));\n",
       "    }\n",
       "  })({\"config\": {\"view\": {\"continuousWidth\": 300, \"continuousHeight\": 300}}, \"layer\": [{\"mark\": {\"type\": \"bar\", \"color\": \"blue\"}, \"encoding\": {\"color\": {\"field\": \"event_type\", \"type\": \"ordinal\"}, \"tooltip\": [{\"field\": \"month_year\", \"type\": \"nominal\"}, {\"field\": \"fatalities\", \"type\": \"quantitative\"}, {\"field\": \"event_type\", \"type\": \"nominal\"}], \"x\": {\"field\": \"month_year\", \"type\": \"ordinal\"}, \"y\": {\"field\": \"event_date\", \"type\": \"quantitative\"}}, \"name\": \"view_21\"}, {\"mark\": {\"type\": \"line\", \"color\": \"red\"}, \"encoding\": {\"color\": {\"field\": \"event_type\", \"type\": \"ordinal\"}, \"tooltip\": [{\"field\": \"month_year\", \"type\": \"nominal\"}, {\"field\": \"fatalities\", \"type\": \"quantitative\"}, {\"field\": \"event_type\", \"type\": \"nominal\"}], \"x\": {\"field\": \"month_year\", \"type\": \"ordinal\"}, \"y\": {\"field\": \"fatalities\", \"type\": \"quantitative\"}}, \"name\": \"view_22\", \"title\": \"Total Fatalities and Incidents by Month\"}], \"data\": {\"name\": \"data-42c8769ea803a6b1de48b1e28a5475c7\"}, \"params\": [{\"name\": \"param_97\", \"select\": {\"type\": \"interval\", \"encodings\": [\"x\", \"y\"]}, \"bind\": \"scales\", \"views\": [\"view_21\"]}, {\"name\": \"param_96\", \"select\": {\"type\": \"interval\", \"encodings\": [\"x\", \"y\"]}, \"bind\": \"scales\", \"views\": [\"view_22\"]}], \"$schema\": \"https://vega.github.io/schema/vega-lite/v5.20.1.json\", \"datasets\": {\"data-42c8769ea803a6b1de48b1e28a5475c7\": [{\"month_year\": \"2021-01\", \"event_type\": \"Battles\", \"fatalities\": 176, \"event_date\": 15}, {\"month_year\": \"2021-01\", \"event_type\": \"Explosions\", \"fatalities\": 0, \"event_date\": 1}, {\"month_year\": \"2021-01\", \"event_type\": \"Protests\", \"fatalities\": 0, \"event_date\": 47}, {\"month_year\": \"2021-01\", \"event_type\": \"Violence against civilians\", \"fatalities\": 117, \"event_date\": 49}, {\"month_year\": \"2021-02\", \"event_type\": \"Battles\", \"fatalities\": 77, \"event_date\": 18}, {\"month_year\": \"2021-02\", \"event_type\": \"Explosions\", \"fatalities\": 4, \"event_date\": 2}, {\"month_year\": \"2021-02\", \"event_type\": \"Protests\", \"fatalities\": 0, \"event_date\": 32}, {\"month_year\": \"2021-02\", \"event_type\": \"Violence against civilians\", \"fatalities\": 25, \"event_date\": 28}, {\"month_year\": \"2021-03\", \"event_type\": \"Battles\", \"fatalities\": 34, \"event_date\": 11}, {\"month_year\": \"2021-03\", \"event_type\": \"Protests\", \"fatalities\": 0, \"event_date\": 48}, {\"month_year\": \"2021-03\", \"event_type\": \"Violence against civilians\", \"fatalities\": 30, \"event_date\": 33}, {\"month_year\": \"2021-04\", \"event_type\": \"Battles\", \"fatalities\": 179, \"event_date\": 22}, {\"month_year\": \"2021-04\", \"event_type\": \"Explosions\", \"fatalities\": 1, \"event_date\": 1}, {\"month_year\": \"2021-04\", \"event_type\": \"Protests\", \"fatalities\": 2, \"event_date\": 44}, {\"month_year\": \"2021-04\", \"event_type\": \"Violence against civilians\", \"fatalities\": 23, \"event_date\": 17}, {\"month_year\": \"2021-05\", \"event_type\": \"Battles\", \"fatalities\": 58, \"event_date\": 20}, {\"month_year\": \"2021-05\", \"event_type\": \"Explosions\", \"fatalities\": 3, \"event_date\": 2}, {\"month_year\": \"2021-05\", \"event_type\": \"Protests\", \"fatalities\": 0, \"event_date\": 23}, {\"month_year\": \"2021-05\", \"event_type\": \"Violence against civilians\", \"fatalities\": 38, \"event_date\": 25}, {\"month_year\": \"2021-06\", \"event_type\": \"Battles\", \"fatalities\": 106, \"event_date\": 21}, {\"month_year\": \"2021-06\", \"event_type\": \"Protests\", \"fatalities\": 1, \"event_date\": 62}, {\"month_year\": \"2021-06\", \"event_type\": \"Violence against civilians\", \"fatalities\": 27, \"event_date\": 34}, {\"month_year\": \"2021-07\", \"event_type\": \"Battles\", \"fatalities\": 121, \"event_date\": 42}, {\"month_year\": \"2021-07\", \"event_type\": \"Protests\", \"fatalities\": 0, \"event_date\": 34}, {\"month_year\": \"2021-07\", \"event_type\": \"Violence against civilians\", \"fatalities\": 53, \"event_date\": 42}, {\"month_year\": \"2021-08\", \"event_type\": \"Battles\", \"fatalities\": 24, \"event_date\": 12}, {\"month_year\": \"2021-08\", \"event_type\": \"Explosions\", \"fatalities\": 4, \"event_date\": 3}, {\"month_year\": \"2021-08\", \"event_type\": \"Protests\", \"fatalities\": 2, \"event_date\": 47}, {\"month_year\": \"2021-08\", \"event_type\": \"Violence against civilians\", \"fatalities\": 36, \"event_date\": 35}, {\"month_year\": \"2021-09\", \"event_type\": \"Battles\", \"fatalities\": 23, \"event_date\": 11}, {\"month_year\": \"2021-09\", \"event_type\": \"Protests\", \"fatalities\": 0, \"event_date\": 60}, {\"month_year\": \"2021-09\", \"event_type\": \"Violence against civilians\", \"fatalities\": 20, \"event_date\": 32}, {\"month_year\": \"2021-10\", \"event_type\": \"Battles\", \"fatalities\": 19, \"event_date\": 7}, {\"month_year\": \"2021-10\", \"event_type\": \"Protests\", \"fatalities\": 16, \"event_date\": 132}, {\"month_year\": \"2021-10\", \"event_type\": \"Violence against civilians\", \"fatalities\": 42, \"event_date\": 28}, {\"month_year\": \"2021-11\", \"event_type\": \"Battles\", \"fatalities\": 118, \"event_date\": 16}, {\"month_year\": \"2021-11\", \"event_type\": \"Protests\", \"fatalities\": 30, \"event_date\": 136}, {\"month_year\": \"2021-11\", \"event_type\": \"Violence against civilians\", \"fatalities\": 36, \"event_date\": 34}, {\"month_year\": \"2021-12\", \"event_type\": \"Battles\", \"fatalities\": 100, \"event_date\": 11}, {\"month_year\": \"2021-12\", \"event_type\": \"Explosions\", \"fatalities\": 1, \"event_date\": 2}, {\"month_year\": \"2021-12\", \"event_type\": \"Protests\", \"fatalities\": 5, \"event_date\": 149}, {\"month_year\": \"2021-12\", \"event_type\": \"Violence against civilians\", \"fatalities\": 78, \"event_date\": 48}, {\"month_year\": \"2022-01\", \"event_type\": \"Battles\", \"fatalities\": 15, \"event_date\": 6}, {\"month_year\": \"2022-01\", \"event_type\": \"Explosions\", \"fatalities\": 0, \"event_date\": 1}, {\"month_year\": \"2022-01\", \"event_type\": \"Protests\", \"fatalities\": 22, \"event_date\": 225}, {\"month_year\": \"2022-01\", \"event_type\": \"Violence against civilians\", \"fatalities\": 28, \"event_date\": 39}, {\"month_year\": \"2022-02\", \"event_type\": \"Battles\", \"fatalities\": 32, \"event_date\": 13}, {\"month_year\": \"2022-02\", \"event_type\": \"Protests\", \"fatalities\": 7, \"event_date\": 149}, {\"month_year\": \"2022-02\", \"event_type\": \"Violence against civilians\", \"fatalities\": 26, \"event_date\": 29}, {\"month_year\": \"2022-03\", \"event_type\": \"Battles\", \"fatalities\": 97, \"event_date\": 21}, {\"month_year\": \"2022-03\", \"event_type\": \"Explosions\", \"fatalities\": 5, \"event_date\": 1}, {\"month_year\": \"2022-03\", \"event_type\": \"Protests\", \"fatalities\": 7, \"event_date\": 195}, {\"month_year\": \"2022-03\", \"event_type\": \"Violence against civilians\", \"fatalities\": 61, \"event_date\": 31}, {\"month_year\": \"2022-04\", \"event_type\": \"Battles\", \"fatalities\": 229, \"event_date\": 15}, {\"month_year\": \"2022-04\", \"event_type\": \"Explosions\", \"fatalities\": 0, \"event_date\": 1}, {\"month_year\": \"2022-04\", \"event_type\": \"Protests\", \"fatalities\": 1, \"event_date\": 156}, {\"month_year\": \"2022-04\", \"event_type\": \"Violence against civilians\", \"fatalities\": 91, \"event_date\": 31}, {\"month_year\": \"2022-05\", \"event_type\": \"Battles\", \"fatalities\": 37, \"event_date\": 20}, {\"month_year\": \"2022-05\", \"event_type\": \"Explosions\", \"fatalities\": 5, \"event_date\": 4}, {\"month_year\": \"2022-05\", \"event_type\": \"Protests\", \"fatalities\": 7, \"event_date\": 141}, {\"month_year\": \"2022-05\", \"event_type\": \"Violence against civilians\", \"fatalities\": 39, \"event_date\": 40}, {\"month_year\": \"2022-06\", \"event_type\": \"Battles\", \"fatalities\": 200, \"event_date\": 36}, {\"month_year\": \"2022-06\", \"event_type\": \"Protests\", \"fatalities\": 16, \"event_date\": 191}, {\"month_year\": \"2022-06\", \"event_type\": \"Violence against civilians\", \"fatalities\": 57, \"event_date\": 38}, {\"month_year\": \"2022-07\", \"event_type\": \"Battles\", \"fatalities\": 193, \"event_date\": 17}, {\"month_year\": \"2022-07\", \"event_type\": \"Explosions\", \"fatalities\": 0, \"event_date\": 1}, {\"month_year\": \"2022-07\", \"event_type\": \"Protests\", \"fatalities\": 2, \"event_date\": 99}, {\"month_year\": \"2022-07\", \"event_type\": \"Violence against civilians\", \"fatalities\": 22, \"event_date\": 50}, {\"month_year\": \"2022-08\", \"event_type\": \"Battles\", \"fatalities\": 51, \"event_date\": 13}, {\"month_year\": \"2022-08\", \"event_type\": \"Explosions\", \"fatalities\": 5, \"event_date\": 2}, {\"month_year\": \"2022-08\", \"event_type\": \"Protests\", \"fatalities\": 3, \"event_date\": 82}, {\"month_year\": \"2022-08\", \"event_type\": \"Violence against civilians\", \"fatalities\": 33, \"event_date\": 28}, {\"month_year\": \"2022-09\", \"event_type\": \"Battles\", \"fatalities\": 45, \"event_date\": 15}, {\"month_year\": \"2022-09\", \"event_type\": \"Explosions\", \"fatalities\": 3, \"event_date\": 1}, {\"month_year\": \"2022-09\", \"event_type\": \"Protests\", \"fatalities\": 0, \"event_date\": 84}, {\"month_year\": \"2022-09\", \"event_type\": \"Violence against civilians\", \"fatalities\": 23, \"event_date\": 35}, {\"month_year\": \"2022-10\", \"event_type\": \"Battles\", \"fatalities\": 375, \"event_date\": 27}, {\"month_year\": \"2022-10\", \"event_type\": \"Explosions\", \"fatalities\": 14, \"event_date\": 1}, {\"month_year\": \"2022-10\", \"event_type\": \"Protests\", \"fatalities\": 7, \"event_date\": 181}, {\"month_year\": \"2022-10\", \"event_type\": \"Violence against civilians\", \"fatalities\": 38, \"event_date\": 36}, {\"month_year\": \"2022-11\", \"event_type\": \"Battles\", \"fatalities\": 112, \"event_date\": 15}, {\"month_year\": \"2022-11\", \"event_type\": \"Explosions\", \"fatalities\": 0, \"event_date\": 1}, {\"month_year\": \"2022-11\", \"event_type\": \"Protests\", \"fatalities\": 2, \"event_date\": 116}, {\"month_year\": \"2022-11\", \"event_type\": \"Violence against civilians\", \"fatalities\": 38, \"event_date\": 53}, {\"month_year\": \"2022-12\", \"event_type\": \"Battles\", \"fatalities\": 76, \"event_date\": 19}, {\"month_year\": \"2022-12\", \"event_type\": \"Explosions\", \"fatalities\": 0, \"event_date\": 3}, {\"month_year\": \"2022-12\", \"event_type\": \"Protests\", \"fatalities\": 0, \"event_date\": 153}, {\"month_year\": \"2022-12\", \"event_type\": \"Violence against civilians\", \"fatalities\": 33, \"event_date\": 42}, {\"month_year\": \"2023-01\", \"event_type\": \"Battles\", \"fatalities\": 14, \"event_date\": 11}, {\"month_year\": \"2023-01\", \"event_type\": \"Protests\", \"fatalities\": 2, \"event_date\": 130}, {\"month_year\": \"2023-01\", \"event_type\": \"Violence against civilians\", \"fatalities\": 48, \"event_date\": 55}, {\"month_year\": \"2023-02\", \"event_type\": \"Battles\", \"fatalities\": 13, \"event_date\": 9}, {\"month_year\": \"2023-02\", \"event_type\": \"Protests\", \"fatalities\": 3, \"event_date\": 94}, {\"month_year\": \"2023-02\", \"event_type\": \"Violence against civilians\", \"fatalities\": 30, \"event_date\": 48}, {\"month_year\": \"2023-03\", \"event_type\": \"Battles\", \"fatalities\": 20, \"event_date\": 12}, {\"month_year\": \"2023-03\", \"event_type\": \"Explosions\", \"fatalities\": 3, \"event_date\": 2}, {\"month_year\": \"2023-03\", \"event_type\": \"Protests\", \"fatalities\": 0, \"event_date\": 95}, {\"month_year\": \"2023-03\", \"event_type\": \"Violence against civilians\", \"fatalities\": 39, \"event_date\": 32}, {\"month_year\": \"2023-04\", \"event_type\": \"Battles\", \"fatalities\": 992, \"event_date\": 246}, {\"month_year\": \"2023-04\", \"event_type\": \"Explosions\", \"fatalities\": 63, \"event_date\": 21}, {\"month_year\": \"2023-04\", \"event_type\": \"Protests\", \"fatalities\": 1, \"event_date\": 93}, {\"month_year\": \"2023-04\", \"event_type\": \"Violence against civilians\", \"fatalities\": 77, \"event_date\": 64}, {\"month_year\": \"2023-05\", \"event_type\": \"Battles\", \"fatalities\": 1365, \"event_date\": 253}, {\"month_year\": \"2023-05\", \"event_type\": \"Explosions\", \"fatalities\": 132, \"event_date\": 24}, {\"month_year\": \"2023-05\", \"event_type\": \"Protests\", \"fatalities\": 0, \"event_date\": 23}, {\"month_year\": \"2023-05\", \"event_type\": \"Violence against civilians\", \"fatalities\": 232, \"event_date\": 115}, {\"month_year\": \"2023-06\", \"event_type\": \"Battles\", \"fatalities\": 1797, \"event_date\": 250}, {\"month_year\": \"2023-06\", \"event_type\": \"Explosions\", \"fatalities\": 100, \"event_date\": 42}, {\"month_year\": \"2023-06\", \"event_type\": \"Protests\", \"fatalities\": 3, \"event_date\": 18}, {\"month_year\": \"2023-06\", \"event_type\": \"Violence against civilians\", \"fatalities\": 489, \"event_date\": 105}, {\"month_year\": \"2023-07\", \"event_type\": \"Battles\", \"fatalities\": 1323, \"event_date\": 363}, {\"month_year\": \"2023-07\", \"event_type\": \"Explosions\", \"fatalities\": 147, \"event_date\": 35}, {\"month_year\": \"2023-07\", \"event_type\": \"Protests\", \"fatalities\": 1, \"event_date\": 21}, {\"month_year\": \"2023-07\", \"event_type\": \"Violence against civilians\", \"fatalities\": 144, \"event_date\": 126}, {\"month_year\": \"2023-08\", \"event_type\": \"Battles\", \"fatalities\": 2267, \"event_date\": 458}, {\"month_year\": \"2023-08\", \"event_type\": \"Explosions\", \"fatalities\": 98, \"event_date\": 97}, {\"month_year\": \"2023-08\", \"event_type\": \"Protests\", \"fatalities\": 0, \"event_date\": 8}, {\"month_year\": \"2023-08\", \"event_type\": \"Violence against civilians\", \"fatalities\": 144, \"event_date\": 101}, {\"month_year\": \"2023-09\", \"event_type\": \"Battles\", \"fatalities\": 1262, \"event_date\": 244}, {\"month_year\": \"2023-09\", \"event_type\": \"Explosions\", \"fatalities\": 378, \"event_date\": 201}, {\"month_year\": \"2023-09\", \"event_type\": \"Protests\", \"fatalities\": 0, \"event_date\": 10}, {\"month_year\": \"2023-09\", \"event_type\": \"Violence against civilians\", \"fatalities\": 88, \"event_date\": 103}, {\"month_year\": \"2023-10\", \"event_type\": \"Battles\", \"fatalities\": 845, \"event_date\": 209}, {\"month_year\": \"2023-10\", \"event_type\": \"Explosions\", \"fatalities\": 485, \"event_date\": 205}, {\"month_year\": \"2023-10\", \"event_type\": \"Protests\", \"fatalities\": 0, \"event_date\": 8}, {\"month_year\": \"2023-10\", \"event_type\": \"Violence against civilians\", \"fatalities\": 56, \"event_date\": 59}, {\"month_year\": \"2023-11\", \"event_type\": \"Battles\", \"fatalities\": 1745, \"event_date\": 183}, {\"month_year\": \"2023-11\", \"event_type\": \"Explosions\", \"fatalities\": 172, \"event_date\": 168}, {\"month_year\": \"2023-11\", \"event_type\": \"Protests\", \"fatalities\": 0, \"event_date\": 12}, {\"month_year\": \"2023-11\", \"event_type\": \"Violence against civilians\", \"fatalities\": 538, \"event_date\": 75}, {\"month_year\": \"2023-12\", \"event_type\": \"Battles\", \"fatalities\": 271, \"event_date\": 189}, {\"month_year\": \"2023-12\", \"event_type\": \"Explosions\", \"fatalities\": 240, \"event_date\": 227}, {\"month_year\": \"2023-12\", \"event_type\": \"Protests\", \"fatalities\": 0, \"event_date\": 22}, {\"month_year\": \"2023-12\", \"event_type\": \"Violence against civilians\", \"fatalities\": 230, \"event_date\": 103}, {\"month_year\": \"2024-01\", \"event_type\": \"Battles\", \"fatalities\": 559, \"event_date\": 217}, {\"month_year\": \"2024-01\", \"event_type\": \"Explosions\", \"fatalities\": 250, \"event_date\": 312}, {\"month_year\": \"2024-01\", \"event_type\": \"Protests\", \"fatalities\": 0, \"event_date\": 10}, {\"month_year\": \"2024-01\", \"event_type\": \"Violence against civilians\", \"fatalities\": 83, \"event_date\": 66}, {\"month_year\": \"2024-02\", \"event_type\": \"Battles\", \"fatalities\": 477, \"event_date\": 188}, {\"month_year\": \"2024-02\", \"event_type\": \"Explosions\", \"fatalities\": 59, \"event_date\": 108}, {\"month_year\": \"2024-02\", \"event_type\": \"Protests\", \"fatalities\": 0, \"event_date\": 5}, {\"month_year\": \"2024-02\", \"event_type\": \"Violence against civilians\", \"fatalities\": 380, \"event_date\": 162}, {\"month_year\": \"2024-03\", \"event_type\": \"Battles\", \"fatalities\": 502, \"event_date\": 145}, {\"month_year\": \"2024-03\", \"event_type\": \"Explosions\", \"fatalities\": 66, \"event_date\": 111}, {\"month_year\": \"2024-03\", \"event_type\": \"Protests\", \"fatalities\": 0, \"event_date\": 6}, {\"month_year\": \"2024-03\", \"event_type\": \"Violence against civilians\", \"fatalities\": 200, \"event_date\": 110}, {\"month_year\": \"2024-04\", \"event_type\": \"Battles\", \"fatalities\": 474, \"event_date\": 153}, {\"month_year\": \"2024-04\", \"event_type\": \"Explosions\", \"fatalities\": 144, \"event_date\": 104}, {\"month_year\": \"2024-04\", \"event_type\": \"Protests\", \"fatalities\": 0, \"event_date\": 6}, {\"month_year\": \"2024-04\", \"event_type\": \"Violence against civilians\", \"fatalities\": 229, \"event_date\": 162}, {\"month_year\": \"2024-05\", \"event_type\": \"Battles\", \"fatalities\": 585, \"event_date\": 123}, {\"month_year\": \"2024-05\", \"event_type\": \"Explosions\", \"fatalities\": 152, \"event_date\": 125}, {\"month_year\": \"2024-05\", \"event_type\": \"Protests\", \"fatalities\": 0, \"event_date\": 8}, {\"month_year\": \"2024-05\", \"event_type\": \"Violence against civilians\", \"fatalities\": 216, \"event_date\": 138}, {\"month_year\": \"2024-06\", \"event_type\": \"Battles\", \"fatalities\": 684, \"event_date\": 139}, {\"month_year\": \"2024-06\", \"event_type\": \"Explosions\", \"fatalities\": 337, \"event_date\": 144}, {\"month_year\": \"2024-06\", \"event_type\": \"Protests\", \"fatalities\": 0, \"event_date\": 4}, {\"month_year\": \"2024-06\", \"event_type\": \"Violence against civilians\", \"fatalities\": 195, \"event_date\": 85}, {\"month_year\": \"2024-07\", \"event_type\": \"Battles\", \"fatalities\": 615, \"event_date\": 156}, {\"month_year\": \"2024-07\", \"event_type\": \"Explosions\", \"fatalities\": 112, \"event_date\": 66}, {\"month_year\": \"2024-07\", \"event_type\": \"Protests\", \"fatalities\": 0, \"event_date\": 1}, {\"month_year\": \"2024-07\", \"event_type\": \"Violence against civilians\", \"fatalities\": 176, \"event_date\": 94}, {\"month_year\": \"2024-08\", \"event_type\": \"Battles\", \"fatalities\": 464, \"event_date\": 92}, {\"month_year\": \"2024-08\", \"event_type\": \"Explosions\", \"fatalities\": 256, \"event_date\": 217}, {\"month_year\": \"2024-08\", \"event_type\": \"Protests\", \"fatalities\": 0, \"event_date\": 11}, {\"month_year\": \"2024-08\", \"event_type\": \"Violence against civilians\", \"fatalities\": 76, \"event_date\": 101}, {\"month_year\": \"2024-09\", \"event_type\": \"Battles\", \"fatalities\": 837, \"event_date\": 179}, {\"month_year\": \"2024-09\", \"event_type\": \"Explosions\", \"fatalities\": 326, \"event_date\": 234}, {\"month_year\": \"2024-09\", \"event_type\": \"Protests\", \"fatalities\": 0, \"event_date\": 5}, {\"month_year\": \"2024-09\", \"event_type\": \"Violence against civilians\", \"fatalities\": 124, \"event_date\": 91}, {\"month_year\": \"2024-10\", \"event_type\": \"Battles\", \"fatalities\": 2129, \"event_date\": 194}, {\"month_year\": \"2024-10\", \"event_type\": \"Explosions\", \"fatalities\": 385, \"event_date\": 191}, {\"month_year\": \"2024-10\", \"event_type\": \"Protests\", \"fatalities\": 0, \"event_date\": 4}, {\"month_year\": \"2024-10\", \"event_type\": \"Violence against civilians\", \"fatalities\": 496, \"event_date\": 236}, {\"month_year\": \"2024-11\", \"event_type\": \"Battles\", \"fatalities\": 702, \"event_date\": 98}, {\"month_year\": \"2024-11\", \"event_type\": \"Explosions\", \"fatalities\": 349, \"event_date\": 154}, {\"month_year\": \"2024-11\", \"event_type\": \"Protests\", \"fatalities\": 0, \"event_date\": 2}, {\"month_year\": \"2024-11\", \"event_type\": \"Violence against civilians\", \"fatalities\": 460, \"event_date\": 147}, {\"month_year\": \"2024-12\", \"event_type\": \"Battles\", \"fatalities\": 574, \"event_date\": 61}, {\"month_year\": \"2024-12\", \"event_type\": \"Explosions\", \"fatalities\": 326, \"event_date\": 86}, {\"month_year\": \"2024-12\", \"event_type\": \"Protests\", \"fatalities\": 1, \"event_date\": 2}, {\"month_year\": \"2024-12\", \"event_type\": \"Violence against civilians\", \"fatalities\": 81, \"event_date\": 41}]}}, {\"mode\": \"vega-lite\"});\n",
       "</script>"
      ],
      "text/plain": [
       "alt.LayerChart(...)"
      ]
     },
     "execution_count": 850,
     "metadata": {},
     "output_type": "execute_result"
    }
   ],
   "source": [
    "# Line plot of total fatalities by month\n",
    "line = alt.Chart(acled_monthly).mark_line(color='red').encode(\n",
    "    x='month_year:O',\n",
    "    y='fatalities:Q',\n",
    "    color='event_type:O',\n",
    "    tooltip=['month_year', 'fatalities', 'event_type']\n",
    ").properties(\n",
    "    title='Total Fatalities and Incidents by Month'\n",
    ").interactive()\n",
    "\n",
    "# Bar chart of total incidents by month\n",
    "bar = alt.Chart(acled_monthly).mark_bar(color='blue').encode(\n",
    "    x='month_year:O',\n",
    "    y='event_date:Q',\n",
    "    color='event_type:O',\n",
    "    tooltip=['month_year', 'fatalities', 'event_type']\n",
    ").interactive()\n",
    "\n",
    "# Combine both charts into one with a single y-axis\n",
    "combined_chart = alt.layer(bar, line)\n",
    "\n",
    "combined_chart\n"
   ]
  },
  {
   "cell_type": "markdown",
   "metadata": {},
   "source": [
    "### COMBINED Analysis"
   ]
  },
  {
   "cell_type": "code",
   "execution_count": 1050,
   "metadata": {},
   "outputs": [],
   "source": [
    "acled_admin2 = acled[(acled['month_year'] >= '2023-04')& (acled['month_year'] <= '2024-05')]\n",
    "acled_admin2= acled_admin2.groupby('admin2').agg({'fatalities': 'sum', 'event_id_cnty': 'count'}).reset_index()\n",
    "acled_admin2.reset_index(drop=True, inplace=True)\n",
    "\n",
    "acled_admin1 = acled[(acled['month_year'] >= '2023-04') & (acled['month_year'] <= '2024-05')]\n",
    "acled_admin1 = acled_admin1.groupby('admin1').agg({'fatalities': 'sum', 'event_id_cnty': 'count'}).reset_index()\n",
    "acled_admin1.reset_index(drop=True, inplace=True)"
   ]
  },
  {
   "cell_type": "code",
   "execution_count": 1051,
   "metadata": {},
   "outputs": [],
   "source": [
    "ipc_sdn_adm2_2024 = ipc_sdn_adm2[(ipc_sdn_adm2['Validity period'] == 'current') & (ipc_sdn_adm2['Date of analysis'].str.contains('Apr 2024'))]\n",
    "ipc_sdn_adm2_2024 = ipc_sdn_adm2_2024[ipc_sdn_adm2_2024['Phase']== '3+']\n",
    "\n",
    "#splitting areas\n",
    "ipc_sdn_adm2_2024 = ipc_sdn_adm2_2024.assign(Area=ipc_sdn_adm2_2024['Area'].str.split(r'[,&]')).explode('Area').reset_index(drop=True)\n",
    "ipc_sdn_adm2_2024['Area'] = ipc_sdn_adm2_2024['Area'].str.strip()\n",
    "\n",
    "\n",
    "ipc_sdn_adm1_2024 = ipc_sdn_adm1[(ipc_sdn_adm1['Validity period'] == 'current') & (ipc_sdn_adm1['Date of analysis'].str.contains('Apr 2024'))]\n",
    "ipc_sdn_adm1_2024 = ipc_sdn_adm1_2024[ipc_sdn_adm1_2024['Phase']== '3+']"
   ]
  },
  {
   "cell_type": "code",
   "execution_count": 1052,
   "metadata": {},
   "outputs": [],
   "source": [
    "idp_admin2_2024_may = idp_admin_data[(idp_admin_data['yearReportingDate'] == 2024) & (idp_admin_data['monthReportingDate'] == 5) & (idp_admin_data['operation'] == 'Armed Clashes in Sudan (Overview)') ]\n",
    "idp_admin2_2024_may = idp_admin2_2024_may.dropna(subset=['admin2Name'])\n",
    "\n",
    "idp_admin1_2024_may = idp_admin_data[(idp_admin_data['yearReportingDate'] == 2024) & (idp_admin_data['monthReportingDate'] == 5) & (idp_admin_data['operation'] == 'Armed Clashes in Sudan (Overview)') ]\n",
    "idp_admin1_2024_may = idp_admin1_2024_may.groupby('admin1Name').agg({'numPresentIdpInd':'sum'}).reset_index()"
   ]
  },
  {
   "cell_type": "markdown",
   "metadata": {},
   "source": [
    "Matching Admin 2 columns names"
   ]
  },
  {
   "cell_type": "code",
   "execution_count": 1053,
   "metadata": {},
   "outputs": [],
   "source": [
    "def clean_location(location):\n",
    "    \"\"\"Clean location names by removing common prefixes/suffixes and standardizing format.\"\"\"\n",
    "    location = str(location).lower().strip()\n",
    "    prefixes_to_remove = ['al ', 'el ', 'ar ', 'at ', 'um ', 'ad ', 'as ', 'aj ']\n",
    "    for prefix in prefixes_to_remove:\n",
    "        if location.startswith(prefix):\n",
    "            location = location[len(prefix):]\n",
    "    return location.strip()\n",
    "\n",
    "def create_lookup_dict(locations):\n",
    "    \"\"\"Create a dictionary mapping cleaned names to original names.\"\"\"\n",
    "    return {clean_location(loc): loc for loc in locations if pd.notna(loc)}\n",
    "\n",
    "def find_best_match(source_loc, target_dict, threshold=80):\n",
    "    \"\"\"Find the best matching location from target_dict for source_loc.\"\"\"\n",
    "    source_cleaned = clean_location(source_loc)\n",
    "    best_match = None\n",
    "    best_score = 0\n",
    "    best_original = None\n",
    "    \n",
    "    for target_cleaned, target_original in target_dict.items():\n",
    "        # Try different fuzzy matching algorithms\n",
    "        ratio = fuzz.ratio(source_cleaned, target_cleaned)\n",
    "        partial_ratio = fuzz.partial_ratio(source_cleaned, target_cleaned)\n",
    "        token_sort_ratio = fuzz.token_sort_ratio(source_cleaned, target_cleaned)\n",
    "        \n",
    "        # Use the highest score among different matching methods\n",
    "        score = max(ratio, partial_ratio, token_sort_ratio)\n",
    "        \n",
    "        if score > best_score and score >= threshold:\n",
    "            best_score = score\n",
    "            best_match = target_cleaned\n",
    "            best_original = target_original\n",
    "    \n",
    "    return best_original, best_score\n",
    "\n",
    "def match_locations(iom_locations, acled_locations, ipc_locations):\n",
    "    \"\"\"Match locations from IOM and ACLED to IPC locations.\"\"\"\n",
    "    results = []\n",
    "    ipc_lookup = create_lookup_dict(ipc_locations)\n",
    "    \n",
    "    # Process IOM locations\n",
    "    for iom_loc in iom_locations:\n",
    "        if pd.isna(iom_loc):\n",
    "            continue\n",
    "        ipc_match, iom_score = find_best_match(iom_loc, ipc_lookup)\n",
    "        if ipc_match:  # Only add if we found a match\n",
    "            results.append({\n",
    "                'Source': 'IOM',\n",
    "                'Original_Location': iom_loc,\n",
    "                'IPC_Original_Name': ipc_match,\n",
    "                'Match_Score': iom_score\n",
    "            })\n",
    "    \n",
    "    # Process ACLED locations\n",
    "    for acled_loc in acled_locations:\n",
    "        if pd.isna(acled_loc):\n",
    "            continue\n",
    "        ipc_match, acled_score = find_best_match(acled_loc, ipc_lookup)\n",
    "        if ipc_match:  # Only add if we found a match\n",
    "            results.append({\n",
    "                'Source': 'ACLED',\n",
    "                'Original_Location': acled_loc,\n",
    "                'IPC_Original_Name': ipc_match,\n",
    "                'Match_Score': acled_score\n",
    "            })\n",
    "    \n",
    "    # Convert results to DataFrame\n",
    "    df_results = pd.DataFrame(results)\n",
    "    \n",
    "    # Sort by match score descending\n",
    "    df_results = df_results.sort_values('Match_Score', ascending=False)\n",
    "    \n",
    "    return df_results\n",
    "\n",
    "# Extract unique locations from each dataset\n",
    "iom_locations = idp_admin2_2024_may['admin2Name'].dropna().unique()\n",
    "acled_locations = acled_admin2['admin2'].dropna().unique()\n",
    "ipc_locations = ipc_sdn_adm2_2024['Area'].dropna().unique()\n",
    "\n",
    "# Perform matching\n",
    "matches_df = match_locations(iom_locations, acled_locations, ipc_locations)\n",
    "\n",
    "# Create mapping dictionaries for each source\n",
    "iom_mapping = matches_df[matches_df['Source'] == 'IOM'].set_index('Original_Location')['IPC_Original_Name'].to_dict()\n",
    "acled_mapping = matches_df[matches_df['Source'] == 'ACLED'].set_index('Original_Location')['IPC_Original_Name'].to_dict()\n",
    "\n",
    "# Apply mappings to original dataframes\n",
    "idp_admin2_2024_may['admin2Name_IPC'] = idp_admin2_2024_may['admin2Name'].map(iom_mapping)\n",
    "acled_admin2['admin2_IPC'] = acled_admin2['admin2'].map(acled_mapping)"
   ]
  },
  {
   "cell_type": "code",
   "execution_count": 1054,
   "metadata": {},
   "outputs": [],
   "source": [
    "# List of admin2Name_IPC values to be set to NaN\n",
    "admin2_to_nan = [\n",
    "    'Al Ganab', 'Kas', 'Reifi Shamal Ad Delta', 'Ar Rahad', 'As Salam - WK', \n",
    "    'Reifi Nahr Atbara', 'Gharb Bara', 'Foro Baranga', 'Reifi Khashm Elgirba', \n",
    "    'Wasat Jabal Marrah', 'Gharb Jabal Marrah', 'Al Kamlin', 'Reifi Gharb Kassala', \n",
    "    'Al Lait', 'Atbara', 'Sharg Sennar'\n",
    "\n",
    "]\n",
    "\n",
    "# Update the dataframe\n",
    "idp_admin2_2024_may.loc[idp_admin2_2024_may['admin2Name'].isin(admin2_to_nan), 'admin2Name_IPC'] = np.nan\n",
    "\n",
    "# if admin2Name = Bara, then admin2Name_IPC = Bara\n",
    "idp_admin2_2024_may.loc[idp_admin2_2024_may['admin2Name'] == 'Bara', 'admin2Name_IPC'] = 'Bara'"
   ]
  },
  {
   "cell_type": "code",
   "execution_count": 1055,
   "metadata": {},
   "outputs": [],
   "source": [
    "# List of admin2Name_IPC values to be set to NaN\n",
    "admin2_to_nan = ['Al Buram', 'Kas', 'Gharb Jabal Marrah',\n",
    "'Wasat Jabal Marrah' , 'Reifi Gharb Kassala', 'Reifi Shamal Ad Delta', 'Sharg Sennar']\n",
    "\n",
    "# Update the dataframe\n",
    "acled_admin2.loc[acled_admin2['admin2'].isin(admin2_to_nan), 'admin2Name_IPC'] = np.nan\n"
   ]
  },
  {
   "cell_type": "code",
   "execution_count": 1056,
   "metadata": {},
   "outputs": [],
   "source": [
    "# Save mapping results\n",
    "matches_df.to_csv('sudan/location_matches_with_originals.csv', index=False)\n",
    "idp_admin2_2024_may.to_csv('sudan/idp_admin2_2024_may_mapped.csv', index=False)\n",
    "acled_admin2.to_csv('sudan/acled_admin2_mapped.csv', index=False)\n"
   ]
  },
  {
   "cell_type": "markdown",
   "metadata": {},
   "source": [
    "### IPC + ACLED"
   ]
  },
  {
   "cell_type": "code",
   "execution_count": 1057,
   "metadata": {},
   "outputs": [],
   "source": [
    "#Adm 1\n",
    "acled_admin1['admin1'] = acled_admin1['admin1'].replace('Al Jazirah', 'Aj Jazirah')\n",
    "acled_ipc_adm1 = pd.merge(acled_admin1, ipc_sdn_adm1_2024, left_on=['admin1'], right_on=['Level 1'], how='inner')"
   ]
  },
  {
   "cell_type": "code",
   "execution_count": 1058,
   "metadata": {},
   "outputs": [],
   "source": [
    "#Adm 2\n",
    "acled_ipc_adm2 = pd.merge(acled_admin2, ipc_sdn_adm2_2024, left_on=['admin2_IPC'], right_on=['Area'], how='inner')"
   ]
  },
  {
   "cell_type": "code",
   "execution_count": 1061,
   "metadata": {},
   "outputs": [],
   "source": [
    "#save acled_ipc_adm2 to csv\n",
    "acled_ipc_adm2.to_csv('sudan/acled_ipc_adm2.csv', index=False)"
   ]
  },
  {
   "cell_type": "markdown",
   "metadata": {},
   "source": [
    "### IPC + IDP"
   ]
  },
  {
   "cell_type": "code",
   "execution_count": 1062,
   "metadata": {},
   "outputs": [],
   "source": [
    "#Adm 2\n",
    "idp_ipc_adm2 = pd.merge(idp_admin2_2024_may, ipc_sdn_adm2_2024, left_on=['admin2Name_IPC'], right_on=['Area'], how='inner')\n",
    "idp_ipc_adm1 = pd.merge(idp_admin1_2024_may, ipc_sdn_adm1_2024, left_on=['admin1Name'], right_on=['Level 1'], how='inner')"
   ]
  },
  {
   "cell_type": "code",
   "execution_count": 1065,
   "metadata": {},
   "outputs": [],
   "source": [
    "acled_idp_ipc_adm2 = pd.merge(acled_ipc_adm2, idp_ipc_adm2, left_on=['Area'], right_on=['Area'], how='inner')\n",
    "\n",
    "acled_idp_ipc_adm2 = acled_idp_ipc_adm2[['Area', 'Level 1_x','fatalities', 'event_id_cnty', 'numPresentIdpInd', 'Number_x']]\n",
    "acled_idp_ipc_adm2.rename(columns={'Number_x':'phase3plus'}, inplace=True)\n",
    "acled_idp_ipc_adm2.rename(columns={'Level 1_x':'Level 1'}, inplace=True)"
   ]
  },
  {
   "cell_type": "code",
   "execution_count": 1073,
   "metadata": {},
   "outputs": [
    {
     "data": {
      "text/html": [
       "<div>\n",
       "<style scoped>\n",
       "    .dataframe tbody tr th:only-of-type {\n",
       "        vertical-align: middle;\n",
       "    }\n",
       "\n",
       "    .dataframe tbody tr th {\n",
       "        vertical-align: top;\n",
       "    }\n",
       "\n",
       "    .dataframe thead th {\n",
       "        text-align: right;\n",
       "    }\n",
       "</style>\n",
       "<table border=\"1\" class=\"dataframe\">\n",
       "  <thead>\n",
       "    <tr style=\"text-align: right;\">\n",
       "      <th></th>\n",
       "      <th>phase3plus</th>\n",
       "      <th>Area</th>\n",
       "      <th>fatalities</th>\n",
       "      <th>event_id_cnty</th>\n",
       "      <th>numPresentIdpInd</th>\n",
       "      <th>Level 1</th>\n",
       "    </tr>\n",
       "  </thead>\n",
       "  <tbody>\n",
       "    <tr>\n",
       "      <th>0</th>\n",
       "      <td>10020</td>\n",
       "      <td>Babanusa</td>\n",
       "      <td>307</td>\n",
       "      <td>77</td>\n",
       "      <td>34417</td>\n",
       "      <td>West Kordofan</td>\n",
       "    </tr>\n",
       "    <tr>\n",
       "      <th>1</th>\n",
       "      <td>107151</td>\n",
       "      <td>Merwoe</td>\n",
       "      <td>44</td>\n",
       "      <td>26</td>\n",
       "      <td>77802</td>\n",
       "      <td>Northern</td>\n",
       "    </tr>\n",
       "    <tr>\n",
       "      <th>2</th>\n",
       "      <td>1083799</td>\n",
       "      <td>Khartoum, UmDurman, Um Bada</td>\n",
       "      <td>3755</td>\n",
       "      <td>2723</td>\n",
       "      <td>21902</td>\n",
       "      <td>Khartoum</td>\n",
       "    </tr>\n",
       "    <tr>\n",
       "      <th>3</th>\n",
       "      <td>108770</td>\n",
       "      <td>Dilling</td>\n",
       "      <td>143</td>\n",
       "      <td>53</td>\n",
       "      <td>44297</td>\n",
       "      <td>South Kordofan</td>\n",
       "    </tr>\n",
       "    <tr>\n",
       "      <th>4</th>\n",
       "      <td>109223</td>\n",
       "      <td>Al fao</td>\n",
       "      <td>26</td>\n",
       "      <td>18</td>\n",
       "      <td>70113</td>\n",
       "      <td>Gedaref</td>\n",
       "    </tr>\n",
       "    <tr>\n",
       "      <th>...</th>\n",
       "      <td>...</td>\n",
       "      <td>...</td>\n",
       "      <td>...</td>\n",
       "      <td>...</td>\n",
       "      <td>...</td>\n",
       "      <td>...</td>\n",
       "    </tr>\n",
       "    <tr>\n",
       "      <th>92</th>\n",
       "      <td>91277</td>\n",
       "      <td>Abu Jubayhah, Ar Rashad</td>\n",
       "      <td>0</td>\n",
       "      <td>5</td>\n",
       "      <td>77189</td>\n",
       "      <td>South Kordofan</td>\n",
       "    </tr>\n",
       "    <tr>\n",
       "      <th>93</th>\n",
       "      <td>91961</td>\n",
       "      <td>Sirba</td>\n",
       "      <td>272</td>\n",
       "      <td>28</td>\n",
       "      <td>26225</td>\n",
       "      <td>West Darfur</td>\n",
       "    </tr>\n",
       "    <tr>\n",
       "      <th>94</th>\n",
       "      <td>936591</td>\n",
       "      <td>Jebel awlia, Karrari</td>\n",
       "      <td>1768</td>\n",
       "      <td>686</td>\n",
       "      <td>21500</td>\n",
       "      <td>Khartoum</td>\n",
       "    </tr>\n",
       "    <tr>\n",
       "      <th>95</th>\n",
       "      <td>95295</td>\n",
       "      <td>Abu hujar</td>\n",
       "      <td>0</td>\n",
       "      <td>2</td>\n",
       "      <td>55681</td>\n",
       "      <td>Sennar</td>\n",
       "    </tr>\n",
       "    <tr>\n",
       "      <th>96</th>\n",
       "      <td>99110</td>\n",
       "      <td>Haya</td>\n",
       "      <td>0</td>\n",
       "      <td>3</td>\n",
       "      <td>1955</td>\n",
       "      <td>Red Sea</td>\n",
       "    </tr>\n",
       "  </tbody>\n",
       "</table>\n",
       "<p>97 rows × 6 columns</p>\n",
       "</div>"
      ],
      "text/plain": [
       "   phase3plus                         Area  fatalities  event_id_cnty  \\\n",
       "0       10020                     Babanusa         307             77   \n",
       "1      107151                       Merwoe          44             26   \n",
       "2     1083799  Khartoum, UmDurman, Um Bada        3755           2723   \n",
       "3      108770                      Dilling         143             53   \n",
       "4      109223                       Al fao          26             18   \n",
       "..        ...                          ...         ...            ...   \n",
       "92      91277      Abu Jubayhah, Ar Rashad           0              5   \n",
       "93      91961                        Sirba         272             28   \n",
       "94     936591         Jebel awlia, Karrari        1768            686   \n",
       "95      95295                    Abu hujar           0              2   \n",
       "96      99110                         Haya           0              3   \n",
       "\n",
       "    numPresentIdpInd         Level 1  \n",
       "0              34417   West Kordofan  \n",
       "1              77802        Northern  \n",
       "2              21902        Khartoum  \n",
       "3              44297  South Kordofan  \n",
       "4              70113         Gedaref  \n",
       "..               ...             ...  \n",
       "92             77189  South Kordofan  \n",
       "93             26225     West Darfur  \n",
       "94             21500        Khartoum  \n",
       "95             55681          Sennar  \n",
       "96              1955         Red Sea  \n",
       "\n",
       "[97 rows x 6 columns]"
      ]
     },
     "execution_count": 1073,
     "metadata": {},
     "output_type": "execute_result"
    }
   ],
   "source": [
    "acled_idp_ipc_adm2 = acled_idp_ipc_adm2.groupby('phase3plus').agg({\n",
    "    'Area': lambda x: ', '.join(x),\n",
    "    'fatalities': 'sum',\n",
    "    'event_id_cnty': 'sum',\n",
    "    'numPresentIdpInd': 'sum',\n",
    "    'Level 1': 'first'\n",
    "}).reset_index()\n",
    "\n",
    "\n",
    "acled_idp_ipc_adm2.to_csv('sudan/acled_idp_ipc_adm2.csv', index=False)"
   ]
  },
  {
   "cell_type": "code",
   "execution_count": 1066,
   "metadata": {},
   "outputs": [],
   "source": [
    "acled_idp_ipc_adm1 = pd.merge(acled_ipc_adm1, idp_ipc_adm1, left_on=['Level 1'], right_on=['Level 1'], how='outer')\n",
    "acled_idp_ipc_adm1 = pd.merge(acled_idp_ipc_adm1, idp_origin_2024, left_on=['Level 1'], right_on=['state_origin'], how='outer')\n",
    "\n",
    "acled_idp_ipc_adm1 = acled_idp_ipc_adm1[['Level 1', 'fatalities', 'event_id_cnty', 'numPresentIdpInd', 'Number_x', 'affected_idps_state']]\n",
    "acled_idp_ipc_adm1.rename(columns={'Number_x':'phase3plus'}, inplace=True)\n",
    "acled_idp_ipc_adm1.to_csv('sudan/acled_idp_ipc_adm1.csv', index=False)"
   ]
  },
  {
   "cell_type": "code",
   "execution_count": 1067,
   "metadata": {},
   "outputs": [
    {
     "data": {
      "text/html": [
       "\n",
       "<style>\n",
       "  #altair-viz-fc80936b0c5e4fa9a31cc4d215375699.vega-embed {\n",
       "    width: 100%;\n",
       "    display: flex;\n",
       "  }\n",
       "\n",
       "  #altair-viz-fc80936b0c5e4fa9a31cc4d215375699.vega-embed details,\n",
       "  #altair-viz-fc80936b0c5e4fa9a31cc4d215375699.vega-embed details summary {\n",
       "    position: relative;\n",
       "  }\n",
       "</style>\n",
       "<div id=\"altair-viz-fc80936b0c5e4fa9a31cc4d215375699\"></div>\n",
       "<script type=\"text/javascript\">\n",
       "  var VEGA_DEBUG = (typeof VEGA_DEBUG == \"undefined\") ? {} : VEGA_DEBUG;\n",
       "  (function(spec, embedOpt){\n",
       "    let outputDiv = document.currentScript.previousElementSibling;\n",
       "    if (outputDiv.id !== \"altair-viz-fc80936b0c5e4fa9a31cc4d215375699\") {\n",
       "      outputDiv = document.getElementById(\"altair-viz-fc80936b0c5e4fa9a31cc4d215375699\");\n",
       "    }\n",
       "    const paths = {\n",
       "      \"vega\": \"https://cdn.jsdelivr.net/npm/vega@5?noext\",\n",
       "      \"vega-lib\": \"https://cdn.jsdelivr.net/npm/vega-lib?noext\",\n",
       "      \"vega-lite\": \"https://cdn.jsdelivr.net/npm/vega-lite@5.20.1?noext\",\n",
       "      \"vega-embed\": \"https://cdn.jsdelivr.net/npm/vega-embed@6?noext\",\n",
       "    };\n",
       "\n",
       "    function maybeLoadScript(lib, version) {\n",
       "      var key = `${lib.replace(\"-\", \"\")}_version`;\n",
       "      return (VEGA_DEBUG[key] == version) ?\n",
       "        Promise.resolve(paths[lib]) :\n",
       "        new Promise(function(resolve, reject) {\n",
       "          var s = document.createElement('script');\n",
       "          document.getElementsByTagName(\"head\")[0].appendChild(s);\n",
       "          s.async = true;\n",
       "          s.onload = () => {\n",
       "            VEGA_DEBUG[key] = version;\n",
       "            return resolve(paths[lib]);\n",
       "          };\n",
       "          s.onerror = () => reject(`Error loading script: ${paths[lib]}`);\n",
       "          s.src = paths[lib];\n",
       "        });\n",
       "    }\n",
       "\n",
       "    function showError(err) {\n",
       "      outputDiv.innerHTML = `<div class=\"error\" style=\"color:red;\">${err}</div>`;\n",
       "      throw err;\n",
       "    }\n",
       "\n",
       "    function displayChart(vegaEmbed) {\n",
       "      vegaEmbed(outputDiv, spec, embedOpt)\n",
       "        .catch(err => showError(`Javascript Error: ${err.message}<br>This usually means there's a typo in your chart specification. See the javascript console for the full traceback.`));\n",
       "    }\n",
       "\n",
       "    if(typeof define === \"function\" && define.amd) {\n",
       "      requirejs.config({paths});\n",
       "      require([\"vega-embed\"], displayChart, err => showError(`Error loading script: ${err.message}`));\n",
       "    } else {\n",
       "      maybeLoadScript(\"vega\", \"5\")\n",
       "        .then(() => maybeLoadScript(\"vega-lite\", \"5.20.1\"))\n",
       "        .then(() => maybeLoadScript(\"vega-embed\", \"6\"))\n",
       "        .catch(showError)\n",
       "        .then(() => displayChart(vegaEmbed));\n",
       "    }\n",
       "  })({\"config\": {\"view\": {\"continuousWidth\": 300, \"continuousHeight\": 300}}, \"data\": {\"name\": \"data-d8da9acf89e4c87c3cf6d41c6febbcf2\"}, \"mark\": {\"type\": \"circle\"}, \"encoding\": {\"size\": {\"field\": \"fatalities\", \"type\": \"quantitative\"}, \"tooltip\": [{\"field\": \"Level 1\", \"type\": \"nominal\"}, {\"field\": \"affected_idps_state\", \"type\": \"quantitative\"}, {\"field\": \"phase3plus\", \"type\": \"nominal\"}], \"x\": {\"field\": \"affected_idps_state\", \"scale\": {\"type\": \"log\"}, \"type\": \"quantitative\"}, \"y\": {\"field\": \"phase3plus\", \"scale\": {\"type\": \"log\"}, \"type\": \"quantitative\"}}, \"params\": [{\"name\": \"param_134\", \"select\": {\"type\": \"interval\", \"encodings\": [\"x\", \"y\"]}, \"bind\": \"scales\"}], \"title\": \"IDP vs IPC by Admin1 in Sudan\", \"$schema\": \"https://vega.github.io/schema/vega-lite/v5.20.1.json\", \"datasets\": {\"data-d8da9acf89e4c87c3cf6d41c6febbcf2\": [{\"Level 1\": \"Aj Jazirah\", \"fatalities\": 1089, \"event_id_cnty\": 891, \"numPresentIdpInd\": 370894, \"phase3plus\": \"2853931\", \"affected_idps_state\": 1133745.0}, {\"Level 1\": \"Blue Nile\", \"fatalities\": 54, \"event_id_cnty\": 46, \"numPresentIdpInd\": 293862, \"phase3plus\": \"734784\", \"affected_idps_state\": 273665.0}, {\"Level 1\": \"Central Darfur\", \"fatalities\": 458, \"event_id_cnty\": 224, \"numPresentIdpInd\": 852223, \"phase3plus\": \"1167817\", \"affected_idps_state\": 746573.0}, {\"Level 1\": \"East Darfur\", \"fatalities\": 73, \"event_id_cnty\": 67, \"numPresentIdpInd\": 757123, \"phase3plus\": \"686566\", \"affected_idps_state\": 247616.0}, {\"Level 1\": \"Gedaref\", \"fatalities\": 37, \"event_id_cnty\": 101, \"numPresentIdpInd\": 539064, \"phase3plus\": \"966142\", \"affected_idps_state\": 14284.0}, {\"Level 1\": \"Kassala\", \"fatalities\": 2, \"event_id_cnty\": 57, \"numPresentIdpInd\": 210393, \"phase3plus\": \"1130199\", \"affected_idps_state\": 6126.0}, {\"Level 1\": \"Khartoum\", \"fatalities\": 7329, \"event_id_cnty\": 4425, \"numPresentIdpInd\": 82592, \"phase3plus\": \"2541541\", \"affected_idps_state\": 3671823.0}, {\"Level 1\": \"North Darfur\", \"fatalities\": 1242, \"event_id_cnty\": 578, \"numPresentIdpInd\": 1279699, \"phase3plus\": \"1438277\", \"affected_idps_state\": 1654189.0}, {\"Level 1\": \"North Kordofan\", \"fatalities\": 1183, \"event_id_cnty\": 357, \"numPresentIdpInd\": 194624, \"phase3plus\": \"981111\", \"affected_idps_state\": 87246.0}, {\"Level 1\": \"Northern\", \"fatalities\": 45, \"event_id_cnty\": 66, \"numPresentIdpInd\": 392399, \"phase3plus\": \"416243\", \"affected_idps_state\": 11962.0}, {\"Level 1\": \"Red Sea\", \"fatalities\": 1, \"event_id_cnty\": 79, \"numPresentIdpInd\": 261290, \"phase3plus\": \"538962\", \"affected_idps_state\": 33043.0}, {\"Level 1\": \"River Nile\", \"fatalities\": 56, \"event_id_cnty\": 75, \"numPresentIdpInd\": 726216, \"phase3plus\": \"621542\", \"affected_idps_state\": 69922.0}, {\"Level 1\": \"Sennar\", \"fatalities\": 142, \"event_id_cnty\": 80, \"numPresentIdpInd\": 579198, \"phase3plus\": \"1311693\", \"affected_idps_state\": 320382.0}, {\"Level 1\": \"South Darfur\", \"fatalities\": 1660, \"event_id_cnty\": 401, \"numPresentIdpInd\": 1812264, \"phase3plus\": \"2041268\", \"affected_idps_state\": 2080427.0}, {\"Level 1\": \"South Kordofan\", \"fatalities\": 891, \"event_id_cnty\": 278, \"numPresentIdpInd\": 429152, \"phase3plus\": \"1018272\", \"affected_idps_state\": 417011.0}, {\"Level 1\": \"West Darfur\", \"fatalities\": 4929, \"event_id_cnty\": 318, \"numPresentIdpInd\": 299387, \"phase3plus\": \"765187\", \"affected_idps_state\": 388757.0}, {\"Level 1\": \"West Kordofan\", \"fatalities\": 575, \"event_id_cnty\": 213, \"numPresentIdpInd\": 300470, \"phase3plus\": \"826909\", \"affected_idps_state\": 312745.0}, {\"Level 1\": \"White Nile\", \"fatalities\": 74, \"event_id_cnty\": 112, \"numPresentIdpInd\": 576805, \"phase3plus\": \"1271505\", \"affected_idps_state\": 63258.0}]}}, {\"mode\": \"vega-lite\"});\n",
       "</script>"
      ],
      "text/plain": [
       "alt.Chart(...)"
      ]
     },
     "execution_count": 1067,
     "metadata": {},
     "output_type": "execute_result"
    }
   ],
   "source": [
    "chart = alt.Chart(acled_idp_ipc_adm1).mark_circle().encode(\n",
    "    x=alt.X('affected_idps_state:Q', scale=alt.Scale(type='log')),\n",
    "    y=alt.Y('phase3plus:Q', scale=alt.Scale(type='log')),\n",
    "    size=alt.Size('fatalities:Q'),\n",
    "    tooltip=[ 'Level 1','affected_idps_state', 'phase3plus']\n",
    ").properties(\n",
    "    title='IDP vs IPC by Admin1 in Sudan'\n",
    ").interactive()\n",
    "\n",
    "chart"
   ]
  },
  {
   "cell_type": "code",
   "execution_count": 1076,
   "metadata": {},
   "outputs": [
    {
     "data": {
      "text/html": [
       "\n",
       "<style>\n",
       "  #altair-viz-517af1738ec4413990bf29338fcfb38b.vega-embed {\n",
       "    width: 100%;\n",
       "    display: flex;\n",
       "  }\n",
       "\n",
       "  #altair-viz-517af1738ec4413990bf29338fcfb38b.vega-embed details,\n",
       "  #altair-viz-517af1738ec4413990bf29338fcfb38b.vega-embed details summary {\n",
       "    position: relative;\n",
       "  }\n",
       "</style>\n",
       "<div id=\"altair-viz-517af1738ec4413990bf29338fcfb38b\"></div>\n",
       "<script type=\"text/javascript\">\n",
       "  var VEGA_DEBUG = (typeof VEGA_DEBUG == \"undefined\") ? {} : VEGA_DEBUG;\n",
       "  (function(spec, embedOpt){\n",
       "    let outputDiv = document.currentScript.previousElementSibling;\n",
       "    if (outputDiv.id !== \"altair-viz-517af1738ec4413990bf29338fcfb38b\") {\n",
       "      outputDiv = document.getElementById(\"altair-viz-517af1738ec4413990bf29338fcfb38b\");\n",
       "    }\n",
       "    const paths = {\n",
       "      \"vega\": \"https://cdn.jsdelivr.net/npm/vega@5?noext\",\n",
       "      \"vega-lib\": \"https://cdn.jsdelivr.net/npm/vega-lib?noext\",\n",
       "      \"vega-lite\": \"https://cdn.jsdelivr.net/npm/vega-lite@5.20.1?noext\",\n",
       "      \"vega-embed\": \"https://cdn.jsdelivr.net/npm/vega-embed@6?noext\",\n",
       "    };\n",
       "\n",
       "    function maybeLoadScript(lib, version) {\n",
       "      var key = `${lib.replace(\"-\", \"\")}_version`;\n",
       "      return (VEGA_DEBUG[key] == version) ?\n",
       "        Promise.resolve(paths[lib]) :\n",
       "        new Promise(function(resolve, reject) {\n",
       "          var s = document.createElement('script');\n",
       "          document.getElementsByTagName(\"head\")[0].appendChild(s);\n",
       "          s.async = true;\n",
       "          s.onload = () => {\n",
       "            VEGA_DEBUG[key] = version;\n",
       "            return resolve(paths[lib]);\n",
       "          };\n",
       "          s.onerror = () => reject(`Error loading script: ${paths[lib]}`);\n",
       "          s.src = paths[lib];\n",
       "        });\n",
       "    }\n",
       "\n",
       "    function showError(err) {\n",
       "      outputDiv.innerHTML = `<div class=\"error\" style=\"color:red;\">${err}</div>`;\n",
       "      throw err;\n",
       "    }\n",
       "\n",
       "    function displayChart(vegaEmbed) {\n",
       "      vegaEmbed(outputDiv, spec, embedOpt)\n",
       "        .catch(err => showError(`Javascript Error: ${err.message}<br>This usually means there's a typo in your chart specification. See the javascript console for the full traceback.`));\n",
       "    }\n",
       "\n",
       "    if(typeof define === \"function\" && define.amd) {\n",
       "      requirejs.config({paths});\n",
       "      require([\"vega-embed\"], displayChart, err => showError(`Error loading script: ${err.message}`));\n",
       "    } else {\n",
       "      maybeLoadScript(\"vega\", \"5\")\n",
       "        .then(() => maybeLoadScript(\"vega-lite\", \"5.20.1\"))\n",
       "        .then(() => maybeLoadScript(\"vega-embed\", \"6\"))\n",
       "        .catch(showError)\n",
       "        .then(() => displayChart(vegaEmbed));\n",
       "    }\n",
       "  })({\"config\": {\"view\": {\"continuousWidth\": 300, \"continuousHeight\": 300}}, \"data\": {\"name\": \"data-24cd6d3a54e3fcf0c3aa10022e68eefe\"}, \"mark\": {\"type\": \"circle\"}, \"encoding\": {\"color\": {\"field\": \"Level 1\", \"legend\": {\"title\": \"Admin 1 Area\"}, \"type\": \"nominal\"}, \"size\": {\"field\": \"fatalities\", \"type\": \"quantitative\"}, \"tooltip\": [{\"field\": \"Area\", \"type\": \"nominal\"}, {\"field\": \"fatalities\", \"type\": \"quantitative\"}, {\"field\": \"phase3plus\", \"type\": \"nominal\"}], \"x\": {\"field\": \"phase3plus\", \"scale\": {\"type\": \"log\"}, \"title\": \"People in IPC Phase 3+ (Log)\", \"type\": \"quantitative\"}, \"y\": {\"field\": \"event_id_cnty\", \"scale\": {\"type\": \"log\"}, \"title\": null, \"type\": \"quantitative\"}}, \"params\": [{\"name\": \"param_139\", \"select\": {\"type\": \"interval\", \"encodings\": [\"x\", \"y\"]}, \"bind\": \"scales\"}], \"title\": \"Food Insecurity, IDPs and Conflict in Sudan, Adm\", \"$schema\": \"https://vega.github.io/schema/vega-lite/v5.20.1.json\", \"datasets\": {\"data-24cd6d3a54e3fcf0c3aa10022e68eefe\": [{\"phase3plus\": \"10020\", \"Area\": \"Babanusa\", \"fatalities\": 307, \"event_id_cnty\": 77, \"numPresentIdpInd\": 34417, \"Level 1\": \"West Kordofan\"}, {\"phase3plus\": \"107151\", \"Area\": \"Merwoe\", \"fatalities\": 44, \"event_id_cnty\": 26, \"numPresentIdpInd\": 77802, \"Level 1\": \"Northern\"}, {\"phase3plus\": \"1083799\", \"Area\": \"Khartoum, UmDurman, Um Bada\", \"fatalities\": 3755, \"event_id_cnty\": 2723, \"numPresentIdpInd\": 21902, \"Level 1\": \"Khartoum\"}, {\"phase3plus\": \"108770\", \"Area\": \"Dilling\", \"fatalities\": 143, \"event_id_cnty\": 53, \"numPresentIdpInd\": 44297, \"Level 1\": \"South Kordofan\"}, {\"phase3plus\": \"109223\", \"Area\": \"Al fao\", \"fatalities\": 26, \"event_id_cnty\": 18, \"numPresentIdpInd\": 70113, \"Level 1\": \"Gedaref\"}, {\"phase3plus\": \"110231\", \"Area\": \"Baw\", \"fatalities\": 0, \"event_id_cnty\": 3, \"numPresentIdpInd\": 50471, \"Level 1\": \"Blue Nile\"}, {\"phase3plus\": \"121328\", \"Area\": \"At Tina\", \"fatalities\": 0, \"event_id_cnty\": 3, \"numPresentIdpInd\": 5385, \"Level 1\": \"North Darfur\"}, {\"phase3plus\": \"124956\", \"Area\": \"At tawisha\", \"fatalities\": 0, \"event_id_cnty\": 1, \"numPresentIdpInd\": 1835, \"Level 1\": \"North Darfur\"}, {\"phase3plus\": \"128909\", \"Area\": \"Dar as salam, Kelemando\", \"fatalities\": 20, \"event_id_cnty\": 19, \"numPresentIdpInd\": 81903, \"Level 1\": \"North Darfur\"}, {\"phase3plus\": \"133123\", \"Area\": \"Aj jabalain\", \"fatalities\": 0, \"event_id_cnty\": 5, \"numPresentIdpInd\": 129459, \"Level 1\": \"White Nile\"}, {\"phase3plus\": \"134355\", \"Area\": \"An Nuhud\", \"fatalities\": 6, \"event_id_cnty\": 24, \"numPresentIdpInd\": 45809, \"Level 1\": \"West Kordofan\"}, {\"phase3plus\": \"135311\", \"Area\": \"New Halfa\", \"fatalities\": 0, \"event_id_cnty\": 5, \"numPresentIdpInd\": 36341, \"Level 1\": \"Kassala\"}, {\"phase3plus\": \"140966\", \"Area\": \"Ag geneina\", \"fatalities\": 4460, \"event_id_cnty\": 242, \"numPresentIdpInd\": 80590, \"Level 1\": \"West Darfur\"}, {\"phase3plus\": \"146748\", \"Area\": \"Al Dibab, Al Meiram\", \"fatalities\": 0, \"event_id_cnty\": 4, \"numPresentIdpInd\": 29164, \"Level 1\": \"West Kordofan\"}, {\"phase3plus\": \"147167\", \"Area\": \"Sinja\", \"fatalities\": 2, \"event_id_cnty\": 7, \"numPresentIdpInd\": 74037, \"Level 1\": \"Sennar\"}, {\"phase3plus\": \"15004\", \"Area\": \"Sawakin\", \"fatalities\": 0, \"event_id_cnty\": 7, \"numPresentIdpInd\": 6812, \"Level 1\": \"Red Sea\"}, {\"phase3plus\": \"151440\", \"Area\": \"Abu Zabad, Al Idia\", \"fatalities\": 27, \"event_id_cnty\": 24, \"numPresentIdpInd\": 74764, \"Level 1\": \"West Kordofan\"}, {\"phase3plus\": \"154935\", \"Area\": \"Kutum, Tawila\", \"fatalities\": 241, \"event_id_cnty\": 69, \"numPresentIdpInd\": 323155, \"Level 1\": \"North Darfur\"}, {\"phase3plus\": \"166470\", \"Area\": \"Medani al kubra\", \"fatalities\": 217, \"event_id_cnty\": 180, \"numPresentIdpInd\": 22155, \"Level 1\": \"Aj Jazirah\"}, {\"phase3plus\": \"16885\", \"Area\": \"Beida\", \"fatalities\": 50, \"event_id_cnty\": 10, \"numPresentIdpInd\": 3105, \"Level 1\": \"West Darfur\"}, {\"phase3plus\": \"169248\", \"Area\": \"Mukjar, Um Dukhun\", \"fatalities\": 29, \"event_id_cnty\": 19, \"numPresentIdpInd\": 90385, \"Level 1\": \"Central Darfur\"}, {\"phase3plus\": \"171650\", \"Area\": \"Ad damar\", \"fatalities\": 11, \"event_id_cnty\": 19, \"numPresentIdpInd\": 155060, \"Level 1\": \"River Nile\"}, {\"phase3plus\": \"174900\", \"Area\": \"Al Khiwai, Ghubaish, Wad Bandah\", \"fatalities\": 94, \"event_id_cnty\": 17, \"numPresentIdpInd\": 28402, \"Level 1\": \"West Kordofan\"}, {\"phase3plus\": \"175313\", \"Area\": \"Shendi\", \"fatalities\": 40, \"event_id_cnty\": 22, \"numPresentIdpInd\": 198415, \"Level 1\": \"River Nile\"}, {\"phase3plus\": \"175916\", \"Area\": \"Ed damazine\", \"fatalities\": 0, \"event_id_cnty\": 30, \"numPresentIdpInd\": 106406, \"Level 1\": \"Blue Nile\"}, {\"phase3plus\": \"188600\", \"Area\": \"Rabak\", \"fatalities\": 1, \"event_id_cnty\": 13, \"numPresentIdpInd\": 100552, \"Level 1\": \"White Nile\"}, {\"phase3plus\": \"192976\", \"Area\": \"Gebrat al sheikh, Soudari\", \"fatalities\": 64, \"event_id_cnty\": 25, \"numPresentIdpInd\": 11251, \"Level 1\": \"North Kordofan\"}, {\"phase3plus\": \"19455\", \"Area\": \"Al buhaira\", \"fatalities\": 0, \"event_id_cnty\": 2, \"numPresentIdpInd\": 25165, \"Level 1\": \"River Nile\"}, {\"phase3plus\": \"195838\", \"Area\": \"Ad dinder\", \"fatalities\": 0, \"event_id_cnty\": 5, \"numPresentIdpInd\": 64319, \"Level 1\": \"Sennar\"}, {\"phase3plus\": \"198328\", \"Area\": \"Kas, Sharg aj Jabal\", \"fatalities\": 33, \"event_id_cnty\": 11, \"numPresentIdpInd\": 38485, \"Level 1\": \"South Darfur\"}, {\"phase3plus\": \"2005856\", \"Area\": \"Al hasahisa, Kamlin Janub Al Jazirah, Kamlin Janub Al Jazirah, Algura\", \"fatalities\": 760, \"event_id_cnty\": 599, \"numPresentIdpInd\": 138682, \"Level 1\": \"Aj Jazirah\"}, {\"phase3plus\": \"200669\", \"Area\": \"As suki\", \"fatalities\": 9, \"event_id_cnty\": 2, \"numPresentIdpInd\": 112934, \"Level 1\": \"Sennar\"}, {\"phase3plus\": \"203436\", \"Area\": \"Kereneik\", \"fatalities\": 94, \"event_id_cnty\": 21, \"numPresentIdpInd\": 41600, \"Level 1\": \"West Darfur\"}, {\"phase3plus\": \"205212\", \"Area\": \"Kassala, Kassala\", \"fatalities\": 2, \"event_id_cnty\": 48, \"numPresentIdpInd\": 261624, \"Level 1\": \"Kassala\"}, {\"phase3plus\": \"221350\", \"Area\": \"Al gitaina\", \"fatalities\": 35, \"event_id_cnty\": 45, \"numPresentIdpInd\": 13285, \"Level 1\": \"White Nile\"}, {\"phase3plus\": \"22230\", \"Area\": \"At tadamon - sk\", \"fatalities\": 12, \"event_id_cnty\": 6, \"numPresentIdpInd\": 2093, \"Level 1\": \"South Kordofan\"}, {\"phase3plus\": \"22663\", \"Area\": \"Delami\", \"fatalities\": 72, \"event_id_cnty\": 22, \"numPresentIdpInd\": 4781, \"Level 1\": \"South Kordofan\"}, {\"phase3plus\": \"231568\", \"Area\": \"Ad diwaim, Um Rimta\", \"fatalities\": 9, \"event_id_cnty\": 15, \"numPresentIdpInd\": 101046, \"Level 1\": \"White Nile\"}, {\"phase3plus\": \"236745\", \"Area\": \"Al fasher\", \"fatalities\": 866, \"event_id_cnty\": 382, \"numPresentIdpInd\": 592826, \"Level 1\": \"North Darfur\"}, {\"phase3plus\": \"236766\", \"Area\": \"Um Rawaba\", \"fatalities\": 173, \"event_id_cnty\": 65, \"numPresentIdpInd\": 41916, \"Level 1\": \"North Kordofan\"}, {\"phase3plus\": \"241232\", \"Area\": \"Madeinat al gedaref\", \"fatalities\": 6, \"event_id_cnty\": 53, \"numPresentIdpInd\": 133964, \"Level 1\": \"Gedaref\"}, {\"phase3plus\": \"242549\", \"Area\": \"Al Wihda, Mershing, Nitega\", \"fatalities\": 39, \"event_id_cnty\": 24, \"numPresentIdpInd\": 119670, \"Level 1\": \"South Darfur\"}, {\"phase3plus\": \"25357\", \"Area\": \"Abu hamad\", \"fatalities\": 0, \"event_id_cnty\": 4, \"numPresentIdpInd\": 47893, \"Level 1\": \"River Nile\"}, {\"phase3plus\": \"256748\", \"Area\": \"Kebkabiya, Saraf Omra\", \"fatalities\": 41, \"event_id_cnty\": 35, \"numPresentIdpInd\": 145502, \"Level 1\": \"North Darfur\"}, {\"phase3plus\": \"25786\", \"Area\": \"Delgo\", \"fatalities\": 0, \"event_id_cnty\": 3, \"numPresentIdpInd\": 40375, \"Level 1\": \"Northern\"}, {\"phase3plus\": \"261498\", \"Area\": \"Bara, Um Dam Haj Ahmed\", \"fatalities\": 88, \"event_id_cnty\": 20, \"numPresentIdpInd\": 47381, \"Level 1\": \"North Kordofan\"}, {\"phase3plus\": \"261912\", \"Area\": \"Melit, Melit, Al malha, Al malha, Um kadadah\", \"fatalities\": 74, \"event_id_cnty\": 70, \"numPresentIdpInd\": 143928, \"Level 1\": \"North Darfur\"}, {\"phase3plus\": \"282220\", \"Area\": \"Sheikan\", \"fatalities\": 747, \"event_id_cnty\": 185, \"numPresentIdpInd\": 43277, \"Level 1\": \"North Kordofan\"}, {\"phase3plus\": \"28620\", \"Area\": \"Halfa\", \"fatalities\": 0, \"event_id_cnty\": 3, \"numPresentIdpInd\": 52220, \"Level 1\": \"Northern\"}, {\"phase3plus\": \"308970\", \"Area\": \"Al radoum, Rehaid al Birdi, Um Dafoug\", \"fatalities\": 47, \"event_id_cnty\": 13, \"numPresentIdpInd\": 55200, \"Level 1\": \"South Darfur\"}, {\"phase3plus\": \"310838\", \"Area\": \"Ed al fursan, Kateila, Kubum\", \"fatalities\": 242, \"event_id_cnty\": 24, \"numPresentIdpInd\": 83034, \"Level 1\": \"South Darfur\"}, {\"phase3plus\": \"34158\", \"Area\": \"Al mafaza\", \"fatalities\": 0, \"event_id_cnty\": 3, \"numPresentIdpInd\": 43260, \"Level 1\": \"Gedaref\"}, {\"phase3plus\": \"36365\", \"Area\": \"Keilak\", \"fatalities\": 0, \"event_id_cnty\": 2, \"numPresentIdpInd\": 13568, \"Level 1\": \"West Kordofan\"}, {\"phase3plus\": \"367729\", \"Area\": \"Sennar, Sennar\", \"fatalities\": 131, \"event_id_cnty\": 64, \"numPresentIdpInd\": 298468, \"Level 1\": \"Sennar\"}, {\"phase3plus\": \"369837\", \"Area\": \"Azum, Bendasi, Wadi Salih, Zalingi\", \"fatalities\": 404, \"event_id_cnty\": 176, \"numPresentIdpInd\": 390736, \"Level 1\": \"Central Darfur\"}, {\"phase3plus\": \"37011\", \"Area\": \"Kulbus\", \"fatalities\": 0, \"event_id_cnty\": 2, \"numPresentIdpInd\": 44482, \"Level 1\": \"West Darfur\"}, {\"phase3plus\": \"37186\", \"Area\": \"Barbar\", \"fatalities\": 0, \"event_id_cnty\": 4, \"numPresentIdpInd\": 21486, \"Level 1\": \"River Nile\"}, {\"phase3plus\": \"38549\", \"Area\": \"Ar reif ash shargi\", \"fatalities\": 70, \"event_id_cnty\": 15, \"numPresentIdpInd\": 39030, \"Level 1\": \"South Kordofan\"}, {\"phase3plus\": \"38972\", \"Area\": \"Ghadeer, Talawdi\", \"fatalities\": 120, \"event_id_cnty\": 14, \"numPresentIdpInd\": 23865, \"Level 1\": \"South Kordofan\"}, {\"phase3plus\": \"41882\", \"Area\": \"Habila - sk\", \"fatalities\": 134, \"event_id_cnty\": 34, \"numPresentIdpInd\": 59211, \"Level 1\": \"South Kordofan\"}, {\"phase3plus\": \"42800\", \"Area\": \"Basundah\", \"fatalities\": 0, \"event_id_cnty\": 7, \"numPresentIdpInd\": 45765, \"Level 1\": \"Gedaref\"}, {\"phase3plus\": \"43720\", \"Area\": \"Jebel moon\", \"fatalities\": 4, \"event_id_cnty\": 2, \"numPresentIdpInd\": 65540, \"Level 1\": \"West Darfur\"}, {\"phase3plus\": \"44963\", \"Area\": \"Gala'a al nahal\", \"fatalities\": 1, \"event_id_cnty\": 3, \"numPresentIdpInd\": 12202, \"Level 1\": \"Gedaref\"}, {\"phase3plus\": \"453642\", \"Area\": \"Beliel, As salam - sd, Nyala Janoub, Nyala Shimal\", \"fatalities\": 1030, \"event_id_cnty\": 321, \"numPresentIdpInd\": 905780, \"Level 1\": \"South Darfur\"}, {\"phase3plus\": \"45537\", \"Area\": \"Al butanah\", \"fatalities\": 1, \"event_id_cnty\": 5, \"numPresentIdpInd\": 3795, \"Level 1\": \"Gedaref\"}, {\"phase3plus\": \"45728\", \"Area\": \"Al burgaig\", \"fatalities\": 0, \"event_id_cnty\": 3, \"numPresentIdpInd\": 56920, \"Level 1\": \"Northern\"}, {\"phase3plus\": \"47301\", \"Area\": \"Kadugli\", \"fatalities\": 137, \"event_id_cnty\": 64, \"numPresentIdpInd\": 85565, \"Level 1\": \"South Kordofan\"}, {\"phase3plus\": \"47509\", \"Area\": \"Al kurmuk\", \"fatalities\": 40, \"event_id_cnty\": 12, \"numPresentIdpInd\": 20091, \"Level 1\": \"Blue Nile\"}, {\"phase3plus\": \"50626\", \"Area\": \"Al fashaga\", \"fatalities\": 0, \"event_id_cnty\": 6, \"numPresentIdpInd\": 38457, \"Level 1\": \"Gedaref\"}, {\"phase3plus\": \"51413\", \"Area\": \"As salam / ar rawat\", \"fatalities\": 0, \"event_id_cnty\": 2, \"numPresentIdpInd\": 51747, \"Level 1\": \"White Nile\"}, {\"phase3plus\": \"51991\", \"Area\": \"Abu kershola\", \"fatalities\": 31, \"event_id_cnty\": 16, \"numPresentIdpInd\": 21275, \"Level 1\": \"South Kordofan\"}, {\"phase3plus\": \"521150\", \"Area\": \"Bahri, Sharg an neel\", \"fatalities\": 1806, \"event_id_cnty\": 1016, \"numPresentIdpInd\": 39190, \"Level 1\": \"Khartoum\"}, {\"phase3plus\": \"526939\", \"Area\": \"Buram, Buram, Gereida, As sunta\", \"fatalities\": 287, \"event_id_cnty\": 37, \"numPresentIdpInd\": 631402, \"Level 1\": \"South Darfur\"}, {\"phase3plus\": \"52761\", \"Area\": \"As sunut\", \"fatalities\": 0, \"event_id_cnty\": 1, \"numPresentIdpInd\": 8359, \"Level 1\": \"West Kordofan\"}, {\"phase3plus\": \"53018\", \"Area\": \"Yassin\", \"fatalities\": 18, \"event_id_cnty\": 5, \"numPresentIdpInd\": 78710, \"Level 1\": \"East Darfur\"}, {\"phase3plus\": \"53825\", \"Area\": \"Al golid\", \"fatalities\": 0, \"event_id_cnty\": 3, \"numPresentIdpInd\": 60442, \"Level 1\": \"Northern\"}, {\"phase3plus\": \"54287\", \"Area\": \"Abassiya\", \"fatalities\": 108, \"event_id_cnty\": 13, \"numPresentIdpInd\": 56528, \"Level 1\": \"South Kordofan\"}, {\"phase3plus\": \"58455\", \"Area\": \"Geisan\", \"fatalities\": 14, \"event_id_cnty\": 2, \"numPresentIdpInd\": 32131, \"Level 1\": \"Blue Nile\"}, {\"phase3plus\": \"60657\", \"Area\": \"Al lagowa\", \"fatalities\": 35, \"event_id_cnty\": 14, \"numPresentIdpInd\": 19322, \"Level 1\": \"West Kordofan\"}, {\"phase3plus\": \"681606\", \"Area\": \"Al manaqil, Al Qurashi\", \"fatalities\": 68, \"event_id_cnty\": 40, \"numPresentIdpInd\": 134555, \"Level 1\": \"Aj Jazirah\"}, {\"phase3plus\": \"68633\", \"Area\": \"Kosti\", \"fatalities\": 29, \"event_id_cnty\": 28, \"numPresentIdpInd\": 135872, \"Level 1\": \"White Nile\"}, {\"phase3plus\": \"70031\", \"Area\": \"Dongola\", \"fatalities\": 1, \"event_id_cnty\": 22, \"numPresentIdpInd\": 55209, \"Level 1\": \"Northern\"}, {\"phase3plus\": \"73354\", \"Area\": \"Al galabat al gharbyah - kassab, Al galabat al gharbyah - kassab\", \"fatalities\": 57, \"event_id_cnty\": 11, \"numPresentIdpInd\": 36530, \"Level 1\": \"Gedaref\"}, {\"phase3plus\": \"74778\", \"Area\": \"Al quoz\", \"fatalities\": 49, \"event_id_cnty\": 26, \"numPresentIdpInd\": 8677, \"Level 1\": \"South Kordofan\"}, {\"phase3plus\": \"75026\", \"Area\": \"Wasat al gedaref\", \"fatalities\": 1, \"event_id_cnty\": 3, \"numPresentIdpInd\": 24958, \"Level 1\": \"Gedaref\"}, {\"phase3plus\": \"77012\", \"Area\": \"Abu karinka\", \"fatalities\": 4, \"event_id_cnty\": 7, \"numPresentIdpInd\": 45046, \"Level 1\": \"East Darfur\"}, {\"phase3plus\": \"78097\", \"Area\": \"Shiaria\", \"fatalities\": 5, \"event_id_cnty\": 1, \"numPresentIdpInd\": 184025, \"Level 1\": \"East Darfur\"}, {\"phase3plus\": \"82759\", \"Area\": \"Port sudan\", \"fatalities\": 1, \"event_id_cnty\": 69, \"numPresentIdpInd\": 239272, \"Level 1\": \"Red Sea\"}, {\"phase3plus\": \"84038\", \"Area\": \"Al matama\", \"fatalities\": 0, \"event_id_cnty\": 5, \"numPresentIdpInd\": 108555, \"Level 1\": \"River Nile\"}, {\"phase3plus\": \"85100\", \"Area\": \"Ad dabbah\", \"fatalities\": 0, \"event_id_cnty\": 4, \"numPresentIdpInd\": 65310, \"Level 1\": \"Northern\"}, {\"phase3plus\": \"85845\", \"Area\": \"Adila\", \"fatalities\": 0, \"event_id_cnty\": 9, \"numPresentIdpInd\": 53737, \"Level 1\": \"East Darfur\"}, {\"phase3plus\": \"87112\", \"Area\": \"Tendalti\", \"fatalities\": 0, \"event_id_cnty\": 4, \"numPresentIdpInd\": 18210, \"Level 1\": \"White Nile\"}, {\"phase3plus\": \"91277\", \"Area\": \"Abu Jubayhah, Ar Rashad\", \"fatalities\": 0, \"event_id_cnty\": 5, \"numPresentIdpInd\": 77189, \"Level 1\": \"South Kordofan\"}, {\"phase3plus\": \"91961\", \"Area\": \"Sirba\", \"fatalities\": 272, \"event_id_cnty\": 28, \"numPresentIdpInd\": 26225, \"Level 1\": \"West Darfur\"}, {\"phase3plus\": \"936591\", \"Area\": \"Jebel awlia, Karrari\", \"fatalities\": 1768, \"event_id_cnty\": 686, \"numPresentIdpInd\": 21500, \"Level 1\": \"Khartoum\"}, {\"phase3plus\": \"95295\", \"Area\": \"Abu hujar\", \"fatalities\": 0, \"event_id_cnty\": 2, \"numPresentIdpInd\": 55681, \"Level 1\": \"Sennar\"}, {\"phase3plus\": \"99110\", \"Area\": \"Haya\", \"fatalities\": 0, \"event_id_cnty\": 3, \"numPresentIdpInd\": 1955, \"Level 1\": \"Red Sea\"}]}}, {\"mode\": \"vega-lite\"});\n",
       "</script>"
      ],
      "text/plain": [
       "alt.Chart(...)"
      ]
     },
     "execution_count": 1076,
     "metadata": {},
     "output_type": "execute_result"
    }
   ],
   "source": [
    "# Create the chart with the selection and regression line\n",
    "chart = alt.Chart(acled_idp_ipc_adm2).mark_circle().encode(\n",
    "    x=alt.X('phase3plus:Q', scale=alt.Scale(type='log'), title='People in IPC Phase 3+ (Log)'),\n",
    "    y=alt.Y('event_id_cnty:Q', scale=alt.Scale(type='log'), title=None),\n",
    "    color=alt.Color('Level 1:N', legend=alt.Legend(title=\"Admin 1 Area\")),\n",
    "    size=alt.Size('fatalities:Q'),\n",
    "    tooltip=['Area', 'fatalities', 'phase3plus']\n",
    ").properties(\n",
    "    title='Food Insecurity, IDPs and Conflict in Sudan, Adm'\n",
    ").interactive()#.to_json()\n",
    "\n",
    "\n",
    "chart"
   ]
  }
 ],
 "metadata": {
  "kernelspec": {
   "display_name": "Python 3",
   "language": "python",
   "name": "python3"
  },
  "language_info": {
   "codemirror_mode": {
    "name": "ipython",
    "version": 3
   },
   "file_extension": ".py",
   "mimetype": "text/x-python",
   "name": "python",
   "nbconvert_exporter": "python",
   "pygments_lexer": "ipython3",
   "version": "3.11.4"
  }
 },
 "nbformat": 4,
 "nbformat_minor": 2
}

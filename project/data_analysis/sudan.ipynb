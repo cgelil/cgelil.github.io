{
 "cells": [
  {
   "cell_type": "code",
   "execution_count": 1,
   "metadata": {},
   "outputs": [
    {
     "name": "stderr",
     "output_type": "stream",
     "text": [
      "/Library/Frameworks/Python.framework/Versions/3.11/lib/python3.11/site-packages/fuzzywuzzy/fuzz.py:11: UserWarning: Using slow pure-python SequenceMatcher. Install python-Levenshtein to remove this warning\n",
      "  warnings.warn('Using slow pure-python SequenceMatcher. Install python-Levenshtein to remove this warning')\n"
     ]
    }
   ],
   "source": [
    "import numpy as np\n",
    "import requests\n",
    "from bs4 import BeautifulSoup\n",
    "import pandas as pd\n",
    "import altair as alt\n",
    "import geopandas as gpd\n",
    "import matplotlib.pyplot as plt\n",
    "import json\n",
    "import altair as alt\n",
    "import dtmapi\n",
    "import statsmodels.api as sm\n",
    "from statsmodels.formula.api import ols\n",
    "from fuzzywuzzy import fuzz, process"
   ]
  },
  {
   "cell_type": "markdown",
   "metadata": {},
   "source": [
    "### IOM DTM"
   ]
  },
  {
   "cell_type": "code",
   "execution_count": 2,
   "metadata": {},
   "outputs": [],
   "source": [
    "idp_admin_data = dtmapi.get_idp_admin2_data(CountryName='Sudan',  FromReportingDate='2021-01-01', ToReportingDate='2025-01-01', to_pandas=True)"
   ]
  },
  {
   "cell_type": "code",
   "execution_count": 3,
   "metadata": {},
   "outputs": [],
   "source": [
    "# read data \n",
    "idp_adm1_2024 = pd.read_excel('sudan/DTM_sdn_SMU - Bi Weekly 13 _ 17122024_V02_Public.xlsx', sheet_name='MASTER LIST (ADMIN1)', skiprows=2)\n",
    "idp_adm1_2023 = pd.read_excel('sudan/DTM_sdn_Report_Snapshot 13_20231212_V02_Public.xlsx', sheet_name='MASTER LIST (ADMIN1)', skiprows=2)\n",
    "\n",
    "#idp_adm2_2024 = pd.read_excel('sudan/DTM_sdn_SMU - Bi Weekly 13 _ 17122024_V02_Public.xlsx', sheet_name='MASTER LIST (ADMIN2)', skiprows=2)\n",
    "#idp_adm2_2023 = pd.read_excel('sudan/DTM_sdn_Report_Snapshot 13_20231212_V02_Public.xlsx', sheet_name='MASTER LIST (ADMIN2)', skiprows=2)\n",
    "\n",
    "rename_dict = {\n",
    "    'STATE OF DISPLACEMET': 'adm1_name',\n",
    "    'STATE CODE': 'adm1_pcode',\n",
    "    'LOCALITY OF DISPLACEMENT': 'adm2_name',\n",
    "    'LOCALITY_CODE': 'adm2_pcode',\n",
    "    'LOCALITY_ CODE': 'adm2_pcode',\n",
    "    'HHs': 'affected_idps_hh',\n",
    "    'IDPs': 'affected_idps_ind'\n",
    "}\n",
    "\n",
    "\n",
    "idp_adm1_2024.rename(columns=rename_dict, inplace=True)\n",
    "#idp_adm2_2024.rename(columns=rename_dict, inplace=True)\n",
    "idp_adm1_2023.rename(columns=rename_dict, inplace=True)\n",
    "#idp_adm2_2023.rename(columns=rename_dict, inplace=True)"
   ]
  },
  {
   "cell_type": "code",
   "execution_count": 4,
   "metadata": {},
   "outputs": [],
   "source": [
    "idp_origin_adm1_2024 = idp_adm1_2024.iloc[1:]\n",
    "idp_origin_adm1_2023 = idp_adm1_2023.iloc[1:]\n",
    "#idp_origin_adm2_2023 = idp_adm2_2023.iloc[1:]\n",
    "#idp_origin_adm2_2024 = idp_adm2_2024.iloc[1:]"
   ]
  },
  {
   "cell_type": "code",
   "execution_count": 5,
   "metadata": {},
   "outputs": [],
   "source": [
    "state_columns = [' Aj Jazirah', ' Central Darfur', ' East Darfur', ' Khartoum',\n",
    "       ' North Darfur', ' North Kordofan', ' South Darfur', ' South Kordofan',\n",
    "       ' West Darfur', ' West Kordofan', ' White Nile']\n",
    "\n",
    "nationality_columns = [' SUDANESE', ' NON SUDANESE']\n",
    "\n",
    "idp_adm1_2023_state = idp_origin_adm1_2023.melt(\n",
    "        id_vars=['adm1_name', 'adm1_pcode',  'affected_idps_ind', 'affected_idps_hh'],\n",
    "        value_vars=state_columns,\n",
    "        var_name='state_origin',\n",
    "        value_name='affected_idps_state'\n",
    "    )"
   ]
  },
  {
   "cell_type": "code",
   "execution_count": 6,
   "metadata": {},
   "outputs": [],
   "source": [
    "state_columns = ['Aj Jazirah', 'Blue Nile', 'Central Darfur', 'East Darfur', 'Gedaref',\n",
    "       'Kassala', 'Khartoum', 'North Darfur', 'North Kordofan', 'Northern',\n",
    "       'Red Sea', 'River Nile', 'Sennar', 'South Darfur', 'South Kordofan',\n",
    "       'West Darfur', 'West Kordofan', 'White Nile']\n",
    "\n",
    "idp_adm1_2024_state = idp_origin_adm1_2024.melt(\n",
    "        id_vars=['adm1_name', 'adm1_pcode',  'affected_idps_ind', 'affected_idps_hh'],\n",
    "        value_vars=state_columns,\n",
    "        var_name='state_origin',\n",
    "        value_name='affected_idps_state'\n",
    "    )"
   ]
  },
  {
   "cell_type": "code",
   "execution_count": 7,
   "metadata": {},
   "outputs": [],
   "source": [
    "#filter by adm1_name grand total\n",
    "idp_origin_2023 = idp_adm1_2023_state[idp_adm1_2023_state['adm1_name'] == 'Grand Total']\n",
    "idp_origin_2024 = idp_adm1_2024_state[idp_adm1_2024_state['adm1_name'] == 'Grand Total']"
   ]
  },
  {
   "cell_type": "markdown",
   "metadata": {},
   "source": [
    "### IPC "
   ]
  },
  {
   "cell_type": "markdown",
   "metadata": {},
   "source": [
    "GeoJson data"
   ]
  },
  {
   "cell_type": "code",
   "execution_count": 25,
   "metadata": {},
   "outputs": [
    {
     "name": "stdout",
     "output_type": "stream",
     "text": [
      "Saved ipc_geojson_C_14192889.json\n",
      "Saved ipc_geojson_C_18151797.json\n",
      "Current data not available for item 19191589, fetching projections (P)\n",
      "Saved ipc_geojson_P_19191589.json\n",
      "Saved ipc_geojson_C_24004104.json\n",
      "Saved ipc_geojson_C_25857808.json\n",
      "Saved ipc_geojson_C_58836462.json\n",
      "Current data not available for item 64768802, fetching projections (P)\n",
      "Failed to fetch data for item 64768802: HTTP 404\n",
      "Saved ipc_geojson_C_68887616.json\n",
      "Current data not available for item 74795267, fetching projections (P)\n",
      "Saved ipc_geojson_P_74795267.json\n"
     ]
    }
   ],
   "source": [
    "api_key = '3bdbeef9-fc4c-4315-a665-cc56deb11be6'\n",
    "base_url = 'https://api.ipcinfo.org/'\n",
    "\n",
    "# Fetch IPC analyses\n",
    "ipc = requests.get(f'{base_url}analyses?country=SD&type=A&periods=C&key={api_key}').json()\n",
    "\n",
    "for item in ipc:\n",
    "    # Try fetching current data ('C') first\n",
    "    response = requests.get(f\"{base_url}areas/{item['id']}/C?format=geojson&key={api_key}\")\n",
    "    \n",
    "    if response.status_code == 200:\n",
    "        save_name = f\"ipc_geojson_C_{item['id']}.json\"\n",
    "    else:\n",
    "        print(f\"Current data not available for item {item['id']}, fetching projections (P)\")\n",
    "        response = requests.get(f\"{base_url}areas/{item['id']}/P?format=geojson&key={api_key}\")\n",
    "        save_name = f\"ipc_geojson_P_{item['id']}.json\"\n",
    "    \n",
    "    if response.status_code == 200:\n",
    "        try:\n",
    "            ipc_geojson = response.json()\n",
    "            with open(save_name, 'w') as f:\n",
    "                json.dump(ipc_geojson, f)\n",
    "            print(f\"Saved {save_name}\")\n",
    "        except json.JSONDecodeError as e:\n",
    "            print(f\"Error decoding JSON for item {item['id']}: {e}\")\n",
    "        except Exception as e:\n",
    "            print(f\"Error saving file for item {item['id']}: {e}\")\n",
    "    else:\n",
    "        print(f\"Failed to fetch data for item {item['id']}: HTTP {response.status_code}\")\n"
   ]
  },
  {
   "cell_type": "code",
   "execution_count": null,
   "metadata": {},
   "outputs": [],
   "source": [
    "#ipc_2024 = requests.get(f\"https://api.ipcinfo.org/areas/68887616/C?format=json&key=3bdbeef9-fc4c-4315-a665-cc56deb11be6\").json()\n",
    "#ipc_2024_proj = requests.get(f\"https://api.ipcinfo.org/areas/68887616/C?format=json&key=3bdbeef9-fc4c-4315-a665-cc56deb11be6\").json()"
   ]
  },
  {
   "cell_type": "code",
   "execution_count": 12,
   "metadata": {},
   "outputs": [],
   "source": [
    "# HDX data\n",
    "ipc_sdn_adm2 = pd.read_csv('sudan/ipc_sdn_area_long.csv')\n",
    "ipc_sdn_adm2 = ipc_sdn_adm2.iloc[1:]\n",
    "ipc_sdn_adm1 = pd.read_csv('sudan/ipc_sdn_level1_long.csv')\n",
    "ipc_sdn_adm1 = ipc_sdn_adm1.iloc[1:]"
   ]
  },
  {
   "cell_type": "code",
   "execution_count": 13,
   "metadata": {},
   "outputs": [],
   "source": [
    "# Filtering\n",
    "ipc_sdn_adm2 = ipc_sdn_adm2[(ipc_sdn_adm2['Validity period'] == 'current') & (ipc_sdn_adm2['Date of analysis'].str.contains('2024')) | \n",
    "                            (ipc_sdn_adm2['Validity period'] == 'current') & (ipc_sdn_adm2['Date of analysis'].str.contains('2023'))]\n",
    "ipc_sdn_adm2 = ipc_sdn_adm2[ipc_sdn_adm2['Phase'] == '3+']\n",
    "\n",
    "\n",
    "\n",
    "ipc_sdn_adm1 = ipc_sdn_adm1[(ipc_sdn_adm1['Validity period'] == 'current') & (ipc_sdn_adm1['Date of analysis'].str.contains('2024')) | \n",
    "                            (ipc_sdn_adm1['Validity period'] == 'current') & (ipc_sdn_adm1['Date of analysis'].str.contains('2023'))]\n",
    "ipc_sdn_adm1 = ipc_sdn_adm1[ipc_sdn_adm1['Phase'] == '3+']"
   ]
  },
  {
   "cell_type": "code",
   "execution_count": 14,
   "metadata": {},
   "outputs": [],
   "source": [
    "ipc_sdn_adm2 = ipc_sdn_adm2[~ipc_sdn_adm2['Area'].str.contains('IDPs')]\n",
    "ipc_sdn_adm2 = ipc_sdn_adm2[~ipc_sdn_adm2['Area'].str.contains('IDP')]\n",
    "ipc_sdn_adm2 = ipc_sdn_adm2[~ipc_sdn_adm2['Area'].str.contains('Refugees')]\n",
    "ipc_sdn_adm2 = ipc_sdn_adm2[~ipc_sdn_adm2['Area'].str.contains('refugees')]\n",
    "\n",
    "\n",
    "ipc_sdn_adm1 = ipc_sdn_adm1[~ipc_sdn_adm1['Level 1'].str.contains('IDPs')]\n",
    "ipc_sdn_adm1 = ipc_sdn_adm1[~ipc_sdn_adm1['Level 1'].str.contains('IDP')]\n",
    "ipc_sdn_adm1 = ipc_sdn_adm1[~ipc_sdn_adm1['Level 1'].str.contains('Refugees')]\n",
    "ipc_sdn_adm1 = ipc_sdn_adm1[~ipc_sdn_adm1['Level 1'].str.contains('refugees')]"
   ]
  },
  {
   "cell_type": "markdown",
   "metadata": {},
   "source": [
    "### ACLED"
   ]
  },
  {
   "cell_type": "code",
   "execution_count": 15,
   "metadata": {},
   "outputs": [],
   "source": [
    "acled = pd.read_csv('sudan/ACLED_2020-01-01-2024-12-31-Sudan.csv')"
   ]
  },
  {
   "cell_type": "code",
   "execution_count": 16,
   "metadata": {},
   "outputs": [],
   "source": [
    "acled = acled[acled['year'] != 2020]\n",
    "acled['event_date'] = pd.to_datetime(acled['event_date'])\n",
    "acled['month_year'] = acled['event_date'].dt.to_period('M')\n",
    "acled['week'] = acled['event_date'].dt.to_period('W').apply(lambda r: r.start_time)"
   ]
  },
  {
   "cell_type": "code",
   "execution_count": 23,
   "metadata": {},
   "outputs": [],
   "source": [
    "#Monthly Data\n",
    "acled_monthly= acled.groupby(['month_year','event_type']).agg({'fatalities':'sum', 'event_date':'count'}).reset_index()\n",
    "\n",
    "#remove riots\n",
    "acled_monthly = acled_monthly[acled_monthly['event_type'] != 'Riots']\n",
    "acled_monthly['event_type'] = acled_monthly['event_type'].replace('Explosions/Remote violence', 'Explosions')\n",
    "\n",
    "acled_monthly.to_csv('sudan/acled_monthly.csv', index=False)\n",
    "acled_monthly['month_year'] = acled_monthly['month_year'].astype(str)\n",
    "\n",
    "#Weekly Data\n",
    "acled_weekly = acled.groupby(['week', 'event_type']).agg({'fatalities':'sum', 'event_date':'count'}).reset_index()\n",
    "acled_weekly['week'] = acled_weekly['week'].astype(str)"
   ]
  },
  {
   "cell_type": "code",
   "execution_count": 24,
   "metadata": {},
   "outputs": [
    {
     "data": {
      "text/html": [
       "\n",
       "<style>\n",
       "  #altair-viz-876bb8d7c07f489ca4322e54d2ed0c3f.vega-embed {\n",
       "    width: 100%;\n",
       "    display: flex;\n",
       "  }\n",
       "\n",
       "  #altair-viz-876bb8d7c07f489ca4322e54d2ed0c3f.vega-embed details,\n",
       "  #altair-viz-876bb8d7c07f489ca4322e54d2ed0c3f.vega-embed details summary {\n",
       "    position: relative;\n",
       "  }\n",
       "</style>\n",
       "<div id=\"altair-viz-876bb8d7c07f489ca4322e54d2ed0c3f\"></div>\n",
       "<script type=\"text/javascript\">\n",
       "  var VEGA_DEBUG = (typeof VEGA_DEBUG == \"undefined\") ? {} : VEGA_DEBUG;\n",
       "  (function(spec, embedOpt){\n",
       "    let outputDiv = document.currentScript.previousElementSibling;\n",
       "    if (outputDiv.id !== \"altair-viz-876bb8d7c07f489ca4322e54d2ed0c3f\") {\n",
       "      outputDiv = document.getElementById(\"altair-viz-876bb8d7c07f489ca4322e54d2ed0c3f\");\n",
       "    }\n",
       "    const paths = {\n",
       "      \"vega\": \"https://cdn.jsdelivr.net/npm/vega@5?noext\",\n",
       "      \"vega-lib\": \"https://cdn.jsdelivr.net/npm/vega-lib?noext\",\n",
       "      \"vega-lite\": \"https://cdn.jsdelivr.net/npm/vega-lite@5.20.1?noext\",\n",
       "      \"vega-embed\": \"https://cdn.jsdelivr.net/npm/vega-embed@6?noext\",\n",
       "    };\n",
       "\n",
       "    function maybeLoadScript(lib, version) {\n",
       "      var key = `${lib.replace(\"-\", \"\")}_version`;\n",
       "      return (VEGA_DEBUG[key] == version) ?\n",
       "        Promise.resolve(paths[lib]) :\n",
       "        new Promise(function(resolve, reject) {\n",
       "          var s = document.createElement('script');\n",
       "          document.getElementsByTagName(\"head\")[0].appendChild(s);\n",
       "          s.async = true;\n",
       "          s.onload = () => {\n",
       "            VEGA_DEBUG[key] = version;\n",
       "            return resolve(paths[lib]);\n",
       "          };\n",
       "          s.onerror = () => reject(`Error loading script: ${paths[lib]}`);\n",
       "          s.src = paths[lib];\n",
       "        });\n",
       "    }\n",
       "\n",
       "    function showError(err) {\n",
       "      outputDiv.innerHTML = `<div class=\"error\" style=\"color:red;\">${err}</div>`;\n",
       "      throw err;\n",
       "    }\n",
       "\n",
       "    function displayChart(vegaEmbed) {\n",
       "      vegaEmbed(outputDiv, spec, embedOpt)\n",
       "        .catch(err => showError(`Javascript Error: ${err.message}<br>This usually means there's a typo in your chart specification. See the javascript console for the full traceback.`));\n",
       "    }\n",
       "\n",
       "    if(typeof define === \"function\" && define.amd) {\n",
       "      requirejs.config({paths});\n",
       "      require([\"vega-embed\"], displayChart, err => showError(`Error loading script: ${err.message}`));\n",
       "    } else {\n",
       "      maybeLoadScript(\"vega\", \"5\")\n",
       "        .then(() => maybeLoadScript(\"vega-lite\", \"5.20.1\"))\n",
       "        .then(() => maybeLoadScript(\"vega-embed\", \"6\"))\n",
       "        .catch(showError)\n",
       "        .then(() => displayChart(vegaEmbed));\n",
       "    }\n",
       "  })({\"config\": {\"view\": {\"continuousWidth\": 300, \"continuousHeight\": 300}}, \"layer\": [{\"mark\": {\"type\": \"bar\", \"color\": \"blue\"}, \"encoding\": {\"color\": {\"field\": \"event_type\", \"type\": \"ordinal\"}, \"tooltip\": [{\"field\": \"month_year\", \"type\": \"nominal\"}, {\"field\": \"fatalities\", \"type\": \"quantitative\"}, {\"field\": \"event_type\", \"type\": \"nominal\"}], \"x\": {\"field\": \"month_year\", \"type\": \"ordinal\"}, \"y\": {\"field\": \"event_date\", \"type\": \"quantitative\"}}, \"name\": \"view_9\"}, {\"mark\": {\"type\": \"line\", \"color\": \"red\"}, \"encoding\": {\"color\": {\"field\": \"event_type\", \"type\": \"ordinal\"}, \"tooltip\": [{\"field\": \"month_year\", \"type\": \"nominal\"}, {\"field\": \"fatalities\", \"type\": \"quantitative\"}, {\"field\": \"event_type\", \"type\": \"nominal\"}], \"x\": {\"field\": \"month_year\", \"type\": \"ordinal\"}, \"y\": {\"field\": \"fatalities\", \"type\": \"quantitative\"}}, \"name\": \"view_10\", \"title\": \"Total Fatalities and Incidents by Month\"}], \"data\": {\"name\": \"data-ea3a251bf42611bb51145ef089fa471a\"}, \"params\": [{\"name\": \"param_10\", \"select\": {\"type\": \"interval\", \"encodings\": [\"x\", \"y\"]}, \"bind\": \"scales\", \"views\": [\"view_9\"]}, {\"name\": \"param_9\", \"select\": {\"type\": \"interval\", \"encodings\": [\"x\", \"y\"]}, \"bind\": \"scales\", \"views\": [\"view_10\"]}], \"$schema\": \"https://vega.github.io/schema/vega-lite/v5.20.1.json\", \"datasets\": {\"data-ea3a251bf42611bb51145ef089fa471a\": [{\"month_year\": \"2021-01\", \"event_type\": \"Battles\", \"fatalities\": 176, \"event_date\": 15}, {\"month_year\": \"2021-01\", \"event_type\": \"Explosions\", \"fatalities\": 0, \"event_date\": 1}, {\"month_year\": \"2021-01\", \"event_type\": \"Protests\", \"fatalities\": 0, \"event_date\": 47}, {\"month_year\": \"2021-01\", \"event_type\": \"Strategic developments\", \"fatalities\": 0, \"event_date\": 1}, {\"month_year\": \"2021-01\", \"event_type\": \"Violence against civilians\", \"fatalities\": 117, \"event_date\": 49}, {\"month_year\": \"2021-02\", \"event_type\": \"Battles\", \"fatalities\": 77, \"event_date\": 18}, {\"month_year\": \"2021-02\", \"event_type\": \"Explosions\", \"fatalities\": 4, \"event_date\": 2}, {\"month_year\": \"2021-02\", \"event_type\": \"Protests\", \"fatalities\": 0, \"event_date\": 32}, {\"month_year\": \"2021-02\", \"event_type\": \"Strategic developments\", \"fatalities\": 0, \"event_date\": 3}, {\"month_year\": \"2021-02\", \"event_type\": \"Violence against civilians\", \"fatalities\": 25, \"event_date\": 28}, {\"month_year\": \"2021-03\", \"event_type\": \"Battles\", \"fatalities\": 34, \"event_date\": 11}, {\"month_year\": \"2021-03\", \"event_type\": \"Protests\", \"fatalities\": 0, \"event_date\": 48}, {\"month_year\": \"2021-03\", \"event_type\": \"Strategic developments\", \"fatalities\": 0, \"event_date\": 4}, {\"month_year\": \"2021-03\", \"event_type\": \"Violence against civilians\", \"fatalities\": 30, \"event_date\": 33}, {\"month_year\": \"2021-04\", \"event_type\": \"Battles\", \"fatalities\": 179, \"event_date\": 22}, {\"month_year\": \"2021-04\", \"event_type\": \"Explosions\", \"fatalities\": 1, \"event_date\": 1}, {\"month_year\": \"2021-04\", \"event_type\": \"Protests\", \"fatalities\": 2, \"event_date\": 44}, {\"month_year\": \"2021-04\", \"event_type\": \"Strategic developments\", \"fatalities\": 0, \"event_date\": 2}, {\"month_year\": \"2021-04\", \"event_type\": \"Violence against civilians\", \"fatalities\": 23, \"event_date\": 17}, {\"month_year\": \"2021-05\", \"event_type\": \"Battles\", \"fatalities\": 58, \"event_date\": 20}, {\"month_year\": \"2021-05\", \"event_type\": \"Explosions\", \"fatalities\": 3, \"event_date\": 2}, {\"month_year\": \"2021-05\", \"event_type\": \"Protests\", \"fatalities\": 0, \"event_date\": 23}, {\"month_year\": \"2021-05\", \"event_type\": \"Strategic developments\", \"fatalities\": 0, \"event_date\": 3}, {\"month_year\": \"2021-05\", \"event_type\": \"Violence against civilians\", \"fatalities\": 38, \"event_date\": 25}, {\"month_year\": \"2021-06\", \"event_type\": \"Battles\", \"fatalities\": 106, \"event_date\": 21}, {\"month_year\": \"2021-06\", \"event_type\": \"Protests\", \"fatalities\": 1, \"event_date\": 62}, {\"month_year\": \"2021-06\", \"event_type\": \"Strategic developments\", \"fatalities\": 0, \"event_date\": 5}, {\"month_year\": \"2021-06\", \"event_type\": \"Violence against civilians\", \"fatalities\": 27, \"event_date\": 34}, {\"month_year\": \"2021-07\", \"event_type\": \"Battles\", \"fatalities\": 121, \"event_date\": 42}, {\"month_year\": \"2021-07\", \"event_type\": \"Protests\", \"fatalities\": 0, \"event_date\": 34}, {\"month_year\": \"2021-07\", \"event_type\": \"Strategic developments\", \"fatalities\": 0, \"event_date\": 4}, {\"month_year\": \"2021-07\", \"event_type\": \"Violence against civilians\", \"fatalities\": 53, \"event_date\": 42}, {\"month_year\": \"2021-08\", \"event_type\": \"Battles\", \"fatalities\": 24, \"event_date\": 12}, {\"month_year\": \"2021-08\", \"event_type\": \"Explosions\", \"fatalities\": 4, \"event_date\": 3}, {\"month_year\": \"2021-08\", \"event_type\": \"Protests\", \"fatalities\": 2, \"event_date\": 47}, {\"month_year\": \"2021-08\", \"event_type\": \"Strategic developments\", \"fatalities\": 0, \"event_date\": 10}, {\"month_year\": \"2021-08\", \"event_type\": \"Violence against civilians\", \"fatalities\": 36, \"event_date\": 35}, {\"month_year\": \"2021-09\", \"event_type\": \"Battles\", \"fatalities\": 23, \"event_date\": 11}, {\"month_year\": \"2021-09\", \"event_type\": \"Protests\", \"fatalities\": 0, \"event_date\": 60}, {\"month_year\": \"2021-09\", \"event_type\": \"Strategic developments\", \"fatalities\": 0, \"event_date\": 6}, {\"month_year\": \"2021-09\", \"event_type\": \"Violence against civilians\", \"fatalities\": 20, \"event_date\": 32}, {\"month_year\": \"2021-10\", \"event_type\": \"Battles\", \"fatalities\": 19, \"event_date\": 7}, {\"month_year\": \"2021-10\", \"event_type\": \"Protests\", \"fatalities\": 16, \"event_date\": 132}, {\"month_year\": \"2021-10\", \"event_type\": \"Strategic developments\", \"fatalities\": 0, \"event_date\": 3}, {\"month_year\": \"2021-10\", \"event_type\": \"Violence against civilians\", \"fatalities\": 42, \"event_date\": 28}, {\"month_year\": \"2021-11\", \"event_type\": \"Battles\", \"fatalities\": 118, \"event_date\": 16}, {\"month_year\": \"2021-11\", \"event_type\": \"Protests\", \"fatalities\": 30, \"event_date\": 136}, {\"month_year\": \"2021-11\", \"event_type\": \"Strategic developments\", \"fatalities\": 0, \"event_date\": 4}, {\"month_year\": \"2021-11\", \"event_type\": \"Violence against civilians\", \"fatalities\": 36, \"event_date\": 34}, {\"month_year\": \"2021-12\", \"event_type\": \"Battles\", \"fatalities\": 100, \"event_date\": 11}, {\"month_year\": \"2021-12\", \"event_type\": \"Explosions\", \"fatalities\": 1, \"event_date\": 2}, {\"month_year\": \"2021-12\", \"event_type\": \"Protests\", \"fatalities\": 5, \"event_date\": 149}, {\"month_year\": \"2021-12\", \"event_type\": \"Strategic developments\", \"fatalities\": 0, \"event_date\": 4}, {\"month_year\": \"2021-12\", \"event_type\": \"Violence against civilians\", \"fatalities\": 78, \"event_date\": 48}, {\"month_year\": \"2022-01\", \"event_type\": \"Battles\", \"fatalities\": 15, \"event_date\": 6}, {\"month_year\": \"2022-01\", \"event_type\": \"Explosions\", \"fatalities\": 0, \"event_date\": 1}, {\"month_year\": \"2022-01\", \"event_type\": \"Protests\", \"fatalities\": 22, \"event_date\": 225}, {\"month_year\": \"2022-01\", \"event_type\": \"Strategic developments\", \"fatalities\": 0, \"event_date\": 11}, {\"month_year\": \"2022-01\", \"event_type\": \"Violence against civilians\", \"fatalities\": 28, \"event_date\": 39}, {\"month_year\": \"2022-02\", \"event_type\": \"Battles\", \"fatalities\": 32, \"event_date\": 13}, {\"month_year\": \"2022-02\", \"event_type\": \"Protests\", \"fatalities\": 7, \"event_date\": 149}, {\"month_year\": \"2022-02\", \"event_type\": \"Strategic developments\", \"fatalities\": 0, \"event_date\": 11}, {\"month_year\": \"2022-02\", \"event_type\": \"Violence against civilians\", \"fatalities\": 26, \"event_date\": 29}, {\"month_year\": \"2022-03\", \"event_type\": \"Battles\", \"fatalities\": 97, \"event_date\": 21}, {\"month_year\": \"2022-03\", \"event_type\": \"Explosions\", \"fatalities\": 5, \"event_date\": 1}, {\"month_year\": \"2022-03\", \"event_type\": \"Protests\", \"fatalities\": 7, \"event_date\": 195}, {\"month_year\": \"2022-03\", \"event_type\": \"Strategic developments\", \"fatalities\": 0, \"event_date\": 8}, {\"month_year\": \"2022-03\", \"event_type\": \"Violence against civilians\", \"fatalities\": 61, \"event_date\": 31}, {\"month_year\": \"2022-04\", \"event_type\": \"Battles\", \"fatalities\": 229, \"event_date\": 15}, {\"month_year\": \"2022-04\", \"event_type\": \"Explosions\", \"fatalities\": 0, \"event_date\": 1}, {\"month_year\": \"2022-04\", \"event_type\": \"Protests\", \"fatalities\": 1, \"event_date\": 156}, {\"month_year\": \"2022-04\", \"event_type\": \"Strategic developments\", \"fatalities\": 0, \"event_date\": 3}, {\"month_year\": \"2022-04\", \"event_type\": \"Violence against civilians\", \"fatalities\": 91, \"event_date\": 31}, {\"month_year\": \"2022-05\", \"event_type\": \"Battles\", \"fatalities\": 37, \"event_date\": 20}, {\"month_year\": \"2022-05\", \"event_type\": \"Explosions\", \"fatalities\": 5, \"event_date\": 4}, {\"month_year\": \"2022-05\", \"event_type\": \"Protests\", \"fatalities\": 7, \"event_date\": 141}, {\"month_year\": \"2022-05\", \"event_type\": \"Strategic developments\", \"fatalities\": 0, \"event_date\": 22}, {\"month_year\": \"2022-05\", \"event_type\": \"Violence against civilians\", \"fatalities\": 39, \"event_date\": 40}, {\"month_year\": \"2022-06\", \"event_type\": \"Battles\", \"fatalities\": 200, \"event_date\": 36}, {\"month_year\": \"2022-06\", \"event_type\": \"Protests\", \"fatalities\": 16, \"event_date\": 191}, {\"month_year\": \"2022-06\", \"event_type\": \"Strategic developments\", \"fatalities\": 0, \"event_date\": 22}, {\"month_year\": \"2022-06\", \"event_type\": \"Violence against civilians\", \"fatalities\": 57, \"event_date\": 38}, {\"month_year\": \"2022-07\", \"event_type\": \"Battles\", \"fatalities\": 193, \"event_date\": 17}, {\"month_year\": \"2022-07\", \"event_type\": \"Explosions\", \"fatalities\": 0, \"event_date\": 1}, {\"month_year\": \"2022-07\", \"event_type\": \"Protests\", \"fatalities\": 2, \"event_date\": 99}, {\"month_year\": \"2022-07\", \"event_type\": \"Strategic developments\", \"fatalities\": 0, \"event_date\": 9}, {\"month_year\": \"2022-07\", \"event_type\": \"Violence against civilians\", \"fatalities\": 22, \"event_date\": 50}, {\"month_year\": \"2022-08\", \"event_type\": \"Battles\", \"fatalities\": 51, \"event_date\": 13}, {\"month_year\": \"2022-08\", \"event_type\": \"Explosions\", \"fatalities\": 5, \"event_date\": 2}, {\"month_year\": \"2022-08\", \"event_type\": \"Protests\", \"fatalities\": 3, \"event_date\": 82}, {\"month_year\": \"2022-08\", \"event_type\": \"Strategic developments\", \"fatalities\": 0, \"event_date\": 5}, {\"month_year\": \"2022-08\", \"event_type\": \"Violence against civilians\", \"fatalities\": 33, \"event_date\": 28}, {\"month_year\": \"2022-09\", \"event_type\": \"Battles\", \"fatalities\": 45, \"event_date\": 15}, {\"month_year\": \"2022-09\", \"event_type\": \"Explosions\", \"fatalities\": 3, \"event_date\": 1}, {\"month_year\": \"2022-09\", \"event_type\": \"Protests\", \"fatalities\": 0, \"event_date\": 84}, {\"month_year\": \"2022-09\", \"event_type\": \"Strategic developments\", \"fatalities\": 0, \"event_date\": 11}, {\"month_year\": \"2022-09\", \"event_type\": \"Violence against civilians\", \"fatalities\": 23, \"event_date\": 35}, {\"month_year\": \"2022-10\", \"event_type\": \"Battles\", \"fatalities\": 375, \"event_date\": 27}, {\"month_year\": \"2022-10\", \"event_type\": \"Explosions\", \"fatalities\": 14, \"event_date\": 1}, {\"month_year\": \"2022-10\", \"event_type\": \"Protests\", \"fatalities\": 7, \"event_date\": 181}, {\"month_year\": \"2022-10\", \"event_type\": \"Strategic developments\", \"fatalities\": 0, \"event_date\": 10}, {\"month_year\": \"2022-10\", \"event_type\": \"Violence against civilians\", \"fatalities\": 38, \"event_date\": 36}, {\"month_year\": \"2022-11\", \"event_type\": \"Battles\", \"fatalities\": 112, \"event_date\": 15}, {\"month_year\": \"2022-11\", \"event_type\": \"Explosions\", \"fatalities\": 0, \"event_date\": 1}, {\"month_year\": \"2022-11\", \"event_type\": \"Protests\", \"fatalities\": 2, \"event_date\": 116}, {\"month_year\": \"2022-11\", \"event_type\": \"Strategic developments\", \"fatalities\": 0, \"event_date\": 26}, {\"month_year\": \"2022-11\", \"event_type\": \"Violence against civilians\", \"fatalities\": 38, \"event_date\": 53}, {\"month_year\": \"2022-12\", \"event_type\": \"Battles\", \"fatalities\": 76, \"event_date\": 19}, {\"month_year\": \"2022-12\", \"event_type\": \"Explosions\", \"fatalities\": 0, \"event_date\": 3}, {\"month_year\": \"2022-12\", \"event_type\": \"Protests\", \"fatalities\": 0, \"event_date\": 153}, {\"month_year\": \"2022-12\", \"event_type\": \"Strategic developments\", \"fatalities\": 0, \"event_date\": 22}, {\"month_year\": \"2022-12\", \"event_type\": \"Violence against civilians\", \"fatalities\": 33, \"event_date\": 42}, {\"month_year\": \"2023-01\", \"event_type\": \"Battles\", \"fatalities\": 14, \"event_date\": 11}, {\"month_year\": \"2023-01\", \"event_type\": \"Protests\", \"fatalities\": 2, \"event_date\": 130}, {\"month_year\": \"2023-01\", \"event_type\": \"Strategic developments\", \"fatalities\": 0, \"event_date\": 37}, {\"month_year\": \"2023-01\", \"event_type\": \"Violence against civilians\", \"fatalities\": 48, \"event_date\": 55}, {\"month_year\": \"2023-02\", \"event_type\": \"Battles\", \"fatalities\": 13, \"event_date\": 9}, {\"month_year\": \"2023-02\", \"event_type\": \"Protests\", \"fatalities\": 3, \"event_date\": 94}, {\"month_year\": \"2023-02\", \"event_type\": \"Strategic developments\", \"fatalities\": 0, \"event_date\": 30}, {\"month_year\": \"2023-02\", \"event_type\": \"Violence against civilians\", \"fatalities\": 30, \"event_date\": 48}, {\"month_year\": \"2023-03\", \"event_type\": \"Battles\", \"fatalities\": 20, \"event_date\": 12}, {\"month_year\": \"2023-03\", \"event_type\": \"Explosions\", \"fatalities\": 3, \"event_date\": 2}, {\"month_year\": \"2023-03\", \"event_type\": \"Protests\", \"fatalities\": 0, \"event_date\": 95}, {\"month_year\": \"2023-03\", \"event_type\": \"Strategic developments\", \"fatalities\": 0, \"event_date\": 20}, {\"month_year\": \"2023-03\", \"event_type\": \"Violence against civilians\", \"fatalities\": 39, \"event_date\": 32}, {\"month_year\": \"2023-04\", \"event_type\": \"Battles\", \"fatalities\": 992, \"event_date\": 246}, {\"month_year\": \"2023-04\", \"event_type\": \"Explosions\", \"fatalities\": 63, \"event_date\": 21}, {\"month_year\": \"2023-04\", \"event_type\": \"Protests\", \"fatalities\": 1, \"event_date\": 93}, {\"month_year\": \"2023-04\", \"event_type\": \"Strategic developments\", \"fatalities\": 0, \"event_date\": 106}, {\"month_year\": \"2023-04\", \"event_type\": \"Violence against civilians\", \"fatalities\": 77, \"event_date\": 64}, {\"month_year\": \"2023-05\", \"event_type\": \"Battles\", \"fatalities\": 1365, \"event_date\": 253}, {\"month_year\": \"2023-05\", \"event_type\": \"Explosions\", \"fatalities\": 132, \"event_date\": 24}, {\"month_year\": \"2023-05\", \"event_type\": \"Protests\", \"fatalities\": 0, \"event_date\": 23}, {\"month_year\": \"2023-05\", \"event_type\": \"Strategic developments\", \"fatalities\": 0, \"event_date\": 147}, {\"month_year\": \"2023-05\", \"event_type\": \"Violence against civilians\", \"fatalities\": 232, \"event_date\": 115}, {\"month_year\": \"2023-06\", \"event_type\": \"Battles\", \"fatalities\": 1797, \"event_date\": 250}, {\"month_year\": \"2023-06\", \"event_type\": \"Explosions\", \"fatalities\": 100, \"event_date\": 42}, {\"month_year\": \"2023-06\", \"event_type\": \"Protests\", \"fatalities\": 3, \"event_date\": 18}, {\"month_year\": \"2023-06\", \"event_type\": \"Strategic developments\", \"fatalities\": 0, \"event_date\": 100}, {\"month_year\": \"2023-06\", \"event_type\": \"Violence against civilians\", \"fatalities\": 489, \"event_date\": 105}, {\"month_year\": \"2023-07\", \"event_type\": \"Battles\", \"fatalities\": 1323, \"event_date\": 363}, {\"month_year\": \"2023-07\", \"event_type\": \"Explosions\", \"fatalities\": 147, \"event_date\": 35}, {\"month_year\": \"2023-07\", \"event_type\": \"Protests\", \"fatalities\": 1, \"event_date\": 21}, {\"month_year\": \"2023-07\", \"event_type\": \"Strategic developments\", \"fatalities\": 0, \"event_date\": 109}, {\"month_year\": \"2023-07\", \"event_type\": \"Violence against civilians\", \"fatalities\": 144, \"event_date\": 126}, {\"month_year\": \"2023-08\", \"event_type\": \"Battles\", \"fatalities\": 2267, \"event_date\": 458}, {\"month_year\": \"2023-08\", \"event_type\": \"Explosions\", \"fatalities\": 98, \"event_date\": 97}, {\"month_year\": \"2023-08\", \"event_type\": \"Protests\", \"fatalities\": 0, \"event_date\": 8}, {\"month_year\": \"2023-08\", \"event_type\": \"Strategic developments\", \"fatalities\": 0, \"event_date\": 162}, {\"month_year\": \"2023-08\", \"event_type\": \"Violence against civilians\", \"fatalities\": 144, \"event_date\": 101}, {\"month_year\": \"2023-09\", \"event_type\": \"Battles\", \"fatalities\": 1262, \"event_date\": 244}, {\"month_year\": \"2023-09\", \"event_type\": \"Explosions\", \"fatalities\": 378, \"event_date\": 201}, {\"month_year\": \"2023-09\", \"event_type\": \"Protests\", \"fatalities\": 0, \"event_date\": 10}, {\"month_year\": \"2023-09\", \"event_type\": \"Strategic developments\", \"fatalities\": 0, \"event_date\": 98}, {\"month_year\": \"2023-09\", \"event_type\": \"Violence against civilians\", \"fatalities\": 88, \"event_date\": 103}, {\"month_year\": \"2023-10\", \"event_type\": \"Battles\", \"fatalities\": 845, \"event_date\": 209}, {\"month_year\": \"2023-10\", \"event_type\": \"Explosions\", \"fatalities\": 485, \"event_date\": 205}, {\"month_year\": \"2023-10\", \"event_type\": \"Protests\", \"fatalities\": 0, \"event_date\": 8}, {\"month_year\": \"2023-10\", \"event_type\": \"Strategic developments\", \"fatalities\": 0, \"event_date\": 109}, {\"month_year\": \"2023-10\", \"event_type\": \"Violence against civilians\", \"fatalities\": 56, \"event_date\": 59}, {\"month_year\": \"2023-11\", \"event_type\": \"Battles\", \"fatalities\": 1745, \"event_date\": 183}, {\"month_year\": \"2023-11\", \"event_type\": \"Explosions\", \"fatalities\": 172, \"event_date\": 168}, {\"month_year\": \"2023-11\", \"event_type\": \"Protests\", \"fatalities\": 0, \"event_date\": 12}, {\"month_year\": \"2023-11\", \"event_type\": \"Strategic developments\", \"fatalities\": 0, \"event_date\": 108}, {\"month_year\": \"2023-11\", \"event_type\": \"Violence against civilians\", \"fatalities\": 538, \"event_date\": 75}, {\"month_year\": \"2023-12\", \"event_type\": \"Battles\", \"fatalities\": 271, \"event_date\": 189}, {\"month_year\": \"2023-12\", \"event_type\": \"Explosions\", \"fatalities\": 240, \"event_date\": 227}, {\"month_year\": \"2023-12\", \"event_type\": \"Protests\", \"fatalities\": 0, \"event_date\": 22}, {\"month_year\": \"2023-12\", \"event_type\": \"Strategic developments\", \"fatalities\": 0, \"event_date\": 167}, {\"month_year\": \"2023-12\", \"event_type\": \"Violence against civilians\", \"fatalities\": 230, \"event_date\": 103}, {\"month_year\": \"2024-01\", \"event_type\": \"Battles\", \"fatalities\": 559, \"event_date\": 217}, {\"month_year\": \"2024-01\", \"event_type\": \"Explosions\", \"fatalities\": 250, \"event_date\": 312}, {\"month_year\": \"2024-01\", \"event_type\": \"Protests\", \"fatalities\": 0, \"event_date\": 10}, {\"month_year\": \"2024-01\", \"event_type\": \"Strategic developments\", \"fatalities\": 0, \"event_date\": 141}, {\"month_year\": \"2024-01\", \"event_type\": \"Violence against civilians\", \"fatalities\": 83, \"event_date\": 66}, {\"month_year\": \"2024-02\", \"event_type\": \"Battles\", \"fatalities\": 477, \"event_date\": 188}, {\"month_year\": \"2024-02\", \"event_type\": \"Explosions\", \"fatalities\": 59, \"event_date\": 108}, {\"month_year\": \"2024-02\", \"event_type\": \"Protests\", \"fatalities\": 0, \"event_date\": 5}, {\"month_year\": \"2024-02\", \"event_type\": \"Strategic developments\", \"fatalities\": 0, \"event_date\": 124}, {\"month_year\": \"2024-02\", \"event_type\": \"Violence against civilians\", \"fatalities\": 380, \"event_date\": 162}, {\"month_year\": \"2024-03\", \"event_type\": \"Battles\", \"fatalities\": 502, \"event_date\": 145}, {\"month_year\": \"2024-03\", \"event_type\": \"Explosions\", \"fatalities\": 66, \"event_date\": 111}, {\"month_year\": \"2024-03\", \"event_type\": \"Protests\", \"fatalities\": 0, \"event_date\": 6}, {\"month_year\": \"2024-03\", \"event_type\": \"Strategic developments\", \"fatalities\": 0, \"event_date\": 120}, {\"month_year\": \"2024-03\", \"event_type\": \"Violence against civilians\", \"fatalities\": 200, \"event_date\": 110}, {\"month_year\": \"2024-04\", \"event_type\": \"Battles\", \"fatalities\": 474, \"event_date\": 153}, {\"month_year\": \"2024-04\", \"event_type\": \"Explosions\", \"fatalities\": 144, \"event_date\": 104}, {\"month_year\": \"2024-04\", \"event_type\": \"Protests\", \"fatalities\": 0, \"event_date\": 6}, {\"month_year\": \"2024-04\", \"event_type\": \"Strategic developments\", \"fatalities\": 0, \"event_date\": 115}, {\"month_year\": \"2024-04\", \"event_type\": \"Violence against civilians\", \"fatalities\": 229, \"event_date\": 162}, {\"month_year\": \"2024-05\", \"event_type\": \"Battles\", \"fatalities\": 585, \"event_date\": 123}, {\"month_year\": \"2024-05\", \"event_type\": \"Explosions\", \"fatalities\": 152, \"event_date\": 125}, {\"month_year\": \"2024-05\", \"event_type\": \"Protests\", \"fatalities\": 0, \"event_date\": 8}, {\"month_year\": \"2024-05\", \"event_type\": \"Strategic developments\", \"fatalities\": 0, \"event_date\": 82}, {\"month_year\": \"2024-05\", \"event_type\": \"Violence against civilians\", \"fatalities\": 216, \"event_date\": 138}, {\"month_year\": \"2024-06\", \"event_type\": \"Battles\", \"fatalities\": 684, \"event_date\": 139}, {\"month_year\": \"2024-06\", \"event_type\": \"Explosions\", \"fatalities\": 337, \"event_date\": 144}, {\"month_year\": \"2024-06\", \"event_type\": \"Protests\", \"fatalities\": 0, \"event_date\": 4}, {\"month_year\": \"2024-06\", \"event_type\": \"Strategic developments\", \"fatalities\": 0, \"event_date\": 105}, {\"month_year\": \"2024-06\", \"event_type\": \"Violence against civilians\", \"fatalities\": 195, \"event_date\": 85}, {\"month_year\": \"2024-07\", \"event_type\": \"Battles\", \"fatalities\": 615, \"event_date\": 156}, {\"month_year\": \"2024-07\", \"event_type\": \"Explosions\", \"fatalities\": 112, \"event_date\": 66}, {\"month_year\": \"2024-07\", \"event_type\": \"Protests\", \"fatalities\": 0, \"event_date\": 1}, {\"month_year\": \"2024-07\", \"event_type\": \"Strategic developments\", \"fatalities\": 1, \"event_date\": 130}, {\"month_year\": \"2024-07\", \"event_type\": \"Violence against civilians\", \"fatalities\": 176, \"event_date\": 94}, {\"month_year\": \"2024-08\", \"event_type\": \"Battles\", \"fatalities\": 464, \"event_date\": 92}, {\"month_year\": \"2024-08\", \"event_type\": \"Explosions\", \"fatalities\": 256, \"event_date\": 217}, {\"month_year\": \"2024-08\", \"event_type\": \"Protests\", \"fatalities\": 0, \"event_date\": 11}, {\"month_year\": \"2024-08\", \"event_type\": \"Strategic developments\", \"fatalities\": 0, \"event_date\": 105}, {\"month_year\": \"2024-08\", \"event_type\": \"Violence against civilians\", \"fatalities\": 76, \"event_date\": 101}, {\"month_year\": \"2024-09\", \"event_type\": \"Battles\", \"fatalities\": 837, \"event_date\": 179}, {\"month_year\": \"2024-09\", \"event_type\": \"Explosions\", \"fatalities\": 326, \"event_date\": 234}, {\"month_year\": \"2024-09\", \"event_type\": \"Protests\", \"fatalities\": 0, \"event_date\": 5}, {\"month_year\": \"2024-09\", \"event_type\": \"Strategic developments\", \"fatalities\": 1, \"event_date\": 117}, {\"month_year\": \"2024-09\", \"event_type\": \"Violence against civilians\", \"fatalities\": 124, \"event_date\": 91}, {\"month_year\": \"2024-10\", \"event_type\": \"Battles\", \"fatalities\": 2129, \"event_date\": 194}, {\"month_year\": \"2024-10\", \"event_type\": \"Explosions\", \"fatalities\": 385, \"event_date\": 191}, {\"month_year\": \"2024-10\", \"event_type\": \"Protests\", \"fatalities\": 0, \"event_date\": 4}, {\"month_year\": \"2024-10\", \"event_type\": \"Strategic developments\", \"fatalities\": 1, \"event_date\": 181}, {\"month_year\": \"2024-10\", \"event_type\": \"Violence against civilians\", \"fatalities\": 496, \"event_date\": 236}, {\"month_year\": \"2024-11\", \"event_type\": \"Battles\", \"fatalities\": 702, \"event_date\": 98}, {\"month_year\": \"2024-11\", \"event_type\": \"Explosions\", \"fatalities\": 349, \"event_date\": 154}, {\"month_year\": \"2024-11\", \"event_type\": \"Protests\", \"fatalities\": 0, \"event_date\": 2}, {\"month_year\": \"2024-11\", \"event_type\": \"Strategic developments\", \"fatalities\": 9, \"event_date\": 180}, {\"month_year\": \"2024-11\", \"event_type\": \"Violence against civilians\", \"fatalities\": 460, \"event_date\": 147}, {\"month_year\": \"2024-12\", \"event_type\": \"Battles\", \"fatalities\": 574, \"event_date\": 61}, {\"month_year\": \"2024-12\", \"event_type\": \"Explosions\", \"fatalities\": 326, \"event_date\": 86}, {\"month_year\": \"2024-12\", \"event_type\": \"Protests\", \"fatalities\": 1, \"event_date\": 2}, {\"month_year\": \"2024-12\", \"event_type\": \"Strategic developments\", \"fatalities\": 6, \"event_date\": 68}, {\"month_year\": \"2024-12\", \"event_type\": \"Violence against civilians\", \"fatalities\": 81, \"event_date\": 41}]}}, {\"mode\": \"vega-lite\"});\n",
       "</script>"
      ],
      "text/plain": [
       "alt.LayerChart(...)"
      ]
     },
     "execution_count": 24,
     "metadata": {},
     "output_type": "execute_result"
    }
   ],
   "source": [
    "# Line plot of total fatalities by month\n",
    "line = alt.Chart(acled_monthly).mark_line(color='red').encode(\n",
    "    x='month_year:O',\n",
    "    y='fatalities:Q',\n",
    "    color='event_type:O',\n",
    "    tooltip=['month_year', 'fatalities', 'event_type']\n",
    ").properties(\n",
    "    title='Total Fatalities and Incidents by Month'\n",
    ").interactive()\n",
    "\n",
    "# Bar chart of total incidents by month\n",
    "bar = alt.Chart(acled_monthly).mark_bar(color='blue').encode(\n",
    "    x='month_year:O',\n",
    "    y='event_date:Q',\n",
    "    color='event_type:O',\n",
    "    tooltip=['month_year', 'fatalities', 'event_type']\n",
    ").interactive()\n",
    "\n",
    "# Combine both charts into one with a single y-axis\n",
    "combined_chart = alt.layer(bar, line)\n",
    "\n",
    "combined_chart\n"
   ]
  },
  {
   "cell_type": "markdown",
   "metadata": {},
   "source": [
    "### COMBINED STUFF"
   ]
  },
  {
   "cell_type": "markdown",
   "metadata": {},
   "source": [
    "### ACLED + IPC"
   ]
  },
  {
   "cell_type": "code",
   "execution_count": 19,
   "metadata": {},
   "outputs": [],
   "source": [
    "acled_admin1 = acled[(acled['month_year'] >= '2023-04') ]\n",
    "acled_admin1 = acled_admin1.groupby('admin1').agg({'fatalities': 'sum', 'event_id_cnty': 'count'}).reset_index()\n",
    "acled_admin1.reset_index(drop=True, inplace=True)\n",
    "\n",
    "acled_admin2 = acled[(acled['month_year'] >= '2023-04')]\n",
    "acled_admin2= acled_admin2.groupby('admin2').agg({'fatalities': 'sum', 'event_id_cnty': 'count'}).reset_index()\n",
    "acled_admin2.reset_index(drop=True, inplace=True)"
   ]
  },
  {
   "cell_type": "code",
   "execution_count": 20,
   "metadata": {},
   "outputs": [],
   "source": [
    "ipc_sdn_adm2_2024 = ipc_sdn_adm2[ipc_sdn_adm2['Date of analysis'].str.contains('Apr 2024')]"
   ]
  },
  {
   "cell_type": "code",
   "execution_count": 21,
   "metadata": {},
   "outputs": [
    {
     "name": "stdout",
     "output_type": "stream",
     "text": [
      "Common admin2 values: {'Sinja', 'Atbara', 'Kadugli', 'Heiban', 'Delami', 'Sennar', 'Sawakin', 'Dilling', 'Assalaya', 'Haya', 'Babanusa', 'Beida', 'Kereneik', 'Tendalti', 'Keilak', 'Basundah', 'Shendi', 'Kulbus', 'Dongola', 'Halfa', 'Abassiya', 'Geisan', 'An Nuhud', 'Sheikan', 'Tawkar', 'Yassin', 'Sirba', 'Adila', 'Delgo', 'Kosti', 'Dordieb', 'Barbar', 'Rabak', 'Shiaria'}\n",
      "Unique to ACLED admin2 values: ['Tulus', 'Al Lait', 'Kateila', 'Nyala Janoub', 'Um Kadadah', 'Janub Al Jazirah', 'As Suki', 'Karrari', 'Um Dam Haj Ahmed', 'Damso', 'Melit', 'Al Fasher', 'Gereida', 'Omdurman', 'Um Bada', 'Reifi Telkok', 'Dinder', 'Um Baru', 'Ed Damazine', 'Soudari', 'Kelemando', 'Rashad', 'Bahri', 'Bendasi', 'Mershing', 'Wad Al Mahi', 'Abyei', 'Al Gitaina', 'Jebel Moon', 'Kernoi', 'Mukjar', 'Tawila', 'Um Rimta', 'Jubayt Elmaaadin', 'Khartoum', 'El Geneina', 'Abu Karinka', 'Al Buhaira', 'Al Quoz', 'Rehaid Albirdi', 'Al Khiwai', 'Al Malha', 'Gebrat Al Sheikh', 'Saraf Omra', 'As Sunut', 'Al Idia', 'Al Firdous', 'Sharg Aj Jabal', 'Kubum', 'Bara', 'Ad Diwaim', 'Al Hasahisa', 'Al Butanah', 'Abu Kershola', 'Kas', 'Al Buram', 'Sharg An Neel', 'Port Sudan', 'Ghubaish', 'Um Algura', 'Al Golid', 'Reifi Kassla', 'Wasat Al Gedaref', 'Um Durein', 'Al Matama', 'Wad Bandah', 'Al Lagowa', 'Al Fao', 'As Serief', 'Al Radoum', 'As Salam/Ar Rawat', 'Um Dukhun', 'Reifi Gharb Kassala', 'Reifi Aroma', 'Ed Al Fursan', 'Kutum', 'Al Kurmuk', 'Ad Dali', 'Foro Baranga', 'Al Meiram', 'Beliel', 'Habila', 'Abu Hujar', 'Al Kamlin', 'Abu Jubayhah', 'Ghadeer', 'Madeinat Al Gedaref', 'Dar As Salam', 'Abu Zabad', 'Galaa Al Nahal', 'Reifi Shamal Ad Delta', 'Um Dafoug', 'Ar Reif Ash Shargi', 'Al Burgaig', 'Al Mafaza', 'Gharb Jabal Marrah', 'Wasat Jabal Marrah', 'Ad Damar', 'Ar Rahad', 'Medani Al Kubra', 'Galabat Ash-Shargiah', 'Al Fashaga', 'Reifi Khashm Elgirba', 'Sharg Sennar', 'El Taweisha', 'Azum', 'Nyala Shimal', 'Madeinat Kassala', 'Nitega', 'Aj Jabalain', 'Buram', 'Wadi Salih', 'Al Qurashi', 'Ad Duayn', 'Merowe', 'Abu Hamad', 'El Roseires', 'Um Rawaba', 'Jebel Awlia', 'El Salam', 'Al Wihda', 'Shamal Jabal Marrah', 'Talawdi', 'Halfa Aj Jadeedah', 'Gharb Bara', 'At Tina', 'Kebkabiya', 'Sunta', 'Al Manaqil', 'Bahr Al Arab', 'Sharg Al Jazirah', 'Zalingi', 'Ad Dabbah', 'Al Tadamon', 'Al Dibab', 'Al Galabat Al Gharbyah-Kassab']\n",
      "Unique to IPC admin2 values: ['Ad diwaim & Um Rimta', 'Sinkat', 'Sharg sennar', 'Al firdous', 'Ar rahad', 'Al burgaig', 'Rural Wad Elhilaiw', 'Al manaqil & Al Qurashi', 'Rural  kassala', 'At tadamon - sk', 'Ag geneina', 'Ar reif ash shargi', 'El daein', 'At tadamon - bn', 'Al buram', 'Al kurmuk', 'As salam - sd, Beliel, Nyala Janoub, Nyala Shimal', 'Al golid', 'Mukjar & Um Dukhun', 'Al mafaza', 'Bahri, Sharg an neel', \"Hala'ib\", 'Ad dabbah', 'Abu kershola', 'Rural West Kassala', 'Al Mujlad, Al Dibab & Al Meiram', 'Hamashkoreib', 'Al fashaga', 'Foro baranga', 'Ad dinder', 'Al Khiwai, Ghubaish & Wad Bandah', 'Merwoe', 'Madeinat al gedaref', 'Habila - wd', 'Abu karinka', 'Kutum, Tawila', 'Abu hamad', 'Ed al fursan, Kateila & Kubum', 'Medani al kubra', 'Kas & Sharg aj Jabal', 'Wad al mahi', 'Melit, Um kadadah, Al koma, Al malha', 'North Delta', 'Talkook', 'Ad damar', 'Al radoum, Damso, Rehaid al Birdi, Um Dafoug', 'Port sudan', 'Dar as salam, Kelemando', 'Ad dali', 'Baw', 'Azum, Bendasi, Wadi Salih & Zalingi', 'Agig', 'Bara, Gharb Bara, Um Dam Haj Ahmed', 'Rural  Al-Girba', 'Al Gunub and Awleb', 'Al hasahisa, Kamlin Janub Al Jazirah, E.Jazirah, Algura', 'Al qureisha', 'Um baru, Kernoi, At Tina', 'Aj jabalain', 'Wasat al gedaref', 'As sunut', 'Abu Zabad & Al Idia', 'Bahr al arab', 'At tawisha, Al Leit', 'Al fao', 'Jebel moon', 'Rural Aroma', 'Kebkabiya, Saraf Omra, As Serief', 'Al galabat al gharbyah - kassab', 'Al quoz', 'Al fasher', 'Ar rusayris', 'Abu hujar', 'Guli', 'Ar rahad, Um Rawaba', 'New Halfa', 'Ed damazine', 'Greater Jabal marrah', 'Al Wihda, Mershing, Nitega, Shattaya', 'As suki', 'Al gitaina', 'As sunta, Buram, Gereida & Tulus', 'Al Fula', 'Um durein', 'Al buhaira', 'Gebrat al sheikh & Soudari', 'Abu Jubayhah & Ar Rashad', \"Gala'a al nahal\", 'Al butanah', 'As salam / ar rawat', 'Habila - sk', 'Galabat ash-shargiah', 'Jebel awlia, Karrari', 'Khartoum, UmDurman, Um Bada', 'Kassala', \"Jubayt elma'aadin\", 'Al lagowa', 'Rural River Atbara', 'Al matama', 'Al Leri, Ghadeer & Talawdi', 'Abu jabrah']\n"
     ]
    }
   ],
   "source": [
    "# Compare admin2 values in acled_admin2 and admin2Name values in idp_admin2_data\n",
    "acled_admin_values = set(acled_admin2['admin2'])\n",
    "ipc_admin_values = set(ipc_sdn_adm2_2024['Area'])\n",
    "\n",
    "# Find common and unique values\n",
    "common_admin = acled_admin_values.intersection(ipc_admin_values)\n",
    "unique_to_acled = list(acled_admin_values.difference(ipc_admin_values))\n",
    "unique_to_ipc = list(ipc_admin_values.difference(acled_admin_values))\n",
    "\n",
    "print(\"Common admin2 values:\", common_admin)\n",
    "print(\"Unique to ACLED admin2 values:\", unique_to_acled)\n",
    "print(\"Unique to IPC admin2 values:\", unique_to_ipc)"
   ]
  },
  {
   "cell_type": "code",
   "execution_count": 22,
   "metadata": {},
   "outputs": [
    {
     "name": "stderr",
     "output_type": "stream",
     "text": [
      "/var/folders/w9/4s00gf1j7sl8k190_53qgb7c0000gn/T/ipykernel_58945/2199753483.py:19: SettingWithCopyWarning: \n",
      "A value is trying to be set on a copy of a slice from a DataFrame.\n",
      "Try using .loc[row_indexer,col_indexer] = value instead\n",
      "\n",
      "See the caveats in the documentation: https://pandas.pydata.org/pandas-docs/stable/user_guide/indexing.html#returning-a-view-versus-a-copy\n",
      "  ipc_sdn_adm2_2024['Area'] = ipc_sdn_adm2_2024['Area'].replace(mapping_result)\n"
     ]
    }
   ],
   "source": [
    "# Mapping based on similarity\n",
    "def map_admin2(acled_list, idp_list, threshold=80):\n",
    "    mapping = {}\n",
    "    for idp in idp_list:\n",
    "        match, score = process.extractOne(idp, acled_list, scorer=fuzz.ratio)\n",
    "        if score >= threshold:\n",
    "            mapping[idp] = match\n",
    "        else:\n",
    "            mapping[idp] = None\n",
    "    return mapping\n",
    "\n",
    "mapping_result = map_admin2(unique_to_acled, unique_to_ipc)\n",
    "\n",
    "# Display mapping results\n",
    "#for idp, acled in mapping_result.items():\n",
    "    #print(f\"{idp} -> {acled if acled else 'No match found'}\")\n",
    "\n",
    "#apply mapping to acled_admin2\n",
    "ipc_sdn_adm2_2024['Area'] = ipc_sdn_adm2_2024['Area'].replace(mapping_result)"
   ]
  },
  {
   "cell_type": "code",
   "execution_count": 23,
   "metadata": {},
   "outputs": [],
   "source": [
    "#Adm 1\n",
    "acled_admin1['admin1'] = acled_admin1['admin1'].replace('Al Jazirah', 'Aj Jazirah')\n",
    "ipc_sdn_adm1_2024 = ipc_sdn_adm1[ipc_sdn_adm1['Date of analysis'].str.contains('Apr 2024')]\n",
    "\n",
    "acled_ipc_adm1 = pd.merge(acled_admin1, ipc_sdn_adm1_2024, left_on=['admin1'], right_on=['Level 1'], how='inner')"
   ]
  },
  {
   "cell_type": "code",
   "execution_count": 24,
   "metadata": {},
   "outputs": [],
   "source": [
    "#Adm 2\n",
    "acled_admin2['admin2'] = acled_admin2['admin2'].replace(mapping_result)\n",
    "ipc_sdn_adm2_2024 = ipc_sdn_adm2[ipc_sdn_adm2['Date of analysis'].str.contains('Apr 2024')]\n",
    "\n",
    "acled_ipc_adm2 = pd.merge(acled_admin2, ipc_sdn_adm2_2024, left_on=['admin2'], right_on=['Area'], how='inner')"
   ]
  },
  {
   "cell_type": "code",
   "execution_count": 25,
   "metadata": {},
   "outputs": [
    {
     "data": {
      "text/plain": [
       "0.6468157976019642"
      ]
     },
     "execution_count": 25,
     "metadata": {},
     "output_type": "execute_result"
    }
   ],
   "source": [
    "#correlation between fatalities and Percentage\n",
    "acled_ipc_adm1['fatalities'].corr(acled_ipc_adm1['Number'])"
   ]
  },
  {
   "cell_type": "code",
   "execution_count": 26,
   "metadata": {},
   "outputs": [
    {
     "data": {
      "text/plain": [
       "0.5825001498104534"
      ]
     },
     "execution_count": 26,
     "metadata": {},
     "output_type": "execute_result"
    }
   ],
   "source": [
    "acled_ipc_adm2['fatalities'].corr(acled_ipc_adm2['Number'])"
   ]
  },
  {
   "cell_type": "code",
   "execution_count": 27,
   "metadata": {},
   "outputs": [],
   "source": [
    "# Create the chart with the selection and regression line\n",
    "chart = alt.Chart(acled_ipc_adm1).mark_circle().encode(\n",
    "    x=alt.X('fatalities:Q', scale=alt.Scale(type='log')),\n",
    "    y=alt.Y('Number:Q', scale=alt.Scale(type='log')),\n",
    "    color='admin1:N',\n",
    "    size=alt.Size('fatalities:Q', scale=alt.Scale(range=[10, 100])),\n",
    "    tooltip=['admin1', 'fatalities', 'Number']\n",
    ").properties(\n",
    "    title='Fatalities vs IPC by Admin1 in Sudan'\n",
    ").interactive()\n",
    "\n",
    "#chart"
   ]
  },
  {
   "cell_type": "code",
   "execution_count": 28,
   "metadata": {},
   "outputs": [],
   "source": [
    "#save acled_ipc_adm2 to csv\n",
    "acled_ipc_adm2.to_csv('sudan/acled_ipc_adm2.csv', index=False)"
   ]
  },
  {
   "cell_type": "code",
   "execution_count": 50,
   "metadata": {},
   "outputs": [
    {
     "data": {
      "text/plain": [
       "'{\\n  \"$schema\": \"https://vega.github.io/schema/vega-lite/v5.20.1.json\",\\n  \"config\": {\\n    \"view\": {\\n      \"continuousHeight\": 300,\\n      \"continuousWidth\": 300\\n    }\\n  },\\n  \"data\": {\\n    \"name\": \"data-796e19c005c3079862ee0ee6a70aff80\"\\n  },\\n  \"datasets\": {\\n    \"data-796e19c005c3079862ee0ee6a70aff80\": [\\n      {\\n        \"Area\": \"Abassiya\",\\n        \"Country\": \"SDN\",\\n        \"Date of analysis\": \"Apr 2024\",\\n        \"From\": \"2024-04-01\",\\n        \"Level 1\": \"South Kordofan\",\\n        \"Number\": \"54287\",\\n        \"Percentage\": \"0.4\",\\n        \"Phase\": \"3+\",\\n        \"To\": \"2024-05-31\",\\n        \"Total country population\": \"47208125\",\\n        \"Validity period\": \"current\",\\n        \"admin2\": \"Abassiya\",\\n        \"event_id_cnty\": 17,\\n        \"fatalities\": 115\\n      },\\n      {\\n        \"Area\": \"Adila\",\\n        \"Country\": \"SDN\",\\n        \"Date of analysis\": \"Apr 2024\",\\n        \"From\": \"2024-04-01\",\\n        \"Level 1\": \"East Darfur\",\\n        \"Number\": \"85845\",\\n        \"Percentage\": \"0.45\",\\n        \"Phase\": \"3+\",\\n        \"To\": \"2024-05-31\",\\n        \"Total country population\": \"47208125\",\\n        \"Validity period\": \"current\",\\n        \"admin2\": \"Adila\",\\n        \"event_id_cnty\": 13,\\n        \"fatalities\": 5\\n      },\\n      {\\n        \"Area\": \"An Nuhud\",\\n        \"Country\": \"SDN\",\\n        \"Date of analysis\": \"Apr 2024\",\\n        \"From\": \"2024-04-01\",\\n        \"Level 1\": \"West Kordofan\",\\n        \"Number\": \"134355\",\\n        \"Percentage\": \"0.45\",\\n        \"Phase\": \"3+\",\\n        \"To\": \"2024-05-31\",\\n        \"Total country population\": \"47208125\",\\n        \"Validity period\": \"current\",\\n        \"admin2\": \"An Nuhud\",\\n        \"event_id_cnty\": 39,\\n        \"fatalities\": 21\\n      },\\n      {\\n        \"Area\": \"Assalaya\",\\n        \"Country\": \"SDN\",\\n        \"Date of analysis\": \"Apr 2024\",\\n        \"From\": \"2024-04-01\",\\n        \"Level 1\": \"East Darfur\",\\n        \"Number\": \"62521\",\\n        \"Percentage\": \"0.4\",\\n        \"Phase\": \"3+\",\\n        \"To\": \"2024-05-31\",\\n        \"Total country population\": \"47208125\",\\n        \"Validity period\": \"current\",\\n        \"admin2\": \"Assalaya\",\\n        \"event_id_cnty\": 3,\\n        \"fatalities\": 0\\n      },\\n      {\\n        \"Area\": \"Atbara\",\\n        \"Country\": \"SDN\",\\n        \"Date of analysis\": \"Apr 2024\",\\n        \"From\": \"2024-04-01\",\\n        \"Level 1\": \"River Nile\",\\n        \"Number\": \"108542\",\\n        \"Percentage\": \"0.3\",\\n        \"Phase\": \"3+\",\\n        \"To\": \"2024-05-31\",\\n        \"Total country population\": \"47208125\",\\n        \"Validity period\": \"current\",\\n        \"admin2\": \"Atbara\",\\n        \"event_id_cnty\": 35,\\n        \"fatalities\": 5\\n      },\\n      {\\n        \"Area\": \"Babanusa\",\\n        \"Country\": \"SDN\",\\n        \"Date of analysis\": \"Apr 2024\",\\n        \"From\": \"2024-04-01\",\\n        \"Level 1\": \"West Kordofan\",\\n        \"Number\": \"10020\",\\n        \"Percentage\": \"0.6\",\\n        \"Phase\": \"3+\",\\n        \"To\": \"2024-05-31\",\\n        \"Total country population\": \"47208125\",\\n        \"Validity period\": \"current\",\\n        \"admin2\": \"Babanusa\",\\n        \"event_id_cnty\": 89,\\n        \"fatalities\": 333\\n      },\\n      {\\n        \"Area\": \"Barbar\",\\n        \"Country\": \"SDN\",\\n        \"Date of analysis\": \"Apr 2024\",\\n        \"From\": \"2024-04-01\",\\n        \"Level 1\": \"River Nile\",\\n        \"Number\": \"37186\",\\n        \"Percentage\": \"0.15\",\\n        \"Phase\": \"3+\",\\n        \"To\": \"2024-05-31\",\\n        \"Total country population\": \"47208125\",\\n        \"Validity period\": \"current\",\\n        \"admin2\": \"Barbar\",\\n        \"event_id_cnty\": 10,\\n        \"fatalities\": 8\\n      },\\n      {\\n        \"Area\": \"Basundah\",\\n        \"Country\": \"SDN\",\\n        \"Date of analysis\": \"Apr 2024\",\\n        \"From\": \"2024-04-01\",\\n        \"Level 1\": \"Gedaref\",\\n        \"Number\": \"42800\",\\n        \"Percentage\": \"0.35\",\\n        \"Phase\": \"3+\",\\n        \"To\": \"2024-05-31\",\\n        \"Total country population\": \"47208125\",\\n        \"Validity period\": \"current\",\\n        \"admin2\": \"Basundah\",\\n        \"event_id_cnty\": 16,\\n        \"fatalities\": 2\\n      },\\n      {\\n        \"Area\": \"Beida\",\\n        \"Country\": \"SDN\",\\n        \"Date of analysis\": \"Apr 2024\",\\n        \"From\": \"2024-04-01\",\\n        \"Level 1\": \"West Darfur\",\\n        \"Number\": \"16885\",\\n        \"Percentage\": \"0.5\",\\n        \"Phase\": \"3+\",\\n        \"To\": \"2024-05-31\",\\n        \"Total country population\": \"47208125\",\\n        \"Validity period\": \"current\",\\n        \"admin2\": \"Beida\",\\n        \"event_id_cnty\": 11,\\n        \"fatalities\": 51\\n      },\\n      {\\n        \"Area\": \"Delami\",\\n        \"Country\": \"SDN\",\\n        \"Date of analysis\": \"Apr 2024\",\\n        \"From\": \"2024-04-01\",\\n        \"Level 1\": \"South Kordofan\",\\n        \"Number\": \"22663\",\\n        \"Percentage\": \"0.5\",\\n        \"Phase\": \"3+\",\\n        \"To\": \"2024-05-31\",\\n        \"Total country population\": \"47208125\",\\n        \"Validity period\": \"current\",\\n        \"admin2\": \"Delami\",\\n        \"event_id_cnty\": 22,\\n        \"fatalities\": 72\\n      },\\n      {\\n        \"Area\": \"Delgo\",\\n        \"Country\": \"SDN\",\\n        \"Date of analysis\": \"Apr 2024\",\\n        \"From\": \"2024-04-01\",\\n        \"Level 1\": \"Northern\",\\n        \"Number\": \"25786\",\\n        \"Percentage\": \"0.25\",\\n        \"Phase\": \"3+\",\\n        \"To\": \"2024-05-31\",\\n        \"Total country population\": \"47208125\",\\n        \"Validity period\": \"current\",\\n        \"admin2\": \"Delgo\",\\n        \"event_id_cnty\": 3,\\n        \"fatalities\": 0\\n      },\\n      {\\n        \"Area\": \"Dilling\",\\n        \"Country\": \"SDN\",\\n        \"Date of analysis\": \"Apr 2024\",\\n        \"From\": \"2024-04-01\",\\n        \"Level 1\": \"South Kordofan\",\\n        \"Number\": \"108770\",\\n        \"Percentage\": \"0.5\",\\n        \"Phase\": \"3+\",\\n        \"To\": \"2024-05-31\",\\n        \"Total country population\": \"47208125\",\\n        \"Validity period\": \"current\",\\n        \"admin2\": \"Dilling\",\\n        \"event_id_cnty\": 64,\\n        \"fatalities\": 148\\n      },\\n      {\\n        \"Area\": \"Dongola\",\\n        \"Country\": \"SDN\",\\n        \"Date of analysis\": \"Apr 2024\",\\n        \"From\": \"2024-04-01\",\\n        \"Level 1\": \"Northern\",\\n        \"Number\": \"70031\",\\n        \"Percentage\": \"0.25\",\\n        \"Phase\": \"3+\",\\n        \"To\": \"2024-05-31\",\\n        \"Total country population\": \"47208125\",\\n        \"Validity period\": \"current\",\\n        \"admin2\": \"Dongola\",\\n        \"event_id_cnty\": 37,\\n        \"fatalities\": 2\\n      },\\n      {\\n        \"Area\": \"Dordieb\",\\n        \"Country\": \"SDN\",\\n        \"Date of analysis\": \"Apr 2024\",\\n        \"From\": \"2024-04-01\",\\n        \"Level 1\": \"Red Sea\",\\n        \"Number\": \"27361\",\\n        \"Percentage\": \"0.4\",\\n        \"Phase\": \"3+\",\\n        \"To\": \"2024-05-31\",\\n        \"Total country population\": \"47208125\",\\n        \"Validity period\": \"current\",\\n        \"admin2\": \"Dordieb\",\\n        \"event_id_cnty\": 1,\\n        \"fatalities\": 0\\n      },\\n      {\\n        \"Area\": \"Geisan\",\\n        \"Country\": \"SDN\",\\n        \"Date of analysis\": \"Apr 2024\",\\n        \"From\": \"2024-04-01\",\\n        \"Level 1\": \"Blue Nile\",\\n        \"Number\": \"58455\",\\n        \"Percentage\": \"0.4\",\\n        \"Phase\": \"3+\",\\n        \"To\": \"2024-05-31\",\\n        \"Total country population\": \"47208125\",\\n        \"Validity period\": \"current\",\\n        \"admin2\": \"Geisan\",\\n        \"event_id_cnty\": 3,\\n        \"fatalities\": 16\\n      },\\n      {\\n        \"Area\": \"Halfa\",\\n        \"Country\": \"SDN\",\\n        \"Date of analysis\": \"Apr 2024\",\\n        \"From\": \"2024-04-01\",\\n        \"Level 1\": \"Northern\",\\n        \"Number\": \"28620\",\\n        \"Percentage\": \"0.3\",\\n        \"Phase\": \"3+\",\\n        \"To\": \"2024-05-31\",\\n        \"Total country population\": \"47208125\",\\n        \"Validity period\": \"current\",\\n        \"admin2\": \"Halfa\",\\n        \"event_id_cnty\": 14,\\n        \"fatalities\": 0\\n      },\\n      {\\n        \"Area\": \"Haya\",\\n        \"Country\": \"SDN\",\\n        \"Date of analysis\": \"Apr 2024\",\\n        \"From\": \"2024-04-01\",\\n        \"Level 1\": \"Red Sea\",\\n        \"Number\": \"99110\",\\n        \"Percentage\": \"0.3\",\\n        \"Phase\": \"3+\",\\n        \"To\": \"2024-05-31\",\\n        \"Total country population\": \"47208125\",\\n        \"Validity period\": \"current\",\\n        \"admin2\": \"Haya\",\\n        \"event_id_cnty\": 3,\\n        \"fatalities\": 0\\n      },\\n      {\\n        \"Area\": \"Heiban\",\\n        \"Country\": \"SDN\",\\n        \"Date of analysis\": \"Apr 2024\",\\n        \"From\": \"2024-04-01\",\\n        \"Level 1\": \"South Kordofan\",\\n        \"Number\": \"124651\",\\n        \"Percentage\": \"0.5\",\\n        \"Phase\": \"3+\",\\n        \"To\": \"2024-05-31\",\\n        \"Total country population\": \"47208125\",\\n        \"Validity period\": \"current\",\\n        \"admin2\": \"Heiban\",\\n        \"event_id_cnty\": 7,\\n        \"fatalities\": 3\\n      },\\n      {\\n        \"Area\": \"Kadugli\",\\n        \"Country\": \"SDN\",\\n        \"Date of analysis\": \"Apr 2024\",\\n        \"From\": \"2024-04-01\",\\n        \"Level 1\": \"South Kordofan\",\\n        \"Number\": \"47301\",\\n        \"Percentage\": \"0.6\",\\n        \"Phase\": \"3+\",\\n        \"To\": \"2024-05-31\",\\n        \"Total country population\": \"47208125\",\\n        \"Validity period\": \"current\",\\n        \"admin2\": \"Kadugli\",\\n        \"event_id_cnty\": 71,\\n        \"fatalities\": 139\\n      },\\n      {\\n        \"Area\": \"Keilak\",\\n        \"Country\": \"SDN\",\\n        \"Date of analysis\": \"Apr 2024\",\\n        \"From\": \"2024-04-01\",\\n        \"Level 1\": \"West Kordofan\",\\n        \"Number\": \"36365\",\\n        \"Percentage\": \"0.45\",\\n        \"Phase\": \"3+\",\\n        \"To\": \"2024-05-31\",\\n        \"Total country population\": \"47208125\",\\n        \"Validity period\": \"current\",\\n        \"admin2\": \"Keilak\",\\n        \"event_id_cnty\": 8,\\n        \"fatalities\": 10\\n      },\\n      {\\n        \"Area\": \"Kereneik\",\\n        \"Country\": \"SDN\",\\n        \"Date of analysis\": \"Apr 2024\",\\n        \"From\": \"2024-04-01\",\\n        \"Level 1\": \"West Darfur\",\\n        \"Number\": \"203436\",\\n        \"Percentage\": \"0.6\",\\n        \"Phase\": \"3+\",\\n        \"To\": \"2024-05-31\",\\n        \"Total country population\": \"47208125\",\\n        \"Validity period\": \"current\",\\n        \"admin2\": \"Kereneik\",\\n        \"event_id_cnty\": 30,\\n        \"fatalities\": 95\\n      },\\n      {\\n        \"Area\": \"Kosti\",\\n        \"Country\": \"SDN\",\\n        \"Date of analysis\": \"Apr 2024\",\\n        \"From\": \"2024-04-01\",\\n        \"Level 1\": \"White Nile\",\\n        \"Number\": \"68633\",\\n        \"Percentage\": \"0.35\",\\n        \"Phase\": \"3+\",\\n        \"To\": \"2024-05-31\",\\n        \"Total country population\": \"47208125\",\\n        \"Validity period\": \"current\",\\n        \"admin2\": \"Kosti\",\\n        \"event_id_cnty\": 43,\\n        \"fatalities\": 30\\n      },\\n      {\\n        \"Area\": \"Kulbus\",\\n        \"Country\": \"SDN\",\\n        \"Date of analysis\": \"Apr 2024\",\\n        \"From\": \"2024-04-01\",\\n        \"Level 1\": \"West Darfur\",\\n        \"Number\": \"37011\",\\n        \"Percentage\": \"0.45\",\\n        \"Phase\": \"3+\",\\n        \"To\": \"2024-05-31\",\\n        \"Total country population\": \"47208125\",\\n        \"Validity period\": \"current\",\\n        \"admin2\": \"Kulbus\",\\n        \"event_id_cnty\": 12,\\n        \"fatalities\": 104\\n      },\\n      {\\n        \"Area\": \"Rabak\",\\n        \"Country\": \"SDN\",\\n        \"Date of analysis\": \"Apr 2024\",\\n        \"From\": \"2024-04-01\",\\n        \"Level 1\": \"White Nile\",\\n        \"Number\": \"188600\",\\n        \"Percentage\": \"0.4\",\\n        \"Phase\": \"3+\",\\n        \"To\": \"2024-05-31\",\\n        \"Total country population\": \"47208125\",\\n        \"Validity period\": \"current\",\\n        \"admin2\": \"Rabak\",\\n        \"event_id_cnty\": 20,\\n        \"fatalities\": 6\\n      },\\n      {\\n        \"Area\": \"Sawakin\",\\n        \"Country\": \"SDN\",\\n        \"Date of analysis\": \"Apr 2024\",\\n        \"From\": \"2024-04-01\",\\n        \"Level 1\": \"Red Sea\",\\n        \"Number\": \"15004\",\\n        \"Percentage\": \"0.15\",\\n        \"Phase\": \"3+\",\\n        \"To\": \"2024-05-31\",\\n        \"Total country population\": \"47208125\",\\n        \"Validity period\": \"current\",\\n        \"admin2\": \"Sawakin\",\\n        \"event_id_cnty\": 8,\\n        \"fatalities\": 0\\n      },\\n      {\\n        \"Area\": \"Sennar\",\\n        \"Country\": \"SDN\",\\n        \"Date of analysis\": \"Apr 2024\",\\n        \"From\": \"2024-04-01\",\\n        \"Level 1\": \"Sennar\",\\n        \"Number\": \"367729\",\\n        \"Percentage\": \"0.6\",\\n        \"Phase\": \"3+\",\\n        \"To\": \"2024-05-31\",\\n        \"Total country population\": \"47208125\",\\n        \"Validity period\": \"current\",\\n        \"admin2\": \"Sennar\",\\n        \"event_id_cnty\": 152,\\n        \"fatalities\": 406\\n      },\\n      {\\n        \"Area\": \"Sheikan\",\\n        \"Country\": \"SDN\",\\n        \"Date of analysis\": \"Apr 2024\",\\n        \"From\": \"2024-04-01\",\\n        \"Level 1\": \"North Kordofan\",\\n        \"Number\": \"282220\",\\n        \"Percentage\": \"0.5\",\\n        \"Phase\": \"3+\",\\n        \"To\": \"2024-05-31\",\\n        \"Total country population\": \"47208125\",\\n        \"Validity period\": \"current\",\\n        \"admin2\": \"Sheikan\",\\n        \"event_id_cnty\": 219,\\n        \"fatalities\": 822\\n      },\\n      {\\n        \"Area\": \"Shendi\",\\n        \"Country\": \"SDN\",\\n        \"Date of analysis\": \"Apr 2024\",\\n        \"From\": \"2024-04-01\",\\n        \"Level 1\": \"River Nile\",\\n        \"Number\": \"175313\",\\n        \"Percentage\": \"0.3\",\\n        \"Phase\": \"3+\",\\n        \"To\": \"2024-05-31\",\\n        \"Total country population\": \"47208125\",\\n        \"Validity period\": \"current\",\\n        \"admin2\": \"Shendi\",\\n        \"event_id_cnty\": 64,\\n        \"fatalities\": 70\\n      },\\n      {\\n        \"Area\": \"Shiaria\",\\n        \"Country\": \"SDN\",\\n        \"Date of analysis\": \"Apr 2024\",\\n        \"From\": \"2024-04-01\",\\n        \"Level 1\": \"East Darfur\",\\n        \"Number\": \"78097\",\\n        \"Percentage\": \"0.3\",\\n        \"Phase\": \"3+\",\\n        \"To\": \"2024-05-31\",\\n        \"Total country population\": \"47208125\",\\n        \"Validity period\": \"current\",\\n        \"admin2\": \"Shiaria\",\\n        \"event_id_cnty\": 8,\\n        \"fatalities\": 17\\n      },\\n      {\\n        \"Area\": \"Sinja\",\\n        \"Country\": \"SDN\",\\n        \"Date of analysis\": \"Apr 2024\",\\n        \"From\": \"2024-04-01\",\\n        \"Level 1\": \"Sennar\",\\n        \"Number\": \"147167\",\\n        \"Percentage\": \"0.45\",\\n        \"Phase\": \"3+\",\\n        \"To\": \"2024-05-31\",\\n        \"Total country population\": \"47208125\",\\n        \"Validity period\": \"current\",\\n        \"admin2\": \"Sinja\",\\n        \"event_id_cnty\": 60,\\n        \"fatalities\": 184\\n      },\\n      {\\n        \"Area\": \"Sirba\",\\n        \"Country\": \"SDN\",\\n        \"Date of analysis\": \"Apr 2024\",\\n        \"From\": \"2024-04-01\",\\n        \"Level 1\": \"West Darfur\",\\n        \"Number\": \"91961\",\\n        \"Percentage\": \"0.65\",\\n        \"Phase\": \"3+\",\\n        \"To\": \"2024-05-31\",\\n        \"Total country population\": \"47208125\",\\n        \"Validity period\": \"current\",\\n        \"admin2\": \"Sirba\",\\n        \"event_id_cnty\": 47,\\n        \"fatalities\": 281\\n      },\\n      {\\n        \"Area\": \"Tawkar\",\\n        \"Country\": \"SDN\",\\n        \"Date of analysis\": \"Apr 2024\",\\n        \"From\": \"2024-04-01\",\\n        \"Level 1\": \"Red Sea\",\\n        \"Number\": \"75480\",\\n        \"Percentage\": \"0.4\",\\n        \"Phase\": \"3+\",\\n        \"To\": \"2024-05-31\",\\n        \"Total country population\": \"47208125\",\\n        \"Validity period\": \"current\",\\n        \"admin2\": \"Tawkar\",\\n        \"event_id_cnty\": 2,\\n        \"fatalities\": 0\\n      },\\n      {\\n        \"Area\": \"Tendalti\",\\n        \"Country\": \"SDN\",\\n        \"Date of analysis\": \"Apr 2024\",\\n        \"From\": \"2024-04-01\",\\n        \"Level 1\": \"White Nile\",\\n        \"Number\": \"87112\",\\n        \"Percentage\": \"0.35\",\\n        \"Phase\": \"3+\",\\n        \"To\": \"2024-05-31\",\\n        \"Total country population\": \"47208125\",\\n        \"Validity period\": \"current\",\\n        \"admin2\": \"Tendalti\",\\n        \"event_id_cnty\": 9,\\n        \"fatalities\": 18\\n      },\\n      {\\n        \"Area\": \"Yassin\",\\n        \"Country\": \"SDN\",\\n        \"Date of analysis\": \"Apr 2024\",\\n        \"From\": \"2024-04-01\",\\n        \"Level 1\": \"East Darfur\",\\n        \"Number\": \"53018\",\\n        \"Percentage\": \"0.35\",\\n        \"Phase\": \"3+\",\\n        \"To\": \"2024-05-31\",\\n        \"Total country population\": \"47208125\",\\n        \"Validity period\": \"current\",\\n        \"admin2\": \"Yassin\",\\n        \"event_id_cnty\": 6,\\n        \"fatalities\": 22\\n      }\\n    ]\\n  },\\n  \"encoding\": {\\n    \"color\": {\\n      \"field\": \"Level 1\",\\n      \"legend\": {\\n        \"title\": \"Admin 1 Area\"\\n      },\\n      \"type\": \"nominal\"\\n    },\\n    \"size\": {\\n      \"field\": \"fatalities\",\\n      \"type\": \"quantitative\"\\n    },\\n    \"tooltip\": [\\n      {\\n        \"field\": \"admin2\",\\n        \"type\": \"nominal\"\\n      },\\n      {\\n        \"field\": \"fatalities\",\\n        \"type\": \"quantitative\"\\n      },\\n      {\\n        \"field\": \"Number\",\\n        \"type\": \"nominal\"\\n      }\\n    ],\\n    \"x\": {\\n      \"field\": \"event_id_cnty\",\\n      \"scale\": {\\n        \"type\": \"log\"\\n      },\\n      \"title\": \"Incidents (Log)\",\\n      \"type\": \"quantitative\"\\n    },\\n    \"y\": {\\n      \"field\": \"Number\",\\n      \"scale\": {\\n        \"type\": \"log\"\\n      },\\n      \"title\": \"People in IPC Phase 3+ (Log)\",\\n      \"type\": \"quantitative\"\\n    }\\n  },\\n  \"mark\": {\\n    \"type\": \"circle\"\\n  },\\n  \"params\": [\\n    {\\n      \"bind\": \"scales\",\\n      \"name\": \"param_11\",\\n      \"select\": {\\n        \"encodings\": [\\n          \"x\",\\n          \"y\"\\n        ],\\n        \"type\": \"interval\"\\n      }\\n    }\\n  ],\\n  \"title\": \"Armed Violence and acute food insecurity\"\\n}'"
      ]
     },
     "execution_count": 50,
     "metadata": {},
     "output_type": "execute_result"
    }
   ],
   "source": [
    "# Create the chart with the selection and regression line\n",
    "chart = alt.Chart(acled_ipc_adm2).mark_circle().encode(\n",
    "    x=alt.X('event_id_cnty:Q', scale=alt.Scale(type='log'), title='Incidents (Log)'),\n",
    "    y=alt.Y('Number:Q', scale=alt.Scale(type='log'), title='People in IPC Phase 3+ (Log)'),\n",
    "    color=alt.Color('Level 1:N', legend=alt.Legend(title=\"Admin 1 Area\")),\n",
    "    size=alt.Size('fatalities:Q'),\n",
    "    tooltip=['admin2', 'fatalities', 'Number']\n",
    ").properties(\n",
    "    title='Armed Violence and acute food insecurity'\n",
    ").interactive().to_json()\n",
    "\n",
    "with open('CC9_fig1.json', 'w') as f:\n",
    "    f.write(chart)\n",
    "\n",
    "chart"
   ]
  },
  {
   "cell_type": "markdown",
   "metadata": {},
   "source": [
    "### ACLED + IOM"
   ]
  },
  {
   "cell_type": "code",
   "execution_count": 30,
   "metadata": {},
   "outputs": [],
   "source": [
    "acled_admin1 = acled[(acled['month_year'] >= '2023-04') ]\n",
    "acled_admin1 = acled_admin1.groupby('admin1').agg({'fatalities': 'sum', 'event_id_cnty': 'count'}).reset_index()\n",
    "acled_admin1.reset_index(drop=True, inplace=True)\n",
    "\n",
    "acled_admin2 = acled[(acled['month_year'] >= '2023-04')]\n",
    "acled_admin2= acled_admin2.groupby('admin2').agg({'fatalities': 'sum', 'event_id_cnty': 'count'}).reset_index()\n",
    "acled_admin2.reset_index(drop=True, inplace=True)"
   ]
  },
  {
   "cell_type": "code",
   "execution_count": 31,
   "metadata": {},
   "outputs": [
    {
     "name": "stdout",
     "output_type": "stream",
     "text": [
      "Common admin2 values: {'Tulus', 'Al Lait', 'Sawakin', 'Kateila', 'Nyala Janoub', 'Um Kadadah', 'Janub Al Jazirah', 'As Suki', 'Tendalti', 'Karrari', 'Um Dam Haj Ahmed', 'Damso', 'Melit', 'Al Fasher', 'Gereida', 'Um Bada', 'Reifi Telkok', 'Um Baru', 'Ed Damazine', 'Soudari', 'Kelemando', 'Bahri', 'Bendasi', 'Mershing', 'Wad Al Mahi', 'Abyei', 'Al Gitaina', 'Jebel Moon', 'Kernoi', 'Mukjar', 'Sheikan', 'Tawila', 'Um Rimta', 'Tawkar', 'Yassin', 'Khartoum', 'Abu Karinka', 'Al Buhaira', 'Atbara', 'Sinja', 'Al Quoz', 'Rehaid Albirdi', 'Al Khiwai', 'Al Malha', 'Babanusa', 'Haya', 'Gebrat Al Sheikh', 'Saraf Omra', 'As Sunut', 'Al Idia', 'Al Firdous', 'Sharg Aj Jabal', 'Kubum', 'Bara', 'Ad Diwaim', 'Al Hasahisa', 'Al Butanah', 'Abu Kershola', 'Kas', 'Sharg An Neel', 'Port Sudan', 'Ghubaish', 'Um Algura', 'Al Golid', 'Reifi Kassla', 'Wasat Al Gedaref', 'Al Dibab', 'Al Matama', 'Wad Bandah', 'Al Lagowa', 'Al Fao', 'Kadugli', 'As Serief', 'Al Radoum', 'Um Dukhun', 'Reifi Gharb Kassala', 'Reifi Aroma', 'Ed Al Fursan', 'Kutum', 'Beida', 'Al Kurmuk', 'Ad Dali', 'Kereneik', 'Keilak', 'Foro Baranga', 'Al Meiram', 'Beliel', 'Abu Hujar', 'Al Kamlin', 'Abu Jubayhah', 'Ghadeer', 'Madeinat Al Gedaref', 'Dar As Salam', 'Abu Zabad', 'Reifi Shamal Ad Delta', 'Um Dafoug', 'Ar Reif Ash Shargi', 'Al Burgaig', 'Al Mafaza', 'Gharb Jabal Marrah', 'Wasat Jabal Marrah', 'Ad Damar', 'Ar Rahad', 'Kosti', 'Medani Al Kubra', 'Galabat Ash-Shargiah', 'Al Fashaga', 'Reifi Khashm Elgirba', 'Delami', 'Sharg Sennar', 'Sennar', 'Dilling', 'Azum', 'Assalaya', 'Nyala Shimal', 'Madeinat Kassala', 'Nitega', 'Aj Jabalain', 'Buram', 'Wadi Salih', 'Al Qurashi', 'Basundah', 'Abu Hamad', 'Um Rawaba', 'Jebel Awlia', 'Shendi', 'Al Wihda', 'Kulbus', 'Shamal Jabal Marrah', 'Dongola', 'Talawdi', 'Halfa Aj Jadeedah', 'Gharb Bara', 'Halfa', 'Abassiya', 'At Tina', 'Geisan', 'An Nuhud', 'Kebkabiya', 'Al Manaqil', 'Bahr Al Arab', 'Sirba', 'Sharg Al Jazirah', 'Zalingi', 'Adila', 'Ad Dabbah', 'Delgo', 'Dordieb', 'Barbar', 'Rabak'}\n",
      "Unique to ACLED admin2 values: {'Heiban', 'El Taweisha', 'As Salam/Ar Rawat', 'Ad Duayn', 'Habila', 'Omdurman', 'Merowe', 'El Roseires', 'Dinder', 'El Salam', 'Galaa Al Nahal', 'Al Buram', 'Rashad', 'Sunta', 'Um Durein', 'Jubayt Elmaaadin', 'El Geneina', 'Al Tadamon', 'Shiaria', 'Al Galabat Al Gharbyah-Kassab'}\n",
      "Unique to IDP admin2 values: {'Shattaya', 'Sinkat', 'Baw', 'Al Koma', \"Hala'ib\", 'At Tadamon - SK', \"Shia'ria\", 'Abu Jabrah', 'Ag Geneina', 'Ad Dinder', 'As Salam / Ar Rawat', 'Agig', 'Habila - WD', 'Al Qureisha', \"Gala'a Al Nahal\", 'Reifi Hamashkureib', 'As Salam - SD', 'Merwoe', 'Ar Rashad', 'Reifi Nahr Atbara', 'Al Leri', 'Habila - SK', 'Al Galabat Al Gharbyah - Kassab', 'As Sunta', 'As Salam - WK', \"Ad Du'ayn\", \"Jubayt Elma'aadin\", 'At Tadamon - BN', 'Al Ganab', 'Um Durman', 'Ar Rusayris', 'Reifi Wad Elhilaiw', 'At Tawisha', 'Guli'}\n"
     ]
    }
   ],
   "source": [
    "# Compare admin2 values in acled_admin2 and admin2Name values in idp_admin2_data\n",
    "acled_admin2_values = set(acled_admin2['admin2'])\n",
    "idp_admin2_values = set(idp_admin_data['admin2Name'])\n",
    "\n",
    "# Find common and unique values\n",
    "common_admin2 = acled_admin2_values.intersection(idp_admin2_values)\n",
    "unique_to_acled = acled_admin2_values.difference(idp_admin2_values)\n",
    "unique_to_idp = idp_admin2_values.difference(acled_admin2_values)\n",
    "\n",
    "print(\"Common admin2 values:\", common_admin2)\n",
    "print(\"Unique to ACLED admin2 values:\", unique_to_acled)\n",
    "print(\"Unique to IDP admin2 values:\", unique_to_idp)"
   ]
  },
  {
   "cell_type": "code",
   "execution_count": 32,
   "metadata": {},
   "outputs": [],
   "source": [
    "# Mapping based on similarity\n",
    "def map_admin2(acled_list, idp_list, threshold=80):\n",
    "    mapping = {}\n",
    "    for idp in idp_list:\n",
    "        if isinstance(idp, float) and pd.isna(idp):\n",
    "            continue\n",
    "        idp = str(idp)\n",
    "        match, score = process.extractOne(idp, [str(a) for a in acled_list], scorer=fuzz.ratio)\n",
    "        if score >= threshold:\n",
    "            mapping[idp] = match\n",
    "        else:\n",
    "            mapping[idp] = None\n",
    "    return mapping\n",
    "\n",
    "mapping_result = map_admin2(unique_to_acled, unique_to_idp)\n",
    "\n",
    "# Display mapping results\n",
    "#for idp, acled in mapping_result.items():\n",
    "    #print(f\"{idp} -> {acled if acled else 'No match found'}\")\n",
    "#mapping_result\n"
   ]
  },
  {
   "cell_type": "code",
   "execution_count": 33,
   "metadata": {},
   "outputs": [],
   "source": [
    "#apply mapping to acled_admin2\n",
    "idp_admin_data['admin2Name'] = idp_admin_data['admin2Name'].replace(mapping_result)"
   ]
  },
  {
   "cell_type": "code",
   "execution_count": 34,
   "metadata": {},
   "outputs": [],
   "source": [
    "idp_admin2_2024 = idp_admin_data[(idp_admin_data['yearReportingDate'] == 2024) & (idp_admin_data['monthReportingDate'] == 12) & (idp_admin_data['operation'] == 'Armed Clashes in Sudan (Overview)') & (idp_admin_data['roundNumber'] == 18)]\n",
    "idp_admin2_2023 = idp_admin_data[(idp_admin_data['yearReportingDate'] == 2023) & (idp_admin_data['monthReportingDate'] == 12) & (idp_admin_data['operation'] == 'Armed Clashes in Sudan (Overview)')]\n",
    "idp_admin2_2022 = idp_admin_data[(idp_admin_data['yearReportingDate'] == 2022) & (idp_admin_data['monthReportingDate'] == 3) & (idp_admin_data['operation'] == 'Darfur conflict')]\n",
    "idp_admin2_2021 = idp_admin_data[(idp_admin_data['yearReportingDate'] == 2021) & (idp_admin_data['monthReportingDate'] == 12) & (idp_admin_data['operation'] == 'Darfur conflict')]\n",
    "\n",
    "idp_admin2 = pd.concat([idp_admin2_2024, idp_admin2_2023, idp_admin2_2022, idp_admin2_2021])"
   ]
  },
  {
   "cell_type": "code",
   "execution_count": 35,
   "metadata": {},
   "outputs": [],
   "source": [
    "idp_admin2['admin2Name'] = idp_admin2['admin2Name'].replace(mapping_result)"
   ]
  },
  {
   "cell_type": "code",
   "execution_count": 36,
   "metadata": {},
   "outputs": [
    {
     "data": {
      "text/html": [
       "<div>\n",
       "<style scoped>\n",
       "    .dataframe tbody tr th:only-of-type {\n",
       "        vertical-align: middle;\n",
       "    }\n",
       "\n",
       "    .dataframe tbody tr th {\n",
       "        vertical-align: top;\n",
       "    }\n",
       "\n",
       "    .dataframe thead th {\n",
       "        text-align: right;\n",
       "    }\n",
       "</style>\n",
       "<table border=\"1\" class=\"dataframe\">\n",
       "  <thead>\n",
       "    <tr style=\"text-align: right;\">\n",
       "      <th></th>\n",
       "      <th>yearReportingDate</th>\n",
       "      <th>numPresentIdpInd</th>\n",
       "    </tr>\n",
       "  </thead>\n",
       "  <tbody>\n",
       "    <tr>\n",
       "      <th>0</th>\n",
       "      <td>2021</td>\n",
       "      <td>3086553</td>\n",
       "    </tr>\n",
       "    <tr>\n",
       "      <th>1</th>\n",
       "      <td>2022</td>\n",
       "      <td>3779487</td>\n",
       "    </tr>\n",
       "    <tr>\n",
       "      <th>2</th>\n",
       "      <td>2023</td>\n",
       "      <td>9052822</td>\n",
       "    </tr>\n",
       "    <tr>\n",
       "      <th>3</th>\n",
       "      <td>2024</td>\n",
       "      <td>11532774</td>\n",
       "    </tr>\n",
       "  </tbody>\n",
       "</table>\n",
       "</div>"
      ],
      "text/plain": [
       "   yearReportingDate  numPresentIdpInd\n",
       "0               2021           3086553\n",
       "1               2022           3779487\n",
       "2               2023           9052822\n",
       "3               2024          11532774"
      ]
     },
     "execution_count": 36,
     "metadata": {},
     "output_type": "execute_result"
    }
   ],
   "source": [
    "idp_admin2_yearly = idp_admin2.groupby(['yearReportingDate']).agg({'numPresentIdpInd':'sum'}).reset_index()\n",
    "idp_admin2_yearly"
   ]
  },
  {
   "cell_type": "code",
   "execution_count": 37,
   "metadata": {},
   "outputs": [],
   "source": [
    "idp_origin_2023 = idp_origin_2023.drop(columns=['adm1_name', 'adm1_pcode', 'affected_idps_ind', 'affected_idps_hh'])\n",
    "idp_origin_2024 = idp_origin_2024.drop(columns=['adm1_name', 'adm1_pcode', 'affected_idps_ind', 'affected_idps_hh'])\n",
    "\n",
    "idp_origin_2023['state_origin'] = idp_origin_2023['state_origin'].str.strip()"
   ]
  },
  {
   "cell_type": "code",
   "execution_count": 38,
   "metadata": {},
   "outputs": [],
   "source": [
    "# merge idp_adm1_2023 with idp_acled_adm1_2023 on adm1_name and state_origin\n",
    "acled_idp_2024_origin = pd.merge(idp_origin_2024, acled_admin1, left_on=['state_origin'], right_on=['admin1'], how='inner')\n",
    "acled_idp_2024 = pd.merge(idp_admin2_2024, acled_admin2, left_on=['admin2Name'], right_on=['admin2'], how='inner')"
   ]
  },
  {
   "cell_type": "code",
   "execution_count": 47,
   "metadata": {},
   "outputs": [
    {
     "data": {
      "text/html": [
       "\n",
       "<style>\n",
       "  #altair-viz-36024e6af33847698e7022be2a994be1.vega-embed {\n",
       "    width: 100%;\n",
       "    display: flex;\n",
       "  }\n",
       "\n",
       "  #altair-viz-36024e6af33847698e7022be2a994be1.vega-embed details,\n",
       "  #altair-viz-36024e6af33847698e7022be2a994be1.vega-embed details summary {\n",
       "    position: relative;\n",
       "  }\n",
       "</style>\n",
       "<div id=\"altair-viz-36024e6af33847698e7022be2a994be1\"></div>\n",
       "<script type=\"text/javascript\">\n",
       "  var VEGA_DEBUG = (typeof VEGA_DEBUG == \"undefined\") ? {} : VEGA_DEBUG;\n",
       "  (function(spec, embedOpt){\n",
       "    let outputDiv = document.currentScript.previousElementSibling;\n",
       "    if (outputDiv.id !== \"altair-viz-36024e6af33847698e7022be2a994be1\") {\n",
       "      outputDiv = document.getElementById(\"altair-viz-36024e6af33847698e7022be2a994be1\");\n",
       "    }\n",
       "    const paths = {\n",
       "      \"vega\": \"https://cdn.jsdelivr.net/npm/vega@5?noext\",\n",
       "      \"vega-lib\": \"https://cdn.jsdelivr.net/npm/vega-lib?noext\",\n",
       "      \"vega-lite\": \"https://cdn.jsdelivr.net/npm/vega-lite@5.20.1?noext\",\n",
       "      \"vega-embed\": \"https://cdn.jsdelivr.net/npm/vega-embed@6?noext\",\n",
       "    };\n",
       "\n",
       "    function maybeLoadScript(lib, version) {\n",
       "      var key = `${lib.replace(\"-\", \"\")}_version`;\n",
       "      return (VEGA_DEBUG[key] == version) ?\n",
       "        Promise.resolve(paths[lib]) :\n",
       "        new Promise(function(resolve, reject) {\n",
       "          var s = document.createElement('script');\n",
       "          document.getElementsByTagName(\"head\")[0].appendChild(s);\n",
       "          s.async = true;\n",
       "          s.onload = () => {\n",
       "            VEGA_DEBUG[key] = version;\n",
       "            return resolve(paths[lib]);\n",
       "          };\n",
       "          s.onerror = () => reject(`Error loading script: ${paths[lib]}`);\n",
       "          s.src = paths[lib];\n",
       "        });\n",
       "    }\n",
       "\n",
       "    function showError(err) {\n",
       "      outputDiv.innerHTML = `<div class=\"error\" style=\"color:red;\">${err}</div>`;\n",
       "      throw err;\n",
       "    }\n",
       "\n",
       "    function displayChart(vegaEmbed) {\n",
       "      vegaEmbed(outputDiv, spec, embedOpt)\n",
       "        .catch(err => showError(`Javascript Error: ${err.message}<br>This usually means there's a typo in your chart specification. See the javascript console for the full traceback.`));\n",
       "    }\n",
       "\n",
       "    if(typeof define === \"function\" && define.amd) {\n",
       "      requirejs.config({paths});\n",
       "      require([\"vega-embed\"], displayChart, err => showError(`Error loading script: ${err.message}`));\n",
       "    } else {\n",
       "      maybeLoadScript(\"vega\", \"5\")\n",
       "        .then(() => maybeLoadScript(\"vega-lite\", \"5.20.1\"))\n",
       "        .then(() => maybeLoadScript(\"vega-embed\", \"6\"))\n",
       "        .catch(showError)\n",
       "        .then(() => displayChart(vegaEmbed));\n",
       "    }\n",
       "  })({\"config\": {\"view\": {\"continuousWidth\": 300, \"continuousHeight\": 300}}, \"data\": {\"name\": \"data-161d63b95a63e934418b2ab6578859c7\"}, \"mark\": {\"type\": \"circle\"}, \"encoding\": {\"size\": {\"field\": \"fatalities\", \"type\": \"quantitative\"}, \"x\": {\"field\": \"event_id_cnty\", \"scale\": {\"type\": \"log\"}, \"type\": \"quantitative\"}, \"y\": {\"field\": \"numPresentIdpInd\", \"scale\": {\"type\": \"log\"}, \"type\": \"quantitative\"}}, \"params\": [{\"name\": \"param_8\", \"select\": {\"type\": \"interval\", \"encodings\": [\"x\", \"y\"]}, \"bind\": \"scales\"}], \"title\": \"Total Fatalities by Month\", \"$schema\": \"https://vega.github.io/schema/vega-lite/v5.20.1.json\", \"datasets\": {\"data-161d63b95a63e934418b2ab6578859c7\": [{\"id\": 519499, \"operation\": \"Armed Clashes in Sudan (Overview)\", \"admin0Name\": \"Sudan\", \"admin0Pcode\": \"SDN\", \"admin1Name\": \"Khartoum\", \"admin1Pcode\": \"SD01\", \"admin2Name\": \"Jebel Awlia\", \"admin2Pcode\": \"SD01001\", \"numPresentIdpInd\": 14020, \"reportingDate\": \"2024-12-17T00:00:00\", \"yearReportingDate\": 2024, \"monthReportingDate\": 12, \"roundNumber\": 18, \"assessmentType\": \"BA\", \"admin2\": \"Jebel Awlia\", \"fatalities\": 896, \"event_id_cnty\": 423}, {\"id\": 519500, \"operation\": \"Armed Clashes in Sudan (Overview)\", \"admin0Name\": \"Sudan\", \"admin0Pcode\": \"SDN\", \"admin1Name\": \"Khartoum\", \"admin1Pcode\": \"SD01\", \"admin2Name\": \"Um Bada\", \"admin2Pcode\": \"SD01002\", \"numPresentIdpInd\": 5698, \"reportingDate\": \"2024-12-17T00:00:00\", \"yearReportingDate\": 2024, \"monthReportingDate\": 12, \"roundNumber\": 18, \"assessmentType\": \"BA\", \"admin2\": \"Um Bada\", \"fatalities\": 810, \"event_id_cnty\": 271}, {\"id\": 519503, \"operation\": \"Armed Clashes in Sudan (Overview)\", \"admin0Name\": \"Sudan\", \"admin0Pcode\": \"SDN\", \"admin1Name\": \"Khartoum\", \"admin1Pcode\": \"SD01\", \"admin2Name\": \"Karrari\", \"admin2Pcode\": \"SD01005\", \"numPresentIdpInd\": 16941, \"reportingDate\": \"2024-12-17T00:00:00\", \"yearReportingDate\": 2024, \"monthReportingDate\": 12, \"roundNumber\": 18, \"assessmentType\": \"BA\", \"admin2\": \"Karrari\", \"fatalities\": 1331, \"event_id_cnty\": 512}, {\"id\": 519504, \"operation\": \"Armed Clashes in Sudan (Overview)\", \"admin0Name\": \"Sudan\", \"admin0Pcode\": \"SDN\", \"admin1Name\": \"Khartoum\", \"admin1Pcode\": \"SD01\", \"admin2Name\": \"Omdurman\", \"admin2Pcode\": \"SD01006\", \"numPresentIdpInd\": 6963, \"reportingDate\": \"2024-12-17T00:00:00\", \"yearReportingDate\": 2024, \"monthReportingDate\": 12, \"roundNumber\": 18, \"assessmentType\": \"BA\", \"admin2\": \"Omdurman\", \"fatalities\": 1431, \"event_id_cnty\": 993}, {\"id\": 519505, \"operation\": \"Armed Clashes in Sudan (Overview)\", \"admin0Name\": \"Sudan\", \"admin0Pcode\": \"SDN\", \"admin1Name\": \"Khartoum\", \"admin1Pcode\": \"SD01\", \"admin2Name\": \"Khartoum\", \"admin2Pcode\": \"SD01007\", \"numPresentIdpInd\": 6686, \"reportingDate\": \"2024-12-17T00:00:00\", \"yearReportingDate\": 2024, \"monthReportingDate\": 12, \"roundNumber\": 18, \"assessmentType\": \"BA\", \"admin2\": \"Khartoum\", \"fatalities\": 2188, \"event_id_cnty\": 2036}, {\"id\": 519506, \"operation\": \"Armed Clashes in Sudan (Overview)\", \"admin0Name\": \"Sudan\", \"admin0Pcode\": \"SDN\", \"admin1Name\": \"North Darfur\", \"admin1Pcode\": \"SD02\", \"admin2Name\": \"Dar As Salam\", \"admin2Pcode\": \"SD02113\", \"numPresentIdpInd\": 156731, \"reportingDate\": \"2024-12-17T00:00:00\", \"yearReportingDate\": 2024, \"monthReportingDate\": 12, \"roundNumber\": 18, \"assessmentType\": \"BA\", \"admin2\": \"Dar As Salam\", \"fatalities\": 62, \"event_id_cnty\": 57}, {\"id\": 519507, \"operation\": \"Armed Clashes in Sudan (Overview)\", \"admin0Name\": \"Sudan\", \"admin0Pcode\": \"SDN\", \"admin1Name\": \"North Darfur\", \"admin1Pcode\": \"SD02\", \"admin2Name\": \"Al Fasher\", \"admin2Pcode\": \"SD02114\", \"numPresentIdpInd\": 683990, \"reportingDate\": \"2024-12-17T00:00:00\", \"yearReportingDate\": 2024, \"monthReportingDate\": 12, \"roundNumber\": 18, \"assessmentType\": \"BA\", \"admin2\": \"Al Fasher\", \"fatalities\": 3379, \"event_id_cnty\": 745}, {\"id\": 519509, \"operation\": \"Armed Clashes in Sudan (Overview)\", \"admin0Name\": \"Sudan\", \"admin0Pcode\": \"SDN\", \"admin1Name\": \"North Darfur\", \"admin1Pcode\": \"SD02\", \"admin2Name\": \"Al Malha\", \"admin2Pcode\": \"SD02117\", \"numPresentIdpInd\": 6330, \"reportingDate\": \"2024-12-17T00:00:00\", \"yearReportingDate\": 2024, \"monthReportingDate\": 12, \"roundNumber\": 18, \"assessmentType\": \"BA\", \"admin2\": \"Al Malha\", \"fatalities\": 15, \"event_id_cnty\": 23}, {\"id\": 519512, \"operation\": \"Armed Clashes in Sudan (Overview)\", \"admin0Name\": \"Sudan\", \"admin0Pcode\": \"SDN\", \"admin1Name\": \"North Darfur\", \"admin1Pcode\": \"SD02\", \"admin2Name\": \"Um Baru\", \"admin2Pcode\": \"SD02120\", \"numPresentIdpInd\": 15507, \"reportingDate\": \"2024-12-17T00:00:00\", \"yearReportingDate\": 2024, \"monthReportingDate\": 12, \"roundNumber\": 18, \"assessmentType\": \"BA\", \"admin2\": \"Um Baru\", \"fatalities\": 10, \"event_id_cnty\": 4}, {\"id\": 519513, \"operation\": \"Armed Clashes in Sudan (Overview)\", \"admin0Name\": \"Sudan\", \"admin0Pcode\": \"SDN\", \"admin1Name\": \"North Darfur\", \"admin1Pcode\": \"SD02\", \"admin2Name\": \"Kebkabiya\", \"admin2Pcode\": \"SD02124\", \"numPresentIdpInd\": 85760, \"reportingDate\": \"2024-12-17T00:00:00\", \"yearReportingDate\": 2024, \"monthReportingDate\": 12, \"roundNumber\": 18, \"assessmentType\": \"BA\", \"admin2\": \"Kebkabiya\", \"fatalities\": 151, \"event_id_cnty\": 84}, {\"id\": 519514, \"operation\": \"Armed Clashes in Sudan (Overview)\", \"admin0Name\": \"Sudan\", \"admin0Pcode\": \"SDN\", \"admin1Name\": \"North Darfur\", \"admin1Pcode\": \"SD02\", \"admin2Name\": \"Kelemando\", \"admin2Pcode\": \"SD02126\", \"numPresentIdpInd\": 15014, \"reportingDate\": \"2024-12-17T00:00:00\", \"yearReportingDate\": 2024, \"monthReportingDate\": 12, \"roundNumber\": 18, \"assessmentType\": \"BA\", \"admin2\": \"Kelemando\", \"fatalities\": 7, \"event_id_cnty\": 5}, {\"id\": 519515, \"operation\": \"Armed Clashes in Sudan (Overview)\", \"admin0Name\": \"Sudan\", \"admin0Pcode\": \"SDN\", \"admin1Name\": \"North Darfur\", \"admin1Pcode\": \"SD02\", \"admin2Name\": \"Kutum\", \"admin2Pcode\": \"SD02128\", \"numPresentIdpInd\": 182794, \"reportingDate\": \"2024-12-17T00:00:00\", \"yearReportingDate\": 2024, \"monthReportingDate\": 12, \"roundNumber\": 18, \"assessmentType\": \"BA\", \"admin2\": \"Kutum\", \"fatalities\": 380, \"event_id_cnty\": 158}, {\"id\": 519516, \"operation\": \"Armed Clashes in Sudan (Overview)\", \"admin0Name\": \"Sudan\", \"admin0Pcode\": \"SDN\", \"admin1Name\": \"North Darfur\", \"admin1Pcode\": \"SD02\", \"admin2Name\": \"Melit\", \"admin2Pcode\": \"SD02129\", \"numPresentIdpInd\": 55009, \"reportingDate\": \"2024-12-17T00:00:00\", \"yearReportingDate\": 2024, \"monthReportingDate\": 12, \"roundNumber\": 18, \"assessmentType\": \"BA\", \"admin2\": \"Melit\", \"fatalities\": 688, \"event_id_cnty\": 90}, {\"id\": 519517, \"operation\": \"Armed Clashes in Sudan (Overview)\", \"admin0Name\": \"Sudan\", \"admin0Pcode\": \"SDN\", \"admin1Name\": \"North Darfur\", \"admin1Pcode\": \"SD02\", \"admin2Name\": \"Saraf Omra\", \"admin2Pcode\": \"SD02133\", \"numPresentIdpInd\": 75387, \"reportingDate\": \"2024-12-17T00:00:00\", \"yearReportingDate\": 2024, \"monthReportingDate\": 12, \"roundNumber\": 18, \"assessmentType\": \"BA\", \"admin2\": \"Saraf Omra\", \"fatalities\": 20, \"event_id_cnty\": 11}, {\"id\": 519518, \"operation\": \"Armed Clashes in Sudan (Overview)\", \"admin0Name\": \"Sudan\", \"admin0Pcode\": \"SDN\", \"admin1Name\": \"North Darfur\", \"admin1Pcode\": \"SD02\", \"admin2Name\": \"Um Kadadah\", \"admin2Pcode\": \"SD02136\", \"numPresentIdpInd\": 39215, \"reportingDate\": \"2024-12-17T00:00:00\", \"yearReportingDate\": 2024, \"monthReportingDate\": 12, \"roundNumber\": 18, \"assessmentType\": \"BA\", \"admin2\": \"Um Kadadah\", \"fatalities\": 38, \"event_id_cnty\": 26}, {\"id\": 519519, \"operation\": \"Armed Clashes in Sudan (Overview)\", \"admin0Name\": \"Sudan\", \"admin0Pcode\": \"SDN\", \"admin1Name\": \"North Darfur\", \"admin1Pcode\": \"SD02\", \"admin2Name\": \"Kernoi\", \"admin2Pcode\": \"SD02168\", \"numPresentIdpInd\": 2505, \"reportingDate\": \"2024-12-17T00:00:00\", \"yearReportingDate\": 2024, \"monthReportingDate\": 12, \"roundNumber\": 18, \"assessmentType\": \"BA\", \"admin2\": \"Kernoi\", \"fatalities\": 5, \"event_id_cnty\": 8}, {\"id\": 519520, \"operation\": \"Armed Clashes in Sudan (Overview)\", \"admin0Name\": \"Sudan\", \"admin0Pcode\": \"SDN\", \"admin1Name\": \"North Darfur\", \"admin1Pcode\": \"SD02\", \"admin2Name\": \"Al Lait\", \"admin2Pcode\": \"SD02169\", \"numPresentIdpInd\": 15554, \"reportingDate\": \"2024-12-17T00:00:00\", \"yearReportingDate\": 2024, \"monthReportingDate\": 12, \"roundNumber\": 18, \"assessmentType\": \"BA\", \"admin2\": \"Al Lait\", \"fatalities\": 0, \"event_id_cnty\": 3}, {\"id\": 519521, \"operation\": \"Armed Clashes in Sudan (Overview)\", \"admin0Name\": \"Sudan\", \"admin0Pcode\": \"SDN\", \"admin1Name\": \"North Darfur\", \"admin1Pcode\": \"SD02\", \"admin2Name\": \"Tawila\", \"admin2Pcode\": \"SD02170\", \"numPresentIdpInd\": 232534, \"reportingDate\": \"2024-12-17T00:00:00\", \"yearReportingDate\": 2024, \"monthReportingDate\": 12, \"roundNumber\": 18, \"assessmentType\": \"BA\", \"admin2\": \"Tawila\", \"fatalities\": 64, \"event_id_cnty\": 33}, {\"id\": 519522, \"operation\": \"Armed Clashes in Sudan (Overview)\", \"admin0Name\": \"Sudan\", \"admin0Pcode\": \"SDN\", \"admin1Name\": \"North Darfur\", \"admin1Pcode\": \"SD02\", \"admin2Name\": \"At Tina\", \"admin2Pcode\": \"SD02171\", \"numPresentIdpInd\": 6095, \"reportingDate\": \"2024-12-17T00:00:00\", \"yearReportingDate\": 2024, \"monthReportingDate\": 12, \"roundNumber\": 18, \"assessmentType\": \"BA\", \"admin2\": \"At Tina\", \"fatalities\": 0, \"event_id_cnty\": 9}, {\"id\": 519523, \"operation\": \"Armed Clashes in Sudan (Overview)\", \"admin0Name\": \"Sudan\", \"admin0Pcode\": \"SDN\", \"admin1Name\": \"South Darfur\", \"admin1Pcode\": \"SD03\", \"admin2Name\": \"Al Radoum\", \"admin2Pcode\": \"SD03141\", \"numPresentIdpInd\": 37790, \"reportingDate\": \"2024-12-17T00:00:00\", \"yearReportingDate\": 2024, \"monthReportingDate\": 12, \"roundNumber\": 18, \"assessmentType\": \"BA\", \"admin2\": \"Al Radoum\", \"fatalities\": 40, \"event_id_cnty\": 14}, {\"id\": 519524, \"operation\": \"Armed Clashes in Sudan (Overview)\", \"admin0Name\": \"Sudan\", \"admin0Pcode\": \"SDN\", \"admin1Name\": \"South Darfur\", \"admin1Pcode\": \"SD03\", \"admin2Name\": \"Ed Al Fursan\", \"admin2Pcode\": \"SD03143\", \"numPresentIdpInd\": 33541, \"reportingDate\": \"2024-12-17T00:00:00\", \"yearReportingDate\": 2024, \"monthReportingDate\": 12, \"roundNumber\": 18, \"assessmentType\": \"BA\", \"admin2\": \"Ed Al Fursan\", \"fatalities\": 0, \"event_id_cnty\": 1}, {\"id\": 519525, \"operation\": \"Armed Clashes in Sudan (Overview)\", \"admin0Name\": \"Sudan\", \"admin0Pcode\": \"SDN\", \"admin1Name\": \"South Darfur\", \"admin1Pcode\": \"SD03\", \"admin2Name\": \"Kas\", \"admin2Pcode\": \"SD03144\", \"numPresentIdpInd\": 153958, \"reportingDate\": \"2024-12-17T00:00:00\", \"yearReportingDate\": 2024, \"monthReportingDate\": 12, \"roundNumber\": 18, \"assessmentType\": \"BA\", \"admin2\": \"Kas\", \"fatalities\": 59, \"event_id_cnty\": 15}, {\"id\": 519527, \"operation\": \"Armed Clashes in Sudan (Overview)\", \"admin0Name\": \"Sudan\", \"admin0Pcode\": \"SDN\", \"admin1Name\": \"South Darfur\", \"admin1Pcode\": \"SD03\", \"admin2Name\": \"Um Dafoug\", \"admin2Pcode\": \"SD03146\", \"numPresentIdpInd\": 3835, \"reportingDate\": \"2024-12-17T00:00:00\", \"yearReportingDate\": 2024, \"monthReportingDate\": 12, \"roundNumber\": 18, \"assessmentType\": \"BA\", \"admin2\": \"Um Dafoug\", \"fatalities\": 0, \"event_id_cnty\": 4}, {\"id\": 519528, \"operation\": \"Armed Clashes in Sudan (Overview)\", \"admin0Name\": \"Sudan\", \"admin0Pcode\": \"SDN\", \"admin1Name\": \"South Darfur\", \"admin1Pcode\": \"SD03\", \"admin2Name\": \"Sharg Aj Jabal\", \"admin2Pcode\": \"SD03147\", \"numPresentIdpInd\": 43915, \"reportingDate\": \"2024-12-17T00:00:00\", \"yearReportingDate\": 2024, \"monthReportingDate\": 12, \"roundNumber\": 18, \"assessmentType\": \"BA\", \"admin2\": \"Sharg Aj Jabal\", \"fatalities\": 38, \"event_id_cnty\": 17}, {\"id\": 519529, \"operation\": \"Armed Clashes in Sudan (Overview)\", \"admin0Name\": \"Sudan\", \"admin0Pcode\": \"SDN\", \"admin1Name\": \"South Darfur\", \"admin1Pcode\": \"SD03\", \"admin2Name\": \"Tulus\", \"admin2Pcode\": \"SD03149\", \"numPresentIdpInd\": 20775, \"reportingDate\": \"2024-12-17T00:00:00\", \"yearReportingDate\": 2024, \"monthReportingDate\": 12, \"roundNumber\": 18, \"assessmentType\": \"BA\", \"admin2\": \"Tulus\", \"fatalities\": 3, \"event_id_cnty\": 5}, {\"id\": 519530, \"operation\": \"Armed Clashes in Sudan (Overview)\", \"admin0Name\": \"Sudan\", \"admin0Pcode\": \"SDN\", \"admin1Name\": \"South Darfur\", \"admin1Pcode\": \"SD03\", \"admin2Name\": \"Al Wihda\", \"admin2Pcode\": \"SD03150\", \"numPresentIdpInd\": 6140, \"reportingDate\": \"2024-12-17T00:00:00\", \"yearReportingDate\": 2024, \"monthReportingDate\": 12, \"roundNumber\": 18, \"assessmentType\": \"BA\", \"admin2\": \"Al Wihda\", \"fatalities\": 3, \"event_id_cnty\": 4}, {\"id\": 519531, \"operation\": \"Armed Clashes in Sudan (Overview)\", \"admin0Name\": \"Sudan\", \"admin0Pcode\": \"SDN\", \"admin1Name\": \"South Darfur\", \"admin1Pcode\": \"SD03\", \"admin2Name\": \"Nitega\", \"admin2Pcode\": \"SD03151\", \"numPresentIdpInd\": 28505, \"reportingDate\": \"2024-12-17T00:00:00\", \"yearReportingDate\": 2024, \"monthReportingDate\": 12, \"roundNumber\": 18, \"assessmentType\": \"BA\", \"admin2\": \"Nitega\", \"fatalities\": 0, \"event_id_cnty\": 2}, {\"id\": 519532, \"operation\": \"Armed Clashes in Sudan (Overview)\", \"admin0Name\": \"Sudan\", \"admin0Pcode\": \"SDN\", \"admin1Name\": \"South Darfur\", \"admin1Pcode\": \"SD03\", \"admin2Name\": \"Gereida\", \"admin2Pcode\": \"SD03153\", \"numPresentIdpInd\": 139642, \"reportingDate\": \"2024-12-17T00:00:00\", \"yearReportingDate\": 2024, \"monthReportingDate\": 12, \"roundNumber\": 18, \"assessmentType\": \"BA\", \"admin2\": \"Gereida\", \"fatalities\": 20, \"event_id_cnty\": 7}, {\"id\": 519534, \"operation\": \"Armed Clashes in Sudan (Overview)\", \"admin0Name\": \"Sudan\", \"admin0Pcode\": \"SDN\", \"admin1Name\": \"South Darfur\", \"admin1Pcode\": \"SD03\", \"admin2Name\": \"Kubum\", \"admin2Pcode\": \"SD03157\", \"numPresentIdpInd\": 9090, \"reportingDate\": \"2024-12-17T00:00:00\", \"yearReportingDate\": 2024, \"monthReportingDate\": 12, \"roundNumber\": 18, \"assessmentType\": \"BA\", \"admin2\": \"Kubum\", \"fatalities\": 240, \"event_id_cnty\": 23}, {\"id\": 519535, \"operation\": \"Armed Clashes in Sudan (Overview)\", \"admin0Name\": \"Sudan\", \"admin0Pcode\": \"SDN\", \"admin1Name\": \"South Darfur\", \"admin1Pcode\": \"SD03\", \"admin2Name\": \"Rehaid Albirdi\", \"admin2Pcode\": \"SD03158\", \"numPresentIdpInd\": 30621, \"reportingDate\": \"2024-12-17T00:00:00\", \"yearReportingDate\": 2024, \"monthReportingDate\": 12, \"roundNumber\": 18, \"assessmentType\": \"BA\", \"admin2\": \"Rehaid Albirdi\", \"fatalities\": 21, \"event_id_cnty\": 5}, {\"id\": 519536, \"operation\": \"Armed Clashes in Sudan (Overview)\", \"admin0Name\": \"Sudan\", \"admin0Pcode\": \"SDN\", \"admin1Name\": \"South Darfur\", \"admin1Pcode\": \"SD03\", \"admin2Name\": \"Kateila\", \"admin2Pcode\": \"SD03159\", \"numPresentIdpInd\": 43133, \"reportingDate\": \"2024-12-17T00:00:00\", \"yearReportingDate\": 2024, \"monthReportingDate\": 12, \"roundNumber\": 18, \"assessmentType\": \"BA\", \"admin2\": \"Kateila\", \"fatalities\": 2, \"event_id_cnty\": 1}, {\"id\": 519537, \"operation\": \"Armed Clashes in Sudan (Overview)\", \"admin0Name\": \"Sudan\", \"admin0Pcode\": \"SDN\", \"admin1Name\": \"South Darfur\", \"admin1Pcode\": \"SD03\", \"admin2Name\": \"Buram\", \"admin2Pcode\": \"SD03161\", \"numPresentIdpInd\": 195030, \"reportingDate\": \"2024-12-17T00:00:00\", \"yearReportingDate\": 2024, \"monthReportingDate\": 12, \"roundNumber\": 18, \"assessmentType\": \"BA\", \"admin2\": \"Buram\", \"fatalities\": 217, \"event_id_cnty\": 36}, {\"id\": 519538, \"operation\": \"Armed Clashes in Sudan (Overview)\", \"admin0Name\": \"Sudan\", \"admin0Pcode\": \"SDN\", \"admin1Name\": \"South Darfur\", \"admin1Pcode\": \"SD03\", \"admin2Name\": \"Beliel\", \"admin2Pcode\": \"SD03162\", \"numPresentIdpInd\": 473818, \"reportingDate\": \"2024-12-17T00:00:00\", \"yearReportingDate\": 2024, \"monthReportingDate\": 12, \"roundNumber\": 18, \"assessmentType\": \"BA\", \"admin2\": \"Beliel\", \"fatalities\": 40, \"event_id_cnty\": 24}, {\"id\": 519539, \"operation\": \"Armed Clashes in Sudan (Overview)\", \"admin0Name\": \"Sudan\", \"admin0Pcode\": \"SDN\", \"admin1Name\": \"South Darfur\", \"admin1Pcode\": \"SD03\", \"admin2Name\": \"Nyala Shimal\", \"admin2Pcode\": \"SD03164\", \"numPresentIdpInd\": 328650, \"reportingDate\": \"2024-12-17T00:00:00\", \"yearReportingDate\": 2024, \"monthReportingDate\": 12, \"roundNumber\": 18, \"assessmentType\": \"BA\", \"admin2\": \"Nyala Shimal\", \"fatalities\": 7, \"event_id_cnty\": 8}, {\"id\": 519541, \"operation\": \"Armed Clashes in Sudan (Overview)\", \"admin0Name\": \"Sudan\", \"admin0Pcode\": \"SDN\", \"admin1Name\": \"South Darfur\", \"admin1Pcode\": \"SD03\", \"admin2Name\": \"Nyala Janoub\", \"admin2Pcode\": \"SD03167\", \"numPresentIdpInd\": 78932, \"reportingDate\": \"2024-12-17T00:00:00\", \"yearReportingDate\": 2024, \"monthReportingDate\": 12, \"roundNumber\": 18, \"assessmentType\": \"BA\", \"admin2\": \"Nyala Janoub\", \"fatalities\": 1062, \"event_id_cnty\": 349}, {\"id\": 519542, \"operation\": \"Armed Clashes in Sudan (Overview)\", \"admin0Name\": \"Sudan\", \"admin0Pcode\": \"SDN\", \"admin1Name\": \"South Darfur\", \"admin1Pcode\": \"SD03\", \"admin2Name\": \"Damso\", \"admin2Pcode\": \"SD03172\", \"numPresentIdpInd\": 7370, \"reportingDate\": \"2024-12-17T00:00:00\", \"yearReportingDate\": 2024, \"monthReportingDate\": 12, \"roundNumber\": 18, \"assessmentType\": \"BA\", \"admin2\": \"Damso\", \"fatalities\": 2, \"event_id_cnty\": 1}, {\"id\": 519543, \"operation\": \"Armed Clashes in Sudan (Overview)\", \"admin0Name\": \"Sudan\", \"admin0Pcode\": \"SDN\", \"admin1Name\": \"West Darfur\", \"admin1Pcode\": \"SD04\", \"admin2Name\": \"Beida\", \"admin2Pcode\": \"SD04111\", \"numPresentIdpInd\": 3190, \"reportingDate\": \"2024-12-17T00:00:00\", \"yearReportingDate\": 2024, \"monthReportingDate\": 12, \"roundNumber\": 18, \"assessmentType\": \"BA\", \"admin2\": \"Beida\", \"fatalities\": 51, \"event_id_cnty\": 11}, {\"id\": 519544, \"operation\": \"Armed Clashes in Sudan (Overview)\", \"admin0Name\": \"Sudan\", \"admin0Pcode\": \"SDN\", \"admin1Name\": \"West Darfur\", \"admin1Pcode\": \"SD04\", \"admin2Name\": \"El Geneina\", \"admin2Pcode\": \"SD04115\", \"numPresentIdpInd\": 78675, \"reportingDate\": \"2024-12-17T00:00:00\", \"yearReportingDate\": 2024, \"monthReportingDate\": 12, \"roundNumber\": 18, \"assessmentType\": \"BA\", \"admin2\": \"El Geneina\", \"fatalities\": 4484, \"event_id_cnty\": 266}, {\"id\": 519545, \"operation\": \"Armed Clashes in Sudan (Overview)\", \"admin0Name\": \"Sudan\", \"admin0Pcode\": \"SDN\", \"admin1Name\": \"West Darfur\", \"admin1Pcode\": \"SD04\", \"admin2Name\": \"Foro Baranga\", \"admin2Pcode\": \"SD04121\", \"numPresentIdpInd\": 17425, \"reportingDate\": \"2024-12-17T00:00:00\", \"yearReportingDate\": 2024, \"monthReportingDate\": 12, \"roundNumber\": 18, \"assessmentType\": \"BA\", \"admin2\": \"Foro Baranga\", \"fatalities\": 55, \"event_id_cnty\": 17}, {\"id\": 519547, \"operation\": \"Armed Clashes in Sudan (Overview)\", \"admin0Name\": \"Sudan\", \"admin0Pcode\": \"SDN\", \"admin1Name\": \"West Darfur\", \"admin1Pcode\": \"SD04\", \"admin2Name\": \"Jebel Moon\", \"admin2Pcode\": \"SD04123\", \"numPresentIdpInd\": 70735, \"reportingDate\": \"2024-12-17T00:00:00\", \"yearReportingDate\": 2024, \"monthReportingDate\": 12, \"roundNumber\": 18, \"assessmentType\": \"BA\", \"admin2\": \"Jebel Moon\", \"fatalities\": 9, \"event_id_cnty\": 8}, {\"id\": 519549, \"operation\": \"Armed Clashes in Sudan (Overview)\", \"admin0Name\": \"Sudan\", \"admin0Pcode\": \"SDN\", \"admin1Name\": \"West Darfur\", \"admin1Pcode\": \"SD04\", \"admin2Name\": \"Kulbus\", \"admin2Pcode\": \"SD04127\", \"numPresentIdpInd\": 44582, \"reportingDate\": \"2024-12-17T00:00:00\", \"yearReportingDate\": 2024, \"monthReportingDate\": 12, \"roundNumber\": 18, \"assessmentType\": \"BA\", \"admin2\": \"Kulbus\", \"fatalities\": 104, \"event_id_cnty\": 12}, {\"id\": 519550, \"operation\": \"Armed Clashes in Sudan (Overview)\", \"admin0Name\": \"Sudan\", \"admin0Pcode\": \"SDN\", \"admin1Name\": \"West Darfur\", \"admin1Pcode\": \"SD04\", \"admin2Name\": \"Sirba\", \"admin2Pcode\": \"SD04134\", \"numPresentIdpInd\": 26325, \"reportingDate\": \"2024-12-17T00:00:00\", \"yearReportingDate\": 2024, \"monthReportingDate\": 12, \"roundNumber\": 18, \"assessmentType\": \"BA\", \"admin2\": \"Sirba\", \"fatalities\": 281, \"event_id_cnty\": 47}, {\"id\": 519551, \"operation\": \"Armed Clashes in Sudan (Overview)\", \"admin0Name\": \"Sudan\", \"admin0Pcode\": \"SDN\", \"admin1Name\": \"East Darfur\", \"admin1Pcode\": \"SD05\", \"admin2Name\": \"Adila\", \"admin2Pcode\": \"SD05139\", \"numPresentIdpInd\": 53737, \"reportingDate\": \"2024-12-17T00:00:00\", \"yearReportingDate\": 2024, \"monthReportingDate\": 12, \"roundNumber\": 18, \"assessmentType\": \"BA\", \"admin2\": \"Adila\", \"fatalities\": 5, \"event_id_cnty\": 13}, {\"id\": 519553, \"operation\": \"Armed Clashes in Sudan (Overview)\", \"admin0Name\": \"Sudan\", \"admin0Pcode\": \"SDN\", \"admin1Name\": \"East Darfur\", \"admin1Pcode\": \"SD05\", \"admin2Name\": \"Ad Duayn\", \"admin2Pcode\": \"SD05142\", \"numPresentIdpInd\": 212145, \"reportingDate\": \"2024-12-17T00:00:00\", \"yearReportingDate\": 2024, \"monthReportingDate\": 12, \"roundNumber\": 18, \"assessmentType\": \"BA\", \"admin2\": \"Ad Duayn\", \"fatalities\": 81, \"event_id_cnty\": 74}, {\"id\": 519554, \"operation\": \"Armed Clashes in Sudan (Overview)\", \"admin0Name\": \"Sudan\", \"admin0Pcode\": \"SDN\", \"admin1Name\": \"East Darfur\", \"admin1Pcode\": \"SD05\", \"admin2Name\": \"Shiaria\", \"admin2Pcode\": \"SD05148\", \"numPresentIdpInd\": 196045, \"reportingDate\": \"2024-12-17T00:00:00\", \"yearReportingDate\": 2024, \"monthReportingDate\": 12, \"roundNumber\": 18, \"assessmentType\": \"BA\", \"admin2\": \"Shiaria\", \"fatalities\": 17, \"event_id_cnty\": 8}, {\"id\": 519555, \"operation\": \"Armed Clashes in Sudan (Overview)\", \"admin0Name\": \"Sudan\", \"admin0Pcode\": \"SDN\", \"admin1Name\": \"East Darfur\", \"admin1Pcode\": \"SD05\", \"admin2Name\": \"Al Firdous\", \"admin2Pcode\": \"SD05152\", \"numPresentIdpInd\": 59700, \"reportingDate\": \"2024-12-17T00:00:00\", \"yearReportingDate\": 2024, \"monthReportingDate\": 12, \"roundNumber\": 18, \"assessmentType\": \"BA\", \"admin2\": \"Al Firdous\", \"fatalities\": 0, \"event_id_cnty\": 1}, {\"id\": 519556, \"operation\": \"Armed Clashes in Sudan (Overview)\", \"admin0Name\": \"Sudan\", \"admin0Pcode\": \"SDN\", \"admin1Name\": \"East Darfur\", \"admin1Pcode\": \"SD05\", \"admin2Name\": \"Abu Karinka\", \"admin2Pcode\": \"SD05155\", \"numPresentIdpInd\": 45046, \"reportingDate\": \"2024-12-17T00:00:00\", \"yearReportingDate\": 2024, \"monthReportingDate\": 12, \"roundNumber\": 18, \"assessmentType\": \"BA\", \"admin2\": \"Abu Karinka\", \"fatalities\": 5, \"event_id_cnty\": 13}, {\"id\": 519557, \"operation\": \"Armed Clashes in Sudan (Overview)\", \"admin0Name\": \"Sudan\", \"admin0Pcode\": \"SDN\", \"admin1Name\": \"East Darfur\", \"admin1Pcode\": \"SD05\", \"admin2Name\": \"Bahr Al Arab\", \"admin2Pcode\": \"SD05160\", \"numPresentIdpInd\": 67220, \"reportingDate\": \"2024-12-17T00:00:00\", \"yearReportingDate\": 2024, \"monthReportingDate\": 12, \"roundNumber\": 18, \"assessmentType\": \"BA\", \"admin2\": \"Bahr Al Arab\", \"fatalities\": 4, \"event_id_cnty\": 4}, {\"id\": 519558, \"operation\": \"Armed Clashes in Sudan (Overview)\", \"admin0Name\": \"Sudan\", \"admin0Pcode\": \"SDN\", \"admin1Name\": \"East Darfur\", \"admin1Pcode\": \"SD05\", \"admin2Name\": \"Assalaya\", \"admin2Pcode\": \"SD05163\", \"numPresentIdpInd\": 25240, \"reportingDate\": \"2024-12-17T00:00:00\", \"yearReportingDate\": 2024, \"monthReportingDate\": 12, \"roundNumber\": 18, \"assessmentType\": \"BA\", \"admin2\": \"Assalaya\", \"fatalities\": 0, \"event_id_cnty\": 3}, {\"id\": 519560, \"operation\": \"Armed Clashes in Sudan (Overview)\", \"admin0Name\": \"Sudan\", \"admin0Pcode\": \"SDN\", \"admin1Name\": \"Central Darfur\", \"admin1Pcode\": \"SD06\", \"admin2Name\": \"Azum\", \"admin2Pcode\": \"SD06110\", \"numPresentIdpInd\": 70005, \"reportingDate\": \"2024-12-17T00:00:00\", \"yearReportingDate\": 2024, \"monthReportingDate\": 12, \"roundNumber\": 18, \"assessmentType\": \"BA\", \"admin2\": \"Azum\", \"fatalities\": 9, \"event_id_cnty\": 12}, {\"id\": 519561, \"operation\": \"Armed Clashes in Sudan (Overview)\", \"admin0Name\": \"Sudan\", \"admin0Pcode\": \"SDN\", \"admin1Name\": \"Central Darfur\", \"admin1Pcode\": \"SD06\", \"admin2Name\": \"Bendasi\", \"admin2Pcode\": \"SD06112\", \"numPresentIdpInd\": 32090, \"reportingDate\": \"2024-12-17T00:00:00\", \"yearReportingDate\": 2024, \"monthReportingDate\": 12, \"roundNumber\": 18, \"assessmentType\": \"BA\", \"admin2\": \"Bendasi\", \"fatalities\": 13, \"event_id_cnty\": 7}, {\"id\": 519562, \"operation\": \"Armed Clashes in Sudan (Overview)\", \"admin0Name\": \"Sudan\", \"admin0Pcode\": \"SDN\", \"admin1Name\": \"Central Darfur\", \"admin1Pcode\": \"SD06\", \"admin2Name\": \"Mukjar\", \"admin2Pcode\": \"SD06130\", \"numPresentIdpInd\": 28750, \"reportingDate\": \"2024-12-17T00:00:00\", \"yearReportingDate\": 2024, \"monthReportingDate\": 12, \"roundNumber\": 18, \"assessmentType\": \"BA\", \"admin2\": \"Mukjar\", \"fatalities\": 30, \"event_id_cnty\": 20}, {\"id\": 519563, \"operation\": \"Armed Clashes in Sudan (Overview)\", \"admin0Name\": \"Sudan\", \"admin0Pcode\": \"SDN\", \"admin1Name\": \"Central Darfur\", \"admin1Pcode\": \"SD06\", \"admin2Name\": \"Gharb Jabal Marrah\", \"admin2Pcode\": \"SD06131\", \"numPresentIdpInd\": 83563, \"reportingDate\": \"2024-12-17T00:00:00\", \"yearReportingDate\": 2024, \"monthReportingDate\": 12, \"roundNumber\": 18, \"assessmentType\": \"BA\", \"admin2\": \"Gharb Jabal Marrah\", \"fatalities\": 25, \"event_id_cnty\": 23}, {\"id\": 519564, \"operation\": \"Armed Clashes in Sudan (Overview)\", \"admin0Name\": \"Sudan\", \"admin0Pcode\": \"SDN\", \"admin1Name\": \"Central Darfur\", \"admin1Pcode\": \"SD06\", \"admin2Name\": \"Shamal Jabal Marrah\", \"admin2Pcode\": \"SD06132\", \"numPresentIdpInd\": 162772, \"reportingDate\": \"2024-12-17T00:00:00\", \"yearReportingDate\": 2024, \"monthReportingDate\": 12, \"roundNumber\": 18, \"assessmentType\": \"BA\", \"admin2\": \"Shamal Jabal Marrah\", \"fatalities\": 1, \"event_id_cnty\": 11}, {\"id\": 519565, \"operation\": \"Armed Clashes in Sudan (Overview)\", \"admin0Name\": \"Sudan\", \"admin0Pcode\": \"SDN\", \"admin1Name\": \"Central Darfur\", \"admin1Pcode\": \"SD06\", \"admin2Name\": \"Um Dukhun\", \"admin2Pcode\": \"SD06135\", \"numPresentIdpInd\": 61630, \"reportingDate\": \"2024-12-17T00:00:00\", \"yearReportingDate\": 2024, \"monthReportingDate\": 12, \"roundNumber\": 18, \"assessmentType\": \"BA\", \"admin2\": \"Um Dukhun\", \"fatalities\": 1, \"event_id_cnty\": 5}, {\"id\": 519566, \"operation\": \"Armed Clashes in Sudan (Overview)\", \"admin0Name\": \"Sudan\", \"admin0Pcode\": \"SDN\", \"admin1Name\": \"Central Darfur\", \"admin1Pcode\": \"SD06\", \"admin2Name\": \"Wadi Salih\", \"admin2Pcode\": \"SD06137\", \"numPresentIdpInd\": 86078, \"reportingDate\": \"2024-12-17T00:00:00\", \"yearReportingDate\": 2024, \"monthReportingDate\": 12, \"roundNumber\": 18, \"assessmentType\": \"BA\", \"admin2\": \"Wadi Salih\", \"fatalities\": 5, \"event_id_cnty\": 12}, {\"id\": 519567, \"operation\": \"Armed Clashes in Sudan (Overview)\", \"admin0Name\": \"Sudan\", \"admin0Pcode\": \"SDN\", \"admin1Name\": \"Central Darfur\", \"admin1Pcode\": \"SD06\", \"admin2Name\": \"Zalingi\", \"admin2Pcode\": \"SD06138\", \"numPresentIdpInd\": 217807, \"reportingDate\": \"2024-12-17T00:00:00\", \"yearReportingDate\": 2024, \"monthReportingDate\": 12, \"roundNumber\": 18, \"assessmentType\": \"BA\", \"admin2\": \"Zalingi\", \"fatalities\": 391, \"event_id_cnty\": 195}, {\"id\": 519568, \"operation\": \"Armed Clashes in Sudan (Overview)\", \"admin0Name\": \"Sudan\", \"admin0Pcode\": \"SDN\", \"admin1Name\": \"Central Darfur\", \"admin1Pcode\": \"SD06\", \"admin2Name\": \"Wasat Jabal Marrah\", \"admin2Pcode\": \"SD06139\", \"numPresentIdpInd\": 181119, \"reportingDate\": \"2024-12-17T00:00:00\", \"yearReportingDate\": 2024, \"monthReportingDate\": 12, \"roundNumber\": 18, \"assessmentType\": \"BA\", \"admin2\": \"Wasat Jabal Marrah\", \"fatalities\": 1, \"event_id_cnty\": 2}, {\"id\": 519569, \"operation\": \"Armed Clashes in Sudan (Overview)\", \"admin0Name\": \"Sudan\", \"admin0Pcode\": \"SDN\", \"admin1Name\": \"South Kordofan\", \"admin1Pcode\": \"SD07\", \"admin2Name\": \"Abu Jubayhah\", \"admin2Pcode\": \"SD07088\", \"numPresentIdpInd\": 59135, \"reportingDate\": \"2024-12-17T00:00:00\", \"yearReportingDate\": 2024, \"monthReportingDate\": 12, \"roundNumber\": 18, \"assessmentType\": \"BA\", \"admin2\": \"Abu Jubayhah\", \"fatalities\": 0, \"event_id_cnty\": 5}, {\"id\": 519570, \"operation\": \"Armed Clashes in Sudan (Overview)\", \"admin0Name\": \"Sudan\", \"admin0Pcode\": \"SDN\", \"admin1Name\": \"South Kordofan\", \"admin1Pcode\": \"SD07\", \"admin2Name\": \"Talawdi\", \"admin2Pcode\": \"SD07089\", \"numPresentIdpInd\": 10389, \"reportingDate\": \"2024-12-17T00:00:00\", \"yearReportingDate\": 2024, \"monthReportingDate\": 12, \"roundNumber\": 18, \"assessmentType\": \"BA\", \"admin2\": \"Talawdi\", \"fatalities\": 5, \"event_id_cnty\": 4}, {\"id\": 519571, \"operation\": \"Armed Clashes in Sudan (Overview)\", \"admin0Name\": \"Sudan\", \"admin0Pcode\": \"SDN\", \"admin1Name\": \"South Kordofan\", \"admin1Pcode\": \"SD07\", \"admin2Name\": \"Abassiya\", \"admin2Pcode\": \"SD07090\", \"numPresentIdpInd\": 66127, \"reportingDate\": \"2024-12-17T00:00:00\", \"yearReportingDate\": 2024, \"monthReportingDate\": 12, \"roundNumber\": 18, \"assessmentType\": \"BA\", \"admin2\": \"Abassiya\", \"fatalities\": 115, \"event_id_cnty\": 17}, {\"id\": 519572, \"operation\": \"Armed Clashes in Sudan (Overview)\", \"admin0Name\": \"Sudan\", \"admin0Pcode\": \"SDN\", \"admin1Name\": \"South Kordofan\", \"admin1Pcode\": \"SD07\", \"admin2Name\": \"Rashad\", \"admin2Pcode\": \"SD07093\", \"numPresentIdpInd\": 22114, \"reportingDate\": \"2024-12-17T00:00:00\", \"yearReportingDate\": 2024, \"monthReportingDate\": 12, \"roundNumber\": 18, \"assessmentType\": \"BA\", \"admin2\": \"Rashad\", \"fatalities\": 0, \"event_id_cnty\": 4}, {\"id\": 519573, \"operation\": \"Armed Clashes in Sudan (Overview)\", \"admin0Name\": \"Sudan\", \"admin0Pcode\": \"SDN\", \"admin1Name\": \"South Kordofan\", \"admin1Pcode\": \"SD07\", \"admin2Name\": \"Al Quoz\", \"admin2Pcode\": \"SD07094\", \"numPresentIdpInd\": 9195, \"reportingDate\": \"2024-12-17T00:00:00\", \"yearReportingDate\": 2024, \"monthReportingDate\": 12, \"roundNumber\": 18, \"assessmentType\": \"BA\", \"admin2\": \"Al Quoz\", \"fatalities\": 51, \"event_id_cnty\": 29}, {\"id\": 519574, \"operation\": \"Armed Clashes in Sudan (Overview)\", \"admin0Name\": \"Sudan\", \"admin0Pcode\": \"SDN\", \"admin1Name\": \"South Kordofan\", \"admin1Pcode\": \"SD07\", \"admin2Name\": \"Dilling\", \"admin2Pcode\": \"SD07095\", \"numPresentIdpInd\": 44389, \"reportingDate\": \"2024-12-17T00:00:00\", \"yearReportingDate\": 2024, \"monthReportingDate\": 12, \"roundNumber\": 18, \"assessmentType\": \"BA\", \"admin2\": \"Dilling\", \"fatalities\": 148, \"event_id_cnty\": 64}, {\"id\": 519575, \"operation\": \"Armed Clashes in Sudan (Overview)\", \"admin0Name\": \"Sudan\", \"admin0Pcode\": \"SDN\", \"admin1Name\": \"South Kordofan\", \"admin1Pcode\": \"SD07\", \"admin2Name\": \"Ar Reif Ash Shargi\", \"admin2Pcode\": \"SD07097\", \"numPresentIdpInd\": 39030, \"reportingDate\": \"2024-12-17T00:00:00\", \"yearReportingDate\": 2024, \"monthReportingDate\": 12, \"roundNumber\": 18, \"assessmentType\": \"BA\", \"admin2\": \"Ar Reif Ash Shargi\", \"fatalities\": 70, \"event_id_cnty\": 15}, {\"id\": 519576, \"operation\": \"Armed Clashes in Sudan (Overview)\", \"admin0Name\": \"Sudan\", \"admin0Pcode\": \"SDN\", \"admin1Name\": \"South Kordofan\", \"admin1Pcode\": \"SD07\", \"admin2Name\": \"Kadugli\", \"admin2Pcode\": \"SD07098\", \"numPresentIdpInd\": 84515, \"reportingDate\": \"2024-12-17T00:00:00\", \"yearReportingDate\": 2024, \"monthReportingDate\": 12, \"roundNumber\": 18, \"assessmentType\": \"BA\", \"admin2\": \"Kadugli\", \"fatalities\": 139, \"event_id_cnty\": 71}, {\"id\": 519578, \"operation\": \"Armed Clashes in Sudan (Overview)\", \"admin0Name\": \"Sudan\", \"admin0Pcode\": \"SDN\", \"admin1Name\": \"South Kordofan\", \"admin1Pcode\": \"SD07\", \"admin2Name\": \"Abu Kershola\", \"admin2Pcode\": \"SD07104\", \"numPresentIdpInd\": 26018, \"reportingDate\": \"2024-12-17T00:00:00\", \"yearReportingDate\": 2024, \"monthReportingDate\": 12, \"roundNumber\": 18, \"assessmentType\": \"BA\", \"admin2\": \"Abu Kershola\", \"fatalities\": 54, \"event_id_cnty\": 21}, {\"id\": 519581, \"operation\": \"Armed Clashes in Sudan (Overview)\", \"admin0Name\": \"Sudan\", \"admin0Pcode\": \"SDN\", \"admin1Name\": \"South Kordofan\", \"admin1Pcode\": \"SD07\", \"admin2Name\": \"Delami\", \"admin2Pcode\": \"SD07107\", \"numPresentIdpInd\": 4731, \"reportingDate\": \"2024-12-17T00:00:00\", \"yearReportingDate\": 2024, \"monthReportingDate\": 12, \"roundNumber\": 18, \"assessmentType\": \"BA\", \"admin2\": \"Delami\", \"fatalities\": 72, \"event_id_cnty\": 22}, {\"id\": 519582, \"operation\": \"Armed Clashes in Sudan (Overview)\", \"admin0Name\": \"Sudan\", \"admin0Pcode\": \"SDN\", \"admin1Name\": \"South Kordofan\", \"admin1Pcode\": \"SD07\", \"admin2Name\": \"Ghadeer\", \"admin2Pcode\": \"SD07108\", \"numPresentIdpInd\": 15123, \"reportingDate\": \"2024-12-17T00:00:00\", \"yearReportingDate\": 2024, \"monthReportingDate\": 12, \"roundNumber\": 18, \"assessmentType\": \"BA\", \"admin2\": \"Ghadeer\", \"fatalities\": 118, \"event_id_cnty\": 16}, {\"id\": 519585, \"operation\": \"Armed Clashes in Sudan (Overview)\", \"admin0Name\": \"Sudan\", \"admin0Pcode\": \"SDN\", \"admin1Name\": \"Blue Nile\", \"admin1Pcode\": \"SD08\", \"admin2Name\": \"Al Kurmuk\", \"admin2Pcode\": \"SD08106\", \"numPresentIdpInd\": 24510, \"reportingDate\": \"2024-12-17T00:00:00\", \"yearReportingDate\": 2024, \"monthReportingDate\": 12, \"roundNumber\": 18, \"assessmentType\": \"BA\", \"admin2\": \"Al Kurmuk\", \"fatalities\": 40, \"event_id_cnty\": 15}, {\"id\": 519588, \"operation\": \"Armed Clashes in Sudan (Overview)\", \"admin0Name\": \"Sudan\", \"admin0Pcode\": \"SDN\", \"admin1Name\": \"Blue Nile\", \"admin1Pcode\": \"SD08\", \"admin2Name\": \"Geisan\", \"admin2Pcode\": \"SD08109\", \"numPresentIdpInd\": 49675, \"reportingDate\": \"2024-12-17T00:00:00\", \"yearReportingDate\": 2024, \"monthReportingDate\": 12, \"roundNumber\": 18, \"assessmentType\": \"BA\", \"admin2\": \"Geisan\", \"fatalities\": 16, \"event_id_cnty\": 3}, {\"id\": 519589, \"operation\": \"Armed Clashes in Sudan (Overview)\", \"admin0Name\": \"Sudan\", \"admin0Pcode\": \"SDN\", \"admin1Name\": \"Blue Nile\", \"admin1Pcode\": \"SD08\", \"admin2Name\": \"Wad Al Mahi\", \"admin2Pcode\": \"SD08110\", \"numPresentIdpInd\": 12672, \"reportingDate\": \"2024-12-17T00:00:00\", \"yearReportingDate\": 2024, \"monthReportingDate\": 12, \"roundNumber\": 18, \"assessmentType\": \"BA\", \"admin2\": \"Wad Al Mahi\", \"fatalities\": 2, \"event_id_cnty\": 1}, {\"id\": 519590, \"operation\": \"Armed Clashes in Sudan (Overview)\", \"admin0Name\": \"Sudan\", \"admin0Pcode\": \"SDN\", \"admin1Name\": \"White Nile\", \"admin1Pcode\": \"SD09\", \"admin2Name\": \"Ad Diwaim\", \"admin2Pcode\": \"SD09044\", \"numPresentIdpInd\": 79712, \"reportingDate\": \"2024-12-17T00:00:00\", \"yearReportingDate\": 2024, \"monthReportingDate\": 12, \"roundNumber\": 18, \"assessmentType\": \"BA\", \"admin2\": \"Ad Diwaim\", \"fatalities\": 20, \"event_id_cnty\": 19}, {\"id\": 519591, \"operation\": \"Armed Clashes in Sudan (Overview)\", \"admin0Name\": \"Sudan\", \"admin0Pcode\": \"SDN\", \"admin1Name\": \"White Nile\", \"admin1Pcode\": \"SD09\", \"admin2Name\": \"Um Rimta\", \"admin2Pcode\": \"SD09045\", \"numPresentIdpInd\": 10603, \"reportingDate\": \"2024-12-17T00:00:00\", \"yearReportingDate\": 2024, \"monthReportingDate\": 12, \"roundNumber\": 18, \"assessmentType\": \"BA\", \"admin2\": \"Um Rimta\", \"fatalities\": 38, \"event_id_cnty\": 15}, {\"id\": 519592, \"operation\": \"Armed Clashes in Sudan (Overview)\", \"admin0Name\": \"Sudan\", \"admin0Pcode\": \"SDN\", \"admin1Name\": \"White Nile\", \"admin1Pcode\": \"SD09\", \"admin2Name\": \"Rabak\", \"admin2Pcode\": \"SD09046\", \"numPresentIdpInd\": 144936, \"reportingDate\": \"2024-12-17T00:00:00\", \"yearReportingDate\": 2024, \"monthReportingDate\": 12, \"roundNumber\": 18, \"assessmentType\": \"BA\", \"admin2\": \"Rabak\", \"fatalities\": 6, \"event_id_cnty\": 20}, {\"id\": 519593, \"operation\": \"Armed Clashes in Sudan (Overview)\", \"admin0Name\": \"Sudan\", \"admin0Pcode\": \"SDN\", \"admin1Name\": \"White Nile\", \"admin1Pcode\": \"SD09\", \"admin2Name\": \"Kosti\", \"admin2Pcode\": \"SD09047\", \"numPresentIdpInd\": 160638, \"reportingDate\": \"2024-12-17T00:00:00\", \"yearReportingDate\": 2024, \"monthReportingDate\": 12, \"roundNumber\": 18, \"assessmentType\": \"BA\", \"admin2\": \"Kosti\", \"fatalities\": 30, \"event_id_cnty\": 43}, {\"id\": 519594, \"operation\": \"Armed Clashes in Sudan (Overview)\", \"admin0Name\": \"Sudan\", \"admin0Pcode\": \"SDN\", \"admin1Name\": \"White Nile\", \"admin1Pcode\": \"SD09\", \"admin2Name\": \"Tendalti\", \"admin2Pcode\": \"SD09048\", \"numPresentIdpInd\": 15547, \"reportingDate\": \"2024-12-17T00:00:00\", \"yearReportingDate\": 2024, \"monthReportingDate\": 12, \"roundNumber\": 18, \"assessmentType\": \"BA\", \"admin2\": \"Tendalti\", \"fatalities\": 18, \"event_id_cnty\": 9}, {\"id\": 519595, \"operation\": \"Armed Clashes in Sudan (Overview)\", \"admin0Name\": \"Sudan\", \"admin0Pcode\": \"SDN\", \"admin1Name\": \"White Nile\", \"admin1Pcode\": \"SD09\", \"admin2Name\": \"As Salam/Ar Rawat\", \"admin2Pcode\": \"SD09049\", \"numPresentIdpInd\": 51602, \"reportingDate\": \"2024-12-17T00:00:00\", \"yearReportingDate\": 2024, \"monthReportingDate\": 12, \"roundNumber\": 18, \"assessmentType\": \"BA\", \"admin2\": \"As Salam/Ar Rawat\", \"fatalities\": 0, \"event_id_cnty\": 2}, {\"id\": 519596, \"operation\": \"Armed Clashes in Sudan (Overview)\", \"admin0Name\": \"Sudan\", \"admin0Pcode\": \"SDN\", \"admin1Name\": \"White Nile\", \"admin1Pcode\": \"SD09\", \"admin2Name\": \"Al Gitaina\", \"admin2Pcode\": \"SD09050\", \"numPresentIdpInd\": 26985, \"reportingDate\": \"2024-12-17T00:00:00\", \"yearReportingDate\": 2024, \"monthReportingDate\": 12, \"roundNumber\": 18, \"assessmentType\": \"BA\", \"admin2\": \"Al Gitaina\", \"fatalities\": 64, \"event_id_cnty\": 87}, {\"id\": 519597, \"operation\": \"Armed Clashes in Sudan (Overview)\", \"admin0Name\": \"Sudan\", \"admin0Pcode\": \"SDN\", \"admin1Name\": \"White Nile\", \"admin1Pcode\": \"SD09\", \"admin2Name\": \"Aj Jabalain\", \"admin2Pcode\": \"SD09051\", \"numPresentIdpInd\": 138913, \"reportingDate\": \"2024-12-17T00:00:00\", \"yearReportingDate\": 2024, \"monthReportingDate\": 12, \"roundNumber\": 18, \"assessmentType\": \"BA\", \"admin2\": \"Aj Jabalain\", \"fatalities\": 24, \"event_id_cnty\": 24}, {\"id\": 519599, \"operation\": \"Armed Clashes in Sudan (Overview)\", \"admin0Name\": \"Sudan\", \"admin0Pcode\": \"SDN\", \"admin1Name\": \"Red Sea\", \"admin1Pcode\": \"SD10\", \"admin2Name\": \"Dordieb\", \"admin2Pcode\": \"SD10063\", \"numPresentIdpInd\": 2345, \"reportingDate\": \"2024-12-17T00:00:00\", \"yearReportingDate\": 2024, \"monthReportingDate\": 12, \"roundNumber\": 18, \"assessmentType\": \"BA\", \"admin2\": \"Dordieb\", \"fatalities\": 0, \"event_id_cnty\": 1}, {\"id\": 519600, \"operation\": \"Armed Clashes in Sudan (Overview)\", \"admin0Name\": \"Sudan\", \"admin0Pcode\": \"SDN\", \"admin1Name\": \"Red Sea\", \"admin1Pcode\": \"SD10\", \"admin2Name\": \"Port Sudan\", \"admin2Pcode\": \"SD10064\", \"numPresentIdpInd\": 236698, \"reportingDate\": \"2024-12-17T00:00:00\", \"yearReportingDate\": 2024, \"monthReportingDate\": 12, \"roundNumber\": 18, \"assessmentType\": \"BA\", \"admin2\": \"Port Sudan\", \"fatalities\": 1, \"event_id_cnty\": 117}, {\"id\": 519601, \"operation\": \"Armed Clashes in Sudan (Overview)\", \"admin0Name\": \"Sudan\", \"admin0Pcode\": \"SDN\", \"admin1Name\": \"Red Sea\", \"admin1Pcode\": \"SD10\", \"admin2Name\": \"Tawkar\", \"admin2Pcode\": \"SD10065\", \"numPresentIdpInd\": 11010, \"reportingDate\": \"2024-12-17T00:00:00\", \"yearReportingDate\": 2024, \"monthReportingDate\": 12, \"roundNumber\": 18, \"assessmentType\": \"BA\", \"admin2\": \"Tawkar\", \"fatalities\": 0, \"event_id_cnty\": 2}, {\"id\": 519603, \"operation\": \"Armed Clashes in Sudan (Overview)\", \"admin0Name\": \"Sudan\", \"admin0Pcode\": \"SDN\", \"admin1Name\": \"Red Sea\", \"admin1Pcode\": \"SD10\", \"admin2Name\": \"Jubayt Elmaaadin\", \"admin2Pcode\": \"SD10067\", \"numPresentIdpInd\": 346, \"reportingDate\": \"2024-12-17T00:00:00\", \"yearReportingDate\": 2024, \"monthReportingDate\": 12, \"roundNumber\": 18, \"assessmentType\": \"BA\", \"admin2\": \"Jubayt Elmaaadin\", \"fatalities\": 6, \"event_id_cnty\": 1}, {\"id\": 519604, \"operation\": \"Armed Clashes in Sudan (Overview)\", \"admin0Name\": \"Sudan\", \"admin0Pcode\": \"SDN\", \"admin1Name\": \"Red Sea\", \"admin1Pcode\": \"SD10\", \"admin2Name\": \"Sawakin\", \"admin2Pcode\": \"SD10068\", \"numPresentIdpInd\": 8915, \"reportingDate\": \"2024-12-17T00:00:00\", \"yearReportingDate\": 2024, \"monthReportingDate\": 12, \"roundNumber\": 18, \"assessmentType\": \"BA\", \"admin2\": \"Sawakin\", \"fatalities\": 0, \"event_id_cnty\": 8}, {\"id\": 519609, \"operation\": \"Armed Clashes in Sudan (Overview)\", \"admin0Name\": \"Sudan\", \"admin0Pcode\": \"SDN\", \"admin1Name\": \"Kassala\", \"admin1Pcode\": \"SD11\", \"admin2Name\": \"Halfa Aj Jadeedah\", \"admin2Pcode\": \"SD11052\", \"numPresentIdpInd\": 113251, \"reportingDate\": \"2024-12-17T00:00:00\", \"yearReportingDate\": 2024, \"monthReportingDate\": 12, \"roundNumber\": 18, \"assessmentType\": \"BA\", \"admin2\": \"Halfa Aj Jadeedah\", \"fatalities\": 0, \"event_id_cnty\": 4}, {\"id\": 519610, \"operation\": \"Armed Clashes in Sudan (Overview)\", \"admin0Name\": \"Sudan\", \"admin0Pcode\": \"SDN\", \"admin1Name\": \"Kassala\", \"admin1Pcode\": \"SD11\", \"admin2Name\": \"Madeinat Kassala\", \"admin2Pcode\": \"SD11053\", \"numPresentIdpInd\": 177855, \"reportingDate\": \"2024-12-17T00:00:00\", \"yearReportingDate\": 2024, \"monthReportingDate\": 12, \"roundNumber\": 18, \"assessmentType\": \"BA\", \"admin2\": \"Madeinat Kassala\", \"fatalities\": 1, \"event_id_cnty\": 62}, {\"id\": 519611, \"operation\": \"Armed Clashes in Sudan (Overview)\", \"admin0Name\": \"Sudan\", \"admin0Pcode\": \"SDN\", \"admin1Name\": \"Kassala\", \"admin1Pcode\": \"SD11\", \"admin2Name\": \"Reifi Gharb Kassala\", \"admin2Pcode\": \"SD11054\", \"numPresentIdpInd\": 2985, \"reportingDate\": \"2024-12-17T00:00:00\", \"yearReportingDate\": 2024, \"monthReportingDate\": 12, \"roundNumber\": 18, \"assessmentType\": \"BA\", \"admin2\": \"Reifi Gharb Kassala\", \"fatalities\": 2, \"event_id_cnty\": 2}, {\"id\": 519612, \"operation\": \"Armed Clashes in Sudan (Overview)\", \"admin0Name\": \"Sudan\", \"admin0Pcode\": \"SDN\", \"admin1Name\": \"Kassala\", \"admin1Pcode\": \"SD11\", \"admin2Name\": \"Reifi Aroma\", \"admin2Pcode\": \"SD11055\", \"numPresentIdpInd\": 5370, \"reportingDate\": \"2024-12-17T00:00:00\", \"yearReportingDate\": 2024, \"monthReportingDate\": 12, \"roundNumber\": 18, \"assessmentType\": \"BA\", \"admin2\": \"Reifi Aroma\", \"fatalities\": 0, \"event_id_cnty\": 2}, {\"id\": 519614, \"operation\": \"Armed Clashes in Sudan (Overview)\", \"admin0Name\": \"Sudan\", \"admin0Pcode\": \"SDN\", \"admin1Name\": \"Kassala\", \"admin1Pcode\": \"SD11\", \"admin2Name\": \"Reifi Shamal Ad Delta\", \"admin2Pcode\": \"SD11057\", \"numPresentIdpInd\": 5745, \"reportingDate\": \"2024-12-17T00:00:00\", \"yearReportingDate\": 2024, \"monthReportingDate\": 12, \"roundNumber\": 18, \"assessmentType\": \"BA\", \"admin2\": \"Reifi Shamal Ad Delta\", \"fatalities\": 0, \"event_id_cnty\": 1}, {\"id\": 519616, \"operation\": \"Armed Clashes in Sudan (Overview)\", \"admin0Name\": \"Sudan\", \"admin0Pcode\": \"SDN\", \"admin1Name\": \"Kassala\", \"admin1Pcode\": \"SD11\", \"admin2Name\": \"Reifi Telkok\", \"admin2Pcode\": \"SD11059\", \"numPresentIdpInd\": 3535, \"reportingDate\": \"2024-12-17T00:00:00\", \"yearReportingDate\": 2024, \"monthReportingDate\": 12, \"roundNumber\": 18, \"assessmentType\": \"BA\", \"admin2\": \"Reifi Telkok\", \"fatalities\": 0, \"event_id_cnty\": 1}, {\"id\": 519617, \"operation\": \"Armed Clashes in Sudan (Overview)\", \"admin0Name\": \"Sudan\", \"admin0Pcode\": \"SDN\", \"admin1Name\": \"Kassala\", \"admin1Pcode\": \"SD11\", \"admin2Name\": \"Reifi Khashm Elgirba\", \"admin2Pcode\": \"SD11060\", \"numPresentIdpInd\": 13274, \"reportingDate\": \"2024-12-17T00:00:00\", \"yearReportingDate\": 2024, \"monthReportingDate\": 12, \"roundNumber\": 18, \"assessmentType\": \"BA\", \"admin2\": \"Reifi Khashm Elgirba\", \"fatalities\": 0, \"event_id_cnty\": 4}, {\"id\": 519621, \"operation\": \"Armed Clashes in Sudan (Overview)\", \"admin0Name\": \"Sudan\", \"admin0Pcode\": \"SDN\", \"admin1Name\": \"Gedaref\", \"admin1Pcode\": \"SD12\", \"admin2Name\": \"Al Fao\", \"admin2Pcode\": \"SD12074\", \"numPresentIdpInd\": 59944, \"reportingDate\": \"2024-12-17T00:00:00\", \"yearReportingDate\": 2024, \"monthReportingDate\": 12, \"roundNumber\": 18, \"assessmentType\": \"BA\", \"admin2\": \"Al Fao\", \"fatalities\": 34, \"event_id_cnty\": 25}, {\"id\": 519622, \"operation\": \"Armed Clashes in Sudan (Overview)\", \"admin0Name\": \"Sudan\", \"admin0Pcode\": \"SDN\", \"admin1Name\": \"Gedaref\", \"admin1Pcode\": \"SD12\", \"admin2Name\": \"Al Fashaga\", \"admin2Pcode\": \"SD12075\", \"numPresentIdpInd\": 48638, \"reportingDate\": \"2024-12-17T00:00:00\", \"yearReportingDate\": 2024, \"monthReportingDate\": 12, \"roundNumber\": 18, \"assessmentType\": \"BA\", \"admin2\": \"Al Fashaga\", \"fatalities\": 0, \"event_id_cnty\": 9}, {\"id\": 519624, \"operation\": \"Armed Clashes in Sudan (Overview)\", \"admin0Name\": \"Sudan\", \"admin0Pcode\": \"SDN\", \"admin1Name\": \"Gedaref\", \"admin1Pcode\": \"SD12\", \"admin2Name\": \"Basundah\", \"admin2Pcode\": \"SD12077\", \"numPresentIdpInd\": 51406, \"reportingDate\": \"2024-12-17T00:00:00\", \"yearReportingDate\": 2024, \"monthReportingDate\": 12, \"roundNumber\": 18, \"assessmentType\": \"BA\", \"admin2\": \"Basundah\", \"fatalities\": 2, \"event_id_cnty\": 16}, {\"id\": 519625, \"operation\": \"Armed Clashes in Sudan (Overview)\", \"admin0Name\": \"Sudan\", \"admin0Pcode\": \"SDN\", \"admin1Name\": \"Gedaref\", \"admin1Pcode\": \"SD12\", \"admin2Name\": \"Al Galabat Al Gharbyah-Kassab\", \"admin2Pcode\": \"SD12078\", \"numPresentIdpInd\": 48628, \"reportingDate\": \"2024-12-17T00:00:00\", \"yearReportingDate\": 2024, \"monthReportingDate\": 12, \"roundNumber\": 18, \"assessmentType\": \"BA\", \"admin2\": \"Al Galabat Al Gharbyah-Kassab\", \"fatalities\": 2, \"event_id_cnty\": 2}, {\"id\": 519626, \"operation\": \"Armed Clashes in Sudan (Overview)\", \"admin0Name\": \"Sudan\", \"admin0Pcode\": \"SDN\", \"admin1Name\": \"Gedaref\", \"admin1Pcode\": \"SD12\", \"admin2Name\": \"Galaa Al Nahal\", \"admin2Pcode\": \"SD12079\", \"numPresentIdpInd\": 65674, \"reportingDate\": \"2024-12-17T00:00:00\", \"yearReportingDate\": 2024, \"monthReportingDate\": 12, \"roundNumber\": 18, \"assessmentType\": \"BA\", \"admin2\": \"Galaa Al Nahal\", \"fatalities\": 1, \"event_id_cnty\": 3}, {\"id\": 519627, \"operation\": \"Armed Clashes in Sudan (Overview)\", \"admin0Name\": \"Sudan\", \"admin0Pcode\": \"SDN\", \"admin1Name\": \"Gedaref\", \"admin1Pcode\": \"SD12\", \"admin2Name\": \"Madeinat Al Gedaref\", \"admin2Pcode\": \"SD12080\", \"numPresentIdpInd\": 349757, \"reportingDate\": \"2024-12-17T00:00:00\", \"yearReportingDate\": 2024, \"monthReportingDate\": 12, \"roundNumber\": 18, \"assessmentType\": \"BA\", \"admin2\": \"Madeinat Al Gedaref\", \"fatalities\": 6, \"event_id_cnty\": 58}, {\"id\": 519628, \"operation\": \"Armed Clashes in Sudan (Overview)\", \"admin0Name\": \"Sudan\", \"admin0Pcode\": \"SDN\", \"admin1Name\": \"Gedaref\", \"admin1Pcode\": \"SD12\", \"admin2Name\": \"Wasat Al Gedaref\", \"admin2Pcode\": \"SD12081\", \"numPresentIdpInd\": 38999, \"reportingDate\": \"2024-12-17T00:00:00\", \"yearReportingDate\": 2024, \"monthReportingDate\": 12, \"roundNumber\": 18, \"assessmentType\": \"BA\", \"admin2\": \"Wasat Al Gedaref\", \"fatalities\": 1, \"event_id_cnty\": 5}, {\"id\": 519629, \"operation\": \"Armed Clashes in Sudan (Overview)\", \"admin0Name\": \"Sudan\", \"admin0Pcode\": \"SDN\", \"admin1Name\": \"Gedaref\", \"admin1Pcode\": \"SD12\", \"admin2Name\": \"Al Mafaza\", \"admin2Pcode\": \"SD12082\", \"numPresentIdpInd\": 93925, \"reportingDate\": \"2024-12-17T00:00:00\", \"yearReportingDate\": 2024, \"monthReportingDate\": 12, \"roundNumber\": 18, \"assessmentType\": \"BA\", \"admin2\": \"Al Mafaza\", \"fatalities\": 0, \"event_id_cnty\": 6}, {\"id\": 519630, \"operation\": \"Armed Clashes in Sudan (Overview)\", \"admin0Name\": \"Sudan\", \"admin0Pcode\": \"SDN\", \"admin1Name\": \"Gedaref\", \"admin1Pcode\": \"SD12\", \"admin2Name\": \"Galabat Ash-Shargiah\", \"admin2Pcode\": \"SD12083\", \"numPresentIdpInd\": 99399, \"reportingDate\": \"2024-12-17T00:00:00\", \"yearReportingDate\": 2024, \"monthReportingDate\": 12, \"roundNumber\": 18, \"assessmentType\": \"BA\", \"admin2\": \"Galabat Ash-Shargiah\", \"fatalities\": 0, \"event_id_cnty\": 1}, {\"id\": 519631, \"operation\": \"Armed Clashes in Sudan (Overview)\", \"admin0Name\": \"Sudan\", \"admin0Pcode\": \"SDN\", \"admin1Name\": \"Gedaref\", \"admin1Pcode\": \"SD12\", \"admin2Name\": \"Ar Rahad\", \"admin2Pcode\": \"SD12084\", \"numPresentIdpInd\": 154395, \"reportingDate\": \"2024-12-17T00:00:00\", \"yearReportingDate\": 2024, \"monthReportingDate\": 12, \"roundNumber\": 18, \"assessmentType\": \"BA\", \"admin2\": \"Ar Rahad\", \"fatalities\": 128, \"event_id_cnty\": 53}, {\"id\": 519639, \"operation\": \"Armed Clashes in Sudan (Overview)\", \"admin0Name\": \"Sudan\", \"admin0Pcode\": \"SDN\", \"admin1Name\": \"North Kordofan\", \"admin1Pcode\": \"SD13\", \"admin2Name\": \"Ar Rahad\", \"admin2Pcode\": \"SD13030\", \"numPresentIdpInd\": 41912, \"reportingDate\": \"2024-12-17T00:00:00\", \"yearReportingDate\": 2024, \"monthReportingDate\": 12, \"roundNumber\": 18, \"assessmentType\": \"BA\", \"admin2\": \"Ar Rahad\", \"fatalities\": 128, \"event_id_cnty\": 53}, {\"id\": 519632, \"operation\": \"Armed Clashes in Sudan (Overview)\", \"admin0Name\": \"Sudan\", \"admin0Pcode\": \"SDN\", \"admin1Name\": \"North Kordofan\", \"admin1Pcode\": \"SD13\", \"admin2Name\": \"Um Rawaba\", \"admin2Pcode\": \"SD13023\", \"numPresentIdpInd\": 43094, \"reportingDate\": \"2024-12-17T00:00:00\", \"yearReportingDate\": 2024, \"monthReportingDate\": 12, \"roundNumber\": 18, \"assessmentType\": \"BA\", \"admin2\": \"Um Rawaba\", \"fatalities\": 275, \"event_id_cnty\": 95}, {\"id\": 519633, \"operation\": \"Armed Clashes in Sudan (Overview)\", \"admin0Name\": \"Sudan\", \"admin0Pcode\": \"SDN\", \"admin1Name\": \"North Kordofan\", \"admin1Pcode\": \"SD13\", \"admin2Name\": \"Sheikan\", \"admin2Pcode\": \"SD13024\", \"numPresentIdpInd\": 48653, \"reportingDate\": \"2024-12-17T00:00:00\", \"yearReportingDate\": 2024, \"monthReportingDate\": 12, \"roundNumber\": 18, \"assessmentType\": \"BA\", \"admin2\": \"Sheikan\", \"fatalities\": 822, \"event_id_cnty\": 219}, {\"id\": 519634, \"operation\": \"Armed Clashes in Sudan (Overview)\", \"admin0Name\": \"Sudan\", \"admin0Pcode\": \"SDN\", \"admin1Name\": \"North Kordofan\", \"admin1Pcode\": \"SD13\", \"admin2Name\": \"Soudari\", \"admin2Pcode\": \"SD13025\", \"numPresentIdpInd\": 3968, \"reportingDate\": \"2024-12-17T00:00:00\", \"yearReportingDate\": 2024, \"monthReportingDate\": 12, \"roundNumber\": 18, \"assessmentType\": \"BA\", \"admin2\": \"Soudari\", \"fatalities\": 72, \"event_id_cnty\": 26}, {\"id\": 519635, \"operation\": \"Armed Clashes in Sudan (Overview)\", \"admin0Name\": \"Sudan\", \"admin0Pcode\": \"SDN\", \"admin1Name\": \"North Kordofan\", \"admin1Pcode\": \"SD13\", \"admin2Name\": \"Bara\", \"admin2Pcode\": \"SD13026\", \"numPresentIdpInd\": 34269, \"reportingDate\": \"2024-12-17T00:00:00\", \"yearReportingDate\": 2024, \"monthReportingDate\": 12, \"roundNumber\": 18, \"assessmentType\": \"BA\", \"admin2\": \"Bara\", \"fatalities\": 60, \"event_id_cnty\": 31}, {\"id\": 519636, \"operation\": \"Armed Clashes in Sudan (Overview)\", \"admin0Name\": \"Sudan\", \"admin0Pcode\": \"SDN\", \"admin1Name\": \"North Kordofan\", \"admin1Pcode\": \"SD13\", \"admin2Name\": \"Gebrat Al Sheikh\", \"admin2Pcode\": \"SD13027\", \"numPresentIdpInd\": 7328, \"reportingDate\": \"2024-12-17T00:00:00\", \"yearReportingDate\": 2024, \"monthReportingDate\": 12, \"roundNumber\": 18, \"assessmentType\": \"BA\", \"admin2\": \"Gebrat Al Sheikh\", \"fatalities\": 49, \"event_id_cnty\": 12}, {\"id\": 519637, \"operation\": \"Armed Clashes in Sudan (Overview)\", \"admin0Name\": \"Sudan\", \"admin0Pcode\": \"SDN\", \"admin1Name\": \"North Kordofan\", \"admin1Pcode\": \"SD13\", \"admin2Name\": \"Um Dam Haj Ahmed\", \"admin2Pcode\": \"SD13028\", \"numPresentIdpInd\": 15241, \"reportingDate\": \"2024-12-17T00:00:00\", \"yearReportingDate\": 2024, \"monthReportingDate\": 12, \"roundNumber\": 18, \"assessmentType\": \"BA\", \"admin2\": \"Um Dam Haj Ahmed\", \"fatalities\": 47, \"event_id_cnty\": 13}, {\"id\": 519638, \"operation\": \"Armed Clashes in Sudan (Overview)\", \"admin0Name\": \"Sudan\", \"admin0Pcode\": \"SDN\", \"admin1Name\": \"North Kordofan\", \"admin1Pcode\": \"SD13\", \"admin2Name\": \"Gharb Bara\", \"admin2Pcode\": \"SD13029\", \"numPresentIdpInd\": 8495, \"reportingDate\": \"2024-12-17T00:00:00\", \"yearReportingDate\": 2024, \"monthReportingDate\": 12, \"roundNumber\": 18, \"assessmentType\": \"BA\", \"admin2\": \"Gharb Bara\", \"fatalities\": 3, \"event_id_cnty\": 1}, {\"id\": 519640, \"operation\": \"Armed Clashes in Sudan (Overview)\", \"admin0Name\": \"Sudan\", \"admin0Pcode\": \"SDN\", \"admin1Name\": \"Sennar\", \"admin1Pcode\": \"SD14\", \"admin2Name\": \"Abu Hujar\", \"admin2Pcode\": \"SD14037\", \"numPresentIdpInd\": 2954, \"reportingDate\": \"2024-12-17T00:00:00\", \"yearReportingDate\": 2024, \"monthReportingDate\": 12, \"roundNumber\": 18, \"assessmentType\": \"BA\", \"admin2\": \"Abu Hujar\", \"fatalities\": 28, \"event_id_cnty\": 24}, {\"id\": 519641, \"operation\": \"Armed Clashes in Sudan (Overview)\", \"admin0Name\": \"Sudan\", \"admin0Pcode\": \"SDN\", \"admin1Name\": \"Sennar\", \"admin1Pcode\": \"SD14\", \"admin2Name\": \"Sennar\", \"admin2Pcode\": \"SD14038\", \"numPresentIdpInd\": 36703, \"reportingDate\": \"2024-12-17T00:00:00\", \"yearReportingDate\": 2024, \"monthReportingDate\": 12, \"roundNumber\": 18, \"assessmentType\": \"BA\", \"admin2\": \"Sennar\", \"fatalities\": 406, \"event_id_cnty\": 152}, {\"id\": 519642, \"operation\": \"Armed Clashes in Sudan (Overview)\", \"admin0Name\": \"Sudan\", \"admin0Pcode\": \"SDN\", \"admin1Name\": \"Sennar\", \"admin1Pcode\": \"SD14\", \"admin2Name\": \"Ad Dali\", \"admin2Pcode\": \"SD14039\", \"numPresentIdpInd\": 12271, \"reportingDate\": \"2024-12-17T00:00:00\", \"yearReportingDate\": 2024, \"monthReportingDate\": 12, \"roundNumber\": 18, \"assessmentType\": \"BA\", \"admin2\": \"Ad Dali\", \"fatalities\": 27, \"event_id_cnty\": 18}, {\"id\": 519643, \"operation\": \"Armed Clashes in Sudan (Overview)\", \"admin0Name\": \"Sudan\", \"admin0Pcode\": \"SDN\", \"admin1Name\": \"Sennar\", \"admin1Pcode\": \"SD14\", \"admin2Name\": \"Dinder\", \"admin2Pcode\": \"SD14040\", \"numPresentIdpInd\": 28487, \"reportingDate\": \"2024-12-17T00:00:00\", \"yearReportingDate\": 2024, \"monthReportingDate\": 12, \"roundNumber\": 18, \"assessmentType\": \"BA\", \"admin2\": \"Dinder\", \"fatalities\": 73, \"event_id_cnty\": 65}, {\"id\": 519644, \"operation\": \"Armed Clashes in Sudan (Overview)\", \"admin0Name\": \"Sudan\", \"admin0Pcode\": \"SDN\", \"admin1Name\": \"Sennar\", \"admin1Pcode\": \"SD14\", \"admin2Name\": \"As Suki\", \"admin2Pcode\": \"SD14041\", \"numPresentIdpInd\": 58289, \"reportingDate\": \"2024-12-17T00:00:00\", \"yearReportingDate\": 2024, \"monthReportingDate\": 12, \"roundNumber\": 18, \"assessmentType\": \"BA\", \"admin2\": \"As Suki\", \"fatalities\": 32, \"event_id_cnty\": 54}, {\"id\": 519645, \"operation\": \"Armed Clashes in Sudan (Overview)\", \"admin0Name\": \"Sudan\", \"admin0Pcode\": \"SDN\", \"admin1Name\": \"Sennar\", \"admin1Pcode\": \"SD14\", \"admin2Name\": \"Sharg Sennar\", \"admin2Pcode\": \"SD14042\", \"numPresentIdpInd\": 32360, \"reportingDate\": \"2024-12-17T00:00:00\", \"yearReportingDate\": 2024, \"monthReportingDate\": 12, \"roundNumber\": 18, \"assessmentType\": \"BA\", \"admin2\": \"Sharg Sennar\", \"fatalities\": 29, \"event_id_cnty\": 17}, {\"id\": 519646, \"operation\": \"Armed Clashes in Sudan (Overview)\", \"admin0Name\": \"Sudan\", \"admin0Pcode\": \"SDN\", \"admin1Name\": \"Sennar\", \"admin1Pcode\": \"SD14\", \"admin2Name\": \"Sinja\", \"admin2Pcode\": \"SD14043\", \"numPresentIdpInd\": 9512, \"reportingDate\": \"2024-12-17T00:00:00\", \"yearReportingDate\": 2024, \"monthReportingDate\": 12, \"roundNumber\": 18, \"assessmentType\": \"BA\", \"admin2\": \"Sinja\", \"fatalities\": 184, \"event_id_cnty\": 60}, {\"id\": 519647, \"operation\": \"Armed Clashes in Sudan (Overview)\", \"admin0Name\": \"Sudan\", \"admin0Pcode\": \"SDN\", \"admin1Name\": \"Aj Jazirah\", \"admin1Pcode\": \"SD15\", \"admin2Name\": \"Medani Al Kubra\", \"admin2Pcode\": \"SD15030\", \"numPresentIdpInd\": 3789, \"reportingDate\": \"2024-12-17T00:00:00\", \"yearReportingDate\": 2024, \"monthReportingDate\": 12, \"roundNumber\": 18, \"assessmentType\": \"BA\", \"admin2\": \"Medani Al Kubra\", \"fatalities\": 411, \"event_id_cnty\": 232}, {\"id\": 519648, \"operation\": \"Armed Clashes in Sudan (Overview)\", \"admin0Name\": \"Sudan\", \"admin0Pcode\": \"SDN\", \"admin1Name\": \"Aj Jazirah\", \"admin1Pcode\": \"SD15\", \"admin2Name\": \"Janub Al Jazirah\", \"admin2Pcode\": \"SD15031\", \"numPresentIdpInd\": 2674, \"reportingDate\": \"2024-12-17T00:00:00\", \"yearReportingDate\": 2024, \"monthReportingDate\": 12, \"roundNumber\": 18, \"assessmentType\": \"BA\", \"admin2\": \"Janub Al Jazirah\", \"fatalities\": 354, \"event_id_cnty\": 256}, {\"id\": 519649, \"operation\": \"Armed Clashes in Sudan (Overview)\", \"admin0Name\": \"Sudan\", \"admin0Pcode\": \"SDN\", \"admin1Name\": \"Aj Jazirah\", \"admin1Pcode\": \"SD15\", \"admin2Name\": \"Um Algura\", \"admin2Pcode\": \"SD15032\", \"numPresentIdpInd\": 20169, \"reportingDate\": \"2024-12-17T00:00:00\", \"yearReportingDate\": 2024, \"monthReportingDate\": 12, \"roundNumber\": 18, \"assessmentType\": \"BA\", \"admin2\": \"Um Algura\", \"fatalities\": 473, \"event_id_cnty\": 127}, {\"id\": 519650, \"operation\": \"Armed Clashes in Sudan (Overview)\", \"admin0Name\": \"Sudan\", \"admin0Pcode\": \"SDN\", \"admin1Name\": \"Aj Jazirah\", \"admin1Pcode\": \"SD15\", \"admin2Name\": \"Sharg Al Jazirah\", \"admin2Pcode\": \"SD15033\", \"numPresentIdpInd\": 5034, \"reportingDate\": \"2024-12-17T00:00:00\", \"yearReportingDate\": 2024, \"monthReportingDate\": 12, \"roundNumber\": 18, \"assessmentType\": \"BA\", \"admin2\": \"Sharg Al Jazirah\", \"fatalities\": 1221, \"event_id_cnty\": 215}, {\"id\": 519652, \"operation\": \"Armed Clashes in Sudan (Overview)\", \"admin0Name\": \"Sudan\", \"admin0Pcode\": \"SDN\", \"admin1Name\": \"Aj Jazirah\", \"admin1Pcode\": \"SD15\", \"admin2Name\": \"Al Kamlin\", \"admin2Pcode\": \"SD15035\", \"numPresentIdpInd\": 57239, \"reportingDate\": \"2024-12-17T00:00:00\", \"yearReportingDate\": 2024, \"monthReportingDate\": 12, \"roundNumber\": 18, \"assessmentType\": \"BA\", \"admin2\": \"Al Kamlin\", \"fatalities\": 397, \"event_id_cnty\": 137}, {\"id\": 519653, \"operation\": \"Armed Clashes in Sudan (Overview)\", \"admin0Name\": \"Sudan\", \"admin0Pcode\": \"SDN\", \"admin1Name\": \"Aj Jazirah\", \"admin1Pcode\": \"SD15\", \"admin2Name\": \"Al Manaqil\", \"admin2Pcode\": \"SD15036\", \"numPresentIdpInd\": 102947, \"reportingDate\": \"2024-12-17T00:00:00\", \"yearReportingDate\": 2024, \"monthReportingDate\": 12, \"roundNumber\": 18, \"assessmentType\": \"BA\", \"admin2\": \"Al Manaqil\", \"fatalities\": 154, \"event_id_cnty\": 62}, {\"id\": 519654, \"operation\": \"Armed Clashes in Sudan (Overview)\", \"admin0Name\": \"Sudan\", \"admin0Pcode\": \"SDN\", \"admin1Name\": \"Aj Jazirah\", \"admin1Pcode\": \"SD15\", \"admin2Name\": \"Al Qurashi\", \"admin2Pcode\": \"SD15037\", \"numPresentIdpInd\": 76315, \"reportingDate\": \"2024-12-17T00:00:00\", \"yearReportingDate\": 2024, \"monthReportingDate\": 12, \"roundNumber\": 18, \"assessmentType\": \"BA\", \"admin2\": \"Al Qurashi\", \"fatalities\": 154, \"event_id_cnty\": 33}, {\"id\": 519656, \"operation\": \"Armed Clashes in Sudan (Overview)\", \"admin0Name\": \"Sudan\", \"admin0Pcode\": \"SDN\", \"admin1Name\": \"River Nile\", \"admin1Pcode\": \"SD16\", \"admin2Name\": \"Al Matama\", \"admin2Pcode\": \"SD16009\", \"numPresentIdpInd\": 182195, \"reportingDate\": \"2024-12-17T00:00:00\", \"yearReportingDate\": 2024, \"monthReportingDate\": 12, \"roundNumber\": 18, \"assessmentType\": \"BA\", \"admin2\": \"Al Matama\", \"fatalities\": 2, \"event_id_cnty\": 11}, {\"id\": 519658, \"operation\": \"Armed Clashes in Sudan (Overview)\", \"admin0Name\": \"Sudan\", \"admin0Pcode\": \"SDN\", \"admin1Name\": \"River Nile\", \"admin1Pcode\": \"SD16\", \"admin2Name\": \"Ad Damar\", \"admin2Pcode\": \"SD16011\", \"numPresentIdpInd\": 154981, \"reportingDate\": \"2024-12-17T00:00:00\", \"yearReportingDate\": 2024, \"monthReportingDate\": 12, \"roundNumber\": 18, \"assessmentType\": \"BA\", \"admin2\": \"Ad Damar\", \"fatalities\": 12, \"event_id_cnty\": 27}, {\"id\": 519659, \"operation\": \"Armed Clashes in Sudan (Overview)\", \"admin0Name\": \"Sudan\", \"admin0Pcode\": \"SDN\", \"admin1Name\": \"River Nile\", \"admin1Pcode\": \"SD16\", \"admin2Name\": \"Atbara\", \"admin2Pcode\": \"SD16012\", \"numPresentIdpInd\": 114793, \"reportingDate\": \"2024-12-17T00:00:00\", \"yearReportingDate\": 2024, \"monthReportingDate\": 12, \"roundNumber\": 18, \"assessmentType\": \"BA\", \"admin2\": \"Atbara\", \"fatalities\": 5, \"event_id_cnty\": 35}, {\"id\": 519660, \"operation\": \"Armed Clashes in Sudan (Overview)\", \"admin0Name\": \"Sudan\", \"admin0Pcode\": \"SDN\", \"admin1Name\": \"River Nile\", \"admin1Pcode\": \"SD16\", \"admin2Name\": \"Barbar\", \"admin2Pcode\": \"SD16013\", \"numPresentIdpInd\": 151747, \"reportingDate\": \"2024-12-17T00:00:00\", \"yearReportingDate\": 2024, \"monthReportingDate\": 12, \"roundNumber\": 18, \"assessmentType\": \"BA\", \"admin2\": \"Barbar\", \"fatalities\": 8, \"event_id_cnty\": 10}, {\"id\": 519661, \"operation\": \"Armed Clashes in Sudan (Overview)\", \"admin0Name\": \"Sudan\", \"admin0Pcode\": \"SDN\", \"admin1Name\": \"River Nile\", \"admin1Pcode\": \"SD16\", \"admin2Name\": \"Al Buhaira\", \"admin2Pcode\": \"SD16014\", \"numPresentIdpInd\": 8378, \"reportingDate\": \"2024-12-17T00:00:00\", \"yearReportingDate\": 2024, \"monthReportingDate\": 12, \"roundNumber\": 18, \"assessmentType\": \"BA\", \"admin2\": \"Al Buhaira\", \"fatalities\": 0, \"event_id_cnty\": 2}, {\"id\": 519662, \"operation\": \"Armed Clashes in Sudan (Overview)\", \"admin0Name\": \"Sudan\", \"admin0Pcode\": \"SDN\", \"admin1Name\": \"Northern\", \"admin1Pcode\": \"SD17\", \"admin2Name\": \"Halfa\", \"admin2Pcode\": \"SD17014\", \"numPresentIdpInd\": 56744, \"reportingDate\": \"2024-12-17T00:00:00\", \"yearReportingDate\": 2024, \"monthReportingDate\": 12, \"roundNumber\": 18, \"assessmentType\": \"BA\", \"admin2\": \"Halfa\", \"fatalities\": 0, \"event_id_cnty\": 14}, {\"id\": 519664, \"operation\": \"Armed Clashes in Sudan (Overview)\", \"admin0Name\": \"Sudan\", \"admin0Pcode\": \"SDN\", \"admin1Name\": \"Northern\", \"admin1Pcode\": \"SD17\", \"admin2Name\": \"Al Burgaig\", \"admin2Pcode\": \"SD17016\", \"numPresentIdpInd\": 64541, \"reportingDate\": \"2024-12-17T00:00:00\", \"yearReportingDate\": 2024, \"monthReportingDate\": 12, \"roundNumber\": 18, \"assessmentType\": \"BA\", \"admin2\": \"Al Burgaig\", \"fatalities\": 0, \"event_id_cnty\": 3}, {\"id\": 519665, \"operation\": \"Armed Clashes in Sudan (Overview)\", \"admin0Name\": \"Sudan\", \"admin0Pcode\": \"SDN\", \"admin1Name\": \"Northern\", \"admin1Pcode\": \"SD17\", \"admin2Name\": \"Dongola\", \"admin2Pcode\": \"SD17017\", \"numPresentIdpInd\": 75067, \"reportingDate\": \"2024-12-17T00:00:00\", \"yearReportingDate\": 2024, \"monthReportingDate\": 12, \"roundNumber\": 18, \"assessmentType\": \"BA\", \"admin2\": \"Dongola\", \"fatalities\": 2, \"event_id_cnty\": 37}, {\"id\": 519666, \"operation\": \"Armed Clashes in Sudan (Overview)\", \"admin0Name\": \"Sudan\", \"admin0Pcode\": \"SDN\", \"admin1Name\": \"Northern\", \"admin1Pcode\": \"SD17\", \"admin2Name\": \"Al Golid\", \"admin2Pcode\": \"SD17018\", \"numPresentIdpInd\": 69167, \"reportingDate\": \"2024-12-17T00:00:00\", \"yearReportingDate\": 2024, \"monthReportingDate\": 12, \"roundNumber\": 18, \"assessmentType\": \"BA\", \"admin2\": \"Al Golid\", \"fatalities\": 0, \"event_id_cnty\": 3}, {\"id\": 519667, \"operation\": \"Armed Clashes in Sudan (Overview)\", \"admin0Name\": \"Sudan\", \"admin0Pcode\": \"SDN\", \"admin1Name\": \"Northern\", \"admin1Pcode\": \"SD17\", \"admin2Name\": \"Ad Dabbah\", \"admin2Pcode\": \"SD17019\", \"numPresentIdpInd\": 120445, \"reportingDate\": \"2024-12-17T00:00:00\", \"yearReportingDate\": 2024, \"monthReportingDate\": 12, \"roundNumber\": 18, \"assessmentType\": \"BA\", \"admin2\": \"Ad Dabbah\", \"fatalities\": 0, \"event_id_cnty\": 9}, {\"id\": 519669, \"operation\": \"Armed Clashes in Sudan (Overview)\", \"admin0Name\": \"Sudan\", \"admin0Pcode\": \"SDN\", \"admin1Name\": \"West Kordofan\", \"admin1Pcode\": \"SD18\", \"admin2Name\": \"Ghubaish\", \"admin2Pcode\": \"SD18021\", \"numPresentIdpInd\": 13933, \"reportingDate\": \"2024-12-17T00:00:00\", \"yearReportingDate\": 2024, \"monthReportingDate\": 12, \"roundNumber\": 18, \"assessmentType\": \"BA\", \"admin2\": \"Ghubaish\", \"fatalities\": 71, \"event_id_cnty\": 14}, {\"id\": 519670, \"operation\": \"Armed Clashes in Sudan (Overview)\", \"admin0Name\": \"Sudan\", \"admin0Pcode\": \"SDN\", \"admin1Name\": \"West Kordofan\", \"admin1Pcode\": \"SD18\", \"admin2Name\": \"An Nuhud\", \"admin2Pcode\": \"SD18022\", \"numPresentIdpInd\": 47147, \"reportingDate\": \"2024-12-17T00:00:00\", \"yearReportingDate\": 2024, \"monthReportingDate\": 12, \"roundNumber\": 18, \"assessmentType\": \"BA\", \"admin2\": \"An Nuhud\", \"fatalities\": 21, \"event_id_cnty\": 39}, {\"id\": 519671, \"operation\": \"Armed Clashes in Sudan (Overview)\", \"admin0Name\": \"Sudan\", \"admin0Pcode\": \"SDN\", \"admin1Name\": \"West Kordofan\", \"admin1Pcode\": \"SD18\", \"admin2Name\": \"Abu Zabad\", \"admin2Pcode\": \"SD18028\", \"numPresentIdpInd\": 29504, \"reportingDate\": \"2024-12-17T00:00:00\", \"yearReportingDate\": 2024, \"monthReportingDate\": 12, \"roundNumber\": 18, \"assessmentType\": \"BA\", \"admin2\": \"Abu Zabad\", \"fatalities\": 17, \"event_id_cnty\": 11}, {\"id\": 519672, \"operation\": \"Armed Clashes in Sudan (Overview)\", \"admin0Name\": \"Sudan\", \"admin0Pcode\": \"SDN\", \"admin1Name\": \"West Kordofan\", \"admin1Pcode\": \"SD18\", \"admin2Name\": \"Wad Bandah\", \"admin2Pcode\": \"SD18029\", \"numPresentIdpInd\": 7049, \"reportingDate\": \"2024-12-17T00:00:00\", \"yearReportingDate\": 2024, \"monthReportingDate\": 12, \"roundNumber\": 18, \"assessmentType\": \"BA\", \"admin2\": \"Wad Bandah\", \"fatalities\": 53, \"event_id_cnty\": 5}, {\"id\": 519673, \"operation\": \"Armed Clashes in Sudan (Overview)\", \"admin0Name\": \"Sudan\", \"admin0Pcode\": \"SDN\", \"admin1Name\": \"West Kordofan\", \"admin1Pcode\": \"SD18\", \"admin2Name\": \"Keilak\", \"admin2Pcode\": \"SD18085\", \"numPresentIdpInd\": 16863, \"reportingDate\": \"2024-12-17T00:00:00\", \"yearReportingDate\": 2024, \"monthReportingDate\": 12, \"roundNumber\": 18, \"assessmentType\": \"BA\", \"admin2\": \"Keilak\", \"fatalities\": 10, \"event_id_cnty\": 8}, {\"id\": 519676, \"operation\": \"Armed Clashes in Sudan (Overview)\", \"admin0Name\": \"Sudan\", \"admin0Pcode\": \"SDN\", \"admin1Name\": \"West Kordofan\", \"admin1Pcode\": \"SD18\", \"admin2Name\": \"As Sunut\", \"admin2Pcode\": \"SD18092\", \"numPresentIdpInd\": 8774, \"reportingDate\": \"2024-12-17T00:00:00\", \"yearReportingDate\": 2024, \"monthReportingDate\": 12, \"roundNumber\": 18, \"assessmentType\": \"BA\", \"admin2\": \"As Sunut\", \"fatalities\": 9, \"event_id_cnty\": 3}, {\"id\": 519677, \"operation\": \"Armed Clashes in Sudan (Overview)\", \"admin0Name\": \"Sudan\", \"admin0Pcode\": \"SDN\", \"admin1Name\": \"West Kordofan\", \"admin1Pcode\": \"SD18\", \"admin2Name\": \"Babanusa\", \"admin2Pcode\": \"SD18100\", \"numPresentIdpInd\": 32587, \"reportingDate\": \"2024-12-17T00:00:00\", \"yearReportingDate\": 2024, \"monthReportingDate\": 12, \"roundNumber\": 18, \"assessmentType\": \"BA\", \"admin2\": \"Babanusa\", \"fatalities\": 333, \"event_id_cnty\": 89}, {\"id\": 519678, \"operation\": \"Armed Clashes in Sudan (Overview)\", \"admin0Name\": \"Sudan\", \"admin0Pcode\": \"SDN\", \"admin1Name\": \"West Kordofan\", \"admin1Pcode\": \"SD18\", \"admin2Name\": \"Al Lagowa\", \"admin2Pcode\": \"SD18102\", \"numPresentIdpInd\": 21527, \"reportingDate\": \"2024-12-17T00:00:00\", \"yearReportingDate\": 2024, \"monthReportingDate\": 12, \"roundNumber\": 18, \"assessmentType\": \"BA\", \"admin2\": \"Al Lagowa\", \"fatalities\": 43, \"event_id_cnty\": 18}, {\"id\": 519679, \"operation\": \"Armed Clashes in Sudan (Overview)\", \"admin0Name\": \"Sudan\", \"admin0Pcode\": \"SDN\", \"admin1Name\": \"West Kordofan\", \"admin1Pcode\": \"SD18\", \"admin2Name\": \"Al Dibab\", \"admin2Pcode\": \"SD18103\", \"numPresentIdpInd\": 21146, \"reportingDate\": \"2024-12-17T00:00:00\", \"yearReportingDate\": 2024, \"monthReportingDate\": 12, \"roundNumber\": 18, \"assessmentType\": \"BA\", \"admin2\": \"Al Dibab\", \"fatalities\": 0, \"event_id_cnty\": 2}, {\"id\": 519681, \"operation\": \"Armed Clashes in Sudan (Overview)\", \"admin0Name\": \"Sudan\", \"admin0Pcode\": \"SDN\", \"admin1Name\": \"West Kordofan\", \"admin1Pcode\": \"SD18\", \"admin2Name\": \"Al Khiwai\", \"admin2Pcode\": \"SD18105\", \"numPresentIdpInd\": 9583, \"reportingDate\": \"2024-12-17T00:00:00\", \"yearReportingDate\": 2024, \"monthReportingDate\": 12, \"roundNumber\": 18, \"assessmentType\": \"BA\", \"admin2\": \"Al Khiwai\", \"fatalities\": 135, \"event_id_cnty\": 14}, {\"id\": 519682, \"operation\": \"Armed Clashes in Sudan (Overview)\", \"admin0Name\": \"Sudan\", \"admin0Pcode\": \"SDN\", \"admin1Name\": \"West Kordofan\", \"admin1Pcode\": \"SD18\", \"admin2Name\": \"Al Meiram\", \"admin2Pcode\": \"SD18106\", \"numPresentIdpInd\": 36973, \"reportingDate\": \"2024-12-17T00:00:00\", \"yearReportingDate\": 2024, \"monthReportingDate\": 12, \"roundNumber\": 18, \"assessmentType\": \"BA\", \"admin2\": \"Al Meiram\", \"fatalities\": 21, \"event_id_cnty\": 11}, {\"id\": 519548, \"operation\": \"Armed Clashes in Sudan (Overview)\", \"admin0Name\": \"Sudan\", \"admin0Pcode\": \"SDN\", \"admin1Name\": \"West Darfur\", \"admin1Pcode\": \"SD04\", \"admin2Name\": \"Kereneik\", \"admin2Pcode\": \"SD04125\", \"numPresentIdpInd\": 43025, \"reportingDate\": \"2024-12-17T00:00:00\", \"yearReportingDate\": 2024, \"monthReportingDate\": 12, \"roundNumber\": 18, \"assessmentType\": \"BA\", \"admin2\": \"Kereneik\", \"fatalities\": 95, \"event_id_cnty\": 30}, {\"id\": 519651, \"operation\": \"Armed Clashes in Sudan (Overview)\", \"admin0Name\": \"Sudan\", \"admin0Pcode\": \"SDN\", \"admin1Name\": \"Aj Jazirah\", \"admin1Pcode\": \"SD15\", \"admin2Name\": \"Al Hasahisa\", \"admin2Pcode\": \"SD15034\", \"numPresentIdpInd\": 13994, \"reportingDate\": \"2024-12-17T00:00:00\", \"yearReportingDate\": 2024, \"monthReportingDate\": 12, \"roundNumber\": 18, \"assessmentType\": \"BA\", \"admin2\": \"Al Hasahisa\", \"fatalities\": 526, \"event_id_cnty\": 450}, {\"id\": 519680, \"operation\": \"Armed Clashes in Sudan (Overview)\", \"admin0Name\": \"Sudan\", \"admin0Pcode\": \"SDN\", \"admin1Name\": \"West Kordofan\", \"admin1Pcode\": \"SD18\", \"admin2Name\": \"Al Idia\", \"admin2Pcode\": \"SD18104\", \"numPresentIdpInd\": 97570, \"reportingDate\": \"2024-12-17T00:00:00\", \"yearReportingDate\": 2024, \"monthReportingDate\": 12, \"roundNumber\": 18, \"assessmentType\": \"BA\", \"admin2\": \"Al Idia\", \"fatalities\": 28, \"event_id_cnty\": 22}, {\"id\": 519526, \"operation\": \"Armed Clashes in Sudan (Overview)\", \"admin0Name\": \"Sudan\", \"admin0Pcode\": \"SDN\", \"admin1Name\": \"South Darfur\", \"admin1Pcode\": \"SD03\", \"admin2Name\": \"Mershing\", \"admin2Pcode\": \"SD03145\", \"numPresentIdpInd\": 80145, \"reportingDate\": \"2024-12-17T00:00:00\", \"yearReportingDate\": 2024, \"monthReportingDate\": 12, \"roundNumber\": 18, \"assessmentType\": \"BA\", \"admin2\": \"Mershing\", \"fatalities\": 40, \"event_id_cnty\": 28}, {\"id\": 519606, \"operation\": \"Armed Clashes in Sudan (Overview)\", \"admin0Name\": \"Sudan\", \"admin0Pcode\": \"SDN\", \"admin1Name\": \"Red Sea\", \"admin1Pcode\": \"SD10\", \"admin2Name\": \"Haya\", \"admin2Pcode\": \"SD10070\", \"numPresentIdpInd\": 4715, \"reportingDate\": \"2024-12-17T00:00:00\", \"yearReportingDate\": 2024, \"monthReportingDate\": 12, \"roundNumber\": 18, \"assessmentType\": \"BA\", \"admin2\": \"Haya\", \"fatalities\": 0, \"event_id_cnty\": 3}, {\"id\": 519675, \"operation\": \"Armed Clashes in Sudan (Overview)\", \"admin0Name\": \"Sudan\", \"admin0Pcode\": \"SDN\", \"admin1Name\": \"West Kordofan\", \"admin1Pcode\": \"SD18\", \"admin2Name\": \"Abyei\", \"admin2Pcode\": \"SD18087\", \"numPresentIdpInd\": 22413, \"reportingDate\": \"2024-12-17T00:00:00\", \"yearReportingDate\": 2024, \"monthReportingDate\": 12, \"roundNumber\": 18, \"assessmentType\": \"BA\", \"admin2\": \"Abyei\", \"fatalities\": 285, \"event_id_cnty\": 110}, {\"id\": 519510, \"operation\": \"Armed Clashes in Sudan (Overview)\", \"admin0Name\": \"Sudan\", \"admin0Pcode\": \"SDN\", \"admin1Name\": \"North Darfur\", \"admin1Pcode\": \"SD02\", \"admin2Name\": \"As Serief\", \"admin2Pcode\": \"SD02118\", \"numPresentIdpInd\": 13405, \"reportingDate\": \"2024-12-17T00:00:00\", \"yearReportingDate\": 2024, \"monthReportingDate\": 12, \"roundNumber\": 18, \"assessmentType\": \"BA\", \"admin2\": \"As Serief\", \"fatalities\": 0, \"event_id_cnty\": 4}, {\"id\": 519655, \"operation\": \"Armed Clashes in Sudan (Overview)\", \"admin0Name\": \"Sudan\", \"admin0Pcode\": \"SDN\", \"admin1Name\": \"River Nile\", \"admin1Pcode\": \"SD16\", \"admin2Name\": \"Abu Hamad\", \"admin2Pcode\": \"SD16008\", \"numPresentIdpInd\": 82970, \"reportingDate\": \"2024-12-17T00:00:00\", \"yearReportingDate\": 2024, \"monthReportingDate\": 12, \"roundNumber\": 18, \"assessmentType\": \"BA\", \"admin2\": \"Abu Hamad\", \"fatalities\": 0, \"event_id_cnty\": 6}, {\"id\": 519613, \"operation\": \"Armed Clashes in Sudan (Overview)\", \"admin0Name\": \"Sudan\", \"admin0Pcode\": \"SDN\", \"admin1Name\": \"Kassala\", \"admin1Pcode\": \"SD11\", \"admin2Name\": \"Reifi Kassla\", \"admin2Pcode\": \"SD11056\", \"numPresentIdpInd\": 6235, \"reportingDate\": \"2024-12-17T00:00:00\", \"yearReportingDate\": 2024, \"monthReportingDate\": 12, \"roundNumber\": 18, \"assessmentType\": \"BA\", \"admin2\": \"Reifi Kassla\", \"fatalities\": 0, \"event_id_cnty\": 1}, {\"id\": 519657, \"operation\": \"Armed Clashes in Sudan (Overview)\", \"admin0Name\": \"Sudan\", \"admin0Pcode\": \"SDN\", \"admin1Name\": \"River Nile\", \"admin1Pcode\": \"SD16\", \"admin2Name\": \"Shendi\", \"admin2Pcode\": \"SD16010\", \"numPresentIdpInd\": 322878, \"reportingDate\": \"2024-12-17T00:00:00\", \"yearReportingDate\": 2024, \"monthReportingDate\": 12, \"roundNumber\": 18, \"assessmentType\": \"BA\", \"admin2\": \"Shendi\", \"fatalities\": 70, \"event_id_cnty\": 64}, {\"id\": 519663, \"operation\": \"Armed Clashes in Sudan (Overview)\", \"admin0Name\": \"Sudan\", \"admin0Pcode\": \"SDN\", \"admin1Name\": \"Northern\", \"admin1Pcode\": \"SD17\", \"admin2Name\": \"Delgo\", \"admin2Pcode\": \"SD17015\", \"numPresentIdpInd\": 40940, \"reportingDate\": \"2024-12-17T00:00:00\", \"yearReportingDate\": 2024, \"monthReportingDate\": 12, \"roundNumber\": 18, \"assessmentType\": \"BA\", \"admin2\": \"Delgo\", \"fatalities\": 0, \"event_id_cnty\": 3}, {\"id\": 519502, \"operation\": \"Armed Clashes in Sudan (Overview)\", \"admin0Name\": \"Sudan\", \"admin0Pcode\": \"SDN\", \"admin1Name\": \"Khartoum\", \"admin1Pcode\": \"SD01\", \"admin2Name\": \"Sharg An Neel\", \"admin2Pcode\": \"SD01004\", \"numPresentIdpInd\": 19550, \"reportingDate\": \"2024-12-17T00:00:00\", \"yearReportingDate\": 2024, \"monthReportingDate\": 12, \"roundNumber\": 18, \"assessmentType\": \"BA\", \"admin2\": \"Sharg An Neel\", \"fatalities\": 739, \"event_id_cnty\": 350}, {\"id\": 519559, \"operation\": \"Armed Clashes in Sudan (Overview)\", \"admin0Name\": \"Sudan\", \"admin0Pcode\": \"SDN\", \"admin1Name\": \"East Darfur\", \"admin1Pcode\": \"SD05\", \"admin2Name\": \"Yassin\", \"admin2Pcode\": \"SD05165\", \"numPresentIdpInd\": 81610, \"reportingDate\": \"2024-12-17T00:00:00\", \"yearReportingDate\": 2024, \"monthReportingDate\": 12, \"roundNumber\": 18, \"assessmentType\": \"BA\", \"admin2\": \"Yassin\", \"fatalities\": 22, \"event_id_cnty\": 6}, {\"id\": 519620, \"operation\": \"Armed Clashes in Sudan (Overview)\", \"admin0Name\": \"Sudan\", \"admin0Pcode\": \"SDN\", \"admin1Name\": \"Gedaref\", \"admin1Pcode\": \"SD12\", \"admin2Name\": \"Al Butanah\", \"admin2Pcode\": \"SD12073\", \"numPresentIdpInd\": 32765, \"reportingDate\": \"2024-12-17T00:00:00\", \"yearReportingDate\": 2024, \"monthReportingDate\": 12, \"roundNumber\": 18, \"assessmentType\": \"BA\", \"admin2\": \"Al Butanah\", \"fatalities\": 24, \"event_id_cnty\": 9}, {\"id\": 519501, \"operation\": \"Armed Clashes in Sudan (Overview)\", \"admin0Name\": \"Sudan\", \"admin0Pcode\": \"SDN\", \"admin1Name\": \"Khartoum\", \"admin1Pcode\": \"SD01\", \"admin2Name\": \"Bahri\", \"admin2Pcode\": \"SD01003\", \"numPresentIdpInd\": 28473, \"reportingDate\": \"2024-12-17T00:00:00\", \"yearReportingDate\": 2024, \"monthReportingDate\": 12, \"roundNumber\": 18, \"assessmentType\": \"BA\", \"admin2\": \"Bahri\", \"fatalities\": 1368, \"event_id_cnty\": 998}, {\"id\": 519584, \"operation\": \"Armed Clashes in Sudan (Overview)\", \"admin0Name\": \"Sudan\", \"admin0Pcode\": \"SDN\", \"admin1Name\": \"Blue Nile\", \"admin1Pcode\": \"SD08\", \"admin2Name\": \"Ed Damazine\", \"admin2Pcode\": \"SD08105\", \"numPresentIdpInd\": 188169, \"reportingDate\": \"2024-12-17T00:00:00\", \"yearReportingDate\": 2024, \"monthReportingDate\": 12, \"roundNumber\": 18, \"assessmentType\": \"BA\", \"admin2\": \"Ed Damazine\", \"fatalities\": 27, \"event_id_cnty\": 45}, {\"id\": 519668, \"operation\": \"Armed Clashes in Sudan (Overview)\", \"admin0Name\": \"Sudan\", \"admin0Pcode\": \"SDN\", \"admin1Name\": \"Northern\", \"admin1Pcode\": \"SD17\", \"admin2Name\": \"Merowe\", \"admin2Pcode\": \"SD17020\", \"numPresentIdpInd\": 126804, \"reportingDate\": \"2024-12-17T00:00:00\", \"yearReportingDate\": 2024, \"monthReportingDate\": 12, \"roundNumber\": 18, \"assessmentType\": \"BA\", \"admin2\": \"Merowe\", \"fatalities\": 44, \"event_id_cnty\": 30}]}}, {\"mode\": \"vega-lite\"});\n",
       "</script>"
      ],
      "text/plain": [
       "alt.Chart(...)"
      ]
     },
     "execution_count": 47,
     "metadata": {},
     "output_type": "execute_result"
    }
   ],
   "source": [
    "alt.Chart(acled_idp_2024).mark_circle().encode(\n",
    "    x=alt.X('event_id_cnty:Q', scale=alt.Scale(type='log')),\n",
    "    y=alt.Y('numPresentIdpInd:Q', scale=alt.Scale(type='log')),\n",
    "    size='fatalities:Q'\n",
    ").properties(\n",
    "    title='Total Fatalities by Month'\n",
    ").interactive()\n",
    "\n",
    "\n"
   ]
  },
  {
   "cell_type": "code",
   "execution_count": 40,
   "metadata": {},
   "outputs": [
    {
     "data": {
      "text/plain": [
       "0.20483374160946596"
      ]
     },
     "execution_count": 40,
     "metadata": {},
     "output_type": "execute_result"
    }
   ],
   "source": [
    "acled_idp_2024['numPresentIdpInd'].corr(acled_idp_2024['fatalities'])"
   ]
  },
  {
   "cell_type": "code",
   "execution_count": 41,
   "metadata": {},
   "outputs": [],
   "source": [
    "#save as csv\n",
    "acled_idp_2024.to_csv('sudan/acled_idp_2024.csv', index=False)"
   ]
  },
  {
   "cell_type": "code",
   "execution_count": 42,
   "metadata": {},
   "outputs": [],
   "source": [
    "#remove admin2Name reifi gharb kassala  and Jubayt Elmaaadin\n",
    "#idp_acled = idp_acled[idp_acled['admin2Name'] != 'Reifi Gharb Kassala']\n",
    "#idp_acled = idp_acled[idp_acled['admin2Name'] != 'Jubayt Elmaaadin']"
   ]
  },
  {
   "cell_type": "code",
   "execution_count": 43,
   "metadata": {},
   "outputs": [
    {
     "data": {
      "text/html": [
       "\n",
       "<style>\n",
       "  #altair-viz-41482da572c94bb59ed7ed1708167548.vega-embed {\n",
       "    width: 100%;\n",
       "    display: flex;\n",
       "  }\n",
       "\n",
       "  #altair-viz-41482da572c94bb59ed7ed1708167548.vega-embed details,\n",
       "  #altair-viz-41482da572c94bb59ed7ed1708167548.vega-embed details summary {\n",
       "    position: relative;\n",
       "  }\n",
       "</style>\n",
       "<div id=\"altair-viz-41482da572c94bb59ed7ed1708167548\"></div>\n",
       "<script type=\"text/javascript\">\n",
       "  var VEGA_DEBUG = (typeof VEGA_DEBUG == \"undefined\") ? {} : VEGA_DEBUG;\n",
       "  (function(spec, embedOpt){\n",
       "    let outputDiv = document.currentScript.previousElementSibling;\n",
       "    if (outputDiv.id !== \"altair-viz-41482da572c94bb59ed7ed1708167548\") {\n",
       "      outputDiv = document.getElementById(\"altair-viz-41482da572c94bb59ed7ed1708167548\");\n",
       "    }\n",
       "    const paths = {\n",
       "      \"vega\": \"https://cdn.jsdelivr.net/npm/vega@5?noext\",\n",
       "      \"vega-lib\": \"https://cdn.jsdelivr.net/npm/vega-lib?noext\",\n",
       "      \"vega-lite\": \"https://cdn.jsdelivr.net/npm/vega-lite@5.20.1?noext\",\n",
       "      \"vega-embed\": \"https://cdn.jsdelivr.net/npm/vega-embed@6?noext\",\n",
       "    };\n",
       "\n",
       "    function maybeLoadScript(lib, version) {\n",
       "      var key = `${lib.replace(\"-\", \"\")}_version`;\n",
       "      return (VEGA_DEBUG[key] == version) ?\n",
       "        Promise.resolve(paths[lib]) :\n",
       "        new Promise(function(resolve, reject) {\n",
       "          var s = document.createElement('script');\n",
       "          document.getElementsByTagName(\"head\")[0].appendChild(s);\n",
       "          s.async = true;\n",
       "          s.onload = () => {\n",
       "            VEGA_DEBUG[key] = version;\n",
       "            return resolve(paths[lib]);\n",
       "          };\n",
       "          s.onerror = () => reject(`Error loading script: ${paths[lib]}`);\n",
       "          s.src = paths[lib];\n",
       "        });\n",
       "    }\n",
       "\n",
       "    function showError(err) {\n",
       "      outputDiv.innerHTML = `<div class=\"error\" style=\"color:red;\">${err}</div>`;\n",
       "      throw err;\n",
       "    }\n",
       "\n",
       "    function displayChart(vegaEmbed) {\n",
       "      vegaEmbed(outputDiv, spec, embedOpt)\n",
       "        .catch(err => showError(`Javascript Error: ${err.message}<br>This usually means there's a typo in your chart specification. See the javascript console for the full traceback.`));\n",
       "    }\n",
       "\n",
       "    if(typeof define === \"function\" && define.amd) {\n",
       "      requirejs.config({paths});\n",
       "      require([\"vega-embed\"], displayChart, err => showError(`Error loading script: ${err.message}`));\n",
       "    } else {\n",
       "      maybeLoadScript(\"vega\", \"5\")\n",
       "        .then(() => maybeLoadScript(\"vega-lite\", \"5.20.1\"))\n",
       "        .then(() => maybeLoadScript(\"vega-embed\", \"6\"))\n",
       "        .catch(showError)\n",
       "        .then(() => displayChart(vegaEmbed));\n",
       "    }\n",
       "  })({\"config\": {\"view\": {\"continuousWidth\": 300, \"continuousHeight\": 300}}, \"data\": {\"name\": \"data-78a8f6426156e9af533c454a7042bf82\"}, \"mark\": {\"type\": \"circle\"}, \"encoding\": {\"size\": {\"field\": \"fatalities\", \"type\": \"quantitative\"}, \"x\": {\"field\": \"event_id_cnty\", \"scale\": {\"type\": \"log\"}, \"type\": \"quantitative\"}, \"y\": {\"field\": \"affected_idps_state\", \"scale\": {\"type\": \"log\"}, \"type\": \"quantitative\"}}, \"params\": [{\"name\": \"param_6\", \"select\": {\"type\": \"interval\", \"encodings\": [\"x\", \"y\"]}, \"bind\": \"scales\"}], \"title\": \"Total Fatalities by Month\", \"$schema\": \"https://vega.github.io/schema/vega-lite/v5.20.1.json\", \"datasets\": {\"data-78a8f6426156e9af533c454a7042bf82\": [{\"state_origin\": \"Blue Nile\", \"affected_idps_state\": 273665.0, \"admin1\": \"Blue Nile\", \"fatalities\": 241, \"event_id_cnty\": 91}, {\"state_origin\": \"Central Darfur\", \"affected_idps_state\": 746573.0, \"admin1\": \"Central Darfur\", \"fatalities\": 476, \"event_id_cnty\": 287}, {\"state_origin\": \"East Darfur\", \"affected_idps_state\": 247616.0, \"admin1\": \"East Darfur\", \"fatalities\": 134, \"event_id_cnty\": 122}, {\"state_origin\": \"Gedaref\", \"affected_idps_state\": 14284.0, \"admin1\": \"Gedaref\", \"fatalities\": 70, \"event_id_cnty\": 136}, {\"state_origin\": \"Kassala\", \"affected_idps_state\": 6126.0, \"admin1\": \"Kassala\", \"fatalities\": 3, \"event_id_cnty\": 77}, {\"state_origin\": \"Khartoum\", \"affected_idps_state\": 3671823.0, \"admin1\": \"Khartoum\", \"fatalities\": 8763, \"event_id_cnty\": 5583}, {\"state_origin\": \"North Darfur\", \"affected_idps_state\": 1654189.0, \"admin1\": \"North Darfur\", \"fatalities\": 4824, \"event_id_cnty\": 1262}, {\"state_origin\": \"North Kordofan\", \"affected_idps_state\": 87246.0, \"admin1\": \"North Kordofan\", \"fatalities\": 1456, \"event_id_cnty\": 448}, {\"state_origin\": \"Northern\", \"affected_idps_state\": 11962.0, \"admin1\": \"Northern\", \"fatalities\": 46, \"event_id_cnty\": 99}, {\"state_origin\": \"Red Sea\", \"affected_idps_state\": 33043.0, \"admin1\": \"Red Sea\", \"fatalities\": 7, \"event_id_cnty\": 132}, {\"state_origin\": \"River Nile\", \"affected_idps_state\": 69922.0, \"admin1\": \"River Nile\", \"fatalities\": 97, \"event_id_cnty\": 155}, {\"state_origin\": \"Sennar\", \"affected_idps_state\": 320382.0, \"admin1\": \"Sennar\", \"fatalities\": 779, \"event_id_cnty\": 390}, {\"state_origin\": \"South Darfur\", \"affected_idps_state\": 2080427.0, \"admin1\": \"South Darfur\", \"fatalities\": 1862, \"event_id_cnty\": 552}, {\"state_origin\": \"South Kordofan\", \"affected_idps_state\": 417011.0, \"admin1\": \"South Kordofan\", \"fatalities\": 960, \"event_id_cnty\": 328}, {\"state_origin\": \"West Darfur\", \"affected_idps_state\": 388757.0, \"admin1\": \"West Darfur\", \"fatalities\": 5080, \"event_id_cnty\": 394}, {\"state_origin\": \"West Kordofan\", \"affected_idps_state\": 312745.0, \"admin1\": \"West Kordofan\", \"fatalities\": 863, \"event_id_cnty\": 299}, {\"state_origin\": \"White Nile\", \"affected_idps_state\": 63258.0, \"admin1\": \"White Nile\", \"fatalities\": 200, \"event_id_cnty\": 219}]}}, {\"mode\": \"vega-lite\"});\n",
       "</script>"
      ],
      "text/plain": [
       "alt.Chart(...)"
      ]
     },
     "execution_count": 43,
     "metadata": {},
     "output_type": "execute_result"
    }
   ],
   "source": [
    "alt.Chart(acled_idp_2024_origin).mark_circle().encode(\n",
    "    x=alt.X('event_id_cnty:Q', scale=alt.Scale(type='log')),\n",
    "    y=alt.Y('affected_idps_state:Q', scale=alt.Scale(type='log')),\n",
    "    size='fatalities:Q'\n",
    ").properties(\n",
    "    title='Total Fatalities by Month'\n",
    ").interactive()\n"
   ]
  },
  {
   "cell_type": "code",
   "execution_count": 44,
   "metadata": {},
   "outputs": [
    {
     "data": {
      "text/plain": [
       "0.8294799756613697"
      ]
     },
     "execution_count": 44,
     "metadata": {},
     "output_type": "execute_result"
    }
   ],
   "source": [
    "acled_idp_2024_origin['affected_idps_state'].corr(acled_idp_2024_origin['fatalities'])"
   ]
  },
  {
   "cell_type": "code",
   "execution_count": 45,
   "metadata": {},
   "outputs": [],
   "source": [
    "acled_idp_2024_origin\n",
    "#save as csv\n",
    "acled_idp_2024_origin.to_csv('sudan/acled_idp_2024_origin.csv', index=False)"
   ]
  }
 ],
 "metadata": {
  "kernelspec": {
   "display_name": "Python 3",
   "language": "python",
   "name": "python3"
  },
  "language_info": {
   "codemirror_mode": {
    "name": "ipython",
    "version": 3
   },
   "file_extension": ".py",
   "mimetype": "text/x-python",
   "name": "python",
   "nbconvert_exporter": "python",
   "pygments_lexer": "ipython3",
   "version": "3.11.4"
  }
 },
 "nbformat": 4,
 "nbformat_minor": 2
}

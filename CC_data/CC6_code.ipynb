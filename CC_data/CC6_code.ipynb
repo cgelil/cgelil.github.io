{
 "cells": [
  {
   "cell_type": "code",
   "execution_count": 1,
   "metadata": {},
   "outputs": [],
   "source": [
    "import numpy as np\n",
    "import requests\n",
    "from bs4 import BeautifulSoup\n",
    "import pandas as pd\n",
    "import altair as alt\n",
    "import geopandas as gpd\n",
    "import matplotlib.pyplot as plt\n",
    "import json\n",
    "import altair as alt\n",
    "import dtmapi"
   ]
  },
  {
   "cell_type": "code",
   "execution_count": 2,
   "metadata": {},
   "outputs": [],
   "source": [
    "all_country_list = ['Afghanistan', 'Democratic Republic of the Congo', 'Ethiopia', 'Iraq', 'Nigeria', 'Somalia', 'South Sudan', 'Sudan', 'Yemen']\n",
    "\n",
    "# Initialize an empty list to store dataframes\n",
    "all_dataframes = []\n",
    "\n",
    "# Loop through each country in the list\n",
    "for country in all_country_list:\n",
    "    # Fetch data for each country\n",
    "    df = dtmapi.get_idp_admin0_data(CountryName=country, FromReportingDate='2014-01-01', ToReportingDate='2024-12-31', to_pandas=True)\n",
    "    all_dataframes.append(df)\n",
    "\n",
    "dtm_df = pd.concat(all_dataframes, ignore_index=True)\n"
   ]
  },
  {
   "cell_type": "code",
   "execution_count": 3,
   "metadata": {},
   "outputs": [],
   "source": [
    "# Convert reportingDate to datetime\n",
    "dtm_df['reportingDate'] = pd.to_datetime(dtm_df['reportingDate'])\n",
    "dtm_df['year'] = dtm_df['reportingDate'].dt.year\n",
    "idx = dtm_df.groupby(['admin0Name', 'year'])[['monthReportingDate', 'roundNumber']].idxmax()\n",
    "most_recent_data_per_year = dtm_df.loc[idx['monthReportingDate']]\n",
    "most_recent_data_per_year.reset_index(drop=True, inplace=True)\n",
    "\n",
    "# filter the top 10 countries with the highest number of IDPs\n",
    "countries = most_recent_data_per_year.groupby('admin0Name')['numPresentIdpInd'].sum().nlargest(10).index\n",
    "countries_data = most_recent_data_per_year[most_recent_data_per_year['admin0Name'].isin(countries)]\n",
    "\n",
    "#remove row COD with 2018 2 3 \n",
    "countries_data = countries_data[~((countries_data['admin0Name'] == 'Democratic Republic of The Congo') &(countries_data['roundNumber'] == 30))]"
   ]
  },
  {
   "cell_type": "code",
   "execution_count": 4,
   "metadata": {},
   "outputs": [],
   "source": [
    "#save as csv\n",
    "countries_data.to_csv('top_countries_data.csv', index=False)\n",
    "#countries_data.to_json('countries_data.json', orient='records')"
   ]
  },
  {
   "cell_type": "code",
   "execution_count": 5,
   "metadata": {},
   "outputs": [],
   "source": [
    "# Save the chart as a JSON file\n",
    "chart_json = alt.Chart(countries_data).mark_line().encode(\n",
    "    x=alt.X('yearReportingDate', axis=alt.Axis(title=None, labelAngle=360)),\n",
    "    y=alt.Y('numPresentIdpInd', axis=alt.Axis(title=None)),\n",
    "    color=alt.Color('admin0Name', legend=alt.Legend(title=None)),\n",
    "    tooltip=['yearReportingDate', 'numPresentIdpInd', 'admin0Name'],\n",
    ").properties(\n",
    "    width=800,\n",
    "    height=400,\n",
    "    title={\n",
    "        \"text\": \"Internally displaced people by conflict over time\",\n",
    "        \"subtitle\": \"Number of IDPs in the top 10 countries with the highest number of IDPs\",\n",
    "        \"anchor\": \"start\",\n",
    "        \"align\": \"left\"\n",
    "    }\n",
    ").to_json()\n",
    "\n",
    "with open('CC6_fig1.json', 'w') as f:\n",
    "    f.write(chart_json)"
   ]
  }
 ],
 "metadata": {
  "kernelspec": {
   "display_name": "Python 3",
   "language": "python",
   "name": "python3"
  },
  "language_info": {
   "codemirror_mode": {
    "name": "ipython",
    "version": 3
   },
   "file_extension": ".py",
   "mimetype": "text/x-python",
   "name": "python",
   "nbconvert_exporter": "python",
   "pygments_lexer": "ipython3",
   "version": "3.11.4"
  }
 },
 "nbformat": 4,
 "nbformat_minor": 2
}

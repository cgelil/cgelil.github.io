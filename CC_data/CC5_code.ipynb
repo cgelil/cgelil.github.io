{
 "cells": [
  {
   "cell_type": "code",
   "execution_count": 1,
   "metadata": {},
   "outputs": [],
   "source": [
    "import numpy as np\n",
    "import requests\n",
    "from bs4 import BeautifulSoup\n",
    "import pandas as pd\n",
    "import altair as alt"
   ]
  },
  {
   "cell_type": "code",
   "execution_count": 2,
   "metadata": {},
   "outputs": [],
   "source": [
    "# Base URL \n",
    "url_base = \"https://www.eurosport.com/tennis/{}/standings_sea{}.shtml\"\n",
    "\n",
    "# Arrays for ATP/WTA and seasons\n",
    "orgs = ['atp', 'wta']\n",
    "seasons = ['340', '338', '336', '334', '99']\n",
    "\n",
    "# Storing the data\n",
    "length = len(orgs) * len(seasons)\n",
    "data = np.empty(length, dtype='object')\n",
    "\n",
    "# scrape data\n",
    "index = 0\n",
    "for org in orgs:\n",
    "    for season in seasons:\n",
    "        URL = url_base.format(org, season)\n",
    "        html = requests.get(URL)\n",
    "        soup = BeautifulSoup(html.content, 'html.parser')\n",
    "        \n",
    "        # Find table rows\n",
    "        table = soup.find_all(\"tr\")\n",
    "        extracted_data = []\n",
    "        \n",
    "        # Extract data from the table\n",
    "        for row in table:\n",
    "            cells = row.find_all('td')\n",
    "            if len(cells) > 3: \n",
    "                rank = cells[1].text.strip()\n",
    "                player = cells[2].text.strip()\n",
    "                points = cells[3].text.strip()\n",
    "                extracted_data.append([rank, player, points, org, season])\n",
    "        \n",
    "        \n",
    "        data[index] = extracted_data\n",
    "        index += 1\n",
    "\n",
    "\n",
    "all_data = []\n",
    "for item in data:\n",
    "    all_data.extend(item)\n"
   ]
  },
  {
   "cell_type": "code",
   "execution_count": 3,
   "metadata": {},
   "outputs": [],
   "source": [
    "# Saving dataframe and processing\n",
    "df = pd.DataFrame(all_data, columns=['Rank', 'Player', 'Points', 'Org', 'Season'])\n",
    "df['Season'] = df['Season'].replace(['340', '338', '336', '334', '99'], [2024 ,2023, 2022, 2021, 2020])"
   ]
  },
  {
   "cell_type": "code",
   "execution_count": 4,
   "metadata": {},
   "outputs": [
    {
     "data": {
      "text/plain": [
       "Rank       int64\n",
       "Player    object\n",
       "Points     int64\n",
       "Org       object\n",
       "Season     int64\n",
       "dtype: object"
      ]
     },
     "execution_count": 4,
     "metadata": {},
     "output_type": "execute_result"
    }
   ],
   "source": [
    "df['Season'] = df['Season'].astype(int)\n",
    "df['Points'] = df['Points'].astype(int)\n",
    "df['Rank'] = df['Rank'].astype(int)\n",
    "df.dtypes"
   ]
  },
  {
   "cell_type": "markdown",
   "metadata": {},
   "source": [
    "Option 1:"
   ]
  },
  {
   "cell_type": "code",
   "execution_count": null,
   "metadata": {},
   "outputs": [
    {
     "data": {
      "text/plain": [
       "'{\\n  \"$schema\": \"https://vega.github.io/schema/vega-lite/v5.20.1.json\",\\n  \"config\": {\\n    \"view\": {\\n      \"continuousHeight\": 300,\\n      \"continuousWidth\": 300\\n    }\\n  },\\n  \"datasets\": {\\n    \"data-9eecd7599f9d4e7c456f6bbaf6d53bca\": [\\n      {\\n        \"Org\": \"atp\",\\n        \"Player\": \"J. Sinner\",\\n        \"Points\": 11830,\\n        \"Rank\": 1,\\n        \"Season\": 2024\\n      },\\n      {\\n        \"Org\": \"atp\",\\n        \"Player\": \"A. Zverev\",\\n        \"Points\": 7915,\\n        \"Rank\": 2,\\n        \"Season\": 2024\\n      },\\n      {\\n        \"Org\": \"atp\",\\n        \"Player\": \"C. Alcaraz\",\\n        \"Points\": 7010,\\n        \"Rank\": 3,\\n        \"Season\": 2024\\n      },\\n      {\\n        \"Org\": \"atp\",\\n        \"Player\": \"T. Fritz\",\\n        \"Points\": 5100,\\n        \"Rank\": 4,\\n        \"Season\": 2024\\n      },\\n      {\\n        \"Org\": \"atp\",\\n        \"Player\": \"D. Medvedev\",\\n        \"Points\": 5030,\\n        \"Rank\": 5,\\n        \"Season\": 2024\\n      },\\n      {\\n        \"Org\": \"atp\",\\n        \"Player\": \"C. Ruud\",\\n        \"Points\": 4255,\\n        \"Rank\": 6,\\n        \"Season\": 2024\\n      },\\n      {\\n        \"Org\": \"atp\",\\n        \"Player\": \"N. Djokovic\",\\n        \"Points\": 3910,\\n        \"Rank\": 7,\\n        \"Season\": 2024\\n      },\\n      {\\n        \"Org\": \"atp\",\\n        \"Player\": \"A. Rublev\",\\n        \"Points\": 3760,\\n        \"Rank\": 8,\\n        \"Season\": 2024\\n      },\\n      {\\n        \"Org\": \"atp\",\\n        \"Player\": \"A. De Minaur\",\\n        \"Points\": 3745,\\n        \"Rank\": 9,\\n        \"Season\": 2024\\n      },\\n      {\\n        \"Org\": \"atp\",\\n        \"Player\": \"G. Dimitrov\",\\n        \"Points\": 3350,\\n        \"Rank\": 10,\\n        \"Season\": 2024\\n      },\\n      {\\n        \"Org\": \"atp\",\\n        \"Player\": \"N. Djokovic\",\\n        \"Points\": 11245,\\n        \"Rank\": 1,\\n        \"Season\": 2023\\n      },\\n      {\\n        \"Org\": \"atp\",\\n        \"Player\": \"C. Alcaraz\",\\n        \"Points\": 8855,\\n        \"Rank\": 2,\\n        \"Season\": 2023\\n      },\\n      {\\n        \"Org\": \"atp\",\\n        \"Player\": \"D. Medvedev\",\\n        \"Points\": 7600,\\n        \"Rank\": 3,\\n        \"Season\": 2023\\n      },\\n      {\\n        \"Org\": \"atp\",\\n        \"Player\": \"J. Sinner\",\\n        \"Points\": 6490,\\n        \"Rank\": 4,\\n        \"Season\": 2023\\n      },\\n      {\\n        \"Org\": \"atp\",\\n        \"Player\": \"A. Rublev\",\\n        \"Points\": 4805,\\n        \"Rank\": 5,\\n        \"Season\": 2023\\n      },\\n      {\\n        \"Org\": \"atp\",\\n        \"Player\": \"S. Tsitsipas\",\\n        \"Points\": 4235,\\n        \"Rank\": 6,\\n        \"Season\": 2023\\n      },\\n      {\\n        \"Org\": \"atp\",\\n        \"Player\": \"A. Zverev\",\\n        \"Points\": 3985,\\n        \"Rank\": 7,\\n        \"Season\": 2023\\n      },\\n      {\\n        \"Org\": \"atp\",\\n        \"Player\": \"H. Rune\",\\n        \"Points\": 3660,\\n        \"Rank\": 8,\\n        \"Season\": 2023\\n      },\\n      {\\n        \"Org\": \"atp\",\\n        \"Player\": \"H. Hurkacz\",\\n        \"Points\": 3245,\\n        \"Rank\": 9,\\n        \"Season\": 2023\\n      },\\n      {\\n        \"Org\": \"atp\",\\n        \"Player\": \"T. Fritz\",\\n        \"Points\": 3100,\\n        \"Rank\": 10,\\n        \"Season\": 2023\\n      },\\n      {\\n        \"Org\": \"atp\",\\n        \"Player\": \"C. Alcaraz\",\\n        \"Points\": 6820,\\n        \"Rank\": 1,\\n        \"Season\": 2022\\n      },\\n      {\\n        \"Org\": \"atp\",\\n        \"Player\": \"R. Nadal\",\\n        \"Points\": 6020,\\n        \"Rank\": 2,\\n        \"Season\": 2022\\n      },\\n      {\\n        \"Org\": \"atp\",\\n        \"Player\": \"C. Ruud\",\\n        \"Points\": 5820,\\n        \"Rank\": 3,\\n        \"Season\": 2022\\n      },\\n      {\\n        \"Org\": \"atp\",\\n        \"Player\": \"S. Tsitsipas\",\\n        \"Points\": 5550,\\n        \"Rank\": 4,\\n        \"Season\": 2022\\n      },\\n      {\\n        \"Org\": \"atp\",\\n        \"Player\": \"N. Djokovic\",\\n        \"Points\": 4820,\\n        \"Rank\": 5,\\n        \"Season\": 2022\\n      },\\n      {\\n        \"Org\": \"atp\",\\n        \"Player\": \"F. Auger-Aliassime\",\\n        \"Points\": 4195,\\n        \"Rank\": 6,\\n        \"Season\": 2022\\n      },\\n      {\\n        \"Org\": \"atp\",\\n        \"Player\": \"D. Medvedev\",\\n        \"Points\": 4065,\\n        \"Rank\": 7,\\n        \"Season\": 2022\\n      },\\n      {\\n        \"Org\": \"atp\",\\n        \"Player\": \"A. Rublev\",\\n        \"Points\": 3930,\\n        \"Rank\": 8,\\n        \"Season\": 2022\\n      },\\n      {\\n        \"Org\": \"atp\",\\n        \"Player\": \"T. Fritz\",\\n        \"Points\": 3355,\\n        \"Rank\": 9,\\n        \"Season\": 2022\\n      },\\n      {\\n        \"Org\": \"atp\",\\n        \"Player\": \"H. Hurkacz\",\\n        \"Points\": 2905,\\n        \"Rank\": 10,\\n        \"Season\": 2022\\n      },\\n      {\\n        \"Org\": \"atp\",\\n        \"Player\": \"N. Djokovic\",\\n        \"Points\": 11540,\\n        \"Rank\": 1,\\n        \"Season\": 2021\\n      },\\n      {\\n        \"Org\": \"atp\",\\n        \"Player\": \"D. Medvedev\",\\n        \"Points\": 8640,\\n        \"Rank\": 2,\\n        \"Season\": 2021\\n      },\\n      {\\n        \"Org\": \"atp\",\\n        \"Player\": \"A. Zverev\",\\n        \"Points\": 7840,\\n        \"Rank\": 3,\\n        \"Season\": 2021\\n      },\\n      {\\n        \"Org\": \"atp\",\\n        \"Player\": \"S. Tsitsipas\",\\n        \"Points\": 6540,\\n        \"Rank\": 4,\\n        \"Season\": 2021\\n      },\\n      {\\n        \"Org\": \"atp\",\\n        \"Player\": \"A. Rublev\",\\n        \"Points\": 5150,\\n        \"Rank\": 5,\\n        \"Season\": 2021\\n      },\\n      {\\n        \"Org\": \"atp\",\\n        \"Player\": \"R. Nadal\",\\n        \"Points\": 4875,\\n        \"Rank\": 6,\\n        \"Season\": 2021\\n      },\\n      {\\n        \"Org\": \"atp\",\\n        \"Player\": \"M. Berrettini\",\\n        \"Points\": 4568,\\n        \"Rank\": 7,\\n        \"Season\": 2021\\n      },\\n      {\\n        \"Org\": \"atp\",\\n        \"Player\": \"C. Ruud\",\\n        \"Points\": 4160,\\n        \"Rank\": 8,\\n        \"Season\": 2021\\n      },\\n      {\\n        \"Org\": \"atp\",\\n        \"Player\": \"H. Hurkacz\",\\n        \"Points\": 3706,\\n        \"Rank\": 9,\\n        \"Season\": 2021\\n      },\\n      {\\n        \"Org\": \"atp\",\\n        \"Player\": \"J. Sinner\",\\n        \"Points\": 3350,\\n        \"Rank\": 10,\\n        \"Season\": 2021\\n      },\\n      {\\n        \"Org\": \"atp\",\\n        \"Player\": \"N. Djokovic\",\\n        \"Points\": 12030,\\n        \"Rank\": 1,\\n        \"Season\": 2020\\n      },\\n      {\\n        \"Org\": \"atp\",\\n        \"Player\": \"R. Nadal\",\\n        \"Points\": 9850,\\n        \"Rank\": 2,\\n        \"Season\": 2020\\n      },\\n      {\\n        \"Org\": \"atp\",\\n        \"Player\": \"D. Thiem\",\\n        \"Points\": 9125,\\n        \"Rank\": 3,\\n        \"Season\": 2020\\n      },\\n      {\\n        \"Org\": \"atp\",\\n        \"Player\": \"D. Medvedev\",\\n        \"Points\": 8470,\\n        \"Rank\": 4,\\n        \"Season\": 2020\\n      },\\n      {\\n        \"Org\": \"atp\",\\n        \"Player\": \"R. Federer\",\\n        \"Points\": 6630,\\n        \"Rank\": 5,\\n        \"Season\": 2020\\n      },\\n      {\\n        \"Org\": \"atp\",\\n        \"Player\": \"S. Tsitsipas\",\\n        \"Points\": 5925,\\n        \"Rank\": 6,\\n        \"Season\": 2020\\n      },\\n      {\\n        \"Org\": \"atp\",\\n        \"Player\": \"A. Zverev\",\\n        \"Points\": 5525,\\n        \"Rank\": 7,\\n        \"Season\": 2020\\n      },\\n      {\\n        \"Org\": \"atp\",\\n        \"Player\": \"A. Rublev\",\\n        \"Points\": 4119,\\n        \"Rank\": 8,\\n        \"Season\": 2020\\n      },\\n      {\\n        \"Org\": \"atp\",\\n        \"Player\": \"D. Schwartzman\",\\n        \"Points\": 3455,\\n        \"Rank\": 9,\\n        \"Season\": 2020\\n      },\\n      {\\n        \"Org\": \"atp\",\\n        \"Player\": \"M. Berrettini\",\\n        \"Points\": 3075,\\n        \"Rank\": 10,\\n        \"Season\": 2020\\n      }\\n    ],\\n    \"data-a6ae5b035c794916f95db887957e0d6a\": [\\n      {\\n        \"Org\": \"atp\",\\n        \"Player\": \"J. Sinner\",\\n        \"Points\": 11830,\\n        \"Rank\": 1,\\n        \"Season\": 2024\\n      },\\n      {\\n        \"Org\": \"atp\",\\n        \"Player\": \"A. Zverev\",\\n        \"Points\": 7915,\\n        \"Rank\": 2,\\n        \"Season\": 2024\\n      },\\n      {\\n        \"Org\": \"atp\",\\n        \"Player\": \"C. Alcaraz\",\\n        \"Points\": 7010,\\n        \"Rank\": 3,\\n        \"Season\": 2024\\n      },\\n      {\\n        \"Org\": \"atp\",\\n        \"Player\": \"N. Djokovic\",\\n        \"Points\": 11245,\\n        \"Rank\": 1,\\n        \"Season\": 2023\\n      },\\n      {\\n        \"Org\": \"atp\",\\n        \"Player\": \"C. Alcaraz\",\\n        \"Points\": 8855,\\n        \"Rank\": 2,\\n        \"Season\": 2023\\n      },\\n      {\\n        \"Org\": \"atp\",\\n        \"Player\": \"D. Medvedev\",\\n        \"Points\": 7600,\\n        \"Rank\": 3,\\n        \"Season\": 2023\\n      },\\n      {\\n        \"Org\": \"atp\",\\n        \"Player\": \"C. Alcaraz\",\\n        \"Points\": 6820,\\n        \"Rank\": 1,\\n        \"Season\": 2022\\n      },\\n      {\\n        \"Org\": \"atp\",\\n        \"Player\": \"R. Nadal\",\\n        \"Points\": 6020,\\n        \"Rank\": 2,\\n        \"Season\": 2022\\n      },\\n      {\\n        \"Org\": \"atp\",\\n        \"Player\": \"C. Ruud\",\\n        \"Points\": 5820,\\n        \"Rank\": 3,\\n        \"Season\": 2022\\n      },\\n      {\\n        \"Org\": \"atp\",\\n        \"Player\": \"N. Djokovic\",\\n        \"Points\": 11540,\\n        \"Rank\": 1,\\n        \"Season\": 2021\\n      },\\n      {\\n        \"Org\": \"atp\",\\n        \"Player\": \"D. Medvedev\",\\n        \"Points\": 8640,\\n        \"Rank\": 2,\\n        \"Season\": 2021\\n      },\\n      {\\n        \"Org\": \"atp\",\\n        \"Player\": \"A. Zverev\",\\n        \"Points\": 7840,\\n        \"Rank\": 3,\\n        \"Season\": 2021\\n      },\\n      {\\n        \"Org\": \"atp\",\\n        \"Player\": \"N. Djokovic\",\\n        \"Points\": 12030,\\n        \"Rank\": 1,\\n        \"Season\": 2020\\n      },\\n      {\\n        \"Org\": \"atp\",\\n        \"Player\": \"R. Nadal\",\\n        \"Points\": 9850,\\n        \"Rank\": 2,\\n        \"Season\": 2020\\n      },\\n      {\\n        \"Org\": \"atp\",\\n        \"Player\": \"D. Thiem\",\\n        \"Points\": 9125,\\n        \"Rank\": 3,\\n        \"Season\": 2020\\n      }\\n    ],\\n    \"data-a75aa3e32ccb09b3e393d7a6efe886f7\": [\\n      {\\n        \"Org\": \"wta\",\\n        \"Player\": \"A. Sabalenka\",\\n        \"Points\": 9416,\\n        \"Rank\": 1,\\n        \"Season\": 2024\\n      },\\n      {\\n        \"Org\": \"wta\",\\n        \"Player\": \"I. Swiatek\",\\n        \"Points\": 8295,\\n        \"Rank\": 2,\\n        \"Season\": 2024\\n      },\\n      {\\n        \"Org\": \"wta\",\\n        \"Player\": \"C. Gauff\",\\n        \"Points\": 6530,\\n        \"Rank\": 3,\\n        \"Season\": 2024\\n      },\\n      {\\n        \"Org\": \"wta\",\\n        \"Player\": \"J. Paolini\",\\n        \"Points\": 5344,\\n        \"Rank\": 4,\\n        \"Season\": 2024\\n      },\\n      {\\n        \"Org\": \"wta\",\\n        \"Player\": \"Q. Zheng\",\\n        \"Points\": 5340,\\n        \"Rank\": 5,\\n        \"Season\": 2024\\n      },\\n      {\\n        \"Org\": \"wta\",\\n        \"Player\": \"E. Rybakina\",\\n        \"Points\": 5171,\\n        \"Rank\": 6,\\n        \"Season\": 2024\\n      },\\n      {\\n        \"Org\": \"wta\",\\n        \"Player\": \"J. Pegula\",\\n        \"Points\": 4705,\\n        \"Rank\": 7,\\n        \"Season\": 2024\\n      },\\n      {\\n        \"Org\": \"wta\",\\n        \"Player\": \"E. Navarro\",\\n        \"Points\": 3589,\\n        \"Rank\": 8,\\n        \"Season\": 2024\\n      },\\n      {\\n        \"Org\": \"wta\",\\n        \"Player\": \"D. Kasatkina\",\\n        \"Points\": 3368,\\n        \"Rank\": 9,\\n        \"Season\": 2024\\n      },\\n      {\\n        \"Org\": \"wta\",\\n        \"Player\": \"B. Krejc\\\\u00edkov\\\\u00e1\",\\n        \"Points\": 3214,\\n        \"Rank\": 10,\\n        \"Season\": 2024\\n      },\\n      {\\n        \"Org\": \"wta\",\\n        \"Player\": \"I. Swiatek\",\\n        \"Points\": 9295,\\n        \"Rank\": 1,\\n        \"Season\": 2023\\n      },\\n      {\\n        \"Org\": \"wta\",\\n        \"Player\": \"A. Sabalenka\",\\n        \"Points\": 9050,\\n        \"Rank\": 2,\\n        \"Season\": 2023\\n      },\\n      {\\n        \"Org\": \"wta\",\\n        \"Player\": \"C. Gauff\",\\n        \"Points\": 6580,\\n        \"Rank\": 3,\\n        \"Season\": 2023\\n      },\\n      {\\n        \"Org\": \"wta\",\\n        \"Player\": \"E. Rybakina\",\\n        \"Points\": 6365,\\n        \"Rank\": 4,\\n        \"Season\": 2023\\n      },\\n      {\\n        \"Org\": \"wta\",\\n        \"Player\": \"J. Pegula\",\\n        \"Points\": 5975,\\n        \"Rank\": 5,\\n        \"Season\": 2023\\n      },\\n      {\\n        \"Org\": \"wta\",\\n        \"Player\": \"O. Jabeur\",\\n        \"Points\": 4195,\\n        \"Rank\": 6,\\n        \"Season\": 2023\\n      },\\n      {\\n        \"Org\": \"wta\",\\n        \"Player\": \"M. Vondrou\\\\u0161ov\\\\u00e1\",\\n        \"Points\": 4046,\\n        \"Rank\": 7,\\n        \"Season\": 2023\\n      },\\n      {\\n        \"Org\": \"wta\",\\n        \"Player\": \"K. Muchov\\\\u00e1\",\\n        \"Points\": 3650,\\n        \"Rank\": 8,\\n        \"Season\": 2023\\n      },\\n      {\\n        \"Org\": \"wta\",\\n        \"Player\": \"M. Sakkari\",\\n        \"Points\": 3620,\\n        \"Rank\": 9,\\n        \"Season\": 2023\\n      },\\n      {\\n        \"Org\": \"wta\",\\n        \"Player\": \"B. Krejc\\\\u00edkov\\\\u00e1\",\\n        \"Points\": 2880,\\n        \"Rank\": 10,\\n        \"Season\": 2023\\n      },\\n      {\\n        \"Org\": \"wta\",\\n        \"Player\": \"I. Swiatek\",\\n        \"Points\": 11085,\\n        \"Rank\": 1,\\n        \"Season\": 2022\\n      },\\n      {\\n        \"Org\": \"wta\",\\n        \"Player\": \"O. Jabeur\",\\n        \"Points\": 5055,\\n        \"Rank\": 2,\\n        \"Season\": 2022\\n      },\\n      {\\n        \"Org\": \"wta\",\\n        \"Player\": \"J. Pegula\",\\n        \"Points\": 4691,\\n        \"Rank\": 3,\\n        \"Season\": 2022\\n      },\\n      {\\n        \"Org\": \"wta\",\\n        \"Player\": \"C. Garcia\",\\n        \"Points\": 4375,\\n        \"Rank\": 4,\\n        \"Season\": 2022\\n      },\\n      {\\n        \"Org\": \"wta\",\\n        \"Player\": \"A. Sabalenka\",\\n        \"Points\": 3925,\\n        \"Rank\": 5,\\n        \"Season\": 2022\\n      },\\n      {\\n        \"Org\": \"wta\",\\n        \"Player\": \"M. Sakkari\",\\n        \"Points\": 3871,\\n        \"Rank\": 6,\\n        \"Season\": 2022\\n      },\\n      {\\n        \"Org\": \"wta\",\\n        \"Player\": \"C. Gauff\",\\n        \"Points\": 3646,\\n        \"Rank\": 7,\\n        \"Season\": 2022\\n      },\\n      {\\n        \"Org\": \"wta\",\\n        \"Player\": \"D. Kasatkina\",\\n        \"Points\": 3435,\\n        \"Rank\": 8,\\n        \"Season\": 2022\\n      },\\n      {\\n        \"Org\": \"wta\",\\n        \"Player\": \"V. Kudermetova\",\\n        \"Points\": 2795,\\n        \"Rank\": 9,\\n        \"Season\": 2022\\n      },\\n      {\\n        \"Org\": \"wta\",\\n        \"Player\": \"S. Halep\",\\n        \"Points\": 2661,\\n        \"Rank\": 10,\\n        \"Season\": 2022\\n      },\\n      {\\n        \"Org\": \"wta\",\\n        \"Player\": \"A. Barty\",\\n        \"Points\": 7582,\\n        \"Rank\": 1,\\n        \"Season\": 2021\\n      },\\n      {\\n        \"Org\": \"wta\",\\n        \"Player\": \"A. Sabalenka\",\\n        \"Points\": 6380,\\n        \"Rank\": 2,\\n        \"Season\": 2021\\n      },\\n      {\\n        \"Org\": \"wta\",\\n        \"Player\": \"G. Muguruza\",\\n        \"Points\": 5685,\\n        \"Rank\": 3,\\n        \"Season\": 2021\\n      },\\n      {\\n        \"Org\": \"wta\",\\n        \"Player\": \"K. Pl\\\\u00ed\\\\u0161kov\\\\u00e1\",\\n        \"Points\": 5135,\\n        \"Rank\": 4,\\n        \"Season\": 2021\\n      },\\n      {\\n        \"Org\": \"wta\",\\n        \"Player\": \"B. Krejc\\\\u00edkov\\\\u00e1\",\\n        \"Points\": 5008,\\n        \"Rank\": 5,\\n        \"Season\": 2021\\n      },\\n      {\\n        \"Org\": \"wta\",\\n        \"Player\": \"M. Sakkari\",\\n        \"Points\": 4385,\\n        \"Rank\": 6,\\n        \"Season\": 2021\\n      },\\n      {\\n        \"Org\": \"wta\",\\n        \"Player\": \"A. Kontaveit\",\\n        \"Points\": 4351,\\n        \"Rank\": 7,\\n        \"Season\": 2021\\n      },\\n      {\\n        \"Org\": \"wta\",\\n        \"Player\": \"P. Badosa\",\\n        \"Points\": 3849,\\n        \"Rank\": 8,\\n        \"Season\": 2021\\n      },\\n      {\\n        \"Org\": \"wta\",\\n        \"Player\": \"I. Swiatek\",\\n        \"Points\": 3786,\\n        \"Rank\": 9,\\n        \"Season\": 2021\\n      },\\n      {\\n        \"Org\": \"wta\",\\n        \"Player\": \"O. Jabeur\",\\n        \"Points\": 3455,\\n        \"Rank\": 10,\\n        \"Season\": 2021\\n      },\\n      {\\n        \"Org\": \"wta\",\\n        \"Player\": \"A. Barty\",\\n        \"Points\": 8717,\\n        \"Rank\": 1,\\n        \"Season\": 2020\\n      },\\n      {\\n        \"Org\": \"wta\",\\n        \"Player\": \"S. Halep\",\\n        \"Points\": 7255,\\n        \"Rank\": 2,\\n        \"Season\": 2020\\n      },\\n      {\\n        \"Org\": \"wta\",\\n        \"Player\": \"N. Osaka\",\\n        \"Points\": 5780,\\n        \"Rank\": 3,\\n        \"Season\": 2020\\n      },\\n      {\\n        \"Org\": \"wta\",\\n        \"Player\": \"S. Kenin\",\\n        \"Points\": 5760,\\n        \"Rank\": 4,\\n        \"Season\": 2020\\n      },\\n      {\\n        \"Org\": \"wta\",\\n        \"Player\": \"E. Svitolina\",\\n        \"Points\": 5260,\\n        \"Rank\": 5,\\n        \"Season\": 2020\\n      },\\n      {\\n        \"Org\": \"wta\",\\n        \"Player\": \"K. Pl\\\\u00ed\\\\u0161kov\\\\u00e1\",\\n        \"Points\": 5205,\\n        \"Rank\": 6,\\n        \"Season\": 2020\\n      },\\n      {\\n        \"Org\": \"wta\",\\n        \"Player\": \"B. Andreescu\",\\n        \"Points\": 4555,\\n        \"Rank\": 7,\\n        \"Season\": 2020\\n      },\\n      {\\n        \"Org\": \"wta\",\\n        \"Player\": \"P. Kvitov\\\\u00e1\",\\n        \"Points\": 4516,\\n        \"Rank\": 8,\\n        \"Season\": 2020\\n      },\\n      {\\n        \"Org\": \"wta\",\\n        \"Player\": \"K. Bertens\",\\n        \"Points\": 4505,\\n        \"Rank\": 9,\\n        \"Season\": 2020\\n      },\\n      {\\n        \"Org\": \"wta\",\\n        \"Player\": \"A. Sabalenka\",\\n        \"Points\": 4220,\\n        \"Rank\": 10,\\n        \"Season\": 2020\\n      }\\n    ],\\n    \"data-baf9105f554b0571580251a766779a80\": [\\n      {\\n        \"Org\": \"wta\",\\n        \"Player\": \"A. Sabalenka\",\\n        \"Points\": 9416,\\n        \"Rank\": 1,\\n        \"Season\": 2024\\n      },\\n      {\\n        \"Org\": \"wta\",\\n        \"Player\": \"I. Swiatek\",\\n        \"Points\": 8295,\\n        \"Rank\": 2,\\n        \"Season\": 2024\\n      },\\n      {\\n        \"Org\": \"wta\",\\n        \"Player\": \"C. Gauff\",\\n        \"Points\": 6530,\\n        \"Rank\": 3,\\n        \"Season\": 2024\\n      },\\n      {\\n        \"Org\": \"wta\",\\n        \"Player\": \"I. Swiatek\",\\n        \"Points\": 9295,\\n        \"Rank\": 1,\\n        \"Season\": 2023\\n      },\\n      {\\n        \"Org\": \"wta\",\\n        \"Player\": \"A. Sabalenka\",\\n        \"Points\": 9050,\\n        \"Rank\": 2,\\n        \"Season\": 2023\\n      },\\n      {\\n        \"Org\": \"wta\",\\n        \"Player\": \"C. Gauff\",\\n        \"Points\": 6580,\\n        \"Rank\": 3,\\n        \"Season\": 2023\\n      },\\n      {\\n        \"Org\": \"wta\",\\n        \"Player\": \"I. Swiatek\",\\n        \"Points\": 11085,\\n        \"Rank\": 1,\\n        \"Season\": 2022\\n      },\\n      {\\n        \"Org\": \"wta\",\\n        \"Player\": \"O. Jabeur\",\\n        \"Points\": 5055,\\n        \"Rank\": 2,\\n        \"Season\": 2022\\n      },\\n      {\\n        \"Org\": \"wta\",\\n        \"Player\": \"J. Pegula\",\\n        \"Points\": 4691,\\n        \"Rank\": 3,\\n        \"Season\": 2022\\n      },\\n      {\\n        \"Org\": \"wta\",\\n        \"Player\": \"A. Barty\",\\n        \"Points\": 7582,\\n        \"Rank\": 1,\\n        \"Season\": 2021\\n      },\\n      {\\n        \"Org\": \"wta\",\\n        \"Player\": \"A. Sabalenka\",\\n        \"Points\": 6380,\\n        \"Rank\": 2,\\n        \"Season\": 2021\\n      },\\n      {\\n        \"Org\": \"wta\",\\n        \"Player\": \"G. Muguruza\",\\n        \"Points\": 5685,\\n        \"Rank\": 3,\\n        \"Season\": 2021\\n      },\\n      {\\n        \"Org\": \"wta\",\\n        \"Player\": \"A. Barty\",\\n        \"Points\": 8717,\\n        \"Rank\": 1,\\n        \"Season\": 2020\\n      },\\n      {\\n        \"Org\": \"wta\",\\n        \"Player\": \"S. Halep\",\\n        \"Points\": 7255,\\n        \"Rank\": 2,\\n        \"Season\": 2020\\n      },\\n      {\\n        \"Org\": \"wta\",\\n        \"Player\": \"N. Osaka\",\\n        \"Points\": 5780,\\n        \"Rank\": 3,\\n        \"Season\": 2020\\n      }\\n    ]\\n  },\\n  \"hconcat\": [\\n    {\\n      \"height\": 400,\\n      \"layer\": [\\n        {\\n          \"data\": {\\n            \"name\": \"data-9eecd7599f9d4e7c456f6bbaf6d53bca\"\\n          },\\n          \"encoding\": {\\n            \"color\": {\\n              \"field\": \"Org\",\\n              \"legend\": null,\\n              \"scale\": {\\n                \"domain\": [\\n                  \"atp\"\\n                ],\\n                \"range\": [\\n                  \"#2ecc71\"\\n                ]\\n              },\\n              \"title\": \"Tour\",\\n              \"type\": \"nominal\"\\n            },\\n            \"tooltip\": [\\n              {\\n                \"field\": \"Player\",\\n                \"type\": \"nominal\"\\n              },\\n              {\\n                \"field\": \"Points\",\\n                \"type\": \"quantitative\"\\n              },\\n              {\\n                \"field\": \"Rank\",\\n                \"type\": \"quantitative\"\\n              },\\n              {\\n                \"field\": \"Season\",\\n                \"type\": \"quantitative\"\\n              },\\n              {\\n                \"field\": \"Org\",\\n                \"type\": \"nominal\"\\n              }\\n            ],\\n            \"x\": {\\n              \"field\": \"Season\",\\n              \"title\": null,\\n              \"type\": \"ordinal\"\\n            },\\n            \"y\": {\\n              \"field\": \"Points\",\\n              \"title\": null,\\n              \"type\": \"quantitative\"\\n            }\\n          },\\n          \"mark\": {\\n            \"size\": 100,\\n            \"type\": \"circle\"\\n          },\\n          \"name\": \"view_39\",\\n          \"title\": \"ATP Tennis Rankings Distribution\"\\n        },\\n        {\\n          \"data\": {\\n            \"name\": \"data-a6ae5b035c794916f95db887957e0d6a\"\\n          },\\n          \"encoding\": {\\n            \"color\": {\\n              \"value\": \"black\"\\n            },\\n            \"text\": {\\n              \"field\": \"Player\",\\n              \"type\": \"nominal\"\\n            },\\n            \"x\": {\\n              \"field\": \"Season\",\\n              \"type\": \"ordinal\"\\n            },\\n            \"y\": {\\n              \"field\": \"Points\",\\n              \"type\": \"quantitative\"\\n            }\\n          },\\n          \"mark\": {\\n            \"align\": \"right\",\\n            \"baseline\": \"middle\",\\n            \"dx\": 10,\\n            \"dy\": -10,\\n            \"type\": \"text\"\\n          }\\n        }\\n      ],\\n      \"width\": 300\\n    },\\n    {\\n      \"height\": 400,\\n      \"layer\": [\\n        {\\n          \"data\": {\\n            \"name\": \"data-a75aa3e32ccb09b3e393d7a6efe886f7\"\\n          },\\n          \"encoding\": {\\n            \"color\": {\\n              \"field\": \"Org\",\\n              \"legend\": null,\\n              \"scale\": {\\n                \"domain\": [\\n                  \"wta\"\\n                ],\\n                \"range\": [\\n                  \"#e74c3c\"\\n                ]\\n              },\\n              \"title\": \"Tour\",\\n              \"type\": \"nominal\"\\n            },\\n            \"tooltip\": [\\n              {\\n                \"field\": \"Player\",\\n                \"type\": \"nominal\"\\n              },\\n              {\\n                \"field\": \"Points\",\\n                \"type\": \"quantitative\"\\n              },\\n              {\\n                \"field\": \"Rank\",\\n                \"type\": \"quantitative\"\\n              },\\n              {\\n                \"field\": \"Season\",\\n                \"type\": \"quantitative\"\\n              },\\n              {\\n                \"field\": \"Org\",\\n                \"type\": \"nominal\"\\n              }\\n            ],\\n            \"x\": {\\n              \"field\": \"Season\",\\n              \"title\": null,\\n              \"type\": \"ordinal\"\\n            },\\n            \"y\": {\\n              \"field\": \"Points\",\\n              \"title\": null,\\n              \"type\": \"quantitative\"\\n            }\\n          },\\n          \"mark\": {\\n            \"size\": 100,\\n            \"type\": \"circle\"\\n          },\\n          \"name\": \"view_40\",\\n          \"title\": \"WTA Tennis Rankings Distribution\"\\n        },\\n        {\\n          \"data\": {\\n            \"name\": \"data-baf9105f554b0571580251a766779a80\"\\n          },\\n          \"encoding\": {\\n            \"color\": {\\n              \"value\": \"black\"\\n            },\\n            \"text\": {\\n              \"field\": \"Player\",\\n              \"type\": \"nominal\"\\n            },\\n            \"x\": {\\n              \"field\": \"Season\",\\n              \"type\": \"ordinal\"\\n            },\\n            \"y\": {\\n              \"field\": \"Points\",\\n              \"type\": \"quantitative\"\\n            }\\n          },\\n          \"mark\": {\\n            \"align\": \"center\",\\n            \"baseline\": \"middle\",\\n            \"dx\": 1,\\n            \"dy\": -10,\\n            \"type\": \"text\"\\n          }\\n        }\\n      ],\\n      \"width\": 300\\n    }\\n  ],\\n  \"params\": [\\n    {\\n      \"bind\": \"scales\",\\n      \"name\": \"param_39\",\\n      \"select\": {\\n        \"encodings\": [\\n          \"x\",\\n          \"y\"\\n        ],\\n        \"type\": \"interval\"\\n      },\\n      \"views\": [\\n        \"view_39\"\\n      ]\\n    },\\n    {\\n      \"bind\": \"scales\",\\n      \"name\": \"param_40\",\\n      \"select\": {\\n        \"encodings\": [\\n          \"x\",\\n          \"y\"\\n        ],\\n        \"type\": \"interval\"\\n      },\\n      \"views\": [\\n        \"view_40\"\\n      ]\\n    }\\n  ],\\n  \"resolve\": {\\n    \"scale\": {\\n      \"color\": \"independent\"\\n    }\\n  }\\n}'"
      ]
     },
     "execution_count": 28,
     "metadata": {},
     "output_type": "execute_result"
    }
   ],
   "source": [
    "# Filter the data for recent seasons and top 10 ranks\n",
    "recent_data = df[(df['Rank'] <= 10)]\n",
    "\n",
    "# Create the visualization for ATP\n",
    "atp_chart = alt.Chart(recent_data[recent_data['Org'] == 'atp']).mark_circle(size=100).encode(\n",
    "    x=alt.X('Season:O', title=None),\n",
    "    y=alt.Y('Points:Q', title=None),\n",
    "    color=alt.Color('Org:N', \n",
    "        title='Tour',\n",
    "        scale=alt.Scale(domain=['atp'], \n",
    "                       range=['#2ecc71']),\n",
    "        legend=None),\n",
    "    tooltip=['Player', 'Points', 'Rank', 'Season', 'Org']\n",
    ").properties(\n",
    "    width=300,\n",
    "    height=400,\n",
    "    title='ATP Tennis Rankings Distribution'\n",
    ").interactive()\n",
    "\n",
    "# Add text labels for the top 3 ATP players each year\n",
    "atp_labels = alt.Chart(recent_data[(recent_data['Org'] == 'atp') & (recent_data['Rank'].astype(int) <= 3)]).mark_text(\n",
    "    align='right',\n",
    "    baseline='middle',\n",
    "    dx=10,\n",
    "    dy=-10\n",
    ").encode(\n",
    "    x='Season:O',\n",
    "    y='Points:Q',\n",
    "    text='Player',\n",
    "    color=alt.value('black')\n",
    ")\n",
    "\n",
    "# Combine the ATP charts\n",
    "final_atp_chart = atp_chart + atp_labels\n",
    "\n",
    "# Create the visualization for WTA\n",
    "wta_chart = alt.Chart(recent_data[recent_data['Org'] == 'wta']).mark_circle(size=100).encode(\n",
    "    x=alt.X('Season:O', title=None),\n",
    "    y=alt.Y('Points:Q', title=None),\n",
    "    color=alt.Color('Org:N', \n",
    "        title='Tour',\n",
    "        scale=alt.Scale(domain=['wta'], \n",
    "                       range=['#e74c3c']),\n",
    "        legend=None),\n",
    "    tooltip=['Player', 'Points', 'Rank', 'Season', 'Org']\n",
    ").properties(\n",
    "    width=300,\n",
    "    height=400,\n",
    "    title='WTA Tennis Rankings Distribution'\n",
    ").interactive()\n",
    "\n",
    "# Add text labels for the top 3 WTA players each year\n",
    "wta_labels = alt.Chart(recent_data[(recent_data['Org'] == 'wta') & (recent_data['Rank'].astype(int) <= 3)]).mark_text(\n",
    "    align='center',\n",
    "    baseline='middle',\n",
    "    dx=1,\n",
    "    dy=-10\n",
    ").encode(\n",
    "    x='Season:O',\n",
    "    y='Points:Q',\n",
    "    text='Player',\n",
    "    color=alt.value('black')\n",
    ")\n",
    "\n",
    "# Combine the WTA charts\n",
    "final_wta_chart = wta_chart + wta_labels\n",
    "\n",
    "# Combine the ATP and WTA charts side by side\n",
    "final_chart = alt.hconcat(final_atp_chart, final_wta_chart).resolve_scale(\n",
    "    color=alt.ResolveMode('independent')\n",
    ").to_json()\n",
    "\n",
    "with open('CC5_fig1.json', 'w') as f:\n",
    "    f.write(final_chart)\n",
    "\n",
    "final_chart\n"
   ]
  },
  {
   "cell_type": "code",
   "execution_count": 6,
   "metadata": {},
   "outputs": [],
   "source": [
    "current_atp = df[(df['Season'] == 2024) & (df['Org'] == 'atp')].head(10)['Player'].tolist()\n",
    "current_wta = df[(df['Season'] == 2024) & (df['Org'] == 'wta')].head(10)['Player'].tolist()"
   ]
  },
  {
   "cell_type": "code",
   "execution_count": 7,
   "metadata": {},
   "outputs": [
    {
     "data": {
      "text/plain": [
       "['J. Sinner',\n",
       " 'A. Zverev',\n",
       " 'C. Alcaraz',\n",
       " 'T. Fritz',\n",
       " 'D. Medvedev',\n",
       " 'C. Ruud',\n",
       " 'N. Djokovic',\n",
       " 'A. Rublev',\n",
       " 'A. De Minaur',\n",
       " 'G. Dimitrov']"
      ]
     },
     "execution_count": 7,
     "metadata": {},
     "output_type": "execute_result"
    }
   ],
   "source": [
    "current_atp"
   ]
  },
  {
   "cell_type": "code",
   "execution_count": 8,
   "metadata": {},
   "outputs": [
    {
     "data": {
      "text/html": [
       "\n",
       "<style>\n",
       "  #altair-viz-e3fef60f63b9489185c682c8ccf34dfa.vega-embed {\n",
       "    width: 100%;\n",
       "    display: flex;\n",
       "  }\n",
       "\n",
       "  #altair-viz-e3fef60f63b9489185c682c8ccf34dfa.vega-embed details,\n",
       "  #altair-viz-e3fef60f63b9489185c682c8ccf34dfa.vega-embed details summary {\n",
       "    position: relative;\n",
       "  }\n",
       "</style>\n",
       "<div id=\"altair-viz-e3fef60f63b9489185c682c8ccf34dfa\"></div>\n",
       "<script type=\"text/javascript\">\n",
       "  var VEGA_DEBUG = (typeof VEGA_DEBUG == \"undefined\") ? {} : VEGA_DEBUG;\n",
       "  (function(spec, embedOpt){\n",
       "    let outputDiv = document.currentScript.previousElementSibling;\n",
       "    if (outputDiv.id !== \"altair-viz-e3fef60f63b9489185c682c8ccf34dfa\") {\n",
       "      outputDiv = document.getElementById(\"altair-viz-e3fef60f63b9489185c682c8ccf34dfa\");\n",
       "    }\n",
       "    const paths = {\n",
       "      \"vega\": \"https://cdn.jsdelivr.net/npm/vega@5?noext\",\n",
       "      \"vega-lib\": \"https://cdn.jsdelivr.net/npm/vega-lib?noext\",\n",
       "      \"vega-lite\": \"https://cdn.jsdelivr.net/npm/vega-lite@5.20.1?noext\",\n",
       "      \"vega-embed\": \"https://cdn.jsdelivr.net/npm/vega-embed@6?noext\",\n",
       "    };\n",
       "\n",
       "    function maybeLoadScript(lib, version) {\n",
       "      var key = `${lib.replace(\"-\", \"\")}_version`;\n",
       "      return (VEGA_DEBUG[key] == version) ?\n",
       "        Promise.resolve(paths[lib]) :\n",
       "        new Promise(function(resolve, reject) {\n",
       "          var s = document.createElement('script');\n",
       "          document.getElementsByTagName(\"head\")[0].appendChild(s);\n",
       "          s.async = true;\n",
       "          s.onload = () => {\n",
       "            VEGA_DEBUG[key] = version;\n",
       "            return resolve(paths[lib]);\n",
       "          };\n",
       "          s.onerror = () => reject(`Error loading script: ${paths[lib]}`);\n",
       "          s.src = paths[lib];\n",
       "        });\n",
       "    }\n",
       "\n",
       "    function showError(err) {\n",
       "      outputDiv.innerHTML = `<div class=\"error\" style=\"color:red;\">${err}</div>`;\n",
       "      throw err;\n",
       "    }\n",
       "\n",
       "    function displayChart(vegaEmbed) {\n",
       "      vegaEmbed(outputDiv, spec, embedOpt)\n",
       "        .catch(err => showError(`Javascript Error: ${err.message}<br>This usually means there's a typo in your chart specification. See the javascript console for the full traceback.`));\n",
       "    }\n",
       "\n",
       "    if(typeof define === \"function\" && define.amd) {\n",
       "      requirejs.config({paths});\n",
       "      require([\"vega-embed\"], displayChart, err => showError(`Error loading script: ${err.message}`));\n",
       "    } else {\n",
       "      maybeLoadScript(\"vega\", \"5\")\n",
       "        .then(() => maybeLoadScript(\"vega-lite\", \"5.20.1\"))\n",
       "        .then(() => maybeLoadScript(\"vega-embed\", \"6\"))\n",
       "        .catch(showError)\n",
       "        .then(() => displayChart(vegaEmbed));\n",
       "    }\n",
       "  })({\"config\": {\"view\": {\"continuousWidth\": 300, \"continuousHeight\": 300}}, \"vconcat\": [{\"mark\": {\"type\": \"line\", \"point\": true}, \"encoding\": {\"color\": {\"field\": \"Player\", \"legend\": {\"title\": \"Players\"}, \"type\": \"nominal\"}, \"tooltip\": [{\"field\": \"Player\", \"type\": \"nominal\"}, {\"field\": \"Rank\", \"type\": \"quantitative\"}, {\"field\": \"Points\", \"type\": \"quantitative\"}, {\"field\": \"Season\", \"type\": \"quantitative\"}, {\"field\": \"Org\", \"type\": \"nominal\"}], \"x\": {\"field\": \"Season\", \"title\": \"Year\", \"type\": \"ordinal\"}, \"y\": {\"field\": \"Rank\", \"scale\": {\"domain\": [30, 1], \"reverse\": true}, \"title\": \"Ranking\", \"type\": \"quantitative\"}}, \"height\": 300, \"title\": \"ATP Top 5 Players Ranking History (2015-2024)\", \"transform\": [{\"filter\": \"(datum.Org === 'atp')\"}], \"width\": 400}, {\"mark\": {\"type\": \"line\", \"point\": true}, \"encoding\": {\"color\": {\"field\": \"Player\", \"legend\": {\"title\": \"Players\"}, \"type\": \"nominal\"}, \"tooltip\": [{\"field\": \"Player\", \"type\": \"nominal\"}, {\"field\": \"Rank\", \"type\": \"quantitative\"}, {\"field\": \"Points\", \"type\": \"quantitative\"}, {\"field\": \"Season\", \"type\": \"quantitative\"}, {\"field\": \"Org\", \"type\": \"nominal\"}], \"x\": {\"field\": \"Season\", \"title\": \"Year\", \"type\": \"ordinal\"}, \"y\": {\"field\": \"Rank\", \"scale\": {\"domain\": [30, 1], \"reverse\": true}, \"title\": \"Ranking\", \"type\": \"quantitative\"}}, \"height\": 300, \"title\": \"WTA Top 5 Players Ranking History (2015-2024)\", \"transform\": [{\"filter\": \"(datum.Org === 'wta')\"}], \"width\": 400}], \"data\": {\"name\": \"data-574d0dbf5408725ac765e3d7a0b30e07\"}, \"resolve\": {\"scale\": {\"color\": \"independent\"}}, \"$schema\": \"https://vega.github.io/schema/vega-lite/v5.20.1.json\", \"datasets\": {\"data-574d0dbf5408725ac765e3d7a0b30e07\": [{\"Rank\": 1, \"Player\": \"J. Sinner\", \"Points\": 11830, \"Org\": \"atp\", \"Season\": 2024}, {\"Rank\": 2, \"Player\": \"A. Zverev\", \"Points\": 7915, \"Org\": \"atp\", \"Season\": 2024}, {\"Rank\": 3, \"Player\": \"C. Alcaraz\", \"Points\": 7010, \"Org\": \"atp\", \"Season\": 2024}, {\"Rank\": 4, \"Player\": \"T. Fritz\", \"Points\": 5100, \"Org\": \"atp\", \"Season\": 2024}, {\"Rank\": 5, \"Player\": \"D. Medvedev\", \"Points\": 5030, \"Org\": \"atp\", \"Season\": 2024}, {\"Rank\": 6, \"Player\": \"C. Ruud\", \"Points\": 4255, \"Org\": \"atp\", \"Season\": 2024}, {\"Rank\": 7, \"Player\": \"N. Djokovic\", \"Points\": 3910, \"Org\": \"atp\", \"Season\": 2024}, {\"Rank\": 8, \"Player\": \"A. Rublev\", \"Points\": 3760, \"Org\": \"atp\", \"Season\": 2024}, {\"Rank\": 9, \"Player\": \"A. De Minaur\", \"Points\": 3745, \"Org\": \"atp\", \"Season\": 2024}, {\"Rank\": 10, \"Player\": \"G. Dimitrov\", \"Points\": 3350, \"Org\": \"atp\", \"Season\": 2024}, {\"Rank\": 1, \"Player\": \"N. Djokovic\", \"Points\": 11245, \"Org\": \"atp\", \"Season\": 2023}, {\"Rank\": 2, \"Player\": \"C. Alcaraz\", \"Points\": 8855, \"Org\": \"atp\", \"Season\": 2023}, {\"Rank\": 3, \"Player\": \"D. Medvedev\", \"Points\": 7600, \"Org\": \"atp\", \"Season\": 2023}, {\"Rank\": 4, \"Player\": \"J. Sinner\", \"Points\": 6490, \"Org\": \"atp\", \"Season\": 2023}, {\"Rank\": 5, \"Player\": \"A. Rublev\", \"Points\": 4805, \"Org\": \"atp\", \"Season\": 2023}, {\"Rank\": 7, \"Player\": \"A. Zverev\", \"Points\": 3985, \"Org\": \"atp\", \"Season\": 2023}, {\"Rank\": 10, \"Player\": \"T. Fritz\", \"Points\": 3100, \"Org\": \"atp\", \"Season\": 2023}, {\"Rank\": 11, \"Player\": \"C. Ruud\", \"Points\": 2825, \"Org\": \"atp\", \"Season\": 2023}, {\"Rank\": 12, \"Player\": \"A. De Minaur\", \"Points\": 2740, \"Org\": \"atp\", \"Season\": 2023}, {\"Rank\": 14, \"Player\": \"G. Dimitrov\", \"Points\": 2570, \"Org\": \"atp\", \"Season\": 2023}, {\"Rank\": 1, \"Player\": \"C. Alcaraz\", \"Points\": 6820, \"Org\": \"atp\", \"Season\": 2022}, {\"Rank\": 3, \"Player\": \"C. Ruud\", \"Points\": 5820, \"Org\": \"atp\", \"Season\": 2022}, {\"Rank\": 5, \"Player\": \"N. Djokovic\", \"Points\": 4820, \"Org\": \"atp\", \"Season\": 2022}, {\"Rank\": 7, \"Player\": \"D. Medvedev\", \"Points\": 4065, \"Org\": \"atp\", \"Season\": 2022}, {\"Rank\": 8, \"Player\": \"A. Rublev\", \"Points\": 3930, \"Org\": \"atp\", \"Season\": 2022}, {\"Rank\": 9, \"Player\": \"T. Fritz\", \"Points\": 3355, \"Org\": \"atp\", \"Season\": 2022}, {\"Rank\": 12, \"Player\": \"A. Zverev\", \"Points\": 2700, \"Org\": \"atp\", \"Season\": 2022}, {\"Rank\": 15, \"Player\": \"J. Sinner\", \"Points\": 2410, \"Org\": \"atp\", \"Season\": 2022}, {\"Rank\": 24, \"Player\": \"A. De Minaur\", \"Points\": 1790, \"Org\": \"atp\", \"Season\": 2022}, {\"Rank\": 28, \"Player\": \"G. Dimitrov\", \"Points\": 1460, \"Org\": \"atp\", \"Season\": 2022}, {\"Rank\": 1, \"Player\": \"N. Djokovic\", \"Points\": 11540, \"Org\": \"atp\", \"Season\": 2021}, {\"Rank\": 2, \"Player\": \"D. Medvedev\", \"Points\": 8640, \"Org\": \"atp\", \"Season\": 2021}, {\"Rank\": 3, \"Player\": \"A. Zverev\", \"Points\": 7840, \"Org\": \"atp\", \"Season\": 2021}, {\"Rank\": 5, \"Player\": \"A. Rublev\", \"Points\": 5150, \"Org\": \"atp\", \"Season\": 2021}, {\"Rank\": 8, \"Player\": \"C. Ruud\", \"Points\": 4160, \"Org\": \"atp\", \"Season\": 2021}, {\"Rank\": 10, \"Player\": \"J. Sinner\", \"Points\": 3350, \"Org\": \"atp\", \"Season\": 2021}, {\"Rank\": 23, \"Player\": \"T. Fritz\", \"Points\": 2050, \"Org\": \"atp\", \"Season\": 2021}, {\"Rank\": 28, \"Player\": \"G. Dimitrov\", \"Points\": 1801, \"Org\": \"atp\", \"Season\": 2021}, {\"Rank\": 1, \"Player\": \"N. Djokovic\", \"Points\": 12030, \"Org\": \"atp\", \"Season\": 2020}, {\"Rank\": 4, \"Player\": \"D. Medvedev\", \"Points\": 8470, \"Org\": \"atp\", \"Season\": 2020}, {\"Rank\": 7, \"Player\": \"A. Zverev\", \"Points\": 5525, \"Org\": \"atp\", \"Season\": 2020}, {\"Rank\": 8, \"Player\": \"A. Rublev\", \"Points\": 4119, \"Org\": \"atp\", \"Season\": 2020}, {\"Rank\": 19, \"Player\": \"G. Dimitrov\", \"Points\": 2260, \"Org\": \"atp\", \"Season\": 2020}, {\"Rank\": 23, \"Player\": \"A. De Minaur\", \"Points\": 1860, \"Org\": \"atp\", \"Season\": 2020}, {\"Rank\": 27, \"Player\": \"C. Ruud\", \"Points\": 1739, \"Org\": \"atp\", \"Season\": 2020}, {\"Rank\": 29, \"Player\": \"T. Fritz\", \"Points\": 1670, \"Org\": \"atp\", \"Season\": 2020}, {\"Rank\": 1, \"Player\": \"A. Sabalenka\", \"Points\": 9416, \"Org\": \"wta\", \"Season\": 2024}, {\"Rank\": 2, \"Player\": \"I. Swiatek\", \"Points\": 8295, \"Org\": \"wta\", \"Season\": 2024}, {\"Rank\": 3, \"Player\": \"C. Gauff\", \"Points\": 6530, \"Org\": \"wta\", \"Season\": 2024}, {\"Rank\": 4, \"Player\": \"J. Paolini\", \"Points\": 5344, \"Org\": \"wta\", \"Season\": 2024}, {\"Rank\": 5, \"Player\": \"Q. Zheng\", \"Points\": 5340, \"Org\": \"wta\", \"Season\": 2024}, {\"Rank\": 6, \"Player\": \"E. Rybakina\", \"Points\": 5171, \"Org\": \"wta\", \"Season\": 2024}, {\"Rank\": 7, \"Player\": \"J. Pegula\", \"Points\": 4705, \"Org\": \"wta\", \"Season\": 2024}, {\"Rank\": 8, \"Player\": \"E. Navarro\", \"Points\": 3589, \"Org\": \"wta\", \"Season\": 2024}, {\"Rank\": 9, \"Player\": \"D. Kasatkina\", \"Points\": 3368, \"Org\": \"wta\", \"Season\": 2024}, {\"Rank\": 10, \"Player\": \"B. Krejc\\u00edkov\\u00e1\", \"Points\": 3214, \"Org\": \"wta\", \"Season\": 2024}, {\"Rank\": 1, \"Player\": \"I. Swiatek\", \"Points\": 9295, \"Org\": \"wta\", \"Season\": 2023}, {\"Rank\": 2, \"Player\": \"A. Sabalenka\", \"Points\": 9050, \"Org\": \"wta\", \"Season\": 2023}, {\"Rank\": 3, \"Player\": \"C. Gauff\", \"Points\": 6580, \"Org\": \"wta\", \"Season\": 2023}, {\"Rank\": 4, \"Player\": \"E. Rybakina\", \"Points\": 6365, \"Org\": \"wta\", \"Season\": 2023}, {\"Rank\": 5, \"Player\": \"J. Pegula\", \"Points\": 5975, \"Org\": \"wta\", \"Season\": 2023}, {\"Rank\": 10, \"Player\": \"B. Krejc\\u00edkov\\u00e1\", \"Points\": 2880, \"Org\": \"wta\", \"Season\": 2023}, {\"Rank\": 15, \"Player\": \"Q. Zheng\", \"Points\": 2660, \"Org\": \"wta\", \"Season\": 2023}, {\"Rank\": 18, \"Player\": \"D. Kasatkina\", \"Points\": 2550, \"Org\": \"wta\", \"Season\": 2023}, {\"Rank\": 30, \"Player\": \"J. Paolini\", \"Points\": 1435, \"Org\": \"wta\", \"Season\": 2023}, {\"Rank\": 1, \"Player\": \"I. Swiatek\", \"Points\": 11085, \"Org\": \"wta\", \"Season\": 2022}, {\"Rank\": 3, \"Player\": \"J. Pegula\", \"Points\": 4691, \"Org\": \"wta\", \"Season\": 2022}, {\"Rank\": 5, \"Player\": \"A. Sabalenka\", \"Points\": 3925, \"Org\": \"wta\", \"Season\": 2022}, {\"Rank\": 7, \"Player\": \"C. Gauff\", \"Points\": 3646, \"Org\": \"wta\", \"Season\": 2022}, {\"Rank\": 8, \"Player\": \"D. Kasatkina\", \"Points\": 3435, \"Org\": \"wta\", \"Season\": 2022}, {\"Rank\": 21, \"Player\": \"E. Rybakina\", \"Points\": 1860, \"Org\": \"wta\", \"Season\": 2022}, {\"Rank\": 22, \"Player\": \"B. Krejc\\u00edkov\\u00e1\", \"Points\": 1850, \"Org\": \"wta\", \"Season\": 2022}, {\"Rank\": 28, \"Player\": \"Q. Zheng\", \"Points\": 1528, \"Org\": \"wta\", \"Season\": 2022}, {\"Rank\": 2, \"Player\": \"A. Sabalenka\", \"Points\": 6380, \"Org\": \"wta\", \"Season\": 2021}, {\"Rank\": 5, \"Player\": \"B. Krejc\\u00edkov\\u00e1\", \"Points\": 5008, \"Org\": \"wta\", \"Season\": 2021}, {\"Rank\": 9, \"Player\": \"I. Swiatek\", \"Points\": 3786, \"Org\": \"wta\", \"Season\": 2021}, {\"Rank\": 14, \"Player\": \"E. Rybakina\", \"Points\": 2855, \"Org\": \"wta\", \"Season\": 2021}, {\"Rank\": 18, \"Player\": \"J. Pegula\", \"Points\": 2650, \"Org\": \"wta\", \"Season\": 2021}, {\"Rank\": 22, \"Player\": \"C. Gauff\", \"Points\": 2550, \"Org\": \"wta\", \"Season\": 2021}, {\"Rank\": 26, \"Player\": \"D. Kasatkina\", \"Points\": 2180, \"Org\": \"wta\", \"Season\": 2021}, {\"Rank\": 10, \"Player\": \"A. Sabalenka\", \"Points\": 4220, \"Org\": \"wta\", \"Season\": 2020}, {\"Rank\": 17, \"Player\": \"I. Swiatek\", \"Points\": 2960, \"Org\": \"wta\", \"Season\": 2020}, {\"Rank\": 19, \"Player\": \"E. Rybakina\", \"Points\": 2696, \"Org\": \"wta\", \"Season\": 2020}]}}, {\"mode\": \"vega-lite\"});\n",
       "</script>"
      ],
      "text/plain": [
       "alt.VConcatChart(...)"
      ]
     },
     "execution_count": 8,
     "metadata": {},
     "output_type": "execute_result"
    }
   ],
   "source": [
    "\n",
    "# Filter data for these players across all years\n",
    "atp_history = df[\n",
    "    (df['Org'] == 'atp') & \n",
    "    (df['Player'].isin(current_atp)) & \n",
    "    (df['Season'] >= 2020)\n",
    "]\n",
    "\n",
    "wta_history = df[\n",
    "    (df['Org'] == 'wta') & \n",
    "    (df['Player'].isin(current_wta)) & \n",
    "    (df['Season'] >= 2020)\n",
    "]\n",
    "\n",
    "# Combine the data\n",
    "plot_data = pd.concat([atp_history, wta_history])\n",
    "\n",
    "# Create the base chart\n",
    "base = alt.Chart(plot_data).encode(\n",
    "    x=alt.X('Season:O', title='Year'),\n",
    "    y=alt.Y('Rank:Q', \n",
    "            scale=alt.Scale(domain=[30, 1], reverse=True),\n",
    "            title='Ranking'),\n",
    "    color=alt.Color('Player:N', \n",
    "                   legend=alt.Legend(title='Players')),\n",
    "    tooltip=['Player', 'Rank', 'Points', 'Season', 'Org']\n",
    ")\n",
    "\n",
    "# Create separate charts for ATP and WTA\n",
    "atp_chart = base.transform_filter(\n",
    "    alt.datum.Org == 'atp'\n",
    ").mark_line(point=True).properties(\n",
    "    width=400,\n",
    "    height=300,\n",
    "    title='ATP Top 5 Players Ranking History (2015-2024)'\n",
    ")\n",
    "\n",
    "wta_chart = base.transform_filter(\n",
    "    alt.datum.Org == 'wta'\n",
    ").mark_line(point=True).properties(\n",
    "    width=400,\n",
    "    height=300,\n",
    "    title='WTA Top 5 Players Ranking History (2015-2024)'\n",
    ")\n",
    "\n",
    "# Combine the charts vertically\n",
    "final_chart = alt.vconcat(atp_chart, wta_chart).resolve_scale(\n",
    "    color=alt.ResolveMode('independent')\n",
    ")\n",
    "\n",
    "final_chart"
   ]
  }
 ],
 "metadata": {
  "kernelspec": {
   "display_name": "Python 3",
   "language": "python",
   "name": "python3"
  },
  "language_info": {
   "codemirror_mode": {
    "name": "ipython",
    "version": 3
   },
   "file_extension": ".py",
   "mimetype": "text/x-python",
   "name": "python",
   "nbconvert_exporter": "python",
   "pygments_lexer": "ipython3",
   "version": "3.11.4"
  }
 },
 "nbformat": 4,
 "nbformat_minor": 2
}

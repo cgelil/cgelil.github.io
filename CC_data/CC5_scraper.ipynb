{
  "nbformat": 4,
  "nbformat_minor": 0,
  "metadata": {
    "colab": {
      "provenance": [],
      "authorship_tag": "ABX9TyOD8epVMpN3o6pn9wjIpSET",
      "include_colab_link": true
    },
    "kernelspec": {
      "name": "python3",
      "display_name": "Python 3"
    },
    "language_info": {
      "name": "python"
    }
  },
  "cells": [
    {
      "cell_type": "markdown",
      "metadata": {
        "id": "view-in-github",
        "colab_type": "text"
      },
      "source": [
        "<a href=\"https://colab.research.google.com/github/cgelil/cgelil.github.io/blob/main/scarper_PP443.ipynb\" target=\"_parent\"><img src=\"https://colab.research.google.com/assets/colab-badge.svg\" alt=\"Open In Colab\"/></a>"
      ]
    },
    {
      "cell_type": "code",
      "source": [
        "import numpy as np\n",
        "import requests\n",
        "from bs4 import BeautifulSoup\n",
        "import pandas as pd\n",
        "import altair as alt"
      ],
      "metadata": {
        "id": "He0V5R84TDYq"
      },
      "execution_count": null,
      "outputs": []
    },
    {
      "cell_type": "code",
      "source": [
        "# Base URL\n",
        "url_base = \"https://www.eurosport.com/tennis/{}/standings_sea{}.shtml\"\n",
        "\n",
        "# Arrays for ATP/WTA and seasons\n",
        "orgs = ['atp', 'wta']\n",
        "seasons = ['340', '338', '336', '334', '99']\n",
        "\n",
        "# Storing the data\n",
        "length = len(orgs) * len(seasons)\n",
        "data = np.empty(length, dtype='object')\n",
        "\n",
        "# scrape data\n",
        "index = 0\n",
        "for org in orgs:\n",
        "    for season in seasons:\n",
        "        URL = url_base.format(org, season)\n",
        "        html = requests.get(URL)\n",
        "        soup = BeautifulSoup(html.content, 'html.parser')\n",
        "\n",
        "        # Find table rows\n",
        "        table = soup.find_all(\"tr\")\n",
        "        extracted_data = []\n",
        "\n",
        "        # Extract data from the table\n",
        "        for row in table:\n",
        "            cells = row.find_all('td')\n",
        "            if len(cells) > 3:\n",
        "                rank = cells[1].text.strip()\n",
        "                player = cells[2].text.strip()\n",
        "                points = cells[3].text.strip()\n",
        "                extracted_data.append([rank, player, points, org, season])\n",
        "\n",
        "\n",
        "        data[index] = extracted_data\n",
        "        index += 1\n",
        "\n",
        "\n",
        "all_data = []\n",
        "for item in data:\n",
        "    all_data.extend(item)\n"
      ],
      "metadata": {
        "id": "DbpeL4znTFhy"
      },
      "execution_count": null,
      "outputs": []
    },
    {
      "cell_type": "code",
      "source": [
        "# Saving dataframe and processing\n",
        "df = pd.DataFrame(all_data, columns=['Rank', 'Player', 'Points', 'Org', 'Season'])\n",
        "df['Season'] = df['Season'].replace(['340', '338', '336', '334', '99'], [2024 ,2023, 2022, 2021, 2020])"
      ],
      "metadata": {
        "id": "3YoaH40wTGlz"
      },
      "execution_count": null,
      "outputs": []
    },
    {
      "cell_type": "code",
      "source": [
        "df['Season'] = df['Season'].astype(int)\n",
        "df['Points'] = df['Points'].astype(int)\n",
        "df['Rank'] = df['Rank'].astype(int)\n",
        "df.dtypes"
      ],
      "metadata": {
        "id": "LEEdLh2-TH8p"
      },
      "execution_count": null,
      "outputs": []
    },
    {
      "cell_type": "code",
      "source": [
        "# Filter the data for recent seasons and top 10 ranks\n",
        "recent_data = df[(df['Rank'] <= 10)]\n",
        "\n",
        "# Create the visualization for ATP\n",
        "atp_chart = alt.Chart(recent_data[recent_data['Org'] == 'atp']).mark_circle(size=100).encode(\n",
        "    x=alt.X('Season:O', title=None),\n",
        "    y=alt.Y('Points:Q', title=None),\n",
        "    color=alt.Color('Org:N',\n",
        "        title='Tour',\n",
        "        scale=alt.Scale(domain=['atp'],\n",
        "                       range=['#2ecc71']),\n",
        "        legend=None),\n",
        "    tooltip=['Player', 'Points', 'Rank', 'Season', 'Org']\n",
        ").properties(\n",
        "    width=300,\n",
        "    height=400,\n",
        "    title='ATP Tennis Rankings Distribution'\n",
        ").interactive()\n",
        "\n",
        "# Add text labels for the top 3 ATP players each year\n",
        "atp_labels = alt.Chart(recent_data[(recent_data['Org'] == 'atp') & (recent_data['Rank'].astype(int) <= 3)]).mark_text(\n",
        "    align='right',\n",
        "    baseline='middle',\n",
        "    dx=10,\n",
        "    dy=-10\n",
        ").encode(\n",
        "    x='Season:O',\n",
        "    y='Points:Q',\n",
        "    text='Player',\n",
        "    color=alt.value('black')\n",
        ")\n",
        "\n",
        "# Combine the ATP charts\n",
        "final_atp_chart = atp_chart + atp_labels\n",
        "\n",
        "# Create the visualization for WTA\n",
        "wta_chart = alt.Chart(recent_data[recent_data['Org'] == 'wta']).mark_circle(size=100).encode(\n",
        "    x=alt.X('Season:O', title=None),\n",
        "    y=alt.Y('Points:Q', title=None),\n",
        "    color=alt.Color('Org:N',\n",
        "        title='Tour',\n",
        "        scale=alt.Scale(domain=['wta'],\n",
        "                       range=['#e74c3c']),\n",
        "        legend=None),\n",
        "    tooltip=['Player', 'Points', 'Rank', 'Season', 'Org']\n",
        ").properties(\n",
        "    width=300,\n",
        "    height=400,\n",
        "    title='WTA Tennis Rankings Distribution'\n",
        ").interactive()\n",
        "\n",
        "# Add text labels for the top 3 WTA players each year\n",
        "wta_labels = alt.Chart(recent_data[(recent_data['Org'] == 'wta') & (recent_data['Rank'].astype(int) <= 3)]).mark_text(\n",
        "    align='center',\n",
        "    baseline='middle',\n",
        "    dx=1,\n",
        "    dy=-10\n",
        ").encode(\n",
        "    x='Season:O',\n",
        "    y='Points:Q',\n",
        "    text='Player',\n",
        "    color=alt.value('black')\n",
        ")\n",
        "\n",
        "# Combine the WTA charts\n",
        "final_wta_chart = wta_chart + wta_labels\n",
        "\n",
        "# Combine the ATP and WTA charts side by side\n",
        "final_chart = alt.hconcat(final_atp_chart, final_wta_chart).resolve_scale(\n",
        "    color=alt.ResolveMode('independent')\n",
        ").to_json()\n",
        "\n",
        "with open('CC5_fig1.json', 'w') as f:\n",
        "    f.write(final_chart)\n",
        "\n",
        "final_chart\n"
      ],
      "metadata": {
        "id": "p2Acr2abTJyc"
      },
      "execution_count": null,
      "outputs": []
    }
  ]
}
{
 "cells": [
  {
   "cell_type": "code",
   "execution_count": 56,
   "metadata": {},
   "outputs": [],
   "source": [
    "import pandas as pd\n",
    "import altair as alt"
   ]
  },
  {
   "cell_type": "code",
   "execution_count": 57,
   "metadata": {},
   "outputs": [],
   "source": [
    "# Data\n",
    "data = {'issue': ['Foreign policy', 'Immigration', 'State of Democracy', 'The Economy', 'Abortion', 'Other'],\n",
    "        'percent': [0.04, 0.11, 0.35, 0.31, 0.11, 0.05]}\n",
    "df = pd.DataFrame(data)\n",
    "\n",
    "# Define a mapping between issues and colors\n",
    "color_scheme = {\n",
    "    \"The economy\": \"#FCB711\",       # Spanish Yellow OK\n",
    "    \"Foreign policy\": \"#F37021\",          # Vivid Tangelo \n",
    "    \"State of Democracy\": \"#CC004C\",   # Spanish Carmine OK\n",
    "    \"Immigration\": \"#6460AA\",          # Liberty\n",
    "    \"Abortion\": \"#0DB14B\",             # Pantone Green OK\n",
    "    \"Other\": \"#B2BEB5\"                 # Blue Cola\n",
    "}\n"
   ]
  },
  {
   "cell_type": "markdown",
   "metadata": {},
   "source": [
    "https://www.nbcnews.com/politics/2024-election/nbc-news-exit-poll-voters-express-concern-democracy-economy-rcna178602"
   ]
  },
  {
   "cell_type": "code",
   "execution_count": 58,
   "metadata": {},
   "outputs": [],
   "source": [
    "df['color'] = df['issue'].map(color_scheme)\n",
    "base = alt.Chart(df).encode(\n",
    "    alt.Theta(\"percent:Q\").stack(True),\n",
    "    alt.Color(\"issue:N\").legend(None)\n",
    ")\n",
    "\n",
    "# Create pie chart arcs\n",
    "pie = base.mark_arc(outerRadius=170)\n",
    "\n",
    "# Create the black text labels\n",
    "text = base.mark_text(radius=100, size=13).encode(\n",
    "    text=\"issue:N\",\n",
    "    color=alt.value('black')  # Correct way to set text color\n",
    ")\n",
    "\n",
    "# Combine the pie chart and text\n",
    "chart = pie + text\n",
    "\n",
    "# Add title and subtitle, aligned to the left\n",
    "chart = chart.properties(\n",
    "    width=400,\n",
    "    height=400,\n",
    "    title={\n",
    "        \"text\": \"Voter Concerns in 2024 Election\",\n",
    "        \"subtitle\": \"Source: NBC News Exit Poll\",\n",
    "        \"fontSize\": 20,\n",
    "        \"subtitleFontSize\": 15,\n",
    "        \"anchor\": \"start\"\n",
    "    }\n",
    ")\n",
    "\n",
    "chart\n",
    "\n",
    "# Save the chart as a JSON file\n",
    "chart.save('CC4_fig1.json')"
   ]
  }
 ],
 "metadata": {
  "kernelspec": {
   "display_name": "Python 3",
   "language": "python",
   "name": "python3"
  },
  "language_info": {
   "codemirror_mode": {
    "name": "ipython",
    "version": 3
   },
   "file_extension": ".py",
   "mimetype": "text/x-python",
   "name": "python",
   "nbconvert_exporter": "python",
   "pygments_lexer": "ipython3",
   "version": "3.11.4"
  }
 },
 "nbformat": 4,
 "nbformat_minor": 2
}

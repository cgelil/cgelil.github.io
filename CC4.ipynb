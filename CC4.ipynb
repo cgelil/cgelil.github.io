{
 "cells": [
  {
   "cell_type": "code",
   "execution_count": 2,
   "metadata": {},
   "outputs": [],
   "source": [
    "import pandas as pd\n",
    "import altair as alt"
   ]
  },
  {
   "cell_type": "code",
   "execution_count": 22,
   "metadata": {},
   "outputs": [],
   "source": [
    "# Data\n",
    "data = {'issue': ['foreign policy', 'immigration', 'state of democracy', 'the economy', 'abortion', 'other'],\n",
    "        'percent': [4, 11, 35, 31, 11, 5]}\n",
    "df = pd.DataFrame(data)\n",
    "\n",
    "# Define a mapping between issues and colors\n",
    "color_scheme = {\n",
    "    \"the economy\": \"#FCB711\",       # Spanish Yellow OK\n",
    "    \"foreign policy\": \"#F37021\",          # Vivid Tangelo \n",
    "    \"state of democracy\": \"#CC004C\",   # Spanish Carmine OK\n",
    "    \"immigration\": \"#6460AA\",          # Liberty\n",
    "    \"abortion\": \"#0DB14B\",             # Pantone Green OK\n",
    "    \"other\": \"#B2BEB5\"                 # Blue Cola\n",
    "}\n",
    "df['color'] = df['issue'].map(color_scheme)"
   ]
  },
  {
   "cell_type": "markdown",
   "metadata": {},
   "source": [
    "https://www.nbcnews.com/politics/2024-election/nbc-news-exit-poll-voters-express-concern-democracy-economy-rcna178602"
   ]
  },
  {
   "cell_type": "code",
   "execution_count": 32,
   "metadata": {},
   "outputs": [
    {
     "data": {
      "text/plain": [
       "issue      object\n",
       "percent     int64\n",
       "color      object\n",
       "dtype: object"
      ]
     },
     "execution_count": 32,
     "metadata": {},
     "output_type": "execute_result"
    }
   ],
   "source": [
    "df.dtypes"
   ]
  },
  {
   "cell_type": "code",
   "execution_count": 53,
   "metadata": {},
   "outputs": [
    {
     "data": {
      "text/html": [
       "\n",
       "<style>\n",
       "  #altair-viz-ce583b8003994a9dad44bdb59307b856.vega-embed {\n",
       "    width: 100%;\n",
       "    display: flex;\n",
       "  }\n",
       "\n",
       "  #altair-viz-ce583b8003994a9dad44bdb59307b856.vega-embed details,\n",
       "  #altair-viz-ce583b8003994a9dad44bdb59307b856.vega-embed details summary {\n",
       "    position: relative;\n",
       "  }\n",
       "</style>\n",
       "<div id=\"altair-viz-ce583b8003994a9dad44bdb59307b856\"></div>\n",
       "<script type=\"text/javascript\">\n",
       "  var VEGA_DEBUG = (typeof VEGA_DEBUG == \"undefined\") ? {} : VEGA_DEBUG;\n",
       "  (function(spec, embedOpt){\n",
       "    let outputDiv = document.currentScript.previousElementSibling;\n",
       "    if (outputDiv.id !== \"altair-viz-ce583b8003994a9dad44bdb59307b856\") {\n",
       "      outputDiv = document.getElementById(\"altair-viz-ce583b8003994a9dad44bdb59307b856\");\n",
       "    }\n",
       "    const paths = {\n",
       "      \"vega\": \"https://cdn.jsdelivr.net/npm/vega@5?noext\",\n",
       "      \"vega-lib\": \"https://cdn.jsdelivr.net/npm/vega-lib?noext\",\n",
       "      \"vega-lite\": \"https://cdn.jsdelivr.net/npm/vega-lite@5.20.1?noext\",\n",
       "      \"vega-embed\": \"https://cdn.jsdelivr.net/npm/vega-embed@6?noext\",\n",
       "    };\n",
       "\n",
       "    function maybeLoadScript(lib, version) {\n",
       "      var key = `${lib.replace(\"-\", \"\")}_version`;\n",
       "      return (VEGA_DEBUG[key] == version) ?\n",
       "        Promise.resolve(paths[lib]) :\n",
       "        new Promise(function(resolve, reject) {\n",
       "          var s = document.createElement('script');\n",
       "          document.getElementsByTagName(\"head\")[0].appendChild(s);\n",
       "          s.async = true;\n",
       "          s.onload = () => {\n",
       "            VEGA_DEBUG[key] = version;\n",
       "            return resolve(paths[lib]);\n",
       "          };\n",
       "          s.onerror = () => reject(`Error loading script: ${paths[lib]}`);\n",
       "          s.src = paths[lib];\n",
       "        });\n",
       "    }\n",
       "\n",
       "    function showError(err) {\n",
       "      outputDiv.innerHTML = `<div class=\"error\" style=\"color:red;\">${err}</div>`;\n",
       "      throw err;\n",
       "    }\n",
       "\n",
       "    function displayChart(vegaEmbed) {\n",
       "      vegaEmbed(outputDiv, spec, embedOpt)\n",
       "        .catch(err => showError(`Javascript Error: ${err.message}<br>This usually means there's a typo in your chart specification. See the javascript console for the full traceback.`));\n",
       "    }\n",
       "\n",
       "    if(typeof define === \"function\" && define.amd) {\n",
       "      requirejs.config({paths});\n",
       "      require([\"vega-embed\"], displayChart, err => showError(`Error loading script: ${err.message}`));\n",
       "    } else {\n",
       "      maybeLoadScript(\"vega\", \"5\")\n",
       "        .then(() => maybeLoadScript(\"vega-lite\", \"5.20.1\"))\n",
       "        .then(() => maybeLoadScript(\"vega-embed\", \"6\"))\n",
       "        .catch(showError)\n",
       "        .then(() => displayChart(vegaEmbed));\n",
       "    }\n",
       "  })({\"config\": {\"view\": {\"continuousWidth\": 300, \"continuousHeight\": 300}}, \"layer\": [{\"mark\": {\"type\": \"arc\", \"outerRadius\": 120}, \"encoding\": {\"color\": {\"field\": \"issue\", \"legend\": null, \"type\": \"nominal\"}, \"theta\": {\"field\": \"percent\", \"stack\": true, \"type\": \"quantitative\"}}}, {\"mark\": {\"type\": \"text\", \"radius\": 150, \"size\": 18}, \"encoding\": {\"color\": {\"field\": \"issue\", \"legend\": null, \"type\": \"nominal\"}, \"text\": {\"field\": \"issue\", \"type\": \"nominal\"}, \"theta\": {\"field\": \"percent\", \"stack\": true, \"type\": \"quantitative\"}}}], \"data\": {\"name\": \"data-76eb4cba8c43e79cae6efcb44da5908f\"}, \"$schema\": \"https://vega.github.io/schema/vega-lite/v5.20.1.json\", \"datasets\": {\"data-76eb4cba8c43e79cae6efcb44da5908f\": [{\"issue\": \"foreign policy\", \"percent\": 4, \"color\": \"#F37021\"}, {\"issue\": \"immigration\", \"percent\": 11, \"color\": \"#6460AA\"}, {\"issue\": \"state of democracy\", \"percent\": 35, \"color\": \"#CC004C\"}, {\"issue\": \"the economy\", \"percent\": 31, \"color\": \"#FCB711\"}, {\"issue\": \"abortion\", \"percent\": 11, \"color\": \"#0DB14B\"}, {\"issue\": \"other\", \"percent\": 5, \"color\": \"#B2BEB5\"}]}}, {\"mode\": \"vega-lite\"});\n",
       "</script>"
      ],
      "text/plain": [
       "alt.LayerChart(...)"
      ]
     },
     "execution_count": 53,
     "metadata": {},
     "output_type": "execute_result"
    }
   ],
   "source": [
    "base = alt.Chart(df).encode(\n",
    "    alt.Theta(\"percent:Q\").stack(True),\n",
    "    alt.Color(\"issue:N\").legend(None)\n",
    ")\n",
    "\n",
    "pie = base.mark_arc(outerRadius=120)\n",
    "text = base.mark_text(radius=150, size=18).encode(text=\"issue:N\")\n",
    "\n",
    "pie + text"
   ]
  },
  {
   "cell_type": "code",
   "execution_count": 54,
   "metadata": {},
   "outputs": [
    {
     "data": {
      "text/html": [
       "\n",
       "<style>\n",
       "  #altair-viz-52c35a919165453291df5dd146e476ba.vega-embed {\n",
       "    width: 100%;\n",
       "    display: flex;\n",
       "  }\n",
       "\n",
       "  #altair-viz-52c35a919165453291df5dd146e476ba.vega-embed details,\n",
       "  #altair-viz-52c35a919165453291df5dd146e476ba.vega-embed details summary {\n",
       "    position: relative;\n",
       "  }\n",
       "</style>\n",
       "<div id=\"altair-viz-52c35a919165453291df5dd146e476ba\"></div>\n",
       "<script type=\"text/javascript\">\n",
       "  var VEGA_DEBUG = (typeof VEGA_DEBUG == \"undefined\") ? {} : VEGA_DEBUG;\n",
       "  (function(spec, embedOpt){\n",
       "    let outputDiv = document.currentScript.previousElementSibling;\n",
       "    if (outputDiv.id !== \"altair-viz-52c35a919165453291df5dd146e476ba\") {\n",
       "      outputDiv = document.getElementById(\"altair-viz-52c35a919165453291df5dd146e476ba\");\n",
       "    }\n",
       "    const paths = {\n",
       "      \"vega\": \"https://cdn.jsdelivr.net/npm/vega@5?noext\",\n",
       "      \"vega-lib\": \"https://cdn.jsdelivr.net/npm/vega-lib?noext\",\n",
       "      \"vega-lite\": \"https://cdn.jsdelivr.net/npm/vega-lite@5.20.1?noext\",\n",
       "      \"vega-embed\": \"https://cdn.jsdelivr.net/npm/vega-embed@6?noext\",\n",
       "    };\n",
       "\n",
       "    function maybeLoadScript(lib, version) {\n",
       "      var key = `${lib.replace(\"-\", \"\")}_version`;\n",
       "      return (VEGA_DEBUG[key] == version) ?\n",
       "        Promise.resolve(paths[lib]) :\n",
       "        new Promise(function(resolve, reject) {\n",
       "          var s = document.createElement('script');\n",
       "          document.getElementsByTagName(\"head\")[0].appendChild(s);\n",
       "          s.async = true;\n",
       "          s.onload = () => {\n",
       "            VEGA_DEBUG[key] = version;\n",
       "            return resolve(paths[lib]);\n",
       "          };\n",
       "          s.onerror = () => reject(`Error loading script: ${paths[lib]}`);\n",
       "          s.src = paths[lib];\n",
       "        });\n",
       "    }\n",
       "\n",
       "    function showError(err) {\n",
       "      outputDiv.innerHTML = `<div class=\"error\" style=\"color:red;\">${err}</div>`;\n",
       "      throw err;\n",
       "    }\n",
       "\n",
       "    function displayChart(vegaEmbed) {\n",
       "      vegaEmbed(outputDiv, spec, embedOpt)\n",
       "        .catch(err => showError(`Javascript Error: ${err.message}<br>This usually means there's a typo in your chart specification. See the javascript console for the full traceback.`));\n",
       "    }\n",
       "\n",
       "    if(typeof define === \"function\" && define.amd) {\n",
       "      requirejs.config({paths});\n",
       "      require([\"vega-embed\"], displayChart, err => showError(`Error loading script: ${err.message}`));\n",
       "    } else {\n",
       "      maybeLoadScript(\"vega\", \"5\")\n",
       "        .then(() => maybeLoadScript(\"vega-lite\", \"5.20.1\"))\n",
       "        .then(() => maybeLoadScript(\"vega-embed\", \"6\"))\n",
       "        .catch(showError)\n",
       "        .then(() => displayChart(vegaEmbed));\n",
       "    }\n",
       "  })({\"config\": {\"view\": {\"continuousWidth\": 300, \"continuousHeight\": 300}, \"background\": \"background_stars.jpg\"}, \"layer\": [{\"mark\": {\"type\": \"arc\", \"outerRadius\": 120}, \"encoding\": {\"color\": {\"field\": \"issue\", \"legend\": null, \"type\": \"nominal\"}, \"theta\": {\"field\": \"percent\", \"stack\": true, \"type\": \"quantitative\"}}}, {\"mark\": {\"type\": \"text\", \"color\": \"white\", \"fill\": \"red\", \"radius\": 150, \"size\": 18}, \"encoding\": {\"color\": {\"field\": \"issue\", \"legend\": null, \"type\": \"nominal\"}, \"text\": {\"field\": \"issue\", \"type\": \"nominal\"}, \"theta\": {\"field\": \"percent\", \"stack\": true, \"type\": \"quantitative\"}}}], \"data\": {\"name\": \"data-76eb4cba8c43e79cae6efcb44da5908f\"}, \"height\": 400, \"width\": 400, \"$schema\": \"https://vega.github.io/schema/vega-lite/v5.20.1.json\", \"datasets\": {\"data-76eb4cba8c43e79cae6efcb44da5908f\": [{\"issue\": \"foreign policy\", \"percent\": 4, \"color\": \"#F37021\"}, {\"issue\": \"immigration\", \"percent\": 11, \"color\": \"#6460AA\"}, {\"issue\": \"state of democracy\", \"percent\": 35, \"color\": \"#CC004C\"}, {\"issue\": \"the economy\", \"percent\": 31, \"color\": \"#FCB711\"}, {\"issue\": \"abortion\", \"percent\": 11, \"color\": \"#0DB14B\"}, {\"issue\": \"other\", \"percent\": 5, \"color\": \"#B2BEB5\"}]}}, {\"mode\": \"vega-lite\"});\n",
       "</script>"
      ],
      "text/plain": [
       "alt.LayerChart(...)"
      ]
     },
     "execution_count": 54,
     "metadata": {},
     "output_type": "execute_result"
    }
   ],
   "source": [
    "base = alt.Chart(df).encode(\n",
    "    alt.Theta(\"percent:Q\").stack(True),\n",
    "    alt.Color(\"issue:N\").legend(None)\n",
    ")\n",
    "\n",
    "# Create pie chart arcs\n",
    "pie = base.mark_arc(outerRadius=120)\n",
    "\n",
    "# Create the background rectangles for the text\n",
    "background_image = 'background_stars.jpg'\n",
    "\n",
    "\n",
    "# Create the white text labels\n",
    "text = base.mark_text(radius=150, size=18, color='white', fill='red').encode(\n",
    "    text=\"issue:N\",\n",
    ")\n",
    "\n",
    "# Combine the pie chart, rectangle backgrounds, and text\n",
    "chart = pie  + text\n",
    "\n",
    "\n",
    "# Set the background image\n",
    "chart = chart.properties(\n",
    "    width=400,\n",
    "    height=400\n",
    ").configure(\n",
    "    background=background_image\n",
    ")\n",
    "\n",
    "chart"
   ]
  }
 ],
 "metadata": {
  "kernelspec": {
   "display_name": "Python 3",
   "language": "python",
   "name": "python3"
  },
  "language_info": {
   "codemirror_mode": {
    "name": "ipython",
    "version": 3
   },
   "file_extension": ".py",
   "mimetype": "text/x-python",
   "name": "python",
   "nbconvert_exporter": "python",
   "pygments_lexer": "ipython3",
   "version": "3.11.4"
  }
 },
 "nbformat": 4,
 "nbformat_minor": 2
}
